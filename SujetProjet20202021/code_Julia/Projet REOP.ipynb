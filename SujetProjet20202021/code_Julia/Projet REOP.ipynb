{
 "cells": [
  {
   "cell_type": "markdown",
   "metadata": {},
   "source": [
    "# Projet REOP"
   ]
  },
  {
   "cell_type": "code",
   "execution_count": 1,
   "metadata": {
    "ExecuteTime": {
     "end_time": "2020-11-12T16:59:59.897000+01:00",
     "start_time": "2020-11-12T15:59:42.474Z"
    }
   },
   "outputs": [],
   "source": [
    "using SparseArrays\n",
    "\n",
    "using LightGraphs\n",
    "using Plots\n",
    "\n",
    "using JuMP\n",
    "using GLPK"
   ]
  },
  {
   "cell_type": "markdown",
   "metadata": {},
   "source": [
    "## Structures"
   ]
  },
  {
   "cell_type": "code",
   "execution_count": 2,
   "metadata": {
    "ExecuteTime": {
     "end_time": "2020-11-12T17:00:06.324000+01:00",
     "start_time": "2020-11-12T15:59:42.482Z"
    }
   },
   "outputs": [],
   "source": [
    "struct Emballage\n",
    "    e::Int\n",
    "    l::Float64\n",
    "    \n",
    "    Emballage(; e, l) = new(e, l)\n",
    "end"
   ]
  },
  {
   "cell_type": "code",
   "execution_count": 3,
   "metadata": {
    "ExecuteTime": {
     "end_time": "2020-11-12T17:00:06.359000+01:00",
     "start_time": "2020-11-12T15:59:42.484Z"
    }
   },
   "outputs": [],
   "source": [
    "struct Usine\n",
    "    u::Int\n",
    "    v::Int\n",
    "    coor::Tuple{Float64, Float64}\n",
    "\n",
    "    cs::Vector{Int}\n",
    "    s0::Vector{Int}\n",
    "\n",
    "    b⁺::Matrix{Int}\n",
    "    r::Matrix{Int}\n",
    "    \n",
    "    Usine(; u, v, coor, cs, s0, b⁺, r) = new(u, v, coor, cs, s0, b⁺, r)\n",
    "end"
   ]
  },
  {
   "cell_type": "code",
   "execution_count": 4,
   "metadata": {
    "ExecuteTime": {
     "end_time": "2020-11-12T17:00:06.365000+01:00",
     "start_time": "2020-11-12T15:59:42.487Z"
    }
   },
   "outputs": [],
   "source": [
    "struct Fournisseur\n",
    "    f::Int\n",
    "    v::Int\n",
    "    coor::Tuple{Float64, Float64}\n",
    "    \n",
    "    cs::Vector{Int}\n",
    "    cexc::Vector{Int}\n",
    "    s0::Vector{Int}\n",
    "    \n",
    "    b⁻::Matrix{Int}\n",
    "    r::Matrix{Int}\n",
    "    \n",
    "    Fournisseur(; f, v, coor, cs, cexc, s0, b⁻, r) = new(f, v, coor, cs, cexc, s0, b⁻, r)\n",
    "end"
   ]
  },
  {
   "cell_type": "code",
   "execution_count": 5,
   "metadata": {
    "ExecuteTime": {
     "end_time": "2020-11-12T17:00:06.875000+01:00",
     "start_time": "2020-11-12T15:59:42.490Z"
    }
   },
   "outputs": [
    {
     "data": {
      "text/plain": [
       "Union{Fournisseur, Usine}"
      ]
     },
     "execution_count": 5,
     "metadata": {},
     "output_type": "execute_result"
    }
   ],
   "source": [
    "Site = Union{Usine, Fournisseur}"
   ]
  },
  {
   "cell_type": "code",
   "execution_count": 6,
   "metadata": {
    "ExecuteTime": {
     "end_time": "2020-11-12T17:00:06.878000+01:00",
     "start_time": "2020-11-12T15:59:42.492Z"
    }
   },
   "outputs": [],
   "source": [
    "struct Graphe\n",
    "    G::SimpleDiGraph\n",
    "    d::SparseMatrixCSC{Float64, Int}\n",
    "    \n",
    "    Graphe(; G, d) = new(G, d)\n",
    "end"
   ]
  },
  {
   "cell_type": "code",
   "execution_count": 7,
   "metadata": {
    "ExecuteTime": {
     "end_time": "2020-11-12T17:00:06.885000+01:00",
     "start_time": "2020-11-12T15:59:42.494Z"
    }
   },
   "outputs": [],
   "source": [
    "struct Instance\n",
    "    J::Int\n",
    "    U::Int\n",
    "    F::Int\n",
    "    E::Int\n",
    "    \n",
    "    L::Float64\n",
    "    γ::Float64\n",
    "    ccam::Float64\n",
    "    cstop::Float64\n",
    "    \n",
    "    emballages::Vector{Emballage}\n",
    "    usines::Vector{Usine}\n",
    "    fournisseurs::Vector{Fournisseur}\n",
    "    graphe::Graphe\n",
    "    \n",
    "    Instance(; J, U, F, E, L, γ, ccam, cstop, emballages, usines, fournisseurs, graphe) = new(\n",
    "        J, U, F, E, L, γ, ccam, cstop, emballages, usines, fournisseurs, graphe\n",
    "    )\n",
    "end"
   ]
  },
  {
   "cell_type": "code",
   "execution_count": 8,
   "metadata": {
    "ExecuteTime": {
     "end_time": "2020-11-12T17:00:06.889000+01:00",
     "start_time": "2020-11-12T15:59:42.496Z"
    }
   },
   "outputs": [],
   "source": [
    "mutable struct RouteStop\n",
    "    f::Int\n",
    "    Q::Vector{Int}\n",
    "    \n",
    "    RouteStop(; f, Q) = new(f, Q)\n",
    "end"
   ]
  },
  {
   "cell_type": "code",
   "execution_count": 9,
   "metadata": {
    "ExecuteTime": {
     "end_time": "2020-11-12T17:00:06.895000+01:00",
     "start_time": "2020-11-12T15:59:42.498Z"
    }
   },
   "outputs": [],
   "source": [
    "mutable struct Route\n",
    "    r::Int\n",
    "    j::Int\n",
    "    x::Int\n",
    "    u::Int\n",
    "    \n",
    "    F::Int\n",
    "    stops::Vector{RouteStop}\n",
    "    \n",
    "    Route(; r, j, x, u, F, stops) = new(r, j, x, u, F, stops)\n",
    "end"
   ]
  },
  {
   "cell_type": "code",
   "execution_count": 10,
   "metadata": {
    "ExecuteTime": {
     "end_time": "2020-11-12T17:00:06.899000+01:00",
     "start_time": "2020-11-12T15:59:42.500Z"
    }
   },
   "outputs": [],
   "source": [
    "mutable struct Solution\n",
    "    R::Int\n",
    "    routes::Vector{Route}\n",
    "    \n",
    "    Solution(; R, routes) = new(R, routes)\n",
    "end"
   ]
  },
  {
   "cell_type": "markdown",
   "metadata": {},
   "source": [
    "## Display utilities"
   ]
  },
  {
   "cell_type": "markdown",
   "metadata": {},
   "source": [
    "### Printing"
   ]
  },
  {
   "cell_type": "code",
   "execution_count": 11,
   "metadata": {
    "ExecuteTime": {
     "end_time": "2020-11-12T17:00:06.900000+01:00",
     "start_time": "2020-11-12T15:59:42.513Z"
    }
   },
   "outputs": [],
   "source": [
    "function Base.show(io::IO, emballage::Emballage)\n",
    "    str = \"\\nEmballage $(emballage.e)\"\n",
    "    str *= \"\\n   Longueur $(emballage.l)\"\n",
    "    print(io, str)\n",
    "end"
   ]
  },
  {
   "cell_type": "code",
   "execution_count": 12,
   "metadata": {
    "ExecuteTime": {
     "end_time": "2020-11-12T17:00:06.902000+01:00",
     "start_time": "2020-11-12T15:59:42.515Z"
    }
   },
   "outputs": [],
   "source": [
    "function Base.show(io::IO, usine::Usine)\n",
    "    str = \"\\nUsine $(usine.u)\"\n",
    "    str *= \"\\n   Sommet $(usine.v)\"\n",
    "    str *= \"\\n   Coordonnées $(usine.coor)\"\n",
    "    str *= \"\\n   Coûts stock $(usine.cs)\"\n",
    "    str *= \"\\n   Stock initial $(usine.s0)\"\n",
    "    str *= \"\\n   Libération journalière $(usine.b⁺)\"\n",
    "    str *= \"\\n   Stock maximal journalier $(usine.r)\"\n",
    "    print(io, str)\n",
    "end"
   ]
  },
  {
   "cell_type": "code",
   "execution_count": 13,
   "metadata": {
    "ExecuteTime": {
     "end_time": "2020-11-12T17:00:06.903000+01:00",
     "start_time": "2020-11-12T15:59:42.517Z"
    }
   },
   "outputs": [],
   "source": [
    "function Base.show(io::IO, fournisseur::Fournisseur)\n",
    "    str = \"\\nFournisseur $(fournisseur.f)\"\n",
    "    str *= \"\\n   Sommet $(fournisseur.v)\"\n",
    "    str *= \"\\n   Coordonnées $(fournisseur.coor)\"\n",
    "    str *= \"\\n   Coûts stock $(fournisseur.cs)\"\n",
    "    str *= \"\\n   Coûts expédition carton $(fournisseur.cexc)\"\n",
    "    str *= \"\\n   Stock initial $(fournisseur.s0)\"\n",
    "    str *= \"\\n   Consommation journalière $(fournisseur.b⁻)\"\n",
    "    str *= \"\\n   Stock maximal journalier $(fournisseur.r)\"\n",
    "    print(io, str)\n",
    "end"
   ]
  },
  {
   "cell_type": "code",
   "execution_count": 14,
   "metadata": {
    "ExecuteTime": {
     "end_time": "2020-11-12T17:00:06.905000+01:00",
     "start_time": "2020-11-12T15:59:42.518Z"
    }
   },
   "outputs": [],
   "source": [
    "function Base.show(io::IO, graphe::Graphe)\n",
    "    n, m = nv(graphe.G), ne(graphe.G)\n",
    "    str = \"\\nGraphe pondéré avec $n sommets et $m arcs\"\n",
    "    str *= \"\\n   Sommets: \" * string(sort(collect(vertices(graphe.G))))\n",
    "    str *= \"\\n   Arcs: \" * string(sort([(edge.src, edge.dst) for edge in edges(graphe.G)]))\n",
    "    print(io, str)\n",
    "end"
   ]
  },
  {
   "cell_type": "code",
   "execution_count": 15,
   "metadata": {
    "ExecuteTime": {
     "end_time": "2020-11-12T17:00:06.907000+01:00",
     "start_time": "2020-11-12T15:59:42.520Z"
    }
   },
   "outputs": [],
   "source": [
    "function Base.show(io::IO, instance::Instance)\n",
    "    str = \"\\nInstance\"\n",
    "    str *= \"\\n   Nombre de jours: $(instance.J)\"\n",
    "    str *= \"\\n   Nombre d'usines: $(instance.U)\"\n",
    "    str *= \"\\n   Nombre de fournisseurs: $(instance.F)\"\n",
    "    str *= \"\\n   Nombre de types d'emballages: $(instance.E)\"\n",
    "    print(io, str)\n",
    "end"
   ]
  },
  {
   "cell_type": "code",
   "execution_count": 16,
   "metadata": {
    "ExecuteTime": {
     "end_time": "2020-11-12T17:00:06.909000+01:00",
     "start_time": "2020-11-12T15:59:42.521Z"
    }
   },
   "outputs": [],
   "source": [
    "function Base.show(io::IO, route::Route)\n",
    "    str = \"Route $(route.r)\"\n",
    "    str *= \"\\n   Jour $(route.j)\"\n",
    "    str *= \"\\n   Nb de camions $(route.x)\"\n",
    "    str *= \"\\n   Usine de départ $(route.u)\"\n",
    "    str *= \"\\n   Nb d'arrêts $(route.F)\"\n",
    "    for (stoprank, stop) in enumerate(route.stops)\n",
    "        str *= \"\\n   Stop $stoprank\"\n",
    "        str *= \"\\n      Fournisseur $(stop.f)\"\n",
    "        str *= \"\\n      Livraison $(stop.Q)\"\n",
    "    end\n",
    "    print(io, str) \n",
    "end"
   ]
  },
  {
   "cell_type": "code",
   "execution_count": 17,
   "metadata": {
    "ExecuteTime": {
     "end_time": "2020-11-12T17:00:06.910000+01:00",
     "start_time": "2020-11-12T15:59:42.523Z"
    }
   },
   "outputs": [],
   "source": [
    "function Base.show(io::IO, solution::Solution)\n",
    "    str = \"Solution\"\n",
    "    str *= \"\\n   Nb de routes: $(solution.R)\"\n",
    "    print(io, str)\n",
    "end"
   ]
  },
  {
   "cell_type": "markdown",
   "metadata": {},
   "source": [
    "### Plotting"
   ]
  },
  {
   "cell_type": "code",
   "execution_count": 18,
   "metadata": {
    "ExecuteTime": {
     "end_time": "2020-11-12T17:00:07.148000+01:00",
     "start_time": "2020-11-12T15:59:42.532Z"
    }
   },
   "outputs": [
    {
     "data": {
      "text/plain": [
       "plot_sites (generic function with 1 method)"
      ]
     },
     "execution_count": 18,
     "metadata": {},
     "output_type": "execute_result"
    }
   ],
   "source": [
    "function plot_sites(instance::Instance)\n",
    "    G = instance.graphe.G\n",
    "    d = instance.graphe.d\n",
    "    pl = scatter(\n",
    "        [usine.coor[1] for usine in instance.usines],\n",
    "        [usine.coor[2] for usine in instance.usines],\n",
    "        marker = (30, 0.5, \"red\"),\n",
    "        label = \"usines\"\n",
    "    )\n",
    "    annotate!(\n",
    "        pl,\n",
    "        [\n",
    "            (usine.coor[1], usine.coor[2], text(string(usine.u), :darkred, :center))\n",
    "            for usine in instance.usines\n",
    "        ]\n",
    "    )\n",
    "    scatter!(\n",
    "        pl, \n",
    "        [fournisseur.coor[1] for fournisseur in instance.fournisseurs],\n",
    "        [fournisseur.coor[2] for fournisseur in instance.fournisseurs],\n",
    "        marker = (30, 0.5, \"blue\"),\n",
    "        label = \"fournisseurs\"\n",
    "    )\n",
    "    annotate!(\n",
    "        pl,\n",
    "        [\n",
    "            (fournisseur.coor[1], fournisseur.coor[2], text(string(fournisseur.f), :darkblue, :center))\n",
    "            for fournisseur in instance.fournisseurs\n",
    "        ]\n",
    "    )\n",
    "    plot!(pl, grid=false, xlabel=\"longitude\", ylabel=\"latitude\", title=\"Sites de l'instance\")\n",
    "    return pl\n",
    "end"
   ]
  },
  {
   "cell_type": "markdown",
   "metadata": {},
   "source": [
    "## Data parsing"
   ]
  },
  {
   "cell_type": "code",
   "execution_count": 19,
   "metadata": {
    "ExecuteTime": {
     "end_time": "2020-11-12T17:00:07.969000+01:00",
     "start_time": "2020-11-12T15:59:42.540Z"
    }
   },
   "outputs": [
    {
     "data": {
      "text/plain": [
       "33-element Array{String,1}:\n",
       " \"J 3 U 2 F 3 E 2 L 13000 Gamma 1 CCam 100 CStop 10\"\n",
       " \"e 0 l 300\"\n",
       " \"e 1 l 200\"\n",
       " \"u 0 v 0 coor 48.8666672 2.3514623 ce e 0 cr 2 b 4 e 1 cr 4 b 5 lib j 0 e 0 b 5 r 5 e 1 b 0 r 5 j 1 e 0 b 10 r 5 e 1 b 5 r 5 j 2 e 0 b 0 r 5 e 1 b 5 r 5\"\n",
       " \"u 1 v 1 coor 43.6044622 1.4442469 ce e 0 cr 2 b 3 e 1 cr 4 b 6 lib j 0 e 0 b 2 r 5 e 1 b 3 r 5 j 1 e 0 b 2 r 5 e 1 b 3 r 5 j 2 e 0 b 2 r 5 e 1 b 3 r 5\"\n",
       " \"f 0 v 2 coor 48.8666672 2.3514623 ce e 0 cr 2 cexc 55 b 2 e 1 cr 4 cexc 30 b 6 dem j 0 e 0 b 2 r 5 e 1 b 1 r 5 j 1 e 0 b 2 r 5 e 1 b 1 r 5 j 2 e 0 b 2 r 5 e 1 b 1 r 5\"\n",
       " \"f 1 v 3 coor 45.7578137 4.8320114 ce e 0 cr 2 cexc 45 b 4 e 1 cr 4 cexc 40 b 5 dem j 0 e 0 b 0 r 5 e 1 b 2 r 4 j 1 e 0 b 0 r 6 e 1 b 2 r 4 j 2 e 0 b 0 r 3 e 1 b 2 r 4\"\n",
       " \"f 2 v 4 coor 45.7578137 4.8320114 ce e 0 cr 2 cexc 35 b 7 e 1 cr 4 cexc 50 b 4 dem j 0 e 0 b 3 r 5 e 1 b 0 r 5 j 1 e 0 b 3 r 5 e 1 b 0 r 5 j 2 e 0 b 3 r 5 e 1 b 0 r 5\"\n",
       " \"a 0 0 d 0\"\n",
       " \"a 0 1 d 10\"\n",
       " \"a 0 2 d 0\"\n",
       " \"a 0 3 d 8\"\n",
       " \"a 0 4 d 8\"\n",
       " ⋮\n",
       " \"a 2 3 d 8\"\n",
       " \"a 2 4 d 8\"\n",
       " \"a 3 0 d 8\"\n",
       " \"a 3 1 d 5\"\n",
       " \"a 3 2 d 8\"\n",
       " \"a 3 3 d 0\"\n",
       " \"a 3 4 d 0\"\n",
       " \"a 4 0 d 8\"\n",
       " \"a 4 1 d 5\"\n",
       " \"a 4 2 d 8\"\n",
       " \"a 4 3 d 0\"\n",
       " \"a 4 4 d 0\""
      ]
     },
     "execution_count": 19,
     "metadata": {},
     "output_type": "execute_result"
    }
   ],
   "source": [
    "data_petite = open(joinpath(\"..\", \"sujet\", \"petite.csv\")) do file\n",
    "    readlines(file)\n",
    "end"
   ]
  },
  {
   "cell_type": "code",
   "execution_count": 20,
   "metadata": {
    "ExecuteTime": {
     "end_time": "2020-11-12T17:00:08.011000+01:00",
     "start_time": "2020-11-12T15:59:42.541Z"
    }
   },
   "outputs": [
    {
     "data": {
      "text/plain": [
       "4-element Array{String,1}:\n",
       " \"R 3\"\n",
       " \"r 0 j 0 x 1 u 0 F 1 f 0 e 0 q 0 e 1 q 2\"\n",
       " \"r 1 j 1 x 1 u 0 F 3 f 0 e 0 q 1 e 1 q 1 f 1 e 0 q 1 e 1 q 1 f 2 e 0 q 1 e 1 q 1\"\n",
       " \"r 2 j 1 x 2 u 1 F 2 f 1 e 0 q 3 e 1 q 1 f 2 e 0 q 0 e 1 q 1\""
      ]
     },
     "execution_count": 20,
     "metadata": {},
     "output_type": "execute_result"
    }
   ],
   "source": [
    "sol_petite = open(joinpath(\"..\", \"sujet\", \"petite.txt\")) do file\n",
    "    readlines(file)\n",
    "end"
   ]
  },
  {
   "cell_type": "markdown",
   "metadata": {},
   "source": [
    "### Dimensions"
   ]
  },
  {
   "cell_type": "code",
   "execution_count": 21,
   "metadata": {
    "ExecuteTime": {
     "end_time": "2020-11-12T17:00:08.078000+01:00",
     "start_time": "2020-11-12T15:59:42.549Z"
    }
   },
   "outputs": [
    {
     "data": {
      "text/plain": [
       "lire_dimensions (generic function with 1 method)"
      ]
     },
     "execution_count": 21,
     "metadata": {},
     "output_type": "execute_result"
    }
   ],
   "source": [
    "function lire_dimensions(row::String)::NamedTuple\n",
    "    row_split = split(row, r\"\\s+\")\n",
    "    return (\n",
    "        J = parse(Int, row_split[2]),\n",
    "        U = parse(Int, row_split[4]),\n",
    "        F = parse(Int, row_split[6]),\n",
    "        E = parse(Int, row_split[8]),\n",
    "        L = parse(Float64, row_split[10]),\n",
    "        γ = parse(Float64, row_split[12]),\n",
    "        ccam = parse(Float64, row_split[14]),\n",
    "        cstop = parse(Float64, row_split[16]),\n",
    "    )\n",
    "end"
   ]
  },
  {
   "cell_type": "code",
   "execution_count": 22,
   "metadata": {
    "ExecuteTime": {
     "end_time": "2020-11-12T17:00:08.452000+01:00",
     "start_time": "2020-11-12T15:59:42.551Z"
    }
   },
   "outputs": [
    {
     "data": {
      "text/plain": [
       "(J = 3, U = 2, F = 3, E = 2, L = 13000.0, γ = 1.0, ccam = 100.0, cstop = 10.0)"
      ]
     },
     "execution_count": 22,
     "metadata": {},
     "output_type": "execute_result"
    }
   ],
   "source": [
    "dims_petite = lire_dimensions(data_petite[1])"
   ]
  },
  {
   "cell_type": "markdown",
   "metadata": {},
   "source": [
    "### Emballages"
   ]
  },
  {
   "cell_type": "code",
   "execution_count": 23,
   "metadata": {
    "ExecuteTime": {
     "end_time": "2020-11-12T17:00:08.519000+01:00",
     "start_time": "2020-11-12T15:59:42.558Z"
    }
   },
   "outputs": [
    {
     "data": {
      "text/plain": [
       "lire_emballage (generic function with 1 method)"
      ]
     },
     "execution_count": 23,
     "metadata": {},
     "output_type": "execute_result"
    }
   ],
   "source": [
    "function lire_emballage(row::String, dims::NamedTuple)::Emballage\n",
    "    row_split = split(row, r\"\\s+\")\n",
    "    e = parse(Int, row_split[2]) + 1\n",
    "    l = parse(Float64, row_split[4])\n",
    "    return Emballage(e=e, l=l)\n",
    "end"
   ]
  },
  {
   "cell_type": "code",
   "execution_count": 24,
   "metadata": {
    "ExecuteTime": {
     "end_time": "2020-11-12T17:00:09.268000+01:00",
     "start_time": "2020-11-12T15:59:42.561Z"
    }
   },
   "outputs": [
    {
     "data": {
      "text/plain": [
       "2-element Array{Emballage,1}:\n",
       " \n",
       "Emballage 1\n",
       "   Longueur 300.0\n",
       " \n",
       "Emballage 2\n",
       "   Longueur 200.0"
      ]
     },
     "execution_count": 24,
     "metadata": {},
     "output_type": "execute_result"
    }
   ],
   "source": [
    "emballages_petite = [lire_emballage(data_petite[1+e], dims_petite) for e = 1:dims_petite.E]"
   ]
  },
  {
   "cell_type": "markdown",
   "metadata": {},
   "source": [
    "### Usines"
   ]
  },
  {
   "cell_type": "code",
   "execution_count": 25,
   "metadata": {
    "ExecuteTime": {
     "end_time": "2020-11-12T17:00:09.340000+01:00",
     "start_time": "2020-11-12T15:59:42.567Z"
    }
   },
   "outputs": [
    {
     "data": {
      "text/plain": [
       "lire_usine (generic function with 1 method)"
      ]
     },
     "execution_count": 25,
     "metadata": {},
     "output_type": "execute_result"
    }
   ],
   "source": [
    "function lire_usine(row::String, dims::NamedTuple)::Usine\n",
    "    row_split = split(row, r\"\\s+\")\n",
    "    u = parse(Int, row_split[2]) + 1\n",
    "    v = parse(Int, row_split[4]) + 1\n",
    "    coor = (parse(Float64, row_split[6]), parse(Float64, row_split[7]))\n",
    "    k = 8\n",
    "    \n",
    "    cs = Vector{Int}(undef, dims.E)\n",
    "    s0 = Vector{Int}(undef, dims.E)\n",
    "    \n",
    "    k += 1\n",
    "    for e = 1:dims.E \n",
    "        cs[e] = parse(Float64, row_split[k+3])\n",
    "        s0[e] = parse(Int, row_split[k+5])\n",
    "        k += 6\n",
    "    end\n",
    "    \n",
    "    b⁺ = Matrix{Int}(undef, dims.E, dims.J)\n",
    "    r = Matrix{Int}(undef, dims.E, dims.J)\n",
    "    \n",
    "    k += 1\n",
    "    for j = 1:dims.J\n",
    "        k += 2\n",
    "        for e = 1:dims.E\n",
    "            b⁺[e, j] = parse(Int, row_split[k+3])\n",
    "            r[e, j] = parse(Int, row_split[k+5])\n",
    "            k += 6\n",
    "        end\n",
    "    end\n",
    "    \n",
    "    return Usine(u=u, v=v, coor=coor, cs=cs, s0=s0, b⁺=b⁺, r=r)\n",
    "end"
   ]
  },
  {
   "cell_type": "code",
   "execution_count": 26,
   "metadata": {
    "ExecuteTime": {
     "end_time": "2020-11-12T17:00:10.397000+01:00",
     "start_time": "2020-11-12T15:59:42.570Z"
    }
   },
   "outputs": [
    {
     "data": {
      "text/plain": [
       "2-element Array{Usine,1}:\n",
       " \n",
       "Usine 1\n",
       "   Sommet 1\n",
       "   Coordonnées (48.8666672, 2.3514623)\n",
       "   Coûts stock [2, 4]\n",
       "   Stock initial [4, 5]\n",
       "   Libération journalière [5 10 0; 0 5 5]\n",
       "   Stock maximal journalier [5 5 5; 5 5 5]\n",
       " \n",
       "Usine 2\n",
       "   Sommet 2\n",
       "   Coordonnées (43.6044622, 1.4442469)\n",
       "   Coûts stock [2, 4]\n",
       "   Stock initial [3, 6]\n",
       "   Libération journalière [2 2 2; 3 3 3]\n",
       "   Stock maximal journalier [5 5 5; 5 5 5]"
      ]
     },
     "execution_count": 26,
     "metadata": {},
     "output_type": "execute_result"
    }
   ],
   "source": [
    "usines_petite = [lire_usine(data_petite[1+dims_petite.E+u], dims_petite) for u = 1:dims_petite.U]"
   ]
  },
  {
   "cell_type": "markdown",
   "metadata": {},
   "source": [
    "### Fournisseurs"
   ]
  },
  {
   "cell_type": "code",
   "execution_count": 27,
   "metadata": {
    "ExecuteTime": {
     "end_time": "2020-11-12T17:00:10.470000+01:00",
     "start_time": "2020-11-12T15:59:42.578Z"
    }
   },
   "outputs": [
    {
     "data": {
      "text/plain": [
       "lire_fournisseur (generic function with 1 method)"
      ]
     },
     "execution_count": 27,
     "metadata": {},
     "output_type": "execute_result"
    }
   ],
   "source": [
    "function lire_fournisseur(row::String, dims::NamedTuple)::Fournisseur\n",
    "    row_split = split(row, r\"\\s+\")\n",
    "    f = parse(Int, row_split[2]) + 1\n",
    "    v = parse(Int, row_split[4]) + 1\n",
    "    coor = (parse(Float64, row_split[6]), parse(Float64, row_split[7]))\n",
    "    k = 8\n",
    "    \n",
    "    cs = Vector{Int}(undef, dims.E)\n",
    "    cexc = Vector{Int}(undef, dims.E)\n",
    "    s0 = Vector{Int}(undef, dims.E)\n",
    "    \n",
    "    k += 1\n",
    "    for e = 1:dims.E\n",
    "        cs[e] = parse(Float64, row_split[k+3])\n",
    "        cexc[e] = parse(Float64, row_split[k+5])\n",
    "        s0[e] = parse(Float64, row_split[k+7])\n",
    "        k += 8\n",
    "    end\n",
    "    \n",
    "    b⁻ = Matrix{Int}(undef, dims.E, dims.J)\n",
    "    r = Matrix{Int}(undef, dims.E, dims.J)\n",
    "    \n",
    "    k += 1\n",
    "    for j = 1:dims.J\n",
    "        k += 2\n",
    "        for e = 1:dims.E\n",
    "            b⁻[e, j] = parse(Int, row_split[k+3])\n",
    "            r[e, j] = parse(Int, row_split[k+5])\n",
    "            k += 6\n",
    "        end\n",
    "    end\n",
    "    \n",
    "    return Fournisseur(f=f, v=v, coor=coor, cs=cs, cexc=cexc, s0=s0, b⁻=b⁻, r=r)\n",
    "end"
   ]
  },
  {
   "cell_type": "code",
   "execution_count": 28,
   "metadata": {
    "ExecuteTime": {
     "end_time": "2020-11-12T17:00:11.326000+01:00",
     "start_time": "2020-11-12T15:59:42.579Z"
    }
   },
   "outputs": [
    {
     "data": {
      "text/plain": [
       "3-element Array{Fournisseur,1}:\n",
       " \n",
       "Fournisseur 1\n",
       "   Sommet 3\n",
       "   Coordonnées (48.8666672, 2.3514623)\n",
       "   Coûts stock [2, 4]\n",
       "   Coûts expédition carton [55, 30]\n",
       "   Stock initial [2, 6]\n",
       "   Consommation journalière [2 2 2; 1 1 1]\n",
       "   Stock maximal journalier [5 5 5; 5 5 5]\n",
       " \n",
       "Fournisseur 2\n",
       "   Sommet 4\n",
       "   Coordonnées (45.7578137, 4.8320114)\n",
       "   Coûts stock [2, 4]\n",
       "   Coûts expédition carton [45, 40]\n",
       "   Stock initial [4, 5]\n",
       "   Consommation journalière [0 0 0; 2 2 2]\n",
       "   Stock maximal journalier [5 6 3; 4 4 4]\n",
       " \n",
       "Fournisseur 3\n",
       "   Sommet 5\n",
       "   Coordonnées (45.7578137, 4.8320114)\n",
       "   Coûts stock [2, 4]\n",
       "   Coûts expédition carton [35, 50]\n",
       "   Stock initial [7, 4]\n",
       "   Consommation journalière [3 3 3; 0 0 0]\n",
       "   Stock maximal journalier [5 5 5; 5 5 5]"
      ]
     },
     "execution_count": 28,
     "metadata": {},
     "output_type": "execute_result"
    }
   ],
   "source": [
    "fournisseurs_petite = [lire_fournisseur(data_petite[1+dims_petite.E+dims_petite.U+f], dims_petite) for f = 1:dims_petite.F]"
   ]
  },
  {
   "cell_type": "markdown",
   "metadata": {},
   "source": [
    "### Graphe"
   ]
  },
  {
   "cell_type": "code",
   "execution_count": 29,
   "metadata": {
    "ExecuteTime": {
     "end_time": "2020-11-12T17:00:11.395000+01:00",
     "start_time": "2020-11-12T15:59:42.587Z"
    }
   },
   "outputs": [
    {
     "data": {
      "text/plain": [
       "lire_arc (generic function with 1 method)"
      ]
     },
     "execution_count": 29,
     "metadata": {},
     "output_type": "execute_result"
    }
   ],
   "source": [
    "function lire_arc(row::String)::NamedTuple\n",
    "    row_split = split(row, r\"\\s+\")\n",
    "    v1 = parse(Int, row_split[2]) + 1\n",
    "    v2 = parse(Int, row_split[3]) + 1\n",
    "    d = parse(Float64, row_split[5])\n",
    "    return (v1=v1, v2=v2, d=d)\n",
    "end"
   ]
  },
  {
   "cell_type": "code",
   "execution_count": 30,
   "metadata": {
    "ExecuteTime": {
     "end_time": "2020-11-12T17:00:11.463000+01:00",
     "start_time": "2020-11-12T15:59:42.589Z"
    }
   },
   "outputs": [
    {
     "data": {
      "text/plain": [
       "lire_graphe (generic function with 1 method)"
      ]
     },
     "execution_count": 30,
     "metadata": {},
     "output_type": "execute_result"
    }
   ],
   "source": [
    "function lire_graphe(rows::Vector{String}, dims::NamedTuple)::Graphe\n",
    "    G = SimpleDiGraph(dims.U + dims.F)\n",
    "    d = spzeros(dims.U + dims.F, dims.U + dims.F)\n",
    "    for row in rows\n",
    "        a = lire_arc(row)\n",
    "        if a.d > eps()\n",
    "            add_edge!(G, a.v1, a.v2)\n",
    "            d[a.v1, a.v2] = a.d\n",
    "        end\n",
    "    end\n",
    "    return Graphe(G=G, d=d)\n",
    "end"
   ]
  },
  {
   "cell_type": "code",
   "execution_count": 31,
   "metadata": {
    "ExecuteTime": {
     "end_time": "2020-11-12T17:00:12.158000+01:00",
     "start_time": "2020-11-12T15:59:42.591Z"
    }
   },
   "outputs": [
    {
     "data": {
      "text/plain": [
       "\n",
       "Graphe pondéré avec 5 sommets et 16 arcs\n",
       "   Sommets: [1, 2, 3, 4, 5]\n",
       "   Arcs: [(1, 2), (1, 4), (1, 5), (2, 1), (2, 3), (2, 4), (2, 5), (3, 2), (3, 4), (3, 5), (4, 1), (4, 2), (4, 3), (5, 1), (5, 2), (5, 3)]"
      ]
     },
     "execution_count": 31,
     "metadata": {},
     "output_type": "execute_result"
    }
   ],
   "source": [
    "graphe_petite = lire_graphe(data_petite[1+dims_petite.E+dims_petite.U+dims_petite.F+1:end], dims_petite)"
   ]
  },
  {
   "cell_type": "markdown",
   "metadata": {},
   "source": [
    "### Instance"
   ]
  },
  {
   "cell_type": "code",
   "execution_count": 32,
   "metadata": {
    "ExecuteTime": {
     "end_time": "2020-11-12T17:00:12.246000+01:00",
     "start_time": "2020-11-12T15:59:42.599Z"
    }
   },
   "outputs": [
    {
     "data": {
      "text/plain": [
       "lire_instance (generic function with 1 method)"
      ]
     },
     "execution_count": 32,
     "metadata": {},
     "output_type": "execute_result"
    }
   ],
   "source": [
    "function lire_instance(path::String)::Instance\n",
    "    data = open(path) do file\n",
    "        readlines(file)\n",
    "    end\n",
    "\n",
    "    dims = lire_dimensions(data[1])\n",
    "    emballages = [\n",
    "        lire_emballage(data[1+e], dims) for e = 1:dims.E\n",
    "    ]\n",
    "    usines = [\n",
    "        lire_usine(data[1+dims.E+u], dims) for u = 1:dims.U\n",
    "    ]\n",
    "    fournisseurs = [\n",
    "        lire_fournisseur(data[1+dims.E+dims.U+f], dims) for f = 1:dims.F\n",
    "    ]\n",
    "    graphe = lire_graphe(data[1+dims.E+dims.U+dims.F+1:end], dims)\n",
    "    \n",
    "    return Instance(\n",
    "        J = dims.J,\n",
    "        U = dims.U,\n",
    "        F = dims.F,\n",
    "        E = dims.E,\n",
    "        \n",
    "        L = dims.L,\n",
    "        γ = dims.γ,\n",
    "        ccam = dims.ccam,\n",
    "        cstop = dims.cstop,\n",
    "        \n",
    "        emballages = emballages,\n",
    "        usines = usines,\n",
    "        fournisseurs = fournisseurs,\n",
    "        graphe = graphe\n",
    "    )\n",
    "end"
   ]
  },
  {
   "cell_type": "code",
   "execution_count": 33,
   "metadata": {
    "ExecuteTime": {
     "end_time": "2020-11-12T17:00:12.586000+01:00",
     "start_time": "2020-11-12T15:59:42.600Z"
    }
   },
   "outputs": [
    {
     "data": {
      "text/plain": [
       "\n",
       "Instance\n",
       "   Nombre de jours: 3\n",
       "   Nombre d'usines: 2\n",
       "   Nombre de fournisseurs: 3\n",
       "   Nombre de types d'emballages: 2"
      ]
     },
     "execution_count": 33,
     "metadata": {},
     "output_type": "execute_result"
    }
   ],
   "source": [
    "instance_petite = lire_instance(joinpath(\"..\", \"sujet\", \"petite.csv\"))"
   ]
  },
  {
   "cell_type": "code",
   "execution_count": 34,
   "metadata": {
    "ExecuteTime": {
     "end_time": "2020-11-12T17:00:23.112000+01:00",
     "start_time": "2020-11-12T15:59:42.602Z"
    }
   },
   "outputs": [
    {
     "data": {
      "image/svg+xml": [
       "<?xml version=\"1.0\" encoding=\"utf-8\"?>\n",
       "<svg xmlns=\"http://www.w3.org/2000/svg\" xmlns:xlink=\"http://www.w3.org/1999/xlink\" width=\"600\" height=\"400\" viewBox=\"0 0 2400 1600\">\n",
       "<defs>\n",
       "  <clipPath id=\"clip610\">\n",
       "    <rect x=\"0\" y=\"0\" width=\"2400\" height=\"1600\"/>\n",
       "  </clipPath>\n",
       "</defs>\n",
       "<path clip-path=\"url(#clip610)\" d=\"\n",
       "M0 1600 L2400 1600 L2400 0 L0 0  Z\n",
       "  \" fill=\"#ffffff\" fill-rule=\"evenodd\" fill-opacity=\"1\"/>\n",
       "<defs>\n",
       "  <clipPath id=\"clip611\">\n",
       "    <rect x=\"480\" y=\"0\" width=\"1681\" height=\"1600\"/>\n",
       "  </clipPath>\n",
       "</defs>\n",
       "<path clip-path=\"url(#clip610)\" d=\"\n",
       "M212.413 1423.18 L2352.76 1423.18 L2352.76 123.472 L212.413 123.472  Z\n",
       "  \" fill=\"#ffffff\" fill-rule=\"evenodd\" fill-opacity=\"1\"/>\n",
       "<defs>\n",
       "  <clipPath id=\"clip612\">\n",
       "    <rect x=\"212\" y=\"123\" width=\"2141\" height=\"1301\"/>\n",
       "  </clipPath>\n",
       "</defs>\n",
       "<polyline clip-path=\"url(#clip610)\" style=\"stroke:#000000; stroke-width:4; stroke-opacity:1; fill:none\" points=\"\n",
       "  212.413,1423.18 2352.76,1423.18 \n",
       "  \"/>\n",
       "<polyline clip-path=\"url(#clip610)\" style=\"stroke:#000000; stroke-width:4; stroke-opacity:1; fill:none\" points=\"\n",
       "  424.763,1423.18 424.763,1407.58 \n",
       "  \"/>\n",
       "<polyline clip-path=\"url(#clip610)\" style=\"stroke:#000000; stroke-width:4; stroke-opacity:1; fill:none\" points=\"\n",
       "  808.478,1423.18 808.478,1407.58 \n",
       "  \"/>\n",
       "<polyline clip-path=\"url(#clip610)\" style=\"stroke:#000000; stroke-width:4; stroke-opacity:1; fill:none\" points=\"\n",
       "  1192.19,1423.18 1192.19,1407.58 \n",
       "  \"/>\n",
       "<polyline clip-path=\"url(#clip610)\" style=\"stroke:#000000; stroke-width:4; stroke-opacity:1; fill:none\" points=\"\n",
       "  1575.91,1423.18 1575.91,1407.58 \n",
       "  \"/>\n",
       "<polyline clip-path=\"url(#clip610)\" style=\"stroke:#000000; stroke-width:4; stroke-opacity:1; fill:none\" points=\"\n",
       "  1959.63,1423.18 1959.63,1407.58 \n",
       "  \"/>\n",
       "<polyline clip-path=\"url(#clip610)\" style=\"stroke:#000000; stroke-width:4; stroke-opacity:1; fill:none\" points=\"\n",
       "  2343.34,1423.18 2343.34,1407.58 \n",
       "  \"/>\n",
       "<path clip-path=\"url(#clip610)\" d=\"M 0 0 M414.022 1453.37 L402.216 1471.81 L414.022 1471.81 L414.022 1453.37 M412.795 1449.29 L418.675 1449.29 L418.675 1471.81 L423.605 1471.81 L423.605 1475.7 L418.675 1475.7 L418.675 1483.85 L414.022 1483.85 L414.022 1475.7 L398.42 1475.7 L398.42 1471.19 L412.795 1449.29 Z\" fill=\"#000000\" fill-rule=\"evenodd\" fill-opacity=\"1\" /><path clip-path=\"url(#clip610)\" d=\"M 0 0 M441.522 1453.37 L429.716 1471.81 L441.522 1471.81 L441.522 1453.37 M440.295 1449.29 L446.174 1449.29 L446.174 1471.81 L451.105 1471.81 L451.105 1475.7 L446.174 1475.7 L446.174 1483.85 L441.522 1483.85 L441.522 1475.7 L425.92 1475.7 L425.92 1471.19 L440.295 1449.29 Z\" fill=\"#000000\" fill-rule=\"evenodd\" fill-opacity=\"1\" /><path clip-path=\"url(#clip610)\" d=\"M 0 0 M798.478 1453.37 L786.673 1471.81 L798.478 1471.81 L798.478 1453.37 M797.252 1449.29 L803.131 1449.29 L803.131 1471.81 L808.062 1471.81 L808.062 1475.7 L803.131 1475.7 L803.131 1483.85 L798.478 1483.85 L798.478 1475.7 L782.877 1475.7 L782.877 1471.19 L797.252 1449.29 Z\" fill=\"#000000\" fill-rule=\"evenodd\" fill-opacity=\"1\" /><path clip-path=\"url(#clip610)\" d=\"M 0 0 M813.177 1449.29 L831.534 1449.29 L831.534 1453.23 L817.46 1453.23 L817.46 1461.7 Q818.478 1461.35 819.497 1461.19 Q820.515 1461 821.534 1461 Q827.321 1461 830.701 1464.18 Q834.08 1467.35 834.08 1472.76 Q834.08 1478.34 830.608 1481.44 Q827.136 1484.52 820.816 1484.52 Q818.64 1484.52 816.372 1484.15 Q814.127 1483.78 811.719 1483.04 L811.719 1478.34 Q813.802 1479.48 816.025 1480.03 Q818.247 1480.59 820.724 1480.59 Q824.728 1480.59 827.066 1478.48 Q829.404 1476.38 829.404 1472.76 Q829.404 1469.15 827.066 1467.05 Q824.728 1464.94 820.724 1464.94 Q818.849 1464.94 816.974 1465.36 Q815.122 1465.77 813.177 1466.65 L813.177 1449.29 Z\" fill=\"#000000\" fill-rule=\"evenodd\" fill-opacity=\"1\" /><path clip-path=\"url(#clip610)\" d=\"M 0 0 M1181.62 1453.37 L1169.81 1471.81 L1181.62 1471.81 L1181.62 1453.37 M1180.39 1449.29 L1186.27 1449.29 L1186.27 1471.81 L1191.2 1471.81 L1191.2 1475.7 L1186.27 1475.7 L1186.27 1483.85 L1181.62 1483.85 L1181.62 1475.7 L1166.01 1475.7 L1166.01 1471.19 L1180.39 1449.29 Z\" fill=\"#000000\" fill-rule=\"evenodd\" fill-opacity=\"1\" /><path clip-path=\"url(#clip610)\" d=\"M 0 0 M1206.85 1464.71 Q1203.7 1464.71 1201.85 1466.86 Q1200.02 1469.01 1200.02 1472.76 Q1200.02 1476.49 1201.85 1478.67 Q1203.7 1480.82 1206.85 1480.82 Q1210 1480.82 1211.82 1478.67 Q1213.68 1476.49 1213.68 1472.76 Q1213.68 1469.01 1211.82 1466.86 Q1210 1464.71 1206.85 1464.71 M1216.13 1450.06 L1216.13 1454.31 Q1214.37 1453.48 1212.56 1453.04 Q1210.78 1452.6 1209.02 1452.6 Q1204.39 1452.6 1201.94 1455.73 Q1199.51 1458.85 1199.16 1465.17 Q1200.53 1463.16 1202.59 1462.09 Q1204.65 1461 1207.12 1461 Q1212.33 1461 1215.34 1464.18 Q1218.37 1467.32 1218.37 1472.76 Q1218.37 1478.09 1215.23 1481.31 Q1212.08 1484.52 1206.85 1484.52 Q1200.85 1484.52 1197.68 1479.94 Q1194.51 1475.33 1194.51 1466.61 Q1194.51 1458.41 1198.4 1453.55 Q1202.29 1448.67 1208.84 1448.67 Q1210.6 1448.67 1212.38 1449.01 Q1214.18 1449.36 1216.13 1450.06 Z\" fill=\"#000000\" fill-rule=\"evenodd\" fill-opacity=\"1\" /><path clip-path=\"url(#clip610)\" d=\"M 0 0 M1565.86 1453.37 L1554.06 1471.81 L1565.86 1471.81 L1565.86 1453.37 M1564.64 1449.29 L1570.52 1449.29 L1570.52 1471.81 L1575.45 1471.81 L1575.45 1475.7 L1570.52 1475.7 L1570.52 1483.85 L1565.86 1483.85 L1565.86 1475.7 L1550.26 1475.7 L1550.26 1471.19 L1564.64 1449.29 Z\" fill=\"#000000\" fill-rule=\"evenodd\" fill-opacity=\"1\" /><path clip-path=\"url(#clip610)\" d=\"M 0 0 M1579.34 1449.29 L1601.56 1449.29 L1601.56 1451.28 L1589.01 1483.85 L1584.13 1483.85 L1595.93 1453.23 L1579.34 1453.23 L1579.34 1449.29 Z\" fill=\"#000000\" fill-rule=\"evenodd\" fill-opacity=\"1\" /><path clip-path=\"url(#clip610)\" d=\"M 0 0 M1949.17 1453.37 L1937.37 1471.81 L1949.17 1471.81 L1949.17 1453.37 M1947.95 1449.29 L1953.83 1449.29 L1953.83 1471.81 L1958.76 1471.81 L1958.76 1475.7 L1953.83 1475.7 L1953.83 1483.85 L1949.17 1483.85 L1949.17 1475.7 L1933.57 1475.7 L1933.57 1471.19 L1947.95 1449.29 Z\" fill=\"#000000\" fill-rule=\"evenodd\" fill-opacity=\"1\" /><path clip-path=\"url(#clip610)\" d=\"M 0 0 M1973.83 1467.44 Q1970.49 1467.44 1968.57 1469.22 Q1966.67 1471 1966.67 1474.13 Q1966.67 1477.25 1968.57 1479.04 Q1970.49 1480.82 1973.83 1480.82 Q1977.16 1480.82 1979.08 1479.04 Q1981 1477.23 1981 1474.13 Q1981 1471 1979.08 1469.22 Q1977.18 1467.44 1973.83 1467.44 M1969.15 1465.45 Q1966.14 1464.71 1964.45 1462.65 Q1962.79 1460.59 1962.79 1457.63 Q1962.79 1453.48 1965.73 1451.07 Q1968.69 1448.67 1973.83 1448.67 Q1978.99 1448.67 1981.93 1451.07 Q1984.87 1453.48 1984.87 1457.63 Q1984.87 1460.59 1983.18 1462.65 Q1981.51 1464.71 1978.53 1465.45 Q1981.91 1466.24 1983.78 1468.53 Q1985.68 1470.82 1985.68 1474.13 Q1985.68 1479.15 1982.6 1481.84 Q1979.55 1484.52 1973.83 1484.52 Q1968.11 1484.52 1965.03 1481.84 Q1961.98 1479.15 1961.98 1474.13 Q1961.98 1470.82 1963.87 1468.53 Q1965.77 1466.24 1969.15 1465.45 M1967.44 1458.06 Q1967.44 1460.75 1969.11 1462.25 Q1970.8 1463.76 1973.83 1463.76 Q1976.84 1463.76 1978.53 1462.25 Q1980.24 1460.75 1980.24 1458.06 Q1980.24 1455.38 1978.53 1453.88 Q1976.84 1452.37 1973.83 1452.37 Q1970.8 1452.37 1969.11 1453.88 Q1967.44 1455.38 1967.44 1458.06 Z\" fill=\"#000000\" fill-rule=\"evenodd\" fill-opacity=\"1\" /><path clip-path=\"url(#clip610)\" d=\"M 0 0 M2332.94 1453.37 L2321.13 1471.81 L2332.94 1471.81 L2332.94 1453.37 M2331.71 1449.29 L2337.59 1449.29 L2337.59 1471.81 L2342.52 1471.81 L2342.52 1475.7 L2337.59 1475.7 L2337.59 1483.85 L2332.94 1483.85 L2332.94 1475.7 L2317.34 1475.7 L2317.34 1471.19 L2331.71 1449.29 Z\" fill=\"#000000\" fill-rule=\"evenodd\" fill-opacity=\"1\" /><path clip-path=\"url(#clip610)\" d=\"M 0 0 M2347.73 1483.13 L2347.73 1478.88 Q2349.49 1479.71 2351.29 1480.15 Q2353.1 1480.59 2354.84 1480.59 Q2359.46 1480.59 2361.9 1477.49 Q2364.35 1474.36 2364.7 1468.02 Q2363.35 1470.01 2361.29 1471.07 Q2359.23 1472.14 2356.73 1472.14 Q2351.55 1472.14 2348.52 1469.01 Q2345.51 1465.87 2345.51 1460.43 Q2345.51 1455.1 2348.65 1451.88 Q2351.8 1448.67 2357.03 1448.67 Q2363.03 1448.67 2366.18 1453.27 Q2369.35 1457.86 2369.35 1466.61 Q2369.35 1474.78 2365.46 1479.66 Q2361.59 1484.52 2355.04 1484.52 Q2353.28 1484.52 2351.48 1484.18 Q2349.67 1483.83 2347.73 1483.13 M2357.03 1468.48 Q2360.18 1468.48 2362.01 1466.33 Q2363.86 1464.18 2363.86 1460.43 Q2363.86 1456.7 2362.01 1454.55 Q2360.18 1452.37 2357.03 1452.37 Q2353.89 1452.37 2352.03 1454.55 Q2350.21 1456.7 2350.21 1460.43 Q2350.21 1464.18 2352.03 1466.33 Q2353.89 1468.48 2357.03 1468.48 Z\" fill=\"#000000\" fill-rule=\"evenodd\" fill-opacity=\"1\" /><path clip-path=\"url(#clip610)\" d=\"M 0 0 M1154.14 1506.52 L1160 1506.52 L1160 1556.04 L1154.14 1556.04 L1154.14 1506.52 Z\" fill=\"#000000\" fill-rule=\"evenodd\" fill-opacity=\"1\" /><path clip-path=\"url(#clip610)\" d=\"M 0 0 M1179.95 1524.5 Q1175.24 1524.5 1172.51 1528.19 Q1169.77 1531.85 1169.77 1538.25 Q1169.77 1544.65 1172.47 1548.34 Q1175.21 1552 1179.95 1552 Q1184.63 1552 1187.37 1548.31 Q1190.11 1544.62 1190.11 1538.25 Q1190.11 1531.92 1187.37 1528.23 Q1184.63 1524.5 1179.95 1524.5 M1179.95 1519.54 Q1187.59 1519.54 1191.95 1524.5 Q1196.31 1529.47 1196.31 1538.25 Q1196.31 1547 1191.95 1552 Q1187.59 1556.97 1179.95 1556.97 Q1172.28 1556.97 1167.92 1552 Q1163.59 1547 1163.59 1538.25 Q1163.59 1529.47 1167.92 1524.5 Q1172.28 1519.54 1179.95 1519.54 Z\" fill=\"#000000\" fill-rule=\"evenodd\" fill-opacity=\"1\" /><path clip-path=\"url(#clip610)\" d=\"M 0 0 M1232.09 1534.53 L1232.09 1556.04 L1226.23 1556.04 L1226.23 1534.72 Q1226.23 1529.66 1224.26 1527.14 Q1222.29 1524.63 1218.34 1524.63 Q1213.6 1524.63 1210.86 1527.65 Q1208.12 1530.68 1208.12 1535.9 L1208.12 1556.04 L1202.23 1556.04 L1202.23 1520.4 L1208.12 1520.4 L1208.12 1525.93 Q1210.22 1522.72 1213.05 1521.13 Q1215.92 1519.54 1219.64 1519.54 Q1225.79 1519.54 1228.94 1523.36 Q1232.09 1527.14 1232.09 1534.53 Z\" fill=\"#000000\" fill-rule=\"evenodd\" fill-opacity=\"1\" /><path clip-path=\"url(#clip610)\" d=\"M 0 0 M1261.69 1537.81 Q1261.69 1531.44 1259.05 1527.94 Q1256.44 1524.44 1251.69 1524.44 Q1246.98 1524.44 1244.34 1527.94 Q1241.73 1531.44 1241.73 1537.81 Q1241.73 1544.14 1244.34 1547.64 Q1246.98 1551.14 1251.69 1551.14 Q1256.44 1551.14 1259.05 1547.64 Q1261.69 1544.14 1261.69 1537.81 M1267.55 1551.62 Q1267.55 1560.72 1263.5 1565.15 Q1259.46 1569.6 1251.12 1569.6 Q1248.03 1569.6 1245.3 1569.13 Q1242.56 1568.68 1239.98 1567.72 L1239.98 1562.03 Q1242.56 1563.43 1245.07 1564.1 Q1247.59 1564.76 1250.2 1564.76 Q1255.96 1564.76 1258.82 1561.74 Q1261.69 1558.75 1261.69 1552.67 L1261.69 1549.77 Q1259.87 1552.92 1257.04 1554.48 Q1254.21 1556.04 1250.26 1556.04 Q1243.71 1556.04 1239.7 1551.05 Q1235.68 1546.05 1235.68 1537.81 Q1235.68 1529.53 1239.7 1524.53 Q1243.71 1519.54 1250.26 1519.54 Q1254.21 1519.54 1257.04 1521.1 Q1259.87 1522.66 1261.69 1525.81 L1261.69 1520.4 L1267.55 1520.4 L1267.55 1551.62 Z\" fill=\"#000000\" fill-rule=\"evenodd\" fill-opacity=\"1\" /><path clip-path=\"url(#clip610)\" d=\"M 0 0 M1273.69 1520.4 L1279.54 1520.4 L1279.54 1556.04 L1273.69 1556.04 L1273.69 1520.4 M1273.69 1506.52 L1279.54 1506.52 L1279.54 1513.93 L1273.69 1513.93 L1273.69 1506.52 Z\" fill=\"#000000\" fill-rule=\"evenodd\" fill-opacity=\"1\" /><path clip-path=\"url(#clip610)\" d=\"M 0 0 M1291.48 1510.27 L1291.48 1520.4 L1303.54 1520.4 L1303.54 1524.95 L1291.48 1524.95 L1291.48 1544.3 Q1291.48 1548.66 1292.66 1549.9 Q1293.87 1551.14 1297.53 1551.14 L1303.54 1551.14 L1303.54 1556.04 L1297.53 1556.04 Q1290.75 1556.04 1288.17 1553.53 Q1285.59 1550.98 1285.59 1544.3 L1285.59 1524.95 L1281.3 1524.95 L1281.3 1520.4 L1285.59 1520.4 L1285.59 1510.27 L1291.48 1510.27 Z\" fill=\"#000000\" fill-rule=\"evenodd\" fill-opacity=\"1\" /><path clip-path=\"url(#clip610)\" d=\"M 0 0 M1309.08 1541.98 L1309.08 1520.4 L1314.94 1520.4 L1314.94 1541.75 Q1314.94 1546.81 1316.91 1549.36 Q1318.88 1551.87 1322.83 1551.87 Q1327.57 1551.87 1330.31 1548.85 Q1333.08 1545.83 1333.08 1540.61 L1333.08 1520.4 L1338.94 1520.4 L1338.94 1556.04 L1333.08 1556.04 L1333.08 1550.57 Q1330.95 1553.82 1328.11 1555.41 Q1325.31 1556.97 1321.59 1556.97 Q1315.45 1556.97 1312.26 1553.15 Q1309.08 1549.33 1309.08 1541.98 M1323.82 1519.54 L1323.82 1519.54 Z\" fill=\"#000000\" fill-rule=\"evenodd\" fill-opacity=\"1\" /><path clip-path=\"url(#clip610)\" d=\"M 0 0 M1368.54 1525.81 L1368.54 1506.52 L1374.39 1506.52 L1374.39 1556.04 L1368.54 1556.04 L1368.54 1550.7 Q1366.69 1553.88 1363.86 1555.44 Q1361.06 1556.97 1357.11 1556.97 Q1350.65 1556.97 1346.58 1551.81 Q1342.53 1546.65 1342.53 1538.25 Q1342.53 1529.85 1346.58 1524.69 Q1350.65 1519.54 1357.11 1519.54 Q1361.06 1519.54 1363.86 1521.1 Q1366.69 1522.62 1368.54 1525.81 M1348.58 1538.25 Q1348.58 1544.71 1351.22 1548.4 Q1353.9 1552.07 1358.54 1552.07 Q1363.19 1552.07 1365.86 1548.4 Q1368.54 1544.71 1368.54 1538.25 Q1368.54 1531.79 1365.86 1528.13 Q1363.19 1524.44 1358.54 1524.44 Q1353.9 1524.44 1351.22 1528.13 Q1348.58 1531.79 1348.58 1538.25 Z\" fill=\"#000000\" fill-rule=\"evenodd\" fill-opacity=\"1\" /><path clip-path=\"url(#clip610)\" d=\"M 0 0 M1411.03 1536.76 L1411.03 1539.62 L1384.1 1539.62 Q1384.48 1545.67 1387.73 1548.85 Q1391.01 1552 1396.83 1552 Q1400.21 1552 1403.36 1551.17 Q1406.54 1550.35 1409.66 1548.69 L1409.66 1554.23 Q1406.51 1555.57 1403.2 1556.27 Q1399.89 1556.97 1396.48 1556.97 Q1387.95 1556.97 1382.96 1552 Q1377.99 1547.04 1377.99 1538.57 Q1377.99 1529.82 1382.7 1524.69 Q1387.44 1519.54 1395.46 1519.54 Q1402.66 1519.54 1406.83 1524.18 Q1411.03 1528.8 1411.03 1536.76 M1405.17 1535.04 Q1405.11 1530.23 1402.47 1527.37 Q1399.86 1524.5 1395.53 1524.5 Q1390.63 1524.5 1387.67 1527.27 Q1384.74 1530.04 1384.29 1535.07 L1405.17 1535.04 Z\" fill=\"#000000\" fill-rule=\"evenodd\" fill-opacity=\"1\" /><polyline clip-path=\"url(#clip610)\" style=\"stroke:#000000; stroke-width:4; stroke-opacity:1; fill:none\" points=\"\n",
       "  212.413,1423.18 212.413,123.472 \n",
       "  \"/>\n",
       "<polyline clip-path=\"url(#clip610)\" style=\"stroke:#000000; stroke-width:4; stroke-opacity:1; fill:none\" points=\"\n",
       "  212.413,1366.22 238.097,1366.22 \n",
       "  \"/>\n",
       "<polyline clip-path=\"url(#clip610)\" style=\"stroke:#000000; stroke-width:4; stroke-opacity:1; fill:none\" points=\"\n",
       "  212.413,1185.25 238.097,1185.25 \n",
       "  \"/>\n",
       "<polyline clip-path=\"url(#clip610)\" style=\"stroke:#000000; stroke-width:4; stroke-opacity:1; fill:none\" points=\"\n",
       "  212.413,1004.29 238.097,1004.29 \n",
       "  \"/>\n",
       "<polyline clip-path=\"url(#clip610)\" style=\"stroke:#000000; stroke-width:4; stroke-opacity:1; fill:none\" points=\"\n",
       "  212.413,823.319 238.097,823.319 \n",
       "  \"/>\n",
       "<polyline clip-path=\"url(#clip610)\" style=\"stroke:#000000; stroke-width:4; stroke-opacity:1; fill:none\" points=\"\n",
       "  212.413,642.353 238.097,642.353 \n",
       "  \"/>\n",
       "<polyline clip-path=\"url(#clip610)\" style=\"stroke:#000000; stroke-width:4; stroke-opacity:1; fill:none\" points=\"\n",
       "  212.413,461.388 238.097,461.388 \n",
       "  \"/>\n",
       "<polyline clip-path=\"url(#clip610)\" style=\"stroke:#000000; stroke-width:4; stroke-opacity:1; fill:none\" points=\"\n",
       "  212.413,280.422 238.097,280.422 \n",
       "  \"/>\n",
       "<path clip-path=\"url(#clip610)\" d=\"M 0 0 M120.533 1379.56 L128.172 1379.56 L128.172 1353.2 L119.862 1354.86 L119.862 1350.6 L128.126 1348.94 L132.802 1348.94 L132.802 1379.56 L140.441 1379.56 L140.441 1383.5 L120.533 1383.5 L120.533 1379.56 Z\" fill=\"#000000\" fill-rule=\"evenodd\" fill-opacity=\"1\" /><path clip-path=\"url(#clip610)\" d=\"M 0 0 M145.51 1377.62 L150.394 1377.62 L150.394 1383.5 L145.51 1383.5 L145.51 1377.62 Z\" fill=\"#000000\" fill-rule=\"evenodd\" fill-opacity=\"1\" /><path clip-path=\"url(#clip610)\" d=\"M 0 0 M155.51 1348.94 L173.866 1348.94 L173.866 1352.87 L159.792 1352.87 L159.792 1361.34 Q160.811 1361 161.829 1360.83 Q162.848 1360.65 163.866 1360.65 Q169.653 1360.65 173.033 1363.82 Q176.413 1366.99 176.413 1372.41 Q176.413 1377.99 172.94 1381.09 Q169.468 1384.17 163.149 1384.17 Q160.973 1384.17 158.704 1383.8 Q156.459 1383.43 154.052 1382.69 L154.052 1377.99 Q156.135 1379.12 158.357 1379.68 Q160.579 1380.23 163.056 1380.23 Q167.061 1380.23 169.399 1378.13 Q171.737 1376.02 171.737 1372.41 Q171.737 1368.8 169.399 1366.69 Q167.061 1364.58 163.056 1364.58 Q161.181 1364.58 159.306 1365 Q157.454 1365.42 155.51 1366.3 L155.51 1348.94 Z\" fill=\"#000000\" fill-rule=\"evenodd\" fill-opacity=\"1\" /><path clip-path=\"url(#clip610)\" d=\"M 0 0 M123.126 1198.6 L139.445 1198.6 L139.445 1202.53 L117.501 1202.53 L117.501 1198.6 Q120.163 1195.84 124.746 1191.21 Q129.353 1186.56 130.533 1185.22 Q132.779 1182.69 133.658 1180.96 Q134.561 1179.2 134.561 1177.51 Q134.561 1174.75 132.617 1173.02 Q130.695 1171.28 127.593 1171.28 Q125.394 1171.28 122.941 1172.05 Q120.51 1172.81 117.732 1174.36 L117.732 1169.64 Q120.556 1168.5 123.01 1167.92 Q125.464 1167.35 127.501 1167.35 Q132.871 1167.35 136.066 1170.03 Q139.26 1172.72 139.26 1177.21 Q139.26 1179.34 138.45 1181.26 Q137.663 1183.16 135.556 1185.75 Q134.978 1186.42 131.876 1189.64 Q128.774 1192.83 123.126 1198.6 Z\" fill=\"#000000\" fill-rule=\"evenodd\" fill-opacity=\"1\" /><path clip-path=\"url(#clip610)\" d=\"M 0 0 M144.515 1196.65 L149.399 1196.65 L149.399 1202.53 L144.515 1202.53 L144.515 1196.65 Z\" fill=\"#000000\" fill-rule=\"evenodd\" fill-opacity=\"1\" /><path clip-path=\"url(#clip610)\" d=\"M 0 0 M164.468 1171.05 Q160.857 1171.05 159.028 1174.61 Q157.223 1178.16 157.223 1185.29 Q157.223 1192.39 159.028 1195.96 Q160.857 1199.5 164.468 1199.5 Q168.102 1199.5 169.908 1195.96 Q171.737 1192.39 171.737 1185.29 Q171.737 1178.16 169.908 1174.61 Q168.102 1171.05 164.468 1171.05 M164.468 1167.35 Q170.278 1167.35 173.334 1171.95 Q176.413 1176.54 176.413 1185.29 Q176.413 1194.01 173.334 1198.62 Q170.278 1203.2 164.468 1203.2 Q158.658 1203.2 155.579 1198.62 Q152.524 1194.01 152.524 1185.29 Q152.524 1176.54 155.579 1171.95 Q158.658 1167.35 164.468 1167.35 Z\" fill=\"#000000\" fill-rule=\"evenodd\" fill-opacity=\"1\" /><path clip-path=\"url(#clip610)\" d=\"M 0 0 M124.121 1017.63 L140.441 1017.63 L140.441 1021.57 L118.496 1021.57 L118.496 1017.63 Q121.158 1014.88 125.742 1010.25 Q130.348 1005.59 131.529 1004.25 Q133.774 1001.73 134.654 999.991 Q135.556 998.232 135.556 996.542 Q135.556 993.788 133.612 992.051 Q131.691 990.315 128.589 990.315 Q126.39 990.315 123.936 991.079 Q121.505 991.843 118.728 993.394 L118.728 988.672 Q121.552 987.538 124.005 986.959 Q126.459 986.38 128.496 986.38 Q133.867 986.38 137.061 989.065 Q140.255 991.75 140.255 996.241 Q140.255 998.371 139.445 1000.29 Q138.658 1002.19 136.552 1004.78 Q135.973 1005.45 132.871 1008.67 Q129.769 1011.87 124.121 1017.63 Z\" fill=\"#000000\" fill-rule=\"evenodd\" fill-opacity=\"1\" /><path clip-path=\"url(#clip610)\" d=\"M 0 0 M145.51 1015.69 L150.394 1015.69 L150.394 1021.57 L145.51 1021.57 L145.51 1015.69 Z\" fill=\"#000000\" fill-rule=\"evenodd\" fill-opacity=\"1\" /><path clip-path=\"url(#clip610)\" d=\"M 0 0 M155.51 987.005 L173.866 987.005 L173.866 990.94 L159.792 990.94 L159.792 999.412 Q160.811 999.065 161.829 998.903 Q162.848 998.718 163.866 998.718 Q169.653 998.718 173.033 1001.89 Q176.413 1005.06 176.413 1010.48 Q176.413 1016.06 172.94 1019.16 Q169.468 1022.24 163.149 1022.24 Q160.973 1022.24 158.704 1021.87 Q156.459 1021.5 154.052 1020.75 L154.052 1016.06 Q156.135 1017.19 158.357 1017.75 Q160.579 1018.3 163.056 1018.3 Q167.061 1018.3 169.399 1016.19 Q171.737 1014.09 171.737 1010.48 Q171.737 1006.87 169.399 1004.76 Q167.061 1002.65 163.056 1002.65 Q161.181 1002.65 159.306 1003.07 Q157.454 1003.49 155.51 1004.37 L155.51 987.005 Z\" fill=\"#000000\" fill-rule=\"evenodd\" fill-opacity=\"1\" /><path clip-path=\"url(#clip610)\" d=\"M 0 0 M132.316 821.965 Q135.672 822.683 137.547 824.951 Q139.445 827.22 139.445 830.553 Q139.445 835.669 135.927 838.47 Q132.408 841.271 125.927 841.271 Q123.751 841.271 121.436 840.831 Q119.144 840.414 116.691 839.558 L116.691 835.044 Q118.635 836.178 120.95 836.757 Q123.265 837.335 125.788 837.335 Q130.186 837.335 132.478 835.599 Q134.792 833.863 134.792 830.553 Q134.792 827.498 132.64 825.785 Q130.51 824.048 126.691 824.048 L122.663 824.048 L122.663 820.206 L126.876 820.206 Q130.325 820.206 132.154 818.84 Q133.982 817.451 133.982 814.859 Q133.982 812.197 132.084 810.785 Q130.209 809.349 126.691 809.349 Q124.769 809.349 122.57 809.766 Q120.371 810.183 117.732 811.062 L117.732 806.896 Q120.394 806.155 122.709 805.785 Q125.047 805.414 127.107 805.414 Q132.431 805.414 135.533 807.845 Q138.635 810.252 138.635 814.373 Q138.635 817.243 136.992 819.234 Q135.348 821.201 132.316 821.965 Z\" fill=\"#000000\" fill-rule=\"evenodd\" fill-opacity=\"1\" /><path clip-path=\"url(#clip610)\" d=\"M 0 0 M144.515 834.72 L149.399 834.72 L149.399 840.599 L144.515 840.599 L144.515 834.72 Z\" fill=\"#000000\" fill-rule=\"evenodd\" fill-opacity=\"1\" /><path clip-path=\"url(#clip610)\" d=\"M 0 0 M164.468 809.118 Q160.857 809.118 159.028 812.683 Q157.223 816.224 157.223 823.354 Q157.223 830.46 159.028 834.025 Q160.857 837.567 164.468 837.567 Q168.102 837.567 169.908 834.025 Q171.737 830.46 171.737 823.354 Q171.737 816.224 169.908 812.683 Q168.102 809.118 164.468 809.118 M164.468 805.414 Q170.278 805.414 173.334 810.021 Q176.413 814.604 176.413 823.354 Q176.413 832.081 173.334 836.687 Q170.278 841.271 164.468 841.271 Q158.658 841.271 155.579 836.687 Q152.524 832.081 152.524 823.354 Q152.524 814.604 155.579 810.021 Q158.658 805.414 164.468 805.414 Z\" fill=\"#000000\" fill-rule=\"evenodd\" fill-opacity=\"1\" /><path clip-path=\"url(#clip610)\" d=\"M 0 0 M133.311 640.999 Q136.667 641.717 138.542 643.985 Q140.441 646.254 140.441 649.587 Q140.441 654.703 136.922 657.504 Q133.404 660.305 126.922 660.305 Q124.746 660.305 122.431 659.865 Q120.14 659.448 117.686 658.592 L117.686 654.078 Q119.63 655.212 121.945 655.791 Q124.26 656.37 126.783 656.37 Q131.181 656.37 133.473 654.633 Q135.788 652.897 135.788 649.587 Q135.788 646.532 133.635 644.819 Q131.505 643.083 127.686 643.083 L123.658 643.083 L123.658 639.24 L127.871 639.24 Q131.32 639.24 133.149 637.874 Q134.978 636.485 134.978 633.893 Q134.978 631.231 133.08 629.819 Q131.205 628.384 127.686 628.384 Q125.765 628.384 123.566 628.8 Q121.367 629.217 118.728 630.097 L118.728 625.93 Q121.39 625.189 123.705 624.819 Q126.043 624.448 128.103 624.448 Q133.427 624.448 136.529 626.879 Q139.63 629.286 139.63 633.407 Q139.63 636.277 137.987 638.268 Q136.343 640.235 133.311 640.999 Z\" fill=\"#000000\" fill-rule=\"evenodd\" fill-opacity=\"1\" /><path clip-path=\"url(#clip610)\" d=\"M 0 0 M145.51 653.754 L150.394 653.754 L150.394 659.633 L145.51 659.633 L145.51 653.754 Z\" fill=\"#000000\" fill-rule=\"evenodd\" fill-opacity=\"1\" /><path clip-path=\"url(#clip610)\" d=\"M 0 0 M155.51 625.073 L173.866 625.073 L173.866 629.009 L159.792 629.009 L159.792 637.481 Q160.811 637.134 161.829 636.972 Q162.848 636.786 163.866 636.786 Q169.653 636.786 173.033 639.958 Q176.413 643.129 176.413 648.546 Q176.413 654.124 172.94 657.226 Q169.468 660.305 163.149 660.305 Q160.973 660.305 158.704 659.934 Q156.459 659.564 154.052 658.823 L154.052 654.124 Q156.135 655.258 158.357 655.814 Q160.579 656.37 163.056 656.37 Q167.061 656.37 169.399 654.263 Q171.737 652.157 171.737 648.546 Q171.737 644.934 169.399 642.828 Q167.061 640.722 163.056 640.722 Q161.181 640.722 159.306 641.138 Q157.454 641.555 155.51 642.434 L155.51 625.073 Z\" fill=\"#000000\" fill-rule=\"evenodd\" fill-opacity=\"1\" /><path clip-path=\"url(#clip610)\" d=\"M 0 0 M129.862 448.182 L118.056 466.631 L129.862 466.631 L129.862 448.182 M128.635 444.108 L134.515 444.108 L134.515 466.631 L139.445 466.631 L139.445 470.52 L134.515 470.52 L134.515 478.668 L129.862 478.668 L129.862 470.52 L114.26 470.52 L114.26 466.006 L128.635 444.108 Z\" fill=\"#000000\" fill-rule=\"evenodd\" fill-opacity=\"1\" /><path clip-path=\"url(#clip610)\" d=\"M 0 0 M144.515 472.788 L149.399 472.788 L149.399 478.668 L144.515 478.668 L144.515 472.788 Z\" fill=\"#000000\" fill-rule=\"evenodd\" fill-opacity=\"1\" /><path clip-path=\"url(#clip610)\" d=\"M 0 0 M164.468 447.186 Q160.857 447.186 159.028 450.751 Q157.223 454.293 157.223 461.422 Q157.223 468.529 159.028 472.094 Q160.857 475.635 164.468 475.635 Q168.102 475.635 169.908 472.094 Q171.737 468.529 171.737 461.422 Q171.737 454.293 169.908 450.751 Q168.102 447.186 164.468 447.186 M164.468 443.483 Q170.278 443.483 173.334 448.089 Q176.413 452.672 176.413 461.422 Q176.413 470.149 173.334 474.756 Q170.278 479.339 164.468 479.339 Q158.658 479.339 155.579 474.756 Q152.524 470.149 152.524 461.422 Q152.524 452.672 155.579 448.089 Q158.658 443.483 164.468 443.483 Z\" fill=\"#000000\" fill-rule=\"evenodd\" fill-opacity=\"1\" /><path clip-path=\"url(#clip610)\" d=\"M 0 0 M130.857 267.216 L119.052 285.665 L130.857 285.665 L130.857 267.216 M129.63 263.142 L135.51 263.142 L135.51 285.665 L140.441 285.665 L140.441 289.554 L135.51 289.554 L135.51 297.702 L130.857 297.702 L130.857 289.554 L115.256 289.554 L115.256 285.04 L129.63 263.142 Z\" fill=\"#000000\" fill-rule=\"evenodd\" fill-opacity=\"1\" /><path clip-path=\"url(#clip610)\" d=\"M 0 0 M145.51 291.822 L150.394 291.822 L150.394 297.702 L145.51 297.702 L145.51 291.822 Z\" fill=\"#000000\" fill-rule=\"evenodd\" fill-opacity=\"1\" /><path clip-path=\"url(#clip610)\" d=\"M 0 0 M155.51 263.142 L173.866 263.142 L173.866 267.077 L159.792 267.077 L159.792 275.549 Q160.811 275.202 161.829 275.04 Q162.848 274.855 163.866 274.855 Q169.653 274.855 173.033 278.026 Q176.413 281.197 176.413 286.614 Q176.413 292.193 172.94 295.294 Q169.468 298.373 163.149 298.373 Q160.973 298.373 158.704 298.003 Q156.459 297.632 154.052 296.892 L154.052 292.193 Q156.135 293.327 158.357 293.882 Q160.579 294.438 163.056 294.438 Q167.061 294.438 169.399 292.331 Q171.737 290.225 171.737 286.614 Q171.737 283.003 169.399 280.896 Q167.061 278.79 163.056 278.79 Q161.181 278.79 159.306 279.206 Q157.454 279.623 155.51 280.503 L155.51 263.142 Z\" fill=\"#000000\" fill-rule=\"evenodd\" fill-opacity=\"1\" /><path clip-path=\"url(#clip610)\" d=\"M 0 0 M38.479 877.007 L38.479 871.151 L88.0042 871.151 L88.0042 877.007 L38.479 877.007 Z\" fill=\"#000000\" fill-rule=\"evenodd\" fill-opacity=\"1\" /><path clip-path=\"url(#clip610)\" d=\"M 0 0 M70.0847 848.807 Q70.0847 855.905 71.7079 858.642 Q73.3312 861.38 77.2461 861.38 Q80.3653 861.38 82.2114 859.343 Q84.0256 857.274 84.0256 853.741 Q84.0256 848.871 80.5881 845.943 Q77.1188 842.983 71.3897 842.983 L70.0847 842.983 L70.0847 848.807 M67.6657 837.126 L88.0042 837.126 L88.0042 842.983 L82.5933 842.983 Q85.8398 844.988 87.3994 847.98 Q88.9272 850.972 88.9272 855.3 Q88.9272 860.775 85.8716 864.021 Q82.7843 867.236 77.6281 867.236 Q71.6125 867.236 68.5569 863.226 Q65.5014 859.183 65.5014 851.194 L65.5014 842.983 L64.9285 842.983 Q60.8862 842.983 58.6901 845.656 Q56.4621 848.298 56.4621 853.104 Q56.4621 856.16 57.1941 859.056 Q57.9262 861.953 59.3903 864.626 L53.9795 864.626 Q52.7381 861.411 52.1334 858.388 Q51.4968 855.364 51.4968 852.499 Q51.4968 844.765 55.5072 840.946 Q59.5176 837.126 67.6657 837.126 Z\" fill=\"#000000\" fill-rule=\"evenodd\" fill-opacity=\"1\" /><path clip-path=\"url(#clip610)\" d=\"M 0 0 M42.2347 825.191 L52.3562 825.191 L52.3562 813.128 L56.9077 813.128 L56.9077 825.191 L76.2594 825.191 Q80.6199 825.191 81.8613 824.013 Q83.1026 822.803 83.1026 819.143 L83.1026 813.128 L88.0042 813.128 L88.0042 819.143 Q88.0042 825.923 85.4897 828.501 Q82.9434 831.079 76.2594 831.079 L56.9077 831.079 L56.9077 835.376 L52.3562 835.376 L52.3562 831.079 L42.2347 831.079 L42.2347 825.191 Z\" fill=\"#000000\" fill-rule=\"evenodd\" fill-opacity=\"1\" /><path clip-path=\"url(#clip610)\" d=\"M 0 0 M52.3562 806.985 L52.3562 801.128 L88.0042 801.128 L88.0042 806.985 L52.3562 806.985 M38.479 806.985 L38.479 801.128 L45.895 801.128 L45.895 806.985 L38.479 806.985 Z\" fill=\"#000000\" fill-rule=\"evenodd\" fill-opacity=\"1\" /><path clip-path=\"url(#clip610)\" d=\"M 0 0 M42.2347 789.193 L52.3562 789.193 L52.3562 777.129 L56.9077 777.129 L56.9077 789.193 L76.2594 789.193 Q80.6199 789.193 81.8613 788.015 Q83.1026 786.805 83.1026 783.145 L83.1026 777.129 L88.0042 777.129 L88.0042 783.145 Q88.0042 789.925 85.4897 792.503 Q82.9434 795.081 76.2594 795.081 L56.9077 795.081 L56.9077 799.378 L52.3562 799.378 L52.3562 795.081 L42.2347 795.081 L42.2347 789.193 Z\" fill=\"#000000\" fill-rule=\"evenodd\" fill-opacity=\"1\" /><path clip-path=\"url(#clip610)\" d=\"M 0 0 M73.9359 771.591 L52.3562 771.591 L52.3562 765.735 L73.7131 765.735 Q78.7739 765.735 81.3202 763.762 Q83.8346 761.788 83.8346 757.841 Q83.8346 753.099 80.8109 750.362 Q77.7872 747.593 72.5673 747.593 L52.3562 747.593 L52.3562 741.736 L88.0042 741.736 L88.0042 747.593 L82.5296 747.593 Q85.7762 749.725 87.3676 752.558 Q88.9272 755.359 88.9272 759.083 Q88.9272 765.226 85.1078 768.408 Q81.2883 771.591 73.9359 771.591 M51.4968 756.855 L51.4968 756.855 Z\" fill=\"#000000\" fill-rule=\"evenodd\" fill-opacity=\"1\" /><path clip-path=\"url(#clip610)\" d=\"M 0 0 M57.7671 712.136 L38.479 712.136 L38.479 706.279 L88.0042 706.279 L88.0042 712.136 L82.657 712.136 Q85.8398 713.982 87.3994 716.814 Q88.9272 719.615 88.9272 723.562 Q88.9272 730.023 83.771 734.097 Q78.6147 738.14 70.212 738.14 Q61.8093 738.14 56.6531 734.097 Q51.4968 730.023 51.4968 723.562 Q51.4968 719.615 53.0564 716.814 Q54.5842 713.982 57.7671 712.136 M70.212 732.092 Q76.6732 732.092 80.3653 729.45 Q84.0256 726.777 84.0256 722.13 Q84.0256 717.483 80.3653 714.809 Q76.6732 712.136 70.212 712.136 Q63.7508 712.136 60.0905 714.809 Q56.3984 717.483 56.3984 722.13 Q56.3984 726.777 60.0905 729.45 Q63.7508 732.092 70.212 732.092 Z\" fill=\"#000000\" fill-rule=\"evenodd\" fill-opacity=\"1\" /><path clip-path=\"url(#clip610)\" d=\"M 0 0 M68.7161 669.645 L71.5806 669.645 L71.5806 696.571 Q77.6281 696.19 80.8109 692.943 Q83.9619 689.665 83.9619 683.84 Q83.9619 680.466 83.1344 677.315 Q82.3069 674.132 80.6518 671.013 L86.1899 671.013 Q87.5267 674.164 88.227 677.474 Q88.9272 680.785 88.9272 684.19 Q88.9272 692.72 83.9619 697.717 Q78.9967 702.683 70.5303 702.683 Q61.7774 702.683 56.6531 697.972 Q51.4968 693.229 51.4968 685.209 Q51.4968 678.015 56.1438 673.846 Q60.7589 669.645 68.7161 669.645 M66.9973 675.501 Q62.1912 675.565 59.3266 678.206 Q56.4621 680.816 56.4621 685.145 Q56.4621 690.047 59.2312 693.007 Q62.0002 695.935 67.0292 696.381 L66.9973 675.501 Z\" fill=\"#000000\" fill-rule=\"evenodd\" fill-opacity=\"1\" /><path clip-path=\"url(#clip610)\" d=\"M 0 0 M993.876 14.0809 L993.876 22.0612 Q989.218 19.8332 985.086 18.7395 Q980.954 17.6457 977.106 17.6457 Q970.422 17.6457 966.776 20.2383 Q963.17 22.8309 963.17 27.611 Q963.17 31.6214 965.56 33.6873 Q967.991 35.7128 974.716 36.9686 L979.658 37.9813 Q988.813 39.7232 993.147 44.1387 Q997.522 48.5136 997.522 55.8863 Q997.522 64.6767 991.608 69.2137 Q985.734 73.7508 974.351 73.7508 Q970.057 73.7508 965.196 72.7785 Q960.375 71.8063 955.19 69.9024 L955.19 61.4765 Q960.173 64.2716 964.953 65.6895 Q969.733 67.1073 974.351 67.1073 Q981.359 67.1073 985.167 64.3527 Q988.975 61.598 988.975 56.4939 Q988.975 52.0379 986.22 49.5264 Q983.506 47.0148 977.268 45.759 L972.285 44.7868 Q963.13 42.9639 959.039 39.075 Q954.947 35.1862 954.947 28.2591 Q954.947 20.2383 960.578 15.6203 Q966.249 11.0023 976.174 11.0023 Q980.427 11.0023 984.843 11.7719 Q989.258 12.5416 993.876 14.0809 Z\" fill=\"#000000\" fill-rule=\"evenodd\" fill-opacity=\"1\" /><path clip-path=\"url(#clip610)\" d=\"M 0 0 M1005.34 27.2059 L1012.79 27.2059 L1012.79 72.576 L1005.34 72.576 L1005.34 27.2059 M1005.34 9.54393 L1012.79 9.54393 L1012.79 18.9825 L1005.34 18.9825 L1005.34 9.54393 Z\" fill=\"#000000\" fill-rule=\"evenodd\" fill-opacity=\"1\" /><path clip-path=\"url(#clip610)\" d=\"M 0 0 M1027.98 14.324 L1027.98 27.2059 L1043.34 27.2059 L1043.34 32.9987 L1027.98 32.9987 L1027.98 57.6282 Q1027.98 63.1779 1029.48 64.7578 Q1031.02 66.3376 1035.68 66.3376 L1043.34 66.3376 L1043.34 72.576 L1035.68 72.576 Q1027.05 72.576 1023.77 69.3758 Q1020.49 66.1351 1020.49 57.6282 L1020.49 32.9987 L1015.02 32.9987 L1015.02 27.2059 L1020.49 27.2059 L1020.49 14.324 L1027.98 14.324 Z\" fill=\"#000000\" fill-rule=\"evenodd\" fill-opacity=\"1\" /><path clip-path=\"url(#clip610)\" d=\"M 0 0 M1089.96 48.0275 L1089.96 51.6733 L1055.69 51.6733 Q1056.18 59.3701 1060.31 63.421 Q1064.48 67.4314 1071.9 67.4314 Q1076.19 67.4314 1080.2 66.3781 Q1084.25 65.3249 1088.22 63.2184 L1088.22 70.267 Q1084.21 71.9684 1080 72.8596 Q1075.79 73.7508 1071.45 73.7508 Q1060.59 73.7508 1054.23 67.4314 Q1047.92 61.1119 1047.92 50.3365 Q1047.92 39.1965 1053.91 32.6746 Q1059.95 26.1121 1070.15 26.1121 Q1079.31 26.1121 1084.62 32.0264 Q1089.96 37.9003 1089.96 48.0275 M1082.51 45.84 Q1082.43 39.7232 1079.07 36.0774 Q1075.75 32.4315 1070.24 32.4315 Q1064 32.4315 1060.23 35.9558 Q1056.5 39.4801 1055.94 45.8805 L1082.51 45.84 Z\" fill=\"#000000\" fill-rule=\"evenodd\" fill-opacity=\"1\" /><path clip-path=\"url(#clip610)\" d=\"M 0 0 M1126.71 28.5427 L1126.71 35.5912 Q1123.55 33.9709 1120.14 33.1607 Q1116.74 32.3505 1113.09 32.3505 Q1107.54 32.3505 1104.75 34.0519 Q1101.99 35.7533 1101.99 39.156 Q1101.99 41.7486 1103.98 43.2475 Q1105.96 44.7058 1111.96 46.0426 L1114.51 46.6097 Q1122.45 48.3111 1125.77 51.4303 Q1129.14 54.509 1129.14 60.0587 Q1129.14 66.3781 1124.11 70.0644 Q1119.13 73.7508 1110.38 73.7508 Q1106.73 73.7508 1102.76 73.0216 Q1098.84 72.3329 1094.46 70.9151 L1094.46 63.2184 Q1098.59 65.3654 1102.6 66.4591 Q1106.61 67.5124 1110.54 67.5124 Q1115.81 67.5124 1118.64 65.73 Q1121.48 63.9071 1121.48 60.6258 Q1121.48 57.5877 1119.41 55.9673 Q1117.39 54.3469 1110.46 52.8481 L1107.87 52.2405 Q1100.94 50.7821 1097.86 47.7845 Q1094.78 44.7463 1094.78 39.4801 Q1094.78 33.0797 1099.32 29.5959 Q1103.86 26.1121 1112.2 26.1121 Q1116.34 26.1121 1119.98 26.7198 Q1123.63 27.3274 1126.71 28.5427 Z\" fill=\"#000000\" fill-rule=\"evenodd\" fill-opacity=\"1\" /><path clip-path=\"url(#clip610)\" d=\"M 0 0 M1193.18 34.0924 L1193.18 9.54393 L1200.63 9.54393 L1200.63 72.576 L1193.18 72.576 L1193.18 65.7705 Q1190.83 69.8214 1187.23 71.8063 Q1183.66 73.7508 1178.64 73.7508 Q1170.41 73.7508 1165.23 67.1883 Q1160.08 60.6258 1160.08 49.9314 Q1160.08 39.2371 1165.23 32.6746 Q1170.41 26.1121 1178.64 26.1121 Q1183.66 26.1121 1187.23 28.0971 Q1190.83 30.0415 1193.18 34.0924 M1167.78 49.9314 Q1167.78 58.1548 1171.14 62.8538 Q1174.55 67.5124 1180.46 67.5124 Q1186.38 67.5124 1189.78 62.8538 Q1193.18 58.1548 1193.18 49.9314 Q1193.18 41.7081 1189.78 37.0496 Q1186.38 32.3505 1180.46 32.3505 Q1174.55 32.3505 1171.14 37.0496 Q1167.78 41.7081 1167.78 49.9314 Z\" fill=\"#000000\" fill-rule=\"evenodd\" fill-opacity=\"1\" /><path clip-path=\"url(#clip610)\" d=\"M 0 0 M1247.26 48.0275 L1247.26 51.6733 L1212.99 51.6733 Q1213.48 59.3701 1217.61 63.421 Q1221.78 67.4314 1229.19 67.4314 Q1233.49 67.4314 1237.5 66.3781 Q1241.55 65.3249 1245.52 63.2184 L1245.52 70.267 Q1241.51 71.9684 1237.3 72.8596 Q1233.08 73.7508 1228.75 73.7508 Q1217.89 73.7508 1211.53 67.4314 Q1205.21 61.1119 1205.21 50.3365 Q1205.21 39.1965 1211.21 32.6746 Q1217.24 26.1121 1227.45 26.1121 Q1236.61 26.1121 1241.91 32.0264 Q1247.26 37.9003 1247.26 48.0275 M1239.81 45.84 Q1239.73 39.7232 1236.36 36.0774 Q1233.04 32.4315 1227.53 32.4315 Q1221.29 32.4315 1217.53 35.9558 Q1213.8 39.4801 1213.23 45.8805 L1239.81 45.84 Z\" fill=\"#000000\" fill-rule=\"evenodd\" fill-opacity=\"1\" /><path clip-path=\"url(#clip610)\" d=\"M 0 0 M1281.45 9.54393 L1288.9 9.54393 L1288.9 72.576 L1281.45 72.576 L1281.45 9.54393 Z\" fill=\"#000000\" fill-rule=\"evenodd\" fill-opacity=\"1\" /><path clip-path=\"url(#clip610)\" d=\"M 0 0 M1303.77 12.096 L1303.77 34.5785 L1296.88 34.5785 L1296.88 12.096 L1303.77 12.096 Z\" fill=\"#000000\" fill-rule=\"evenodd\" fill-opacity=\"1\" /><path clip-path=\"url(#clip610)\" d=\"M 0 0 M1311.59 27.2059 L1319.04 27.2059 L1319.04 72.576 L1311.59 72.576 L1311.59 27.2059 M1311.59 9.54393 L1319.04 9.54393 L1319.04 18.9825 L1311.59 18.9825 L1311.59 9.54393 Z\" fill=\"#000000\" fill-rule=\"evenodd\" fill-opacity=\"1\" /><path clip-path=\"url(#clip610)\" d=\"M 0 0 M1364.57 45.1919 L1364.57 72.576 L1357.12 72.576 L1357.12 45.4349 Q1357.12 38.994 1354.61 35.7938 Q1352.1 32.5936 1347.07 32.5936 Q1341.04 32.5936 1337.56 36.4419 Q1334.07 40.2903 1334.07 46.9338 L1334.07 72.576 L1326.58 72.576 L1326.58 27.2059 L1334.07 27.2059 L1334.07 34.2544 Q1336.74 30.163 1340.35 28.1376 Q1344 26.1121 1348.74 26.1121 Q1356.55 26.1121 1360.56 30.9732 Q1364.57 35.7938 1364.57 45.1919 Z\" fill=\"#000000\" fill-rule=\"evenodd\" fill-opacity=\"1\" /><path clip-path=\"url(#clip610)\" d=\"M 0 0 M1401.32 28.5427 L1401.32 35.5912 Q1398.16 33.9709 1394.75 33.1607 Q1391.35 32.3505 1387.71 32.3505 Q1382.16 32.3505 1379.36 34.0519 Q1376.61 35.7533 1376.61 39.156 Q1376.61 41.7486 1378.59 43.2475 Q1380.58 44.7058 1386.57 46.0426 L1389.12 46.6097 Q1397.06 48.3111 1400.38 51.4303 Q1403.75 54.509 1403.75 60.0587 Q1403.75 66.3781 1398.72 70.0644 Q1393.74 73.7508 1384.99 73.7508 Q1381.35 73.7508 1377.38 73.0216 Q1373.45 72.3329 1369.07 70.9151 L1369.07 63.2184 Q1373.2 65.3654 1377.21 66.4591 Q1381.22 67.5124 1385.15 67.5124 Q1390.42 67.5124 1393.25 65.73 Q1396.09 63.9071 1396.09 60.6258 Q1396.09 57.5877 1394.02 55.9673 Q1392 54.3469 1385.07 52.8481 L1382.48 52.2405 Q1375.55 50.7821 1372.47 47.7845 Q1369.4 44.7463 1369.4 39.4801 Q1369.4 33.0797 1373.93 29.5959 Q1378.47 26.1121 1386.81 26.1121 Q1390.95 26.1121 1394.59 26.7198 Q1398.24 27.3274 1401.32 28.5427 Z\" fill=\"#000000\" fill-rule=\"evenodd\" fill-opacity=\"1\" /><path clip-path=\"url(#clip610)\" d=\"M 0 0 M1418.94 14.324 L1418.94 27.2059 L1434.29 27.2059 L1434.29 32.9987 L1418.94 32.9987 L1418.94 57.6282 Q1418.94 63.1779 1420.44 64.7578 Q1421.98 66.3376 1426.63 66.3376 L1434.29 66.3376 L1434.29 72.576 L1426.63 72.576 Q1418.01 72.576 1414.72 69.3758 Q1411.44 66.1351 1411.44 57.6282 L1411.44 32.9987 L1405.97 32.9987 L1405.97 27.2059 L1411.44 27.2059 L1411.44 14.324 L1418.94 14.324 Z\" fill=\"#000000\" fill-rule=\"evenodd\" fill-opacity=\"1\" /><path clip-path=\"url(#clip610)\" d=\"M 0 0 M1462.73 49.7694 Q1453.69 49.7694 1450.21 51.8354 Q1446.73 53.9013 1446.73 58.8839 Q1446.73 62.8538 1449.32 65.2034 Q1451.95 67.5124 1456.45 67.5124 Q1462.65 67.5124 1466.37 63.1374 Q1470.14 58.7219 1470.14 51.4303 L1470.14 49.7694 L1462.73 49.7694 M1477.59 46.6907 L1477.59 72.576 L1470.14 72.576 L1470.14 65.6895 Q1467.59 69.8214 1463.78 71.8063 Q1459.97 73.7508 1454.46 73.7508 Q1447.5 73.7508 1443.36 69.8619 Q1439.27 65.9325 1439.27 59.3701 Q1439.27 51.7138 1444.38 47.825 Q1449.52 43.9361 1459.69 43.9361 L1470.14 43.9361 L1470.14 43.2069 Q1470.14 38.0623 1466.74 35.2672 Q1463.38 32.4315 1457.26 32.4315 Q1453.37 32.4315 1449.68 33.3632 Q1446 34.295 1442.59 36.1584 L1442.59 29.2718 Q1446.69 27.692 1450.53 26.9223 Q1454.38 26.1121 1458.03 26.1121 Q1467.87 26.1121 1472.73 31.2163 Q1477.59 36.3204 1477.59 46.6907 Z\" fill=\"#000000\" fill-rule=\"evenodd\" fill-opacity=\"1\" /><path clip-path=\"url(#clip610)\" d=\"M 0 0 M1523.13 45.1919 L1523.13 72.576 L1515.67 72.576 L1515.67 45.4349 Q1515.67 38.994 1513.16 35.7938 Q1510.65 32.5936 1505.63 32.5936 Q1499.59 32.5936 1496.11 36.4419 Q1492.62 40.2903 1492.62 46.9338 L1492.62 72.576 L1485.13 72.576 L1485.13 27.2059 L1492.62 27.2059 L1492.62 34.2544 Q1495.3 30.163 1498.9 28.1376 Q1502.55 26.1121 1507.29 26.1121 Q1515.11 26.1121 1519.12 30.9732 Q1523.13 35.7938 1523.13 45.1919 Z\" fill=\"#000000\" fill-rule=\"evenodd\" fill-opacity=\"1\" /><path clip-path=\"url(#clip610)\" d=\"M 0 0 M1563.6 28.9478 L1563.6 35.9153 Q1560.44 34.1734 1557.24 33.3227 Q1554.08 32.4315 1550.84 32.4315 Q1543.58 32.4315 1539.57 37.0496 Q1535.56 41.6271 1535.56 49.9314 Q1535.56 58.2358 1539.57 62.8538 Q1543.58 67.4314 1550.84 67.4314 Q1554.08 67.4314 1557.24 66.5807 Q1560.44 65.6895 1563.6 63.9476 L1563.6 70.8341 Q1560.48 72.2924 1557.11 73.0216 Q1553.79 73.7508 1550.02 73.7508 Q1539.78 73.7508 1533.74 67.3098 Q1527.7 60.8689 1527.7 49.9314 Q1527.7 38.832 1533.78 32.472 Q1539.9 26.1121 1550.51 26.1121 Q1553.95 26.1121 1557.24 26.8413 Q1560.52 27.5299 1563.6 28.9478 Z\" fill=\"#000000\" fill-rule=\"evenodd\" fill-opacity=\"1\" /><path clip-path=\"url(#clip610)\" d=\"M 0 0 M1610.22 48.0275 L1610.22 51.6733 L1575.95 51.6733 Q1576.44 59.3701 1580.57 63.421 Q1584.74 67.4314 1592.15 67.4314 Q1596.45 67.4314 1600.46 66.3781 Q1604.51 65.3249 1608.48 63.2184 L1608.48 70.267 Q1604.47 71.9684 1600.26 72.8596 Q1596.04 73.7508 1591.71 73.7508 Q1580.85 73.7508 1574.49 67.4314 Q1568.17 61.1119 1568.17 50.3365 Q1568.17 39.1965 1574.17 32.6746 Q1580.2 26.1121 1590.41 26.1121 Q1599.57 26.1121 1604.87 32.0264 Q1610.22 37.9003 1610.22 48.0275 M1602.77 45.84 Q1602.69 39.7232 1599.32 36.0774 Q1596 32.4315 1590.49 32.4315 Q1584.26 32.4315 1580.49 35.9558 Q1576.76 39.4801 1576.19 45.8805 L1602.77 45.84 Z\" fill=\"#000000\" fill-rule=\"evenodd\" fill-opacity=\"1\" /><circle clip-path=\"url(#clip612)\" cx=\"2292.18\" cy=\"1058.05\" r=\"108\" fill=\"#ff0000\" fill-rule=\"evenodd\" fill-opacity=\"0.5\" stroke=\"#000000\" stroke-opacity=\"0.5\" stroke-width=\"3.2\"/>\n",
       "<circle clip-path=\"url(#clip612)\" cx=\"272.988\" cy=\"1386.4\" r=\"108\" fill=\"#ff0000\" fill-rule=\"evenodd\" fill-opacity=\"0.5\" stroke=\"#000000\" stroke-opacity=\"0.5\" stroke-width=\"3.2\"/>\n",
       "<circle clip-path=\"url(#clip612)\" cx=\"2292.18\" cy=\"1058.05\" r=\"108\" fill=\"#0000ff\" fill-rule=\"evenodd\" fill-opacity=\"0.5\" stroke=\"#000000\" stroke-opacity=\"0.5\" stroke-width=\"3.2\"/>\n",
       "<circle clip-path=\"url(#clip612)\" cx=\"1099.26\" cy=\"160.256\" r=\"108\" fill=\"#0000ff\" fill-rule=\"evenodd\" fill-opacity=\"0.5\" stroke=\"#000000\" stroke-opacity=\"0.5\" stroke-width=\"3.2\"/>\n",
       "<circle clip-path=\"url(#clip612)\" cx=\"1099.26\" cy=\"160.256\" r=\"108\" fill=\"#0000ff\" fill-rule=\"evenodd\" fill-opacity=\"0.5\" stroke=\"#000000\" stroke-opacity=\"0.5\" stroke-width=\"3.2\"/>\n",
       "<path clip-path=\"url(#clip610)\" d=\"\n",
       "M1782.51 348.236 L2281.41 348.236 L2281.41 166.796 L1782.51 166.796  Z\n",
       "  \" fill=\"#ffffff\" fill-rule=\"evenodd\" fill-opacity=\"1\"/>\n",
       "<polyline clip-path=\"url(#clip610)\" style=\"stroke:#000000; stroke-width:4; stroke-opacity:1; fill:none\" points=\"\n",
       "  1782.51,348.236 2281.41,348.236 2281.41,166.796 1782.51,166.796 1782.51,348.236 \n",
       "  \"/>\n",
       "<circle clip-path=\"url(#clip610)\" cx=\"1877.64\" cy=\"227.276\" r=\"23\" fill=\"#ff0000\" fill-rule=\"evenodd\" fill-opacity=\"0.5\" stroke=\"#000000\" stroke-opacity=\"0.5\" stroke-width=\"0.682667\"/>\n",
       "<path clip-path=\"url(#clip610)\" d=\"M 0 0 M1972.76 234.324 L1972.76 218.63 L1977.02 218.63 L1977.02 234.162 Q1977.02 237.843 1978.46 239.695 Q1979.89 241.523 1982.76 241.523 Q1986.21 241.523 1988.2 239.324 Q1990.21 237.125 1990.21 233.329 L1990.21 218.63 L1994.47 218.63 L1994.47 244.556 L1990.21 244.556 L1990.21 240.574 Q1988.66 242.935 1986.6 244.093 Q1984.57 245.227 1981.86 245.227 Q1977.39 245.227 1975.08 242.449 Q1972.76 239.671 1972.76 234.324 M1983.48 218.005 L1983.48 218.005 Z\" fill=\"#000000\" fill-rule=\"evenodd\" fill-opacity=\"1\" /><path clip-path=\"url(#clip610)\" d=\"M 0 0 M2015.47 219.394 L2015.47 223.422 Q2013.66 222.496 2011.72 222.033 Q2009.78 221.57 2007.69 221.57 Q2004.52 221.57 2002.92 222.542 Q2001.35 223.514 2001.35 225.459 Q2001.35 226.94 2002.48 227.797 Q2003.62 228.63 2007.04 229.394 L2008.5 229.718 Q2013.04 230.69 2014.94 232.472 Q2016.86 234.232 2016.86 237.403 Q2016.86 241.014 2013.99 243.121 Q2011.14 245.227 2006.14 245.227 Q2004.06 245.227 2001.79 244.81 Q1999.54 244.417 1997.04 243.607 L1997.04 239.209 Q1999.4 240.435 2001.7 241.06 Q2003.99 241.662 2006.23 241.662 Q2009.24 241.662 2010.86 240.644 Q2012.48 239.602 2012.48 237.727 Q2012.48 235.991 2011.3 235.065 Q2010.15 234.139 2006.19 233.283 L2004.71 232.935 Q2000.75 232.102 1998.99 230.389 Q1997.23 228.653 1997.23 225.644 Q1997.23 221.986 1999.82 219.996 Q2002.41 218.005 2007.18 218.005 Q2009.54 218.005 2011.63 218.352 Q2013.71 218.699 2015.47 219.394 Z\" fill=\"#000000\" fill-rule=\"evenodd\" fill-opacity=\"1\" /><path clip-path=\"url(#clip610)\" d=\"M 0 0 M2021.33 218.63 L2025.59 218.63 L2025.59 244.556 L2021.33 244.556 L2021.33 218.63 M2021.33 208.537 L2025.59 208.537 L2025.59 213.931 L2021.33 213.931 L2021.33 208.537 Z\" fill=\"#000000\" fill-rule=\"evenodd\" fill-opacity=\"1\" /><path clip-path=\"url(#clip610)\" d=\"M 0 0 M2051.6 228.908 L2051.6 244.556 L2047.34 244.556 L2047.34 229.047 Q2047.34 225.366 2045.91 223.537 Q2044.47 221.709 2041.6 221.709 Q2038.15 221.709 2036.16 223.908 Q2034.17 226.107 2034.17 229.903 L2034.17 244.556 L2029.89 244.556 L2029.89 218.63 L2034.17 218.63 L2034.17 222.658 Q2035.7 220.32 2037.76 219.162 Q2039.84 218.005 2042.55 218.005 Q2047.02 218.005 2049.31 220.783 Q2051.6 223.537 2051.6 228.908 Z\" fill=\"#000000\" fill-rule=\"evenodd\" fill-opacity=\"1\" /><path clip-path=\"url(#clip610)\" d=\"M 0 0 M2078.25 230.528 L2078.25 232.611 L2058.66 232.611 Q2058.94 237.009 2061.3 239.324 Q2063.69 241.616 2067.92 241.616 Q2070.38 241.616 2072.67 241.014 Q2074.98 240.412 2077.25 239.209 L2077.25 243.236 Q2074.96 244.208 2072.55 244.718 Q2070.15 245.227 2067.67 245.227 Q2061.46 245.227 2057.83 241.616 Q2054.22 238.005 2054.22 231.847 Q2054.22 225.482 2057.65 221.755 Q2061.09 218.005 2066.93 218.005 Q2072.16 218.005 2075.19 221.385 Q2078.25 224.741 2078.25 230.528 M2073.99 229.278 Q2073.94 225.783 2072.02 223.699 Q2070.12 221.616 2066.97 221.616 Q2063.41 221.616 2061.26 223.63 Q2059.13 225.644 2058.8 229.301 L2073.99 229.278 Z\" fill=\"#000000\" fill-rule=\"evenodd\" fill-opacity=\"1\" /><path clip-path=\"url(#clip610)\" d=\"M 0 0 M2099.24 219.394 L2099.24 223.422 Q2097.44 222.496 2095.49 222.033 Q2093.55 221.57 2091.46 221.57 Q2088.29 221.57 2086.7 222.542 Q2085.12 223.514 2085.12 225.459 Q2085.12 226.94 2086.26 227.797 Q2087.39 228.63 2090.82 229.394 L2092.27 229.718 Q2096.81 230.69 2098.71 232.472 Q2100.63 234.232 2100.63 237.403 Q2100.63 241.014 2097.76 243.121 Q2094.91 245.227 2089.91 245.227 Q2087.83 245.227 2085.56 244.81 Q2083.32 244.417 2080.82 243.607 L2080.82 239.209 Q2083.18 240.435 2085.47 241.06 Q2087.76 241.662 2090.01 241.662 Q2093.02 241.662 2094.64 240.644 Q2096.26 239.602 2096.26 237.727 Q2096.26 235.991 2095.08 235.065 Q2093.92 234.139 2089.96 233.283 L2088.48 232.935 Q2084.52 232.102 2082.76 230.389 Q2081 228.653 2081 225.644 Q2081 221.986 2083.59 219.996 Q2086.19 218.005 2090.96 218.005 Q2093.32 218.005 2095.4 218.352 Q2097.48 218.699 2099.24 219.394 Z\" fill=\"#000000\" fill-rule=\"evenodd\" fill-opacity=\"1\" /><circle clip-path=\"url(#clip610)\" cx=\"1877.64\" cy=\"287.756\" r=\"23\" fill=\"#0000ff\" fill-rule=\"evenodd\" fill-opacity=\"0.5\" stroke=\"#000000\" stroke-opacity=\"0.5\" stroke-width=\"0.682667\"/>\n",
       "<path clip-path=\"url(#clip610)\" d=\"M 0 0 M1989.27 269.017 L1989.27 272.559 L1985.19 272.559 Q1982.9 272.559 1982 273.485 Q1981.12 274.411 1981.12 276.818 L1981.12 279.11 L1988.13 279.11 L1988.13 282.42 L1981.12 282.42 L1981.12 305.036 L1976.84 305.036 L1976.84 282.42 L1972.76 282.42 L1972.76 279.11 L1976.84 279.11 L1976.84 277.304 Q1976.84 272.976 1978.85 271.008 Q1980.86 269.017 1985.24 269.017 L1989.27 269.017 Z\" fill=\"#000000\" fill-rule=\"evenodd\" fill-opacity=\"1\" /><path clip-path=\"url(#clip610)\" d=\"M 0 0 M2003.78 282.096 Q2000.35 282.096 1998.36 284.781 Q1996.37 287.443 1996.37 292.096 Q1996.37 296.749 1998.34 299.434 Q2000.33 302.096 2003.78 302.096 Q2007.18 302.096 2009.17 299.411 Q2011.16 296.726 2011.16 292.096 Q2011.16 287.49 2009.17 284.804 Q2007.18 282.096 2003.78 282.096 M2003.78 278.485 Q2009.34 278.485 2012.51 282.096 Q2015.68 285.707 2015.68 292.096 Q2015.68 298.462 2012.51 302.096 Q2009.34 305.707 2003.78 305.707 Q1998.2 305.707 1995.03 302.096 Q1991.88 298.462 1991.88 292.096 Q1991.88 285.707 1995.03 282.096 Q1998.2 278.485 2003.78 278.485 Z\" fill=\"#000000\" fill-rule=\"evenodd\" fill-opacity=\"1\" /><path clip-path=\"url(#clip610)\" d=\"M 0 0 M2019.71 294.804 L2019.71 279.11 L2023.96 279.11 L2023.96 294.642 Q2023.96 298.323 2025.4 300.175 Q2026.84 302.003 2029.71 302.003 Q2033.15 302.003 2035.15 299.804 Q2037.16 297.605 2037.16 293.809 L2037.16 279.11 L2041.42 279.11 L2041.42 305.036 L2037.16 305.036 L2037.16 301.054 Q2035.61 303.415 2033.55 304.573 Q2031.51 305.707 2028.8 305.707 Q2024.34 305.707 2022.02 302.929 Q2019.71 300.151 2019.71 294.804 M2030.42 278.485 L2030.42 278.485 Z\" fill=\"#000000\" fill-rule=\"evenodd\" fill-opacity=\"1\" /><path clip-path=\"url(#clip610)\" d=\"M 0 0 M2060.91 283.091 Q2060.19 282.675 2059.33 282.49 Q2058.5 282.281 2057.48 282.281 Q2053.87 282.281 2051.93 284.642 Q2050.01 286.98 2050.01 291.378 L2050.01 305.036 L2045.72 305.036 L2045.72 279.11 L2050.01 279.11 L2050.01 283.138 Q2051.35 280.777 2053.5 279.642 Q2055.65 278.485 2058.73 278.485 Q2059.17 278.485 2059.71 278.554 Q2060.24 278.601 2060.89 278.716 L2060.91 283.091 Z\" fill=\"#000000\" fill-rule=\"evenodd\" fill-opacity=\"1\" /><path clip-path=\"url(#clip610)\" d=\"M 0 0 M2086.09 289.388 L2086.09 305.036 L2081.83 305.036 L2081.83 289.527 Q2081.83 285.846 2080.4 284.017 Q2078.96 282.189 2076.09 282.189 Q2072.65 282.189 2070.65 284.388 Q2068.66 286.587 2068.66 290.383 L2068.66 305.036 L2064.38 305.036 L2064.38 279.11 L2068.66 279.11 L2068.66 283.138 Q2070.19 280.8 2072.25 279.642 Q2074.33 278.485 2077.04 278.485 Q2081.51 278.485 2083.8 281.263 Q2086.09 284.017 2086.09 289.388 Z\" fill=\"#000000\" fill-rule=\"evenodd\" fill-opacity=\"1\" /><path clip-path=\"url(#clip610)\" d=\"M 0 0 M2090.56 279.11 L2094.82 279.11 L2094.82 305.036 L2090.56 305.036 L2090.56 279.11 M2090.56 269.017 L2094.82 269.017 L2094.82 274.411 L2090.56 274.411 L2090.56 269.017 Z\" fill=\"#000000\" fill-rule=\"evenodd\" fill-opacity=\"1\" /><path clip-path=\"url(#clip610)\" d=\"M 0 0 M2115.82 279.874 L2115.82 283.902 Q2114.01 282.976 2112.07 282.513 Q2110.12 282.05 2108.04 282.05 Q2104.87 282.05 2103.27 283.022 Q2101.7 283.994 2101.7 285.939 Q2101.7 287.42 2102.83 288.277 Q2103.96 289.11 2107.39 289.874 L2108.85 290.198 Q2113.39 291.17 2115.28 292.952 Q2117.21 294.712 2117.21 297.883 Q2117.21 301.494 2114.33 303.601 Q2111.49 305.707 2106.49 305.707 Q2104.4 305.707 2102.14 305.29 Q2099.89 304.897 2097.39 304.087 L2097.39 299.689 Q2099.75 300.915 2102.04 301.54 Q2104.33 302.142 2106.58 302.142 Q2109.59 302.142 2111.21 301.124 Q2112.83 300.082 2112.83 298.207 Q2112.83 296.471 2111.65 295.545 Q2110.49 294.619 2106.53 293.763 L2105.05 293.415 Q2101.09 292.582 2099.33 290.869 Q2097.58 289.133 2097.58 286.124 Q2097.58 282.466 2100.17 280.476 Q2102.76 278.485 2107.53 278.485 Q2109.89 278.485 2111.97 278.832 Q2114.06 279.179 2115.82 279.874 Z\" fill=\"#000000\" fill-rule=\"evenodd\" fill-opacity=\"1\" /><path clip-path=\"url(#clip610)\" d=\"M 0 0 M2138.2 279.874 L2138.2 283.902 Q2136.39 282.976 2134.45 282.513 Q2132.51 282.05 2130.42 282.05 Q2127.25 282.05 2125.65 283.022 Q2124.08 283.994 2124.08 285.939 Q2124.08 287.42 2125.21 288.277 Q2126.35 289.11 2129.77 289.874 L2131.23 290.198 Q2135.77 291.17 2137.67 292.952 Q2139.59 294.712 2139.59 297.883 Q2139.59 301.494 2136.72 303.601 Q2133.87 305.707 2128.87 305.707 Q2126.79 305.707 2124.52 305.29 Q2122.27 304.897 2119.77 304.087 L2119.77 299.689 Q2122.14 300.915 2124.43 301.54 Q2126.72 302.142 2128.96 302.142 Q2131.97 302.142 2133.59 301.124 Q2135.21 300.082 2135.21 298.207 Q2135.21 296.471 2134.03 295.545 Q2132.88 294.619 2128.92 293.763 L2127.44 293.415 Q2123.48 292.582 2121.72 290.869 Q2119.96 289.133 2119.96 286.124 Q2119.96 282.466 2122.55 280.476 Q2125.14 278.485 2129.91 278.485 Q2132.27 278.485 2134.36 278.832 Q2136.44 279.179 2138.2 279.874 Z\" fill=\"#000000\" fill-rule=\"evenodd\" fill-opacity=\"1\" /><path clip-path=\"url(#clip610)\" d=\"M 0 0 M2166.23 291.008 L2166.23 293.091 L2146.65 293.091 Q2146.93 297.489 2149.29 299.804 Q2151.67 302.096 2155.91 302.096 Q2158.36 302.096 2160.65 301.494 Q2162.97 300.892 2165.24 299.689 L2165.24 303.716 Q2162.95 304.688 2160.54 305.198 Q2158.13 305.707 2155.65 305.707 Q2149.45 305.707 2145.82 302.096 Q2142.2 298.485 2142.2 292.327 Q2142.2 285.962 2145.63 282.235 Q2149.08 278.485 2154.91 278.485 Q2160.14 278.485 2163.18 281.865 Q2166.23 285.221 2166.23 291.008 M2161.97 289.758 Q2161.93 286.263 2160.01 284.179 Q2158.11 282.096 2154.96 282.096 Q2151.39 282.096 2149.24 284.11 Q2147.11 286.124 2146.79 289.781 L2161.97 289.758 Z\" fill=\"#000000\" fill-rule=\"evenodd\" fill-opacity=\"1\" /><path clip-path=\"url(#clip610)\" d=\"M 0 0 M2170.26 294.804 L2170.26 279.11 L2174.52 279.11 L2174.52 294.642 Q2174.52 298.323 2175.95 300.175 Q2177.39 302.003 2180.26 302.003 Q2183.71 302.003 2185.7 299.804 Q2187.71 297.605 2187.71 293.809 L2187.71 279.11 L2191.97 279.11 L2191.97 305.036 L2187.71 305.036 L2187.71 301.054 Q2186.16 303.415 2184.1 304.573 Q2182.07 305.707 2179.36 305.707 Q2174.89 305.707 2172.58 302.929 Q2170.26 300.151 2170.26 294.804 M2180.98 278.485 L2180.98 278.485 Z\" fill=\"#000000\" fill-rule=\"evenodd\" fill-opacity=\"1\" /><path clip-path=\"url(#clip610)\" d=\"M 0 0 M2211.46 283.091 Q2210.75 282.675 2209.89 282.49 Q2209.06 282.281 2208.04 282.281 Q2204.43 282.281 2202.48 284.642 Q2200.56 286.98 2200.56 291.378 L2200.56 305.036 L2196.28 305.036 L2196.28 279.11 L2200.56 279.11 L2200.56 283.138 Q2201.9 280.777 2204.06 279.642 Q2206.21 278.485 2209.29 278.485 Q2209.73 278.485 2210.26 278.554 Q2210.79 278.601 2211.44 278.716 L2211.46 283.091 Z\" fill=\"#000000\" fill-rule=\"evenodd\" fill-opacity=\"1\" /><path clip-path=\"url(#clip610)\" d=\"M 0 0 M2232.46 279.874 L2232.46 283.902 Q2230.65 282.976 2228.71 282.513 Q2226.76 282.05 2224.68 282.05 Q2221.51 282.05 2219.91 283.022 Q2218.34 283.994 2218.34 285.939 Q2218.34 287.42 2219.47 288.277 Q2220.61 289.11 2224.03 289.874 L2225.49 290.198 Q2230.03 291.17 2231.93 292.952 Q2233.85 294.712 2233.85 297.883 Q2233.85 301.494 2230.98 303.601 Q2228.13 305.707 2223.13 305.707 Q2221.05 305.707 2218.78 305.29 Q2216.53 304.897 2214.03 304.087 L2214.03 299.689 Q2216.39 300.915 2218.69 301.54 Q2220.98 302.142 2223.22 302.142 Q2226.23 302.142 2227.85 301.124 Q2229.47 300.082 2229.47 298.207 Q2229.47 296.471 2228.29 295.545 Q2227.14 294.619 2223.18 293.763 L2221.7 293.415 Q2217.74 292.582 2215.98 290.869 Q2214.22 289.133 2214.22 286.124 Q2214.22 282.466 2216.81 280.476 Q2219.4 278.485 2224.17 278.485 Q2226.53 278.485 2228.62 278.832 Q2230.7 279.179 2232.46 279.874 Z\" fill=\"#000000\" fill-rule=\"evenodd\" fill-opacity=\"1\" /><path clip-path=\"url(#clip610)\" d=\"M 0 0 M2275.35 1081.4 L2288.72 1081.4 L2288.72 1035.26 L2274.17 1038.18 L2274.17 1030.72 L2288.64 1027.81 L2296.82 1027.81 L2296.82 1081.4 L2310.19 1081.4 L2310.19 1088.29 L2275.35 1088.29 L2275.35 1081.4 Z\" fill=\"#8b0000\" fill-rule=\"evenodd\" fill-opacity=\"1\" /><path clip-path=\"url(#clip610)\" d=\"M 0 0 M263.631 1409.75 L292.19 1409.75 L292.19 1416.64 L253.787 1416.64 L253.787 1409.75 Q258.446 1404.93 266.466 1396.83 Q274.528 1388.68 276.594 1386.33 Q280.523 1381.92 282.062 1378.88 Q283.642 1375.8 283.642 1372.85 Q283.642 1368.02 280.239 1364.99 Q276.877 1361.95 271.449 1361.95 Q267.601 1361.95 263.307 1363.29 Q259.053 1364.62 254.192 1367.34 L254.192 1359.07 Q259.134 1357.09 263.428 1356.07 Q267.722 1355.06 271.287 1355.06 Q280.685 1355.06 286.275 1359.76 Q291.866 1364.46 291.866 1372.32 Q291.866 1376.05 290.448 1379.41 Q289.07 1382.73 285.384 1387.27 Q284.371 1388.44 278.943 1394.07 Q273.515 1399.66 263.631 1409.75 Z\" fill=\"#8b0000\" fill-rule=\"evenodd\" fill-opacity=\"1\" /><path clip-path=\"url(#clip610)\" d=\"M 0 0 M2275.35 1081.4 L2288.72 1081.4 L2288.72 1035.26 L2274.17 1038.18 L2274.17 1030.72 L2288.64 1027.81 L2296.82 1027.81 L2296.82 1081.4 L2310.19 1081.4 L2310.19 1088.29 L2275.35 1088.29 L2275.35 1081.4 Z\" fill=\"#00008b\" fill-rule=\"evenodd\" fill-opacity=\"1\" /><path clip-path=\"url(#clip610)\" d=\"M 0 0 M1089.91 183.61 L1118.46 183.61 L1118.46 190.496 L1080.06 190.496 L1080.06 183.61 Q1084.72 178.789 1092.74 170.687 Q1100.8 162.545 1102.87 160.196 Q1106.8 155.78 1108.34 152.742 Q1109.92 149.663 1109.92 146.706 Q1109.92 141.885 1106.51 138.847 Q1103.15 135.809 1097.72 135.809 Q1093.88 135.809 1089.58 137.146 Q1085.33 138.483 1080.47 141.197 L1080.47 132.933 Q1085.41 130.948 1089.7 129.935 Q1094 128.923 1097.56 128.923 Q1106.96 128.923 1112.55 133.622 Q1118.14 138.321 1118.14 146.179 Q1118.14 149.906 1116.72 153.268 Q1115.35 156.59 1111.66 161.127 Q1110.65 162.302 1105.22 167.933 Q1099.79 173.523 1089.91 183.61 Z\" fill=\"#00008b\" fill-rule=\"evenodd\" fill-opacity=\"1\" /><path clip-path=\"url(#clip610)\" d=\"M 0 0 M1106.7 157.887 Q1112.57 159.142 1115.85 163.112 Q1119.17 167.082 1119.17 172.915 Q1119.17 181.868 1113.02 186.769 Q1106.86 191.671 1095.52 191.671 Q1091.71 191.671 1087.66 190.901 Q1083.65 190.172 1079.35 188.673 L1079.35 180.774 Q1082.76 182.759 1086.81 183.772 Q1090.86 184.785 1095.27 184.785 Q1102.97 184.785 1106.98 181.746 Q1111.03 178.708 1111.03 172.915 Q1111.03 167.568 1107.26 164.571 Q1103.54 161.532 1096.85 161.532 L1089.8 161.532 L1089.8 154.808 L1097.18 154.808 Q1103.21 154.808 1106.41 152.418 Q1109.61 149.987 1109.61 145.45 Q1109.61 140.792 1106.29 138.321 Q1103.01 135.809 1096.85 135.809 Q1093.49 135.809 1089.64 136.538 Q1085.79 137.267 1081.18 138.807 L1081.18 131.515 Q1085.83 130.219 1089.89 129.571 Q1093.98 128.923 1097.58 128.923 Q1106.9 128.923 1112.33 133.176 Q1117.76 137.389 1117.76 144.6 Q1117.76 149.623 1114.88 153.106 Q1112 156.55 1106.7 157.887 Z\" fill=\"#00008b\" fill-rule=\"evenodd\" fill-opacity=\"1\" /></svg>\n"
      ]
     },
     "execution_count": 34,
     "metadata": {},
     "output_type": "execute_result"
    }
   ],
   "source": [
    "plot_sites(instance_petite)"
   ]
  },
  {
   "cell_type": "markdown",
   "metadata": {},
   "source": [
    "### Route"
   ]
  },
  {
   "cell_type": "code",
   "execution_count": 35,
   "metadata": {
    "ExecuteTime": {
     "end_time": "2020-11-12T17:00:23.184000+01:00",
     "start_time": "2020-11-12T15:59:42.610Z"
    }
   },
   "outputs": [
    {
     "data": {
      "text/plain": [
       "lire_route (generic function with 1 method)"
      ]
     },
     "execution_count": 35,
     "metadata": {},
     "output_type": "execute_result"
    }
   ],
   "source": [
    "function lire_route(row::String)::Route\n",
    "    row_split = split(row, r\"\\s+\")\n",
    "    r = parse(Int, row_split[2]) + 1\n",
    "    j = parse(Int, row_split[4]) + 1\n",
    "    x = parse(Int, row_split[6])\n",
    "    u = parse(Int, row_split[8]) + 1\n",
    "    F = parse(Int, row_split[10])\n",
    "    \n",
    "    stops = RouteStop[]\n",
    "\n",
    "    k = 11\n",
    "    while k <= length(row_split)\n",
    "        f = parse(Int, row_split[k+1]) + 1\n",
    "        k += 2\n",
    "        \n",
    "        Q = Int[]\n",
    "        while (k <= length(row_split)) && (row_split[k] == \"e\")\n",
    "            push!(Q, parse(Int, row_split[k+3]))\n",
    "            k += 4\n",
    "        end\n",
    "        push!(stops, RouteStop(f=f, Q=Q))\n",
    "    end\n",
    "    \n",
    "    return Route(r=r, j=j, x=x, u=u, F=F, stops=stops)\n",
    "end"
   ]
  },
  {
   "cell_type": "code",
   "execution_count": 36,
   "metadata": {
    "ExecuteTime": {
     "end_time": "2020-11-12T17:00:24.011000+01:00",
     "start_time": "2020-11-12T15:59:42.612Z"
    }
   },
   "outputs": [
    {
     "data": {
      "text/plain": [
       "3-element Array{Route,1}:\n",
       " Route 1\n",
       "   Jour 1\n",
       "   Nb de camions 1\n",
       "   Usine de départ 1\n",
       "   Nb d'arrêts 1\n",
       "   Stop 1\n",
       "      Fournisseur 1\n",
       "      Livraison [0, 2]\n",
       " Route 2\n",
       "   Jour 2\n",
       "   Nb de camions 1\n",
       "   Usine de départ 1\n",
       "   Nb d'arrêts 3\n",
       "   Stop 1\n",
       "      Fournisseur 1\n",
       "      Livraison [1, 1]\n",
       "   Stop 2\n",
       "      Fournisseur 2\n",
       "      Livraison [1, 1]\n",
       "   Stop 3\n",
       "      Fournisseur 3\n",
       "      Livraison [1, 1]\n",
       " Route 3\n",
       "   Jour 2\n",
       "   Nb de camions 2\n",
       "   Usine de départ 2\n",
       "   Nb d'arrêts 2\n",
       "   Stop 1\n",
       "      Fournisseur 2\n",
       "      Livraison [3, 1]\n",
       "   Stop 2\n",
       "      Fournisseur 3\n",
       "      Livraison [0, 1]"
      ]
     },
     "execution_count": 36,
     "metadata": {},
     "output_type": "execute_result"
    }
   ],
   "source": [
    "routes_petite = [lire_route(sol_petite[1+r]) for r = 1:length(sol_petite)-1]"
   ]
  },
  {
   "cell_type": "markdown",
   "metadata": {},
   "source": [
    "### Solution"
   ]
  },
  {
   "cell_type": "code",
   "execution_count": 37,
   "metadata": {
    "ExecuteTime": {
     "end_time": "2020-11-12T17:00:24.102000+01:00",
     "start_time": "2020-11-12T15:59:42.619Z"
    }
   },
   "outputs": [
    {
     "data": {
      "text/plain": [
       "lire_solution (generic function with 1 method)"
      ]
     },
     "execution_count": 37,
     "metadata": {},
     "output_type": "execute_result"
    }
   ],
   "source": [
    "function lire_solution(path::String)\n",
    "    sol = open(path) do file\n",
    "        readlines(file)\n",
    "    end\n",
    "    \n",
    "    R = parse(Int, split(sol[1], r\"\\s+\")[2])\n",
    "    routes = [lire_route(sol[1+r]) for r = 1:R]\n",
    "    \n",
    "    return Solution(R=R, routes=routes)\n",
    "end"
   ]
  },
  {
   "cell_type": "code",
   "execution_count": 38,
   "metadata": {
    "ExecuteTime": {
     "end_time": "2020-11-12T17:00:24.343000+01:00",
     "start_time": "2020-11-12T15:59:42.620Z"
    }
   },
   "outputs": [
    {
     "data": {
      "text/plain": [
       "Solution\n",
       "   Nb de routes: 3"
      ]
     },
     "execution_count": 38,
     "metadata": {},
     "output_type": "execute_result"
    }
   ],
   "source": [
    "solution_petite = lire_solution(joinpath(\"..\", \"sujet\", \"petite.txt\"))"
   ]
  },
  {
   "cell_type": "markdown",
   "metadata": {},
   "source": [
    "## Solution analysis"
   ]
  },
  {
   "cell_type": "markdown",
   "metadata": {},
   "source": [
    "### Utilities"
   ]
  },
  {
   "cell_type": "code",
   "execution_count": 39,
   "metadata": {
    "ExecuteTime": {
     "end_time": "2020-11-12T17:00:24.416000+01:00",
     "start_time": "2020-11-12T15:59:42.633Z"
    }
   },
   "outputs": [
    {
     "data": {
      "text/plain": [
       "nb_stops (generic function with 1 method)"
      ]
     },
     "execution_count": 39,
     "metadata": {},
     "output_type": "execute_result"
    }
   ],
   "source": [
    "function nb_stops(route::Route)::Int\n",
    "    return route.F\n",
    "end"
   ]
  },
  {
   "cell_type": "code",
   "execution_count": 40,
   "metadata": {
    "ExecuteTime": {
     "end_time": "2020-11-12T17:00:24.512000+01:00",
     "start_time": "2020-11-12T15:59:42.635Z"
    }
   },
   "outputs": [
    {
     "data": {
      "text/plain": [
       "nb_km (generic function with 1 method)"
      ]
     },
     "execution_count": 40,
     "metadata": {},
     "output_type": "execute_result"
    }
   ],
   "source": [
    "function nb_km(route::Route, instance::Instance)::Float64\n",
    "    usines, fournisseurs = instance.usines, instance.fournisseurs\n",
    "    path = [\n",
    "        usines[route.u].v;\n",
    "        [fournisseurs[stop.f].v for stop in route.stops]\n",
    "    ]\n",
    "    return sum(instance.graphe.d[s, t] for (s, t) in zip(path[1:end-1], path[2:end]))\n",
    "end"
   ]
  },
  {
   "cell_type": "code",
   "execution_count": 41,
   "metadata": {
    "ExecuteTime": {
     "end_time": "2020-11-12T17:00:24.588000+01:00",
     "start_time": "2020-11-12T15:59:42.636Z"
    }
   },
   "outputs": [
    {
     "data": {
      "text/plain": [
       "pickup (generic function with 1 method)"
      ]
     },
     "execution_count": 41,
     "metadata": {},
     "output_type": "execute_result"
    }
   ],
   "source": [
    "function pickup(route::Route, ; u::Int, e::Int, j::Int)::Int\n",
    "    if (route.j == j) && (route.u == u)\n",
    "        return sum(stop.Q[e] for stop in route.stops)\n",
    "    else\n",
    "        return 0\n",
    "    end\n",
    "end"
   ]
  },
  {
   "cell_type": "code",
   "execution_count": 42,
   "metadata": {
    "ExecuteTime": {
     "end_time": "2020-11-12T17:00:24.685000+01:00",
     "start_time": "2020-11-12T15:59:42.638Z"
    }
   },
   "outputs": [
    {
     "data": {
      "text/plain": [
       "delivery (generic function with 1 method)"
      ]
     },
     "execution_count": 42,
     "metadata": {},
     "output_type": "execute_result"
    }
   ],
   "source": [
    "function delivery(route::Route; f::Int, e::Int, j::Int)::Int\n",
    "    if route.j == j\n",
    "        d = 0\n",
    "        for stop in route.stops\n",
    "            if stop.f == f\n",
    "                d += stop.Q[e]\n",
    "            end\n",
    "        end\n",
    "        return d\n",
    "    else\n",
    "        return 0\n",
    "    end\n",
    "end"
   ]
  },
  {
   "cell_type": "code",
   "execution_count": 43,
   "metadata": {
    "ExecuteTime": {
     "end_time": "2020-11-12T17:00:24.767000+01:00",
     "start_time": "2020-11-12T15:59:42.639Z"
    }
   },
   "outputs": [
    {
     "data": {
      "text/plain": [
       "compute_stocks (generic function with 1 method)"
      ]
     },
     "execution_count": 43,
     "metadata": {},
     "output_type": "execute_result"
    }
   ],
   "source": [
    "function compute_stocks(solution::Solution, instance::Instance)\n",
    "    J, U, F, E = instance.J, instance.U, instance.F, instance.E\n",
    "    \n",
    "    # Constraints (10.a) and (10.b)\n",
    "    \n",
    "    z⁻ = zeros(Int, U, E, J)\n",
    "    z⁺ = zeros(Int, F, E, J)\n",
    "    \n",
    "    for e = 1:E, j = 1:J\n",
    "        for route in solution.routes\n",
    "            for u = 1:U\n",
    "                z⁻[u, e, j] += route.x * pickup(route, u=u, e=e, j=j)\n",
    "            end\n",
    "            for f = 1:F\n",
    "                z⁺[f, e, j] += route.x * delivery(route, f=f, e=e, j=j)\n",
    "            end\n",
    "        end\n",
    "    end\n",
    "    \n",
    "    # Constraints (1) and (5)\n",
    "    \n",
    "    b⁺ = collect(instance.usines[u].b⁺[e, j] for u = 1:U, e = 1:E, j = 1:J)\n",
    "    b⁻ = collect(instance.fournisseurs[f].b⁻[e, j] for f = 1:F, e = 1:E, j = 1:J)\n",
    "    \n",
    "    su0 = collect(instance.usines[u].s0[e] for u = 1:U, e = 1:E)\n",
    "    sf0 = collect(instance.fournisseurs[f].s0[e] for f = 1:F, e = 1:E)\n",
    "    \n",
    "    su = Array{Int, 3}(undef, U, E, J)\n",
    "    sf = Array{Int, 3}(undef, F, E, J)\n",
    "    \n",
    "    for e = 1:E, j = 1:J\n",
    "        for u = 1:U\n",
    "            su[u, e, j] = (j==1 ? su0[u, e] : su[u, e, j-1]) + b⁺[u, e, j] - z⁻[u, e, j]\n",
    "        end\n",
    "        for f = 1:F\n",
    "            sf[f, e, j] = max(0, (j==1 ? sf0[f, e] : sf[f, e, j-1]) - b⁻[f, e, j]) + z⁺[f, e, j]\n",
    "        end\n",
    "    end\n",
    "    \n",
    "    return su, sf\n",
    "end"
   ]
  },
  {
   "cell_type": "markdown",
   "metadata": {},
   "source": [
    "### Plotting"
   ]
  },
  {
   "cell_type": "markdown",
   "metadata": {},
   "source": [
    "Routes"
   ]
  },
  {
   "cell_type": "code",
   "execution_count": 44,
   "metadata": {
    "ExecuteTime": {
     "end_time": "2020-11-12T17:00:24.841000+01:00",
     "start_time": "2020-11-12T15:59:42.653Z"
    }
   },
   "outputs": [
    {
     "data": {
      "text/plain": [
       "add_route_to_plot! (generic function with 1 method)"
      ]
     },
     "execution_count": 44,
     "metadata": {},
     "output_type": "execute_result"
    }
   ],
   "source": [
    "function add_route_to_plot!(route::Route, instance::Instance, pl::Plots.Plot)\n",
    "    usines, fournisseurs = instance.usines, instance.fournisseurs\n",
    "    path = [\n",
    "        usines[route.u].coor;\n",
    "        [fournisseurs[stop.f].coor for stop in route.stops]\n",
    "    ]\n",
    "    for ((x1, y1), (x2, y2)) in zip(path[1:end-1], path[2:end])\n",
    "        plot!(\n",
    "            pl,\n",
    "            [x1 + 0.1*(x2-x1), x2 - 0.1*(x2-x1)],\n",
    "            [y1 + 0.1*(y2-y1), y2 - 0.1*(y2-y1)],\n",
    "            linewidth = 3*route.x,\n",
    "            linecolor = \"black\",\n",
    "            arrow = arrow(:simple, :triangle, 1., 2.),\n",
    "            label = nothing\n",
    "        )\n",
    "    end\n",
    "end"
   ]
  },
  {
   "cell_type": "code",
   "execution_count": 45,
   "metadata": {
    "ExecuteTime": {
     "end_time": "2020-11-12T17:00:24.920000+01:00",
     "start_time": "2020-11-12T15:59:42.655Z"
    }
   },
   "outputs": [
    {
     "data": {
      "text/plain": [
       "plot_routes (generic function with 1 method)"
      ]
     },
     "execution_count": 45,
     "metadata": {},
     "output_type": "execute_result"
    }
   ],
   "source": [
    "function plot_routes(solution::Solution, instance::Instance; j::Int)::Plots.Plot\n",
    "    pl = plot_sites(instance)\n",
    "    for route in solution.routes\n",
    "        if route.j == j\n",
    "            add_route_to_plot!(route, instance, pl)\n",
    "        end\n",
    "    end\n",
    "    plot!(title=\"Routes de la solution à j=$j\")\n",
    "    return pl\n",
    "end"
   ]
  },
  {
   "cell_type": "code",
   "execution_count": 46,
   "metadata": {
    "ExecuteTime": {
     "end_time": "2020-11-12T17:00:26.365000+01:00",
     "start_time": "2020-11-12T15:59:42.657Z"
    }
   },
   "outputs": [
    {
     "data": {
      "image/svg+xml": [
       "<?xml version=\"1.0\" encoding=\"utf-8\"?>\n",
       "<svg xmlns=\"http://www.w3.org/2000/svg\" xmlns:xlink=\"http://www.w3.org/1999/xlink\" width=\"600\" height=\"400\" viewBox=\"0 0 2400 1600\">\n",
       "<defs>\n",
       "  <clipPath id=\"clip650\">\n",
       "    <rect x=\"0\" y=\"0\" width=\"2400\" height=\"1600\"/>\n",
       "  </clipPath>\n",
       "</defs>\n",
       "<path clip-path=\"url(#clip650)\" d=\"\n",
       "M0 1600 L2400 1600 L2400 0 L0 0  Z\n",
       "  \" fill=\"#ffffff\" fill-rule=\"evenodd\" fill-opacity=\"1\"/>\n",
       "<defs>\n",
       "  <clipPath id=\"clip651\">\n",
       "    <rect x=\"480\" y=\"0\" width=\"1681\" height=\"1600\"/>\n",
       "  </clipPath>\n",
       "</defs>\n",
       "<path clip-path=\"url(#clip650)\" d=\"\n",
       "M212.413 1423.18 L2352.76 1423.18 L2352.76 123.472 L212.413 123.472  Z\n",
       "  \" fill=\"#ffffff\" fill-rule=\"evenodd\" fill-opacity=\"1\"/>\n",
       "<defs>\n",
       "  <clipPath id=\"clip652\">\n",
       "    <rect x=\"212\" y=\"123\" width=\"2141\" height=\"1301\"/>\n",
       "  </clipPath>\n",
       "</defs>\n",
       "<polyline clip-path=\"url(#clip650)\" style=\"stroke:#000000; stroke-width:4; stroke-opacity:1; fill:none\" points=\"\n",
       "  212.413,1423.18 2352.76,1423.18 \n",
       "  \"/>\n",
       "<polyline clip-path=\"url(#clip650)\" style=\"stroke:#000000; stroke-width:4; stroke-opacity:1; fill:none\" points=\"\n",
       "  424.763,1423.18 424.763,1407.58 \n",
       "  \"/>\n",
       "<polyline clip-path=\"url(#clip650)\" style=\"stroke:#000000; stroke-width:4; stroke-opacity:1; fill:none\" points=\"\n",
       "  808.478,1423.18 808.478,1407.58 \n",
       "  \"/>\n",
       "<polyline clip-path=\"url(#clip650)\" style=\"stroke:#000000; stroke-width:4; stroke-opacity:1; fill:none\" points=\"\n",
       "  1192.19,1423.18 1192.19,1407.58 \n",
       "  \"/>\n",
       "<polyline clip-path=\"url(#clip650)\" style=\"stroke:#000000; stroke-width:4; stroke-opacity:1; fill:none\" points=\"\n",
       "  1575.91,1423.18 1575.91,1407.58 \n",
       "  \"/>\n",
       "<polyline clip-path=\"url(#clip650)\" style=\"stroke:#000000; stroke-width:4; stroke-opacity:1; fill:none\" points=\"\n",
       "  1959.63,1423.18 1959.63,1407.58 \n",
       "  \"/>\n",
       "<polyline clip-path=\"url(#clip650)\" style=\"stroke:#000000; stroke-width:4; stroke-opacity:1; fill:none\" points=\"\n",
       "  2343.34,1423.18 2343.34,1407.58 \n",
       "  \"/>\n",
       "<path clip-path=\"url(#clip650)\" d=\"M 0 0 M414.022 1453.37 L402.216 1471.81 L414.022 1471.81 L414.022 1453.37 M412.795 1449.29 L418.675 1449.29 L418.675 1471.81 L423.605 1471.81 L423.605 1475.7 L418.675 1475.7 L418.675 1483.85 L414.022 1483.85 L414.022 1475.7 L398.42 1475.7 L398.42 1471.19 L412.795 1449.29 Z\" fill=\"#000000\" fill-rule=\"evenodd\" fill-opacity=\"1\" /><path clip-path=\"url(#clip650)\" d=\"M 0 0 M441.522 1453.37 L429.716 1471.81 L441.522 1471.81 L441.522 1453.37 M440.295 1449.29 L446.174 1449.29 L446.174 1471.81 L451.105 1471.81 L451.105 1475.7 L446.174 1475.7 L446.174 1483.85 L441.522 1483.85 L441.522 1475.7 L425.92 1475.7 L425.92 1471.19 L440.295 1449.29 Z\" fill=\"#000000\" fill-rule=\"evenodd\" fill-opacity=\"1\" /><path clip-path=\"url(#clip650)\" d=\"M 0 0 M798.478 1453.37 L786.673 1471.81 L798.478 1471.81 L798.478 1453.37 M797.252 1449.29 L803.131 1449.29 L803.131 1471.81 L808.062 1471.81 L808.062 1475.7 L803.131 1475.7 L803.131 1483.85 L798.478 1483.85 L798.478 1475.7 L782.877 1475.7 L782.877 1471.19 L797.252 1449.29 Z\" fill=\"#000000\" fill-rule=\"evenodd\" fill-opacity=\"1\" /><path clip-path=\"url(#clip650)\" d=\"M 0 0 M813.177 1449.29 L831.534 1449.29 L831.534 1453.23 L817.46 1453.23 L817.46 1461.7 Q818.478 1461.35 819.497 1461.19 Q820.515 1461 821.534 1461 Q827.321 1461 830.701 1464.18 Q834.08 1467.35 834.08 1472.76 Q834.08 1478.34 830.608 1481.44 Q827.136 1484.52 820.816 1484.52 Q818.64 1484.52 816.372 1484.15 Q814.127 1483.78 811.719 1483.04 L811.719 1478.34 Q813.802 1479.48 816.025 1480.03 Q818.247 1480.59 820.724 1480.59 Q824.728 1480.59 827.066 1478.48 Q829.404 1476.38 829.404 1472.76 Q829.404 1469.15 827.066 1467.05 Q824.728 1464.94 820.724 1464.94 Q818.849 1464.94 816.974 1465.36 Q815.122 1465.77 813.177 1466.65 L813.177 1449.29 Z\" fill=\"#000000\" fill-rule=\"evenodd\" fill-opacity=\"1\" /><path clip-path=\"url(#clip650)\" d=\"M 0 0 M1181.62 1453.37 L1169.81 1471.81 L1181.62 1471.81 L1181.62 1453.37 M1180.39 1449.29 L1186.27 1449.29 L1186.27 1471.81 L1191.2 1471.81 L1191.2 1475.7 L1186.27 1475.7 L1186.27 1483.85 L1181.62 1483.85 L1181.62 1475.7 L1166.01 1475.7 L1166.01 1471.19 L1180.39 1449.29 Z\" fill=\"#000000\" fill-rule=\"evenodd\" fill-opacity=\"1\" /><path clip-path=\"url(#clip650)\" d=\"M 0 0 M1206.85 1464.71 Q1203.7 1464.71 1201.85 1466.86 Q1200.02 1469.01 1200.02 1472.76 Q1200.02 1476.49 1201.85 1478.67 Q1203.7 1480.82 1206.85 1480.82 Q1210 1480.82 1211.82 1478.67 Q1213.68 1476.49 1213.68 1472.76 Q1213.68 1469.01 1211.82 1466.86 Q1210 1464.71 1206.85 1464.71 M1216.13 1450.06 L1216.13 1454.31 Q1214.37 1453.48 1212.56 1453.04 Q1210.78 1452.6 1209.02 1452.6 Q1204.39 1452.6 1201.94 1455.73 Q1199.51 1458.85 1199.16 1465.17 Q1200.53 1463.16 1202.59 1462.09 Q1204.65 1461 1207.12 1461 Q1212.33 1461 1215.34 1464.18 Q1218.37 1467.32 1218.37 1472.76 Q1218.37 1478.09 1215.23 1481.31 Q1212.08 1484.52 1206.85 1484.52 Q1200.85 1484.52 1197.68 1479.94 Q1194.51 1475.33 1194.51 1466.61 Q1194.51 1458.41 1198.4 1453.55 Q1202.29 1448.67 1208.84 1448.67 Q1210.6 1448.67 1212.38 1449.01 Q1214.18 1449.36 1216.13 1450.06 Z\" fill=\"#000000\" fill-rule=\"evenodd\" fill-opacity=\"1\" /><path clip-path=\"url(#clip650)\" d=\"M 0 0 M1565.86 1453.37 L1554.06 1471.81 L1565.86 1471.81 L1565.86 1453.37 M1564.64 1449.29 L1570.52 1449.29 L1570.52 1471.81 L1575.45 1471.81 L1575.45 1475.7 L1570.52 1475.7 L1570.52 1483.85 L1565.86 1483.85 L1565.86 1475.7 L1550.26 1475.7 L1550.26 1471.19 L1564.64 1449.29 Z\" fill=\"#000000\" fill-rule=\"evenodd\" fill-opacity=\"1\" /><path clip-path=\"url(#clip650)\" d=\"M 0 0 M1579.34 1449.29 L1601.56 1449.29 L1601.56 1451.28 L1589.01 1483.85 L1584.13 1483.85 L1595.93 1453.23 L1579.34 1453.23 L1579.34 1449.29 Z\" fill=\"#000000\" fill-rule=\"evenodd\" fill-opacity=\"1\" /><path clip-path=\"url(#clip650)\" d=\"M 0 0 M1949.17 1453.37 L1937.37 1471.81 L1949.17 1471.81 L1949.17 1453.37 M1947.95 1449.29 L1953.83 1449.29 L1953.83 1471.81 L1958.76 1471.81 L1958.76 1475.7 L1953.83 1475.7 L1953.83 1483.85 L1949.17 1483.85 L1949.17 1475.7 L1933.57 1475.7 L1933.57 1471.19 L1947.95 1449.29 Z\" fill=\"#000000\" fill-rule=\"evenodd\" fill-opacity=\"1\" /><path clip-path=\"url(#clip650)\" d=\"M 0 0 M1973.83 1467.44 Q1970.49 1467.44 1968.57 1469.22 Q1966.67 1471 1966.67 1474.13 Q1966.67 1477.25 1968.57 1479.04 Q1970.49 1480.82 1973.83 1480.82 Q1977.16 1480.82 1979.08 1479.04 Q1981 1477.23 1981 1474.13 Q1981 1471 1979.08 1469.22 Q1977.18 1467.44 1973.83 1467.44 M1969.15 1465.45 Q1966.14 1464.71 1964.45 1462.65 Q1962.79 1460.59 1962.79 1457.63 Q1962.79 1453.48 1965.73 1451.07 Q1968.69 1448.67 1973.83 1448.67 Q1978.99 1448.67 1981.93 1451.07 Q1984.87 1453.48 1984.87 1457.63 Q1984.87 1460.59 1983.18 1462.65 Q1981.51 1464.71 1978.53 1465.45 Q1981.91 1466.24 1983.78 1468.53 Q1985.68 1470.82 1985.68 1474.13 Q1985.68 1479.15 1982.6 1481.84 Q1979.55 1484.52 1973.83 1484.52 Q1968.11 1484.52 1965.03 1481.84 Q1961.98 1479.15 1961.98 1474.13 Q1961.98 1470.82 1963.87 1468.53 Q1965.77 1466.24 1969.15 1465.45 M1967.44 1458.06 Q1967.44 1460.75 1969.11 1462.25 Q1970.8 1463.76 1973.83 1463.76 Q1976.84 1463.76 1978.53 1462.25 Q1980.24 1460.75 1980.24 1458.06 Q1980.24 1455.38 1978.53 1453.88 Q1976.84 1452.37 1973.83 1452.37 Q1970.8 1452.37 1969.11 1453.88 Q1967.44 1455.38 1967.44 1458.06 Z\" fill=\"#000000\" fill-rule=\"evenodd\" fill-opacity=\"1\" /><path clip-path=\"url(#clip650)\" d=\"M 0 0 M2332.94 1453.37 L2321.13 1471.81 L2332.94 1471.81 L2332.94 1453.37 M2331.71 1449.29 L2337.59 1449.29 L2337.59 1471.81 L2342.52 1471.81 L2342.52 1475.7 L2337.59 1475.7 L2337.59 1483.85 L2332.94 1483.85 L2332.94 1475.7 L2317.34 1475.7 L2317.34 1471.19 L2331.71 1449.29 Z\" fill=\"#000000\" fill-rule=\"evenodd\" fill-opacity=\"1\" /><path clip-path=\"url(#clip650)\" d=\"M 0 0 M2347.73 1483.13 L2347.73 1478.88 Q2349.49 1479.71 2351.29 1480.15 Q2353.1 1480.59 2354.84 1480.59 Q2359.46 1480.59 2361.9 1477.49 Q2364.35 1474.36 2364.7 1468.02 Q2363.35 1470.01 2361.29 1471.07 Q2359.23 1472.14 2356.73 1472.14 Q2351.55 1472.14 2348.52 1469.01 Q2345.51 1465.87 2345.51 1460.43 Q2345.51 1455.1 2348.65 1451.88 Q2351.8 1448.67 2357.03 1448.67 Q2363.03 1448.67 2366.18 1453.27 Q2369.35 1457.86 2369.35 1466.61 Q2369.35 1474.78 2365.46 1479.66 Q2361.59 1484.52 2355.04 1484.52 Q2353.28 1484.52 2351.48 1484.18 Q2349.67 1483.83 2347.73 1483.13 M2357.03 1468.48 Q2360.18 1468.48 2362.01 1466.33 Q2363.86 1464.18 2363.86 1460.43 Q2363.86 1456.7 2362.01 1454.55 Q2360.18 1452.37 2357.03 1452.37 Q2353.89 1452.37 2352.03 1454.55 Q2350.21 1456.7 2350.21 1460.43 Q2350.21 1464.18 2352.03 1466.33 Q2353.89 1468.48 2357.03 1468.48 Z\" fill=\"#000000\" fill-rule=\"evenodd\" fill-opacity=\"1\" /><path clip-path=\"url(#clip650)\" d=\"M 0 0 M1154.14 1506.52 L1160 1506.52 L1160 1556.04 L1154.14 1556.04 L1154.14 1506.52 Z\" fill=\"#000000\" fill-rule=\"evenodd\" fill-opacity=\"1\" /><path clip-path=\"url(#clip650)\" d=\"M 0 0 M1179.95 1524.5 Q1175.24 1524.5 1172.51 1528.19 Q1169.77 1531.85 1169.77 1538.25 Q1169.77 1544.65 1172.47 1548.34 Q1175.21 1552 1179.95 1552 Q1184.63 1552 1187.37 1548.31 Q1190.11 1544.62 1190.11 1538.25 Q1190.11 1531.92 1187.37 1528.23 Q1184.63 1524.5 1179.95 1524.5 M1179.95 1519.54 Q1187.59 1519.54 1191.95 1524.5 Q1196.31 1529.47 1196.31 1538.25 Q1196.31 1547 1191.95 1552 Q1187.59 1556.97 1179.95 1556.97 Q1172.28 1556.97 1167.92 1552 Q1163.59 1547 1163.59 1538.25 Q1163.59 1529.47 1167.92 1524.5 Q1172.28 1519.54 1179.95 1519.54 Z\" fill=\"#000000\" fill-rule=\"evenodd\" fill-opacity=\"1\" /><path clip-path=\"url(#clip650)\" d=\"M 0 0 M1232.09 1534.53 L1232.09 1556.04 L1226.23 1556.04 L1226.23 1534.72 Q1226.23 1529.66 1224.26 1527.14 Q1222.29 1524.63 1218.34 1524.63 Q1213.6 1524.63 1210.86 1527.65 Q1208.12 1530.68 1208.12 1535.9 L1208.12 1556.04 L1202.23 1556.04 L1202.23 1520.4 L1208.12 1520.4 L1208.12 1525.93 Q1210.22 1522.72 1213.05 1521.13 Q1215.92 1519.54 1219.64 1519.54 Q1225.79 1519.54 1228.94 1523.36 Q1232.09 1527.14 1232.09 1534.53 Z\" fill=\"#000000\" fill-rule=\"evenodd\" fill-opacity=\"1\" /><path clip-path=\"url(#clip650)\" d=\"M 0 0 M1261.69 1537.81 Q1261.69 1531.44 1259.05 1527.94 Q1256.44 1524.44 1251.69 1524.44 Q1246.98 1524.44 1244.34 1527.94 Q1241.73 1531.44 1241.73 1537.81 Q1241.73 1544.14 1244.34 1547.64 Q1246.98 1551.14 1251.69 1551.14 Q1256.44 1551.14 1259.05 1547.64 Q1261.69 1544.14 1261.69 1537.81 M1267.55 1551.62 Q1267.55 1560.72 1263.5 1565.15 Q1259.46 1569.6 1251.12 1569.6 Q1248.03 1569.6 1245.3 1569.13 Q1242.56 1568.68 1239.98 1567.72 L1239.98 1562.03 Q1242.56 1563.43 1245.07 1564.1 Q1247.59 1564.76 1250.2 1564.76 Q1255.96 1564.76 1258.82 1561.74 Q1261.69 1558.75 1261.69 1552.67 L1261.69 1549.77 Q1259.87 1552.92 1257.04 1554.48 Q1254.21 1556.04 1250.26 1556.04 Q1243.71 1556.04 1239.7 1551.05 Q1235.68 1546.05 1235.68 1537.81 Q1235.68 1529.53 1239.7 1524.53 Q1243.71 1519.54 1250.26 1519.54 Q1254.21 1519.54 1257.04 1521.1 Q1259.87 1522.66 1261.69 1525.81 L1261.69 1520.4 L1267.55 1520.4 L1267.55 1551.62 Z\" fill=\"#000000\" fill-rule=\"evenodd\" fill-opacity=\"1\" /><path clip-path=\"url(#clip650)\" d=\"M 0 0 M1273.69 1520.4 L1279.54 1520.4 L1279.54 1556.04 L1273.69 1556.04 L1273.69 1520.4 M1273.69 1506.52 L1279.54 1506.52 L1279.54 1513.93 L1273.69 1513.93 L1273.69 1506.52 Z\" fill=\"#000000\" fill-rule=\"evenodd\" fill-opacity=\"1\" /><path clip-path=\"url(#clip650)\" d=\"M 0 0 M1291.48 1510.27 L1291.48 1520.4 L1303.54 1520.4 L1303.54 1524.95 L1291.48 1524.95 L1291.48 1544.3 Q1291.48 1548.66 1292.66 1549.9 Q1293.87 1551.14 1297.53 1551.14 L1303.54 1551.14 L1303.54 1556.04 L1297.53 1556.04 Q1290.75 1556.04 1288.17 1553.53 Q1285.59 1550.98 1285.59 1544.3 L1285.59 1524.95 L1281.3 1524.95 L1281.3 1520.4 L1285.59 1520.4 L1285.59 1510.27 L1291.48 1510.27 Z\" fill=\"#000000\" fill-rule=\"evenodd\" fill-opacity=\"1\" /><path clip-path=\"url(#clip650)\" d=\"M 0 0 M1309.08 1541.98 L1309.08 1520.4 L1314.94 1520.4 L1314.94 1541.75 Q1314.94 1546.81 1316.91 1549.36 Q1318.88 1551.87 1322.83 1551.87 Q1327.57 1551.87 1330.31 1548.85 Q1333.08 1545.83 1333.08 1540.61 L1333.08 1520.4 L1338.94 1520.4 L1338.94 1556.04 L1333.08 1556.04 L1333.08 1550.57 Q1330.95 1553.82 1328.11 1555.41 Q1325.31 1556.97 1321.59 1556.97 Q1315.45 1556.97 1312.26 1553.15 Q1309.08 1549.33 1309.08 1541.98 M1323.82 1519.54 L1323.82 1519.54 Z\" fill=\"#000000\" fill-rule=\"evenodd\" fill-opacity=\"1\" /><path clip-path=\"url(#clip650)\" d=\"M 0 0 M1368.54 1525.81 L1368.54 1506.52 L1374.39 1506.52 L1374.39 1556.04 L1368.54 1556.04 L1368.54 1550.7 Q1366.69 1553.88 1363.86 1555.44 Q1361.06 1556.97 1357.11 1556.97 Q1350.65 1556.97 1346.58 1551.81 Q1342.53 1546.65 1342.53 1538.25 Q1342.53 1529.85 1346.58 1524.69 Q1350.65 1519.54 1357.11 1519.54 Q1361.06 1519.54 1363.86 1521.1 Q1366.69 1522.62 1368.54 1525.81 M1348.58 1538.25 Q1348.58 1544.71 1351.22 1548.4 Q1353.9 1552.07 1358.54 1552.07 Q1363.19 1552.07 1365.86 1548.4 Q1368.54 1544.71 1368.54 1538.25 Q1368.54 1531.79 1365.86 1528.13 Q1363.19 1524.44 1358.54 1524.44 Q1353.9 1524.44 1351.22 1528.13 Q1348.58 1531.79 1348.58 1538.25 Z\" fill=\"#000000\" fill-rule=\"evenodd\" fill-opacity=\"1\" /><path clip-path=\"url(#clip650)\" d=\"M 0 0 M1411.03 1536.76 L1411.03 1539.62 L1384.1 1539.62 Q1384.48 1545.67 1387.73 1548.85 Q1391.01 1552 1396.83 1552 Q1400.21 1552 1403.36 1551.17 Q1406.54 1550.35 1409.66 1548.69 L1409.66 1554.23 Q1406.51 1555.57 1403.2 1556.27 Q1399.89 1556.97 1396.48 1556.97 Q1387.95 1556.97 1382.96 1552 Q1377.99 1547.04 1377.99 1538.57 Q1377.99 1529.82 1382.7 1524.69 Q1387.44 1519.54 1395.46 1519.54 Q1402.66 1519.54 1406.83 1524.18 Q1411.03 1528.8 1411.03 1536.76 M1405.17 1535.04 Q1405.11 1530.23 1402.47 1527.37 Q1399.86 1524.5 1395.53 1524.5 Q1390.63 1524.5 1387.67 1527.27 Q1384.74 1530.04 1384.29 1535.07 L1405.17 1535.04 Z\" fill=\"#000000\" fill-rule=\"evenodd\" fill-opacity=\"1\" /><polyline clip-path=\"url(#clip650)\" style=\"stroke:#000000; stroke-width:4; stroke-opacity:1; fill:none\" points=\"\n",
       "  212.413,1423.18 212.413,123.472 \n",
       "  \"/>\n",
       "<polyline clip-path=\"url(#clip650)\" style=\"stroke:#000000; stroke-width:4; stroke-opacity:1; fill:none\" points=\"\n",
       "  212.413,1366.22 238.097,1366.22 \n",
       "  \"/>\n",
       "<polyline clip-path=\"url(#clip650)\" style=\"stroke:#000000; stroke-width:4; stroke-opacity:1; fill:none\" points=\"\n",
       "  212.413,1185.25 238.097,1185.25 \n",
       "  \"/>\n",
       "<polyline clip-path=\"url(#clip650)\" style=\"stroke:#000000; stroke-width:4; stroke-opacity:1; fill:none\" points=\"\n",
       "  212.413,1004.29 238.097,1004.29 \n",
       "  \"/>\n",
       "<polyline clip-path=\"url(#clip650)\" style=\"stroke:#000000; stroke-width:4; stroke-opacity:1; fill:none\" points=\"\n",
       "  212.413,823.319 238.097,823.319 \n",
       "  \"/>\n",
       "<polyline clip-path=\"url(#clip650)\" style=\"stroke:#000000; stroke-width:4; stroke-opacity:1; fill:none\" points=\"\n",
       "  212.413,642.353 238.097,642.353 \n",
       "  \"/>\n",
       "<polyline clip-path=\"url(#clip650)\" style=\"stroke:#000000; stroke-width:4; stroke-opacity:1; fill:none\" points=\"\n",
       "  212.413,461.388 238.097,461.388 \n",
       "  \"/>\n",
       "<polyline clip-path=\"url(#clip650)\" style=\"stroke:#000000; stroke-width:4; stroke-opacity:1; fill:none\" points=\"\n",
       "  212.413,280.422 238.097,280.422 \n",
       "  \"/>\n",
       "<path clip-path=\"url(#clip650)\" d=\"M 0 0 M120.533 1379.56 L128.172 1379.56 L128.172 1353.2 L119.862 1354.86 L119.862 1350.6 L128.126 1348.94 L132.802 1348.94 L132.802 1379.56 L140.441 1379.56 L140.441 1383.5 L120.533 1383.5 L120.533 1379.56 Z\" fill=\"#000000\" fill-rule=\"evenodd\" fill-opacity=\"1\" /><path clip-path=\"url(#clip650)\" d=\"M 0 0 M145.51 1377.62 L150.394 1377.62 L150.394 1383.5 L145.51 1383.5 L145.51 1377.62 Z\" fill=\"#000000\" fill-rule=\"evenodd\" fill-opacity=\"1\" /><path clip-path=\"url(#clip650)\" d=\"M 0 0 M155.51 1348.94 L173.866 1348.94 L173.866 1352.87 L159.792 1352.87 L159.792 1361.34 Q160.811 1361 161.829 1360.83 Q162.848 1360.65 163.866 1360.65 Q169.653 1360.65 173.033 1363.82 Q176.413 1366.99 176.413 1372.41 Q176.413 1377.99 172.94 1381.09 Q169.468 1384.17 163.149 1384.17 Q160.973 1384.17 158.704 1383.8 Q156.459 1383.43 154.052 1382.69 L154.052 1377.99 Q156.135 1379.12 158.357 1379.68 Q160.579 1380.23 163.056 1380.23 Q167.061 1380.23 169.399 1378.13 Q171.737 1376.02 171.737 1372.41 Q171.737 1368.8 169.399 1366.69 Q167.061 1364.58 163.056 1364.58 Q161.181 1364.58 159.306 1365 Q157.454 1365.42 155.51 1366.3 L155.51 1348.94 Z\" fill=\"#000000\" fill-rule=\"evenodd\" fill-opacity=\"1\" /><path clip-path=\"url(#clip650)\" d=\"M 0 0 M123.126 1198.6 L139.445 1198.6 L139.445 1202.53 L117.501 1202.53 L117.501 1198.6 Q120.163 1195.84 124.746 1191.21 Q129.353 1186.56 130.533 1185.22 Q132.779 1182.69 133.658 1180.96 Q134.561 1179.2 134.561 1177.51 Q134.561 1174.75 132.617 1173.02 Q130.695 1171.28 127.593 1171.28 Q125.394 1171.28 122.941 1172.05 Q120.51 1172.81 117.732 1174.36 L117.732 1169.64 Q120.556 1168.5 123.01 1167.92 Q125.464 1167.35 127.501 1167.35 Q132.871 1167.35 136.066 1170.03 Q139.26 1172.72 139.26 1177.21 Q139.26 1179.34 138.45 1181.26 Q137.663 1183.16 135.556 1185.75 Q134.978 1186.42 131.876 1189.64 Q128.774 1192.83 123.126 1198.6 Z\" fill=\"#000000\" fill-rule=\"evenodd\" fill-opacity=\"1\" /><path clip-path=\"url(#clip650)\" d=\"M 0 0 M144.515 1196.65 L149.399 1196.65 L149.399 1202.53 L144.515 1202.53 L144.515 1196.65 Z\" fill=\"#000000\" fill-rule=\"evenodd\" fill-opacity=\"1\" /><path clip-path=\"url(#clip650)\" d=\"M 0 0 M164.468 1171.05 Q160.857 1171.05 159.028 1174.61 Q157.223 1178.16 157.223 1185.29 Q157.223 1192.39 159.028 1195.96 Q160.857 1199.5 164.468 1199.5 Q168.102 1199.5 169.908 1195.96 Q171.737 1192.39 171.737 1185.29 Q171.737 1178.16 169.908 1174.61 Q168.102 1171.05 164.468 1171.05 M164.468 1167.35 Q170.278 1167.35 173.334 1171.95 Q176.413 1176.54 176.413 1185.29 Q176.413 1194.01 173.334 1198.62 Q170.278 1203.2 164.468 1203.2 Q158.658 1203.2 155.579 1198.62 Q152.524 1194.01 152.524 1185.29 Q152.524 1176.54 155.579 1171.95 Q158.658 1167.35 164.468 1167.35 Z\" fill=\"#000000\" fill-rule=\"evenodd\" fill-opacity=\"1\" /><path clip-path=\"url(#clip650)\" d=\"M 0 0 M124.121 1017.63 L140.441 1017.63 L140.441 1021.57 L118.496 1021.57 L118.496 1017.63 Q121.158 1014.88 125.742 1010.25 Q130.348 1005.59 131.529 1004.25 Q133.774 1001.73 134.654 999.991 Q135.556 998.232 135.556 996.542 Q135.556 993.788 133.612 992.051 Q131.691 990.315 128.589 990.315 Q126.39 990.315 123.936 991.079 Q121.505 991.843 118.728 993.394 L118.728 988.672 Q121.552 987.538 124.005 986.959 Q126.459 986.38 128.496 986.38 Q133.867 986.38 137.061 989.065 Q140.255 991.75 140.255 996.241 Q140.255 998.371 139.445 1000.29 Q138.658 1002.19 136.552 1004.78 Q135.973 1005.45 132.871 1008.67 Q129.769 1011.87 124.121 1017.63 Z\" fill=\"#000000\" fill-rule=\"evenodd\" fill-opacity=\"1\" /><path clip-path=\"url(#clip650)\" d=\"M 0 0 M145.51 1015.69 L150.394 1015.69 L150.394 1021.57 L145.51 1021.57 L145.51 1015.69 Z\" fill=\"#000000\" fill-rule=\"evenodd\" fill-opacity=\"1\" /><path clip-path=\"url(#clip650)\" d=\"M 0 0 M155.51 987.005 L173.866 987.005 L173.866 990.94 L159.792 990.94 L159.792 999.412 Q160.811 999.065 161.829 998.903 Q162.848 998.718 163.866 998.718 Q169.653 998.718 173.033 1001.89 Q176.413 1005.06 176.413 1010.48 Q176.413 1016.06 172.94 1019.16 Q169.468 1022.24 163.149 1022.24 Q160.973 1022.24 158.704 1021.87 Q156.459 1021.5 154.052 1020.75 L154.052 1016.06 Q156.135 1017.19 158.357 1017.75 Q160.579 1018.3 163.056 1018.3 Q167.061 1018.3 169.399 1016.19 Q171.737 1014.09 171.737 1010.48 Q171.737 1006.87 169.399 1004.76 Q167.061 1002.65 163.056 1002.65 Q161.181 1002.65 159.306 1003.07 Q157.454 1003.49 155.51 1004.37 L155.51 987.005 Z\" fill=\"#000000\" fill-rule=\"evenodd\" fill-opacity=\"1\" /><path clip-path=\"url(#clip650)\" d=\"M 0 0 M132.316 821.965 Q135.672 822.683 137.547 824.951 Q139.445 827.22 139.445 830.553 Q139.445 835.669 135.927 838.47 Q132.408 841.271 125.927 841.271 Q123.751 841.271 121.436 840.831 Q119.144 840.414 116.691 839.558 L116.691 835.044 Q118.635 836.178 120.95 836.757 Q123.265 837.335 125.788 837.335 Q130.186 837.335 132.478 835.599 Q134.792 833.863 134.792 830.553 Q134.792 827.498 132.64 825.785 Q130.51 824.048 126.691 824.048 L122.663 824.048 L122.663 820.206 L126.876 820.206 Q130.325 820.206 132.154 818.84 Q133.982 817.451 133.982 814.859 Q133.982 812.197 132.084 810.785 Q130.209 809.349 126.691 809.349 Q124.769 809.349 122.57 809.766 Q120.371 810.183 117.732 811.062 L117.732 806.896 Q120.394 806.155 122.709 805.785 Q125.047 805.414 127.107 805.414 Q132.431 805.414 135.533 807.845 Q138.635 810.252 138.635 814.373 Q138.635 817.243 136.992 819.234 Q135.348 821.201 132.316 821.965 Z\" fill=\"#000000\" fill-rule=\"evenodd\" fill-opacity=\"1\" /><path clip-path=\"url(#clip650)\" d=\"M 0 0 M144.515 834.72 L149.399 834.72 L149.399 840.599 L144.515 840.599 L144.515 834.72 Z\" fill=\"#000000\" fill-rule=\"evenodd\" fill-opacity=\"1\" /><path clip-path=\"url(#clip650)\" d=\"M 0 0 M164.468 809.118 Q160.857 809.118 159.028 812.683 Q157.223 816.224 157.223 823.354 Q157.223 830.46 159.028 834.025 Q160.857 837.567 164.468 837.567 Q168.102 837.567 169.908 834.025 Q171.737 830.46 171.737 823.354 Q171.737 816.224 169.908 812.683 Q168.102 809.118 164.468 809.118 M164.468 805.414 Q170.278 805.414 173.334 810.021 Q176.413 814.604 176.413 823.354 Q176.413 832.081 173.334 836.687 Q170.278 841.271 164.468 841.271 Q158.658 841.271 155.579 836.687 Q152.524 832.081 152.524 823.354 Q152.524 814.604 155.579 810.021 Q158.658 805.414 164.468 805.414 Z\" fill=\"#000000\" fill-rule=\"evenodd\" fill-opacity=\"1\" /><path clip-path=\"url(#clip650)\" d=\"M 0 0 M133.311 640.999 Q136.667 641.717 138.542 643.985 Q140.441 646.254 140.441 649.587 Q140.441 654.703 136.922 657.504 Q133.404 660.305 126.922 660.305 Q124.746 660.305 122.431 659.865 Q120.14 659.448 117.686 658.592 L117.686 654.078 Q119.63 655.212 121.945 655.791 Q124.26 656.37 126.783 656.37 Q131.181 656.37 133.473 654.633 Q135.788 652.897 135.788 649.587 Q135.788 646.532 133.635 644.819 Q131.505 643.083 127.686 643.083 L123.658 643.083 L123.658 639.24 L127.871 639.24 Q131.32 639.24 133.149 637.874 Q134.978 636.485 134.978 633.893 Q134.978 631.231 133.08 629.819 Q131.205 628.384 127.686 628.384 Q125.765 628.384 123.566 628.8 Q121.367 629.217 118.728 630.097 L118.728 625.93 Q121.39 625.189 123.705 624.819 Q126.043 624.448 128.103 624.448 Q133.427 624.448 136.529 626.879 Q139.63 629.286 139.63 633.407 Q139.63 636.277 137.987 638.268 Q136.343 640.235 133.311 640.999 Z\" fill=\"#000000\" fill-rule=\"evenodd\" fill-opacity=\"1\" /><path clip-path=\"url(#clip650)\" d=\"M 0 0 M145.51 653.754 L150.394 653.754 L150.394 659.633 L145.51 659.633 L145.51 653.754 Z\" fill=\"#000000\" fill-rule=\"evenodd\" fill-opacity=\"1\" /><path clip-path=\"url(#clip650)\" d=\"M 0 0 M155.51 625.073 L173.866 625.073 L173.866 629.009 L159.792 629.009 L159.792 637.481 Q160.811 637.134 161.829 636.972 Q162.848 636.786 163.866 636.786 Q169.653 636.786 173.033 639.958 Q176.413 643.129 176.413 648.546 Q176.413 654.124 172.94 657.226 Q169.468 660.305 163.149 660.305 Q160.973 660.305 158.704 659.934 Q156.459 659.564 154.052 658.823 L154.052 654.124 Q156.135 655.258 158.357 655.814 Q160.579 656.37 163.056 656.37 Q167.061 656.37 169.399 654.263 Q171.737 652.157 171.737 648.546 Q171.737 644.934 169.399 642.828 Q167.061 640.722 163.056 640.722 Q161.181 640.722 159.306 641.138 Q157.454 641.555 155.51 642.434 L155.51 625.073 Z\" fill=\"#000000\" fill-rule=\"evenodd\" fill-opacity=\"1\" /><path clip-path=\"url(#clip650)\" d=\"M 0 0 M129.862 448.182 L118.056 466.631 L129.862 466.631 L129.862 448.182 M128.635 444.108 L134.515 444.108 L134.515 466.631 L139.445 466.631 L139.445 470.52 L134.515 470.52 L134.515 478.668 L129.862 478.668 L129.862 470.52 L114.26 470.52 L114.26 466.006 L128.635 444.108 Z\" fill=\"#000000\" fill-rule=\"evenodd\" fill-opacity=\"1\" /><path clip-path=\"url(#clip650)\" d=\"M 0 0 M144.515 472.788 L149.399 472.788 L149.399 478.668 L144.515 478.668 L144.515 472.788 Z\" fill=\"#000000\" fill-rule=\"evenodd\" fill-opacity=\"1\" /><path clip-path=\"url(#clip650)\" d=\"M 0 0 M164.468 447.186 Q160.857 447.186 159.028 450.751 Q157.223 454.293 157.223 461.422 Q157.223 468.529 159.028 472.094 Q160.857 475.635 164.468 475.635 Q168.102 475.635 169.908 472.094 Q171.737 468.529 171.737 461.422 Q171.737 454.293 169.908 450.751 Q168.102 447.186 164.468 447.186 M164.468 443.483 Q170.278 443.483 173.334 448.089 Q176.413 452.672 176.413 461.422 Q176.413 470.149 173.334 474.756 Q170.278 479.339 164.468 479.339 Q158.658 479.339 155.579 474.756 Q152.524 470.149 152.524 461.422 Q152.524 452.672 155.579 448.089 Q158.658 443.483 164.468 443.483 Z\" fill=\"#000000\" fill-rule=\"evenodd\" fill-opacity=\"1\" /><path clip-path=\"url(#clip650)\" d=\"M 0 0 M130.857 267.216 L119.052 285.665 L130.857 285.665 L130.857 267.216 M129.63 263.142 L135.51 263.142 L135.51 285.665 L140.441 285.665 L140.441 289.554 L135.51 289.554 L135.51 297.702 L130.857 297.702 L130.857 289.554 L115.256 289.554 L115.256 285.04 L129.63 263.142 Z\" fill=\"#000000\" fill-rule=\"evenodd\" fill-opacity=\"1\" /><path clip-path=\"url(#clip650)\" d=\"M 0 0 M145.51 291.822 L150.394 291.822 L150.394 297.702 L145.51 297.702 L145.51 291.822 Z\" fill=\"#000000\" fill-rule=\"evenodd\" fill-opacity=\"1\" /><path clip-path=\"url(#clip650)\" d=\"M 0 0 M155.51 263.142 L173.866 263.142 L173.866 267.077 L159.792 267.077 L159.792 275.549 Q160.811 275.202 161.829 275.04 Q162.848 274.855 163.866 274.855 Q169.653 274.855 173.033 278.026 Q176.413 281.197 176.413 286.614 Q176.413 292.193 172.94 295.294 Q169.468 298.373 163.149 298.373 Q160.973 298.373 158.704 298.003 Q156.459 297.632 154.052 296.892 L154.052 292.193 Q156.135 293.327 158.357 293.882 Q160.579 294.438 163.056 294.438 Q167.061 294.438 169.399 292.331 Q171.737 290.225 171.737 286.614 Q171.737 283.003 169.399 280.896 Q167.061 278.79 163.056 278.79 Q161.181 278.79 159.306 279.206 Q157.454 279.623 155.51 280.503 L155.51 263.142 Z\" fill=\"#000000\" fill-rule=\"evenodd\" fill-opacity=\"1\" /><path clip-path=\"url(#clip650)\" d=\"M 0 0 M38.479 877.007 L38.479 871.151 L88.0042 871.151 L88.0042 877.007 L38.479 877.007 Z\" fill=\"#000000\" fill-rule=\"evenodd\" fill-opacity=\"1\" /><path clip-path=\"url(#clip650)\" d=\"M 0 0 M70.0847 848.807 Q70.0847 855.905 71.7079 858.642 Q73.3312 861.38 77.2461 861.38 Q80.3653 861.38 82.2114 859.343 Q84.0256 857.274 84.0256 853.741 Q84.0256 848.871 80.5881 845.943 Q77.1188 842.983 71.3897 842.983 L70.0847 842.983 L70.0847 848.807 M67.6657 837.126 L88.0042 837.126 L88.0042 842.983 L82.5933 842.983 Q85.8398 844.988 87.3994 847.98 Q88.9272 850.972 88.9272 855.3 Q88.9272 860.775 85.8716 864.021 Q82.7843 867.236 77.6281 867.236 Q71.6125 867.236 68.5569 863.226 Q65.5014 859.183 65.5014 851.194 L65.5014 842.983 L64.9285 842.983 Q60.8862 842.983 58.6901 845.656 Q56.4621 848.298 56.4621 853.104 Q56.4621 856.16 57.1941 859.056 Q57.9262 861.953 59.3903 864.626 L53.9795 864.626 Q52.7381 861.411 52.1334 858.388 Q51.4968 855.364 51.4968 852.499 Q51.4968 844.765 55.5072 840.946 Q59.5176 837.126 67.6657 837.126 Z\" fill=\"#000000\" fill-rule=\"evenodd\" fill-opacity=\"1\" /><path clip-path=\"url(#clip650)\" d=\"M 0 0 M42.2347 825.191 L52.3562 825.191 L52.3562 813.128 L56.9077 813.128 L56.9077 825.191 L76.2594 825.191 Q80.6199 825.191 81.8613 824.013 Q83.1026 822.803 83.1026 819.143 L83.1026 813.128 L88.0042 813.128 L88.0042 819.143 Q88.0042 825.923 85.4897 828.501 Q82.9434 831.079 76.2594 831.079 L56.9077 831.079 L56.9077 835.376 L52.3562 835.376 L52.3562 831.079 L42.2347 831.079 L42.2347 825.191 Z\" fill=\"#000000\" fill-rule=\"evenodd\" fill-opacity=\"1\" /><path clip-path=\"url(#clip650)\" d=\"M 0 0 M52.3562 806.985 L52.3562 801.128 L88.0042 801.128 L88.0042 806.985 L52.3562 806.985 M38.479 806.985 L38.479 801.128 L45.895 801.128 L45.895 806.985 L38.479 806.985 Z\" fill=\"#000000\" fill-rule=\"evenodd\" fill-opacity=\"1\" /><path clip-path=\"url(#clip650)\" d=\"M 0 0 M42.2347 789.193 L52.3562 789.193 L52.3562 777.129 L56.9077 777.129 L56.9077 789.193 L76.2594 789.193 Q80.6199 789.193 81.8613 788.015 Q83.1026 786.805 83.1026 783.145 L83.1026 777.129 L88.0042 777.129 L88.0042 783.145 Q88.0042 789.925 85.4897 792.503 Q82.9434 795.081 76.2594 795.081 L56.9077 795.081 L56.9077 799.378 L52.3562 799.378 L52.3562 795.081 L42.2347 795.081 L42.2347 789.193 Z\" fill=\"#000000\" fill-rule=\"evenodd\" fill-opacity=\"1\" /><path clip-path=\"url(#clip650)\" d=\"M 0 0 M73.9359 771.591 L52.3562 771.591 L52.3562 765.735 L73.7131 765.735 Q78.7739 765.735 81.3202 763.762 Q83.8346 761.788 83.8346 757.841 Q83.8346 753.099 80.8109 750.362 Q77.7872 747.593 72.5673 747.593 L52.3562 747.593 L52.3562 741.736 L88.0042 741.736 L88.0042 747.593 L82.5296 747.593 Q85.7762 749.725 87.3676 752.558 Q88.9272 755.359 88.9272 759.083 Q88.9272 765.226 85.1078 768.408 Q81.2883 771.591 73.9359 771.591 M51.4968 756.855 L51.4968 756.855 Z\" fill=\"#000000\" fill-rule=\"evenodd\" fill-opacity=\"1\" /><path clip-path=\"url(#clip650)\" d=\"M 0 0 M57.7671 712.136 L38.479 712.136 L38.479 706.279 L88.0042 706.279 L88.0042 712.136 L82.657 712.136 Q85.8398 713.982 87.3994 716.814 Q88.9272 719.615 88.9272 723.562 Q88.9272 730.023 83.771 734.097 Q78.6147 738.14 70.212 738.14 Q61.8093 738.14 56.6531 734.097 Q51.4968 730.023 51.4968 723.562 Q51.4968 719.615 53.0564 716.814 Q54.5842 713.982 57.7671 712.136 M70.212 732.092 Q76.6732 732.092 80.3653 729.45 Q84.0256 726.777 84.0256 722.13 Q84.0256 717.483 80.3653 714.809 Q76.6732 712.136 70.212 712.136 Q63.7508 712.136 60.0905 714.809 Q56.3984 717.483 56.3984 722.13 Q56.3984 726.777 60.0905 729.45 Q63.7508 732.092 70.212 732.092 Z\" fill=\"#000000\" fill-rule=\"evenodd\" fill-opacity=\"1\" /><path clip-path=\"url(#clip650)\" d=\"M 0 0 M68.7161 669.645 L71.5806 669.645 L71.5806 696.571 Q77.6281 696.19 80.8109 692.943 Q83.9619 689.665 83.9619 683.84 Q83.9619 680.466 83.1344 677.315 Q82.3069 674.132 80.6518 671.013 L86.1899 671.013 Q87.5267 674.164 88.227 677.474 Q88.9272 680.785 88.9272 684.19 Q88.9272 692.72 83.9619 697.717 Q78.9967 702.683 70.5303 702.683 Q61.7774 702.683 56.6531 697.972 Q51.4968 693.229 51.4968 685.209 Q51.4968 678.015 56.1438 673.846 Q60.7589 669.645 68.7161 669.645 M66.9973 675.501 Q62.1912 675.565 59.3266 678.206 Q56.4621 680.816 56.4621 685.145 Q56.4621 690.047 59.2312 693.007 Q62.0002 695.935 67.0292 696.381 L66.9973 675.501 Z\" fill=\"#000000\" fill-rule=\"evenodd\" fill-opacity=\"1\" /><path clip-path=\"url(#clip650)\" d=\"M 0 0 M821.146 44.2197 Q823.779 45.1109 826.25 48.0275 Q828.761 50.9442 831.273 56.0483 L839.577 72.576 L830.787 72.576 L823.05 57.061 Q820.052 50.9847 817.216 48.9997 Q814.421 47.0148 809.56 47.0148 L800.648 47.0148 L800.648 72.576 L792.465 72.576 L792.465 12.096 L810.937 12.096 Q821.308 12.096 826.412 16.4305 Q831.516 20.7649 831.516 29.5149 Q831.516 35.2267 828.842 38.994 Q826.209 42.7613 821.146 44.2197 M800.648 18.8205 L800.648 40.2903 L810.937 40.2903 Q816.852 40.2903 819.849 37.5762 Q822.888 34.8216 822.888 29.5149 Q822.888 24.2082 819.849 21.5346 Q816.852 18.8205 810.937 18.8205 L800.648 18.8205 Z\" fill=\"#000000\" fill-rule=\"evenodd\" fill-opacity=\"1\" /><path clip-path=\"url(#clip650)\" d=\"M 0 0 M861.25 32.4315 Q855.254 32.4315 851.771 37.1306 Q848.287 41.7891 848.287 49.9314 Q848.287 58.0738 851.73 62.7728 Q855.214 67.4314 861.25 67.4314 Q867.205 67.4314 870.688 62.7323 Q874.172 58.0333 874.172 49.9314 Q874.172 41.8701 870.688 37.1711 Q867.205 32.4315 861.25 32.4315 M861.25 26.1121 Q870.972 26.1121 876.522 32.4315 Q882.071 38.7509 882.071 49.9314 Q882.071 61.0714 876.522 67.4314 Q870.972 73.7508 861.25 73.7508 Q851.487 73.7508 845.937 67.4314 Q840.428 61.0714 840.428 49.9314 Q840.428 38.7509 845.937 32.4315 Q851.487 26.1121 861.25 26.1121 Z\" fill=\"#000000\" fill-rule=\"evenodd\" fill-opacity=\"1\" /><path clip-path=\"url(#clip650)\" d=\"M 0 0 M889.12 54.671 L889.12 27.2059 L896.574 27.2059 L896.574 54.3874 Q896.574 60.8284 899.085 64.0691 Q901.597 67.2693 906.62 67.2693 Q912.656 67.2693 916.139 63.421 Q919.664 59.5726 919.664 52.9291 L919.664 27.2059 L927.117 27.2059 L927.117 72.576 L919.664 72.576 L919.664 65.6084 Q916.95 69.7404 913.344 71.7658 Q909.78 73.7508 905.04 73.7508 Q897.222 73.7508 893.171 68.8897 Q889.12 64.0286 889.12 54.671 M907.876 26.1121 L907.876 26.1121 Z\" fill=\"#000000\" fill-rule=\"evenodd\" fill-opacity=\"1\" /><path clip-path=\"url(#clip650)\" d=\"M 0 0 M942.308 14.324 L942.308 27.2059 L957.661 27.2059 L957.661 32.9987 L942.308 32.9987 L942.308 57.6282 Q942.308 63.1779 943.807 64.7578 Q945.346 66.3376 950.005 66.3376 L957.661 66.3376 L957.661 72.576 L950.005 72.576 Q941.377 72.576 938.095 69.3758 Q934.814 66.1351 934.814 57.6282 L934.814 32.9987 L929.345 32.9987 L929.345 27.2059 L934.814 27.2059 L934.814 14.324 L942.308 14.324 Z\" fill=\"#000000\" fill-rule=\"evenodd\" fill-opacity=\"1\" /><path clip-path=\"url(#clip650)\" d=\"M 0 0 M1004.29 48.0275 L1004.29 51.6733 L970.016 51.6733 Q970.503 59.3701 974.635 63.421 Q978.807 67.4314 986.22 67.4314 Q990.514 67.4314 994.524 66.3781 Q998.575 65.3249 1002.55 63.2184 L1002.55 70.267 Q998.535 71.9684 994.322 72.8596 Q990.109 73.7508 985.775 73.7508 Q974.918 73.7508 968.558 67.4314 Q962.239 61.1119 962.239 50.3365 Q962.239 39.1965 968.234 32.6746 Q974.27 26.1121 984.478 26.1121 Q993.633 26.1121 998.94 32.0264 Q1004.29 37.9003 1004.29 48.0275 M996.833 45.84 Q996.752 39.7232 993.39 36.0774 Q990.068 32.4315 984.559 32.4315 Q978.321 32.4315 974.553 35.9558 Q970.827 39.4801 970.26 45.8805 L996.833 45.84 Z\" fill=\"#000000\" fill-rule=\"evenodd\" fill-opacity=\"1\" /><path clip-path=\"url(#clip650)\" d=\"M 0 0 M1041.03 28.5427 L1041.03 35.5912 Q1037.87 33.9709 1034.47 33.1607 Q1031.06 32.3505 1027.42 32.3505 Q1021.87 32.3505 1019.07 34.0519 Q1016.32 35.7533 1016.32 39.156 Q1016.32 41.7486 1018.3 43.2475 Q1020.29 44.7058 1026.28 46.0426 L1028.84 46.6097 Q1036.78 48.3111 1040.1 51.4303 Q1043.46 54.509 1043.46 60.0587 Q1043.46 66.3781 1038.44 70.0644 Q1033.45 73.7508 1024.7 73.7508 Q1021.06 73.7508 1017.09 73.0216 Q1013.16 72.3329 1008.78 70.9151 L1008.78 63.2184 Q1012.92 65.3654 1016.93 66.4591 Q1020.94 67.5124 1024.87 67.5124 Q1030.13 67.5124 1032.97 65.73 Q1035.8 63.9071 1035.8 60.6258 Q1035.8 57.5877 1033.74 55.9673 Q1031.71 54.3469 1024.78 52.8481 L1022.19 52.2405 Q1015.27 50.7821 1012.19 47.7845 Q1009.11 44.7463 1009.11 39.4801 Q1009.11 33.0797 1013.64 29.5959 Q1018.18 26.1121 1026.53 26.1121 Q1030.66 26.1121 1034.3 26.7198 Q1037.95 27.3274 1041.03 28.5427 Z\" fill=\"#000000\" fill-rule=\"evenodd\" fill-opacity=\"1\" /><path clip-path=\"url(#clip650)\" d=\"M 0 0 M1107.5 34.0924 L1107.5 9.54393 L1114.96 9.54393 L1114.96 72.576 L1107.5 72.576 L1107.5 65.7705 Q1105.15 69.8214 1101.55 71.8063 Q1097.98 73.7508 1092.96 73.7508 Q1084.74 73.7508 1079.55 67.1883 Q1074.41 60.6258 1074.41 49.9314 Q1074.41 39.2371 1079.55 32.6746 Q1084.74 26.1121 1092.96 26.1121 Q1097.98 26.1121 1101.55 28.0971 Q1105.15 30.0415 1107.5 34.0924 M1082.11 49.9314 Q1082.11 58.1548 1085.47 62.8538 Q1088.87 67.5124 1094.78 67.5124 Q1100.7 67.5124 1104.1 62.8538 Q1107.5 58.1548 1107.5 49.9314 Q1107.5 41.7081 1104.1 37.0496 Q1100.7 32.3505 1094.78 32.3505 Q1088.87 32.3505 1085.47 37.0496 Q1082.11 41.7081 1082.11 49.9314 Z\" fill=\"#000000\" fill-rule=\"evenodd\" fill-opacity=\"1\" /><path clip-path=\"url(#clip650)\" d=\"M 0 0 M1161.58 48.0275 L1161.58 51.6733 L1127.31 51.6733 Q1127.8 59.3701 1131.93 63.421 Q1136.1 67.4314 1143.52 67.4314 Q1147.81 67.4314 1151.82 66.3781 Q1155.87 65.3249 1159.84 63.2184 L1159.84 70.267 Q1155.83 71.9684 1151.62 72.8596 Q1147.41 73.7508 1143.07 73.7508 Q1132.21 73.7508 1125.85 67.4314 Q1119.54 61.1119 1119.54 50.3365 Q1119.54 39.1965 1125.53 32.6746 Q1131.57 26.1121 1141.77 26.1121 Q1150.93 26.1121 1156.24 32.0264 Q1161.58 37.9003 1161.58 48.0275 M1154.13 45.84 Q1154.05 39.7232 1150.69 36.0774 Q1147.37 32.4315 1141.86 32.4315 Q1135.62 32.4315 1131.85 35.9558 Q1128.12 39.4801 1127.56 45.8805 L1154.13 45.84 Z\" fill=\"#000000\" fill-rule=\"evenodd\" fill-opacity=\"1\" /><path clip-path=\"url(#clip650)\" d=\"M 0 0 M1195.77 9.54393 L1203.23 9.54393 L1203.23 72.576 L1195.77 72.576 L1195.77 9.54393 Z\" fill=\"#000000\" fill-rule=\"evenodd\" fill-opacity=\"1\" /><path clip-path=\"url(#clip650)\" d=\"M 0 0 M1231.66 49.7694 Q1222.63 49.7694 1219.15 51.8354 Q1215.66 53.9013 1215.66 58.8839 Q1215.66 62.8538 1218.26 65.2034 Q1220.89 67.5124 1225.39 67.5124 Q1231.58 67.5124 1235.31 63.1374 Q1239.08 58.7219 1239.08 51.4303 L1239.08 49.7694 L1231.66 49.7694 M1246.53 46.6907 L1246.53 72.576 L1239.08 72.576 L1239.08 65.6895 Q1236.53 69.8214 1232.72 71.8063 Q1228.91 73.7508 1223.4 73.7508 Q1216.43 73.7508 1212.3 69.8619 Q1208.21 65.9325 1208.21 59.3701 Q1208.21 51.7138 1213.31 47.825 Q1218.46 43.9361 1228.63 43.9361 L1239.08 43.9361 L1239.08 43.2069 Q1239.08 38.0623 1235.67 35.2672 Q1232.31 32.4315 1226.2 32.4315 Q1222.31 32.4315 1218.62 33.3632 Q1214.93 34.295 1211.53 36.1584 L1211.53 29.2718 Q1215.62 27.692 1219.47 26.9223 Q1223.32 26.1121 1226.97 26.1121 Q1236.81 26.1121 1241.67 31.2163 Q1246.53 36.3204 1246.53 46.6907 Z\" fill=\"#000000\" fill-rule=\"evenodd\" fill-opacity=\"1\" /><path clip-path=\"url(#clip650)\" d=\"M 0 0 M1309.64 28.5427 L1309.64 35.5912 Q1306.48 33.9709 1303.08 33.1607 Q1299.68 32.3505 1296.03 32.3505 Q1290.48 32.3505 1287.69 34.0519 Q1284.93 35.7533 1284.93 39.156 Q1284.93 41.7486 1286.92 43.2475 Q1288.9 44.7058 1294.9 46.0426 L1297.45 46.6097 Q1305.39 48.3111 1308.71 51.4303 Q1312.07 54.509 1312.07 60.0587 Q1312.07 66.3781 1307.05 70.0644 Q1302.07 73.7508 1293.32 73.7508 Q1289.67 73.7508 1285.7 73.0216 Q1281.77 72.3329 1277.4 70.9151 L1277.4 63.2184 Q1281.53 65.3654 1285.54 66.4591 Q1289.55 67.5124 1293.48 67.5124 Q1298.75 67.5124 1301.58 65.73 Q1304.42 63.9071 1304.42 60.6258 Q1304.42 57.5877 1302.35 55.9673 Q1300.33 54.3469 1293.4 52.8481 L1290.81 52.2405 Q1283.88 50.7821 1280.8 47.7845 Q1277.72 44.7463 1277.72 39.4801 Q1277.72 33.0797 1282.26 29.5959 Q1286.8 26.1121 1295.14 26.1121 Q1299.27 26.1121 1302.92 26.7198 Q1306.57 27.3274 1309.64 28.5427 Z\" fill=\"#000000\" fill-rule=\"evenodd\" fill-opacity=\"1\" /><path clip-path=\"url(#clip650)\" d=\"M 0 0 M1337.47 32.4315 Q1331.48 32.4315 1327.99 37.1306 Q1324.51 41.7891 1324.51 49.9314 Q1324.51 58.0738 1327.95 62.7728 Q1331.44 67.4314 1337.47 67.4314 Q1343.43 67.4314 1346.91 62.7323 Q1350.4 58.0333 1350.4 49.9314 Q1350.4 41.8701 1346.91 37.1711 Q1343.43 32.4315 1337.47 32.4315 M1337.47 26.1121 Q1347.2 26.1121 1352.75 32.4315 Q1358.3 38.7509 1358.3 49.9314 Q1358.3 61.0714 1352.75 67.4314 Q1347.2 73.7508 1337.47 73.7508 Q1327.71 73.7508 1322.16 67.4314 Q1316.65 61.0714 1316.65 49.9314 Q1316.65 38.7509 1322.16 32.4315 Q1327.71 26.1121 1337.47 26.1121 Z\" fill=\"#000000\" fill-rule=\"evenodd\" fill-opacity=\"1\" /><path clip-path=\"url(#clip650)\" d=\"M 0 0 M1366.11 9.54393 L1373.57 9.54393 L1373.57 72.576 L1366.11 72.576 L1366.11 9.54393 Z\" fill=\"#000000\" fill-rule=\"evenodd\" fill-opacity=\"1\" /><path clip-path=\"url(#clip650)\" d=\"M 0 0 M1380.62 54.671 L1380.62 27.2059 L1388.07 27.2059 L1388.07 54.3874 Q1388.07 60.8284 1390.58 64.0691 Q1393.09 67.2693 1398.12 67.2693 Q1404.15 67.2693 1407.64 63.421 Q1411.16 59.5726 1411.16 52.9291 L1411.16 27.2059 L1418.61 27.2059 L1418.61 72.576 L1411.16 72.576 L1411.16 65.6084 Q1408.45 69.7404 1404.84 71.7658 Q1401.28 73.7508 1396.54 73.7508 Q1388.72 73.7508 1384.67 68.8897 Q1380.62 64.0286 1380.62 54.671 M1399.37 26.1121 L1399.37 26.1121 Z\" fill=\"#000000\" fill-rule=\"evenodd\" fill-opacity=\"1\" /><path clip-path=\"url(#clip650)\" d=\"M 0 0 M1433.8 14.324 L1433.8 27.2059 L1449.16 27.2059 L1449.16 32.9987 L1433.8 32.9987 L1433.8 57.6282 Q1433.8 63.1779 1435.3 64.7578 Q1436.84 66.3376 1441.5 66.3376 L1449.16 66.3376 L1449.16 72.576 L1441.5 72.576 Q1432.87 72.576 1429.59 69.3758 Q1426.31 66.1351 1426.31 57.6282 L1426.31 32.9987 L1420.84 32.9987 L1420.84 27.2059 L1426.31 27.2059 L1426.31 14.324 L1433.8 14.324 Z\" fill=\"#000000\" fill-rule=\"evenodd\" fill-opacity=\"1\" /><path clip-path=\"url(#clip650)\" d=\"M 0 0 M1456.98 27.2059 L1464.43 27.2059 L1464.43 72.576 L1456.98 72.576 L1456.98 27.2059 M1456.98 9.54393 L1464.43 9.54393 L1464.43 18.9825 L1456.98 18.9825 L1456.98 9.54393 Z\" fill=\"#000000\" fill-rule=\"evenodd\" fill-opacity=\"1\" /><path clip-path=\"url(#clip650)\" d=\"M 0 0 M1489.83 32.4315 Q1483.83 32.4315 1480.35 37.1306 Q1476.87 41.7891 1476.87 49.9314 Q1476.87 58.0738 1480.31 62.7728 Q1483.79 67.4314 1489.83 67.4314 Q1495.78 67.4314 1499.27 62.7323 Q1502.75 58.0333 1502.75 49.9314 Q1502.75 41.8701 1499.27 37.1711 Q1495.78 32.4315 1489.83 32.4315 M1489.83 26.1121 Q1499.55 26.1121 1505.1 32.4315 Q1510.65 38.7509 1510.65 49.9314 Q1510.65 61.0714 1505.1 67.4314 Q1499.55 73.7508 1489.83 73.7508 Q1480.07 73.7508 1474.52 67.4314 Q1469.01 61.0714 1469.01 49.9314 Q1469.01 38.7509 1474.52 32.4315 Q1480.07 26.1121 1489.83 26.1121 Z\" fill=\"#000000\" fill-rule=\"evenodd\" fill-opacity=\"1\" /><path clip-path=\"url(#clip650)\" d=\"M 0 0 M1556.18 45.1919 L1556.18 72.576 L1548.73 72.576 L1548.73 45.4349 Q1548.73 38.994 1546.22 35.7938 Q1543.71 32.5936 1538.68 32.5936 Q1532.65 32.5936 1529.16 36.4419 Q1525.68 40.2903 1525.68 46.9338 L1525.68 72.576 L1518.18 72.576 L1518.18 27.2059 L1525.68 27.2059 L1525.68 34.2544 Q1528.35 30.163 1531.96 28.1376 Q1535.6 26.1121 1540.34 26.1121 Q1548.16 26.1121 1552.17 30.9732 Q1556.18 35.7938 1556.18 45.1919 Z\" fill=\"#000000\" fill-rule=\"evenodd\" fill-opacity=\"1\" /><path clip-path=\"url(#clip650)\" d=\"M 0 0 M1610.99 49.7694 Q1601.96 49.7694 1598.47 51.8354 Q1594.99 53.9013 1594.99 58.8839 Q1594.99 62.8538 1597.58 65.2034 Q1600.22 67.5124 1604.71 67.5124 Q1610.91 67.5124 1614.64 63.1374 Q1618.4 58.7219 1618.4 51.4303 L1618.4 49.7694 L1610.99 49.7694 M1625.86 46.6907 L1625.86 72.576 L1618.4 72.576 L1618.4 65.6895 Q1615.85 69.8214 1612.04 71.8063 Q1608.24 73.7508 1602.73 73.7508 Q1595.76 73.7508 1591.63 69.8619 Q1587.54 65.9325 1587.54 59.3701 Q1587.54 51.7138 1592.64 47.825 Q1597.79 43.9361 1607.95 43.9361 L1618.4 43.9361 L1618.4 43.2069 Q1618.4 38.0623 1615 35.2672 Q1611.64 32.4315 1605.52 32.4315 Q1601.63 32.4315 1597.95 33.3632 Q1594.26 34.295 1590.86 36.1584 L1590.86 29.2718 Q1594.95 27.692 1598.8 26.9223 Q1602.65 26.1121 1606.29 26.1121 Q1616.14 26.1121 1621 31.2163 Q1625.86 36.3204 1625.86 46.6907 M1600.74 6.22219 L1612.17 21.3726 L1605.97 21.3726 L1592.76 6.22219 L1600.74 6.22219 Z\" fill=\"#000000\" fill-rule=\"evenodd\" fill-opacity=\"1\" /><path clip-path=\"url(#clip650)\" d=\"M 0 0 M1660.05 27.2059 L1667.5 27.2059 L1667.5 73.3862 Q1667.5 82.0551 1664.18 85.944 Q1660.9 89.8329 1653.57 89.8329 L1650.73 89.8329 L1650.73 83.5134 L1652.72 83.5134 Q1656.97 83.5134 1658.51 81.5285 Q1660.05 79.5841 1660.05 73.3862 L1660.05 27.2059 M1660.05 9.54393 L1667.5 9.54393 L1667.5 18.9825 L1660.05 18.9825 L1660.05 9.54393 Z\" fill=\"#000000\" fill-rule=\"evenodd\" fill-opacity=\"1\" /><path clip-path=\"url(#clip650)\" d=\"M 0 0 M1676.29 34.9026 L1728.22 34.9026 L1728.22 41.7081 L1676.29 41.7081 L1676.29 34.9026 M1676.29 51.4303 L1728.22 51.4303 L1728.22 58.3168 L1676.29 58.3168 L1676.29 51.4303 Z\" fill=\"#000000\" fill-rule=\"evenodd\" fill-opacity=\"1\" /><path clip-path=\"url(#clip650)\" d=\"M 0 0 M1744.14 65.6895 L1772.7 65.6895 L1772.7 72.576 L1734.3 72.576 L1734.3 65.6895 Q1738.96 60.8689 1746.98 52.7671 Q1755.04 44.6248 1757.11 42.2752 Q1761.04 37.8598 1762.58 34.8216 Q1764.16 31.7429 1764.16 28.7857 Q1764.16 23.9651 1760.75 20.927 Q1757.39 17.8888 1751.96 17.8888 Q1748.11 17.8888 1743.82 19.2256 Q1739.57 20.5624 1734.71 23.2765 L1734.71 15.0127 Q1739.65 13.0277 1743.94 12.015 Q1748.24 11.0023 1751.8 11.0023 Q1761.2 11.0023 1766.79 15.7013 Q1772.38 20.4004 1772.38 28.2591 Q1772.38 31.9859 1770.96 35.3482 Q1769.58 38.6699 1765.9 43.2069 Q1764.88 44.3817 1759.46 50.0125 Q1754.03 55.6027 1744.14 65.6895 Z\" fill=\"#000000\" fill-rule=\"evenodd\" fill-opacity=\"1\" /><circle clip-path=\"url(#clip652)\" cx=\"2292.18\" cy=\"1058.05\" r=\"108\" fill=\"#ff0000\" fill-rule=\"evenodd\" fill-opacity=\"0.5\" stroke=\"#000000\" stroke-opacity=\"0.5\" stroke-width=\"3.2\"/>\n",
       "<circle clip-path=\"url(#clip652)\" cx=\"272.988\" cy=\"1386.4\" r=\"108\" fill=\"#ff0000\" fill-rule=\"evenodd\" fill-opacity=\"0.5\" stroke=\"#000000\" stroke-opacity=\"0.5\" stroke-width=\"3.2\"/>\n",
       "<circle clip-path=\"url(#clip652)\" cx=\"2292.18\" cy=\"1058.05\" r=\"108\" fill=\"#0000ff\" fill-rule=\"evenodd\" fill-opacity=\"0.5\" stroke=\"#000000\" stroke-opacity=\"0.5\" stroke-width=\"3.2\"/>\n",
       "<circle clip-path=\"url(#clip652)\" cx=\"1099.26\" cy=\"160.256\" r=\"108\" fill=\"#0000ff\" fill-rule=\"evenodd\" fill-opacity=\"0.5\" stroke=\"#000000\" stroke-opacity=\"0.5\" stroke-width=\"3.2\"/>\n",
       "<circle clip-path=\"url(#clip652)\" cx=\"1099.26\" cy=\"160.256\" r=\"108\" fill=\"#0000ff\" fill-rule=\"evenodd\" fill-opacity=\"0.5\" stroke=\"#000000\" stroke-opacity=\"0.5\" stroke-width=\"3.2\"/>\n",
       "<polyline clip-path=\"url(#clip652)\" style=\"stroke:#000000; stroke-width:12; stroke-opacity:1; fill:none\" points=\"\n",
       "  2292.18,1058.05 2292.18,1058.05 \n",
       "  \"/>\n",
       "<polyline clip-path=\"url(#clip652)\" style=\"stroke:#000000; stroke-width:12; stroke-opacity:1; fill:none\" points=\"\n",
       "  -nan,-nan -nan,-nan -nan,-nan -nan,-nan -nan,-nan -nan,-nan \n",
       "  \"/>\n",
       "<polyline clip-path=\"url(#clip652)\" style=\"stroke:#000000; stroke-width:12; stroke-opacity:1; fill:none\" points=\"\n",
       "  2172.89,968.267 1218.56,250.035 \n",
       "  \"/>\n",
       "<polyline clip-path=\"url(#clip652)\" style=\"stroke:#000000; stroke-width:12; stroke-opacity:1; fill:none\" points=\"\n",
       "  1247.32,271.683 1236.5,286.065 1218.56,250.035 1258.14,257.301 1247.32,271.683 2172.89,968.267 \n",
       "  \"/>\n",
       "<polyline clip-path=\"url(#clip652)\" style=\"stroke:#000000; stroke-width:12; stroke-opacity:1; fill:none\" points=\"\n",
       "  1099.26,160.256 1099.26,160.256 \n",
       "  \"/>\n",
       "<polyline clip-path=\"url(#clip652)\" style=\"stroke:#000000; stroke-width:12; stroke-opacity:1; fill:none\" points=\"\n",
       "  -nan,-nan -nan,-nan -nan,-nan -nan,-nan -nan,-nan -nan,-nan \n",
       "  \"/>\n",
       "<polyline clip-path=\"url(#clip652)\" style=\"stroke:#000000; stroke-width:24; stroke-opacity:1; fill:none\" points=\"\n",
       "  355.616,1263.78 1016.64,282.87 \n",
       "  \"/>\n",
       "<polyline clip-path=\"url(#clip652)\" style=\"stroke:#000000; stroke-width:24; stroke-opacity:1; fill:none\" points=\"\n",
       "  996.518,312.724 981.591,302.665 1016.64,282.87 1011.44,322.783 996.518,312.724 355.616,1263.78 \n",
       "  \"/>\n",
       "<polyline clip-path=\"url(#clip652)\" style=\"stroke:#000000; stroke-width:24; stroke-opacity:1; fill:none\" points=\"\n",
       "  1099.26,160.256 1099.26,160.256 \n",
       "  \"/>\n",
       "<polyline clip-path=\"url(#clip652)\" style=\"stroke:#000000; stroke-width:24; stroke-opacity:1; fill:none\" points=\"\n",
       "  -nan,-nan -nan,-nan -nan,-nan -nan,-nan -nan,-nan -nan,-nan \n",
       "  \"/>\n",
       "<path clip-path=\"url(#clip650)\" d=\"\n",
       "M1782.51 348.236 L2281.41 348.236 L2281.41 166.796 L1782.51 166.796  Z\n",
       "  \" fill=\"#ffffff\" fill-rule=\"evenodd\" fill-opacity=\"1\"/>\n",
       "<polyline clip-path=\"url(#clip650)\" style=\"stroke:#000000; stroke-width:4; stroke-opacity:1; fill:none\" points=\"\n",
       "  1782.51,348.236 2281.41,348.236 2281.41,166.796 1782.51,166.796 1782.51,348.236 \n",
       "  \"/>\n",
       "<circle clip-path=\"url(#clip650)\" cx=\"1877.64\" cy=\"227.276\" r=\"23\" fill=\"#ff0000\" fill-rule=\"evenodd\" fill-opacity=\"0.5\" stroke=\"#000000\" stroke-opacity=\"0.5\" stroke-width=\"0.682667\"/>\n",
       "<path clip-path=\"url(#clip650)\" d=\"M 0 0 M1972.76 234.324 L1972.76 218.63 L1977.02 218.63 L1977.02 234.162 Q1977.02 237.843 1978.46 239.695 Q1979.89 241.523 1982.76 241.523 Q1986.21 241.523 1988.2 239.324 Q1990.21 237.125 1990.21 233.329 L1990.21 218.63 L1994.47 218.63 L1994.47 244.556 L1990.21 244.556 L1990.21 240.574 Q1988.66 242.935 1986.6 244.093 Q1984.57 245.227 1981.86 245.227 Q1977.39 245.227 1975.08 242.449 Q1972.76 239.671 1972.76 234.324 M1983.48 218.005 L1983.48 218.005 Z\" fill=\"#000000\" fill-rule=\"evenodd\" fill-opacity=\"1\" /><path clip-path=\"url(#clip650)\" d=\"M 0 0 M2015.47 219.394 L2015.47 223.422 Q2013.66 222.496 2011.72 222.033 Q2009.78 221.57 2007.69 221.57 Q2004.52 221.57 2002.92 222.542 Q2001.35 223.514 2001.35 225.459 Q2001.35 226.94 2002.48 227.797 Q2003.62 228.63 2007.04 229.394 L2008.5 229.718 Q2013.04 230.69 2014.94 232.472 Q2016.86 234.232 2016.86 237.403 Q2016.86 241.014 2013.99 243.121 Q2011.14 245.227 2006.14 245.227 Q2004.06 245.227 2001.79 244.81 Q1999.54 244.417 1997.04 243.607 L1997.04 239.209 Q1999.4 240.435 2001.7 241.06 Q2003.99 241.662 2006.23 241.662 Q2009.24 241.662 2010.86 240.644 Q2012.48 239.602 2012.48 237.727 Q2012.48 235.991 2011.3 235.065 Q2010.15 234.139 2006.19 233.283 L2004.71 232.935 Q2000.75 232.102 1998.99 230.389 Q1997.23 228.653 1997.23 225.644 Q1997.23 221.986 1999.82 219.996 Q2002.41 218.005 2007.18 218.005 Q2009.54 218.005 2011.63 218.352 Q2013.71 218.699 2015.47 219.394 Z\" fill=\"#000000\" fill-rule=\"evenodd\" fill-opacity=\"1\" /><path clip-path=\"url(#clip650)\" d=\"M 0 0 M2021.33 218.63 L2025.59 218.63 L2025.59 244.556 L2021.33 244.556 L2021.33 218.63 M2021.33 208.537 L2025.59 208.537 L2025.59 213.931 L2021.33 213.931 L2021.33 208.537 Z\" fill=\"#000000\" fill-rule=\"evenodd\" fill-opacity=\"1\" /><path clip-path=\"url(#clip650)\" d=\"M 0 0 M2051.6 228.908 L2051.6 244.556 L2047.34 244.556 L2047.34 229.047 Q2047.34 225.366 2045.91 223.537 Q2044.47 221.709 2041.6 221.709 Q2038.15 221.709 2036.16 223.908 Q2034.17 226.107 2034.17 229.903 L2034.17 244.556 L2029.89 244.556 L2029.89 218.63 L2034.17 218.63 L2034.17 222.658 Q2035.7 220.32 2037.76 219.162 Q2039.84 218.005 2042.55 218.005 Q2047.02 218.005 2049.31 220.783 Q2051.6 223.537 2051.6 228.908 Z\" fill=\"#000000\" fill-rule=\"evenodd\" fill-opacity=\"1\" /><path clip-path=\"url(#clip650)\" d=\"M 0 0 M2078.25 230.528 L2078.25 232.611 L2058.66 232.611 Q2058.94 237.009 2061.3 239.324 Q2063.69 241.616 2067.92 241.616 Q2070.38 241.616 2072.67 241.014 Q2074.98 240.412 2077.25 239.209 L2077.25 243.236 Q2074.96 244.208 2072.55 244.718 Q2070.15 245.227 2067.67 245.227 Q2061.46 245.227 2057.83 241.616 Q2054.22 238.005 2054.22 231.847 Q2054.22 225.482 2057.65 221.755 Q2061.09 218.005 2066.93 218.005 Q2072.16 218.005 2075.19 221.385 Q2078.25 224.741 2078.25 230.528 M2073.99 229.278 Q2073.94 225.783 2072.02 223.699 Q2070.12 221.616 2066.97 221.616 Q2063.41 221.616 2061.26 223.63 Q2059.13 225.644 2058.8 229.301 L2073.99 229.278 Z\" fill=\"#000000\" fill-rule=\"evenodd\" fill-opacity=\"1\" /><path clip-path=\"url(#clip650)\" d=\"M 0 0 M2099.24 219.394 L2099.24 223.422 Q2097.44 222.496 2095.49 222.033 Q2093.55 221.57 2091.46 221.57 Q2088.29 221.57 2086.7 222.542 Q2085.12 223.514 2085.12 225.459 Q2085.12 226.94 2086.26 227.797 Q2087.39 228.63 2090.82 229.394 L2092.27 229.718 Q2096.81 230.69 2098.71 232.472 Q2100.63 234.232 2100.63 237.403 Q2100.63 241.014 2097.76 243.121 Q2094.91 245.227 2089.91 245.227 Q2087.83 245.227 2085.56 244.81 Q2083.32 244.417 2080.82 243.607 L2080.82 239.209 Q2083.18 240.435 2085.47 241.06 Q2087.76 241.662 2090.01 241.662 Q2093.02 241.662 2094.64 240.644 Q2096.26 239.602 2096.26 237.727 Q2096.26 235.991 2095.08 235.065 Q2093.92 234.139 2089.96 233.283 L2088.48 232.935 Q2084.52 232.102 2082.76 230.389 Q2081 228.653 2081 225.644 Q2081 221.986 2083.59 219.996 Q2086.19 218.005 2090.96 218.005 Q2093.32 218.005 2095.4 218.352 Q2097.48 218.699 2099.24 219.394 Z\" fill=\"#000000\" fill-rule=\"evenodd\" fill-opacity=\"1\" /><circle clip-path=\"url(#clip650)\" cx=\"1877.64\" cy=\"287.756\" r=\"23\" fill=\"#0000ff\" fill-rule=\"evenodd\" fill-opacity=\"0.5\" stroke=\"#000000\" stroke-opacity=\"0.5\" stroke-width=\"0.682667\"/>\n",
       "<path clip-path=\"url(#clip650)\" d=\"M 0 0 M1989.27 269.017 L1989.27 272.559 L1985.19 272.559 Q1982.9 272.559 1982 273.485 Q1981.12 274.411 1981.12 276.818 L1981.12 279.11 L1988.13 279.11 L1988.13 282.42 L1981.12 282.42 L1981.12 305.036 L1976.84 305.036 L1976.84 282.42 L1972.76 282.42 L1972.76 279.11 L1976.84 279.11 L1976.84 277.304 Q1976.84 272.976 1978.85 271.008 Q1980.86 269.017 1985.24 269.017 L1989.27 269.017 Z\" fill=\"#000000\" fill-rule=\"evenodd\" fill-opacity=\"1\" /><path clip-path=\"url(#clip650)\" d=\"M 0 0 M2003.78 282.096 Q2000.35 282.096 1998.36 284.781 Q1996.37 287.443 1996.37 292.096 Q1996.37 296.749 1998.34 299.434 Q2000.33 302.096 2003.78 302.096 Q2007.18 302.096 2009.17 299.411 Q2011.16 296.726 2011.16 292.096 Q2011.16 287.49 2009.17 284.804 Q2007.18 282.096 2003.78 282.096 M2003.78 278.485 Q2009.34 278.485 2012.51 282.096 Q2015.68 285.707 2015.68 292.096 Q2015.68 298.462 2012.51 302.096 Q2009.34 305.707 2003.78 305.707 Q1998.2 305.707 1995.03 302.096 Q1991.88 298.462 1991.88 292.096 Q1991.88 285.707 1995.03 282.096 Q1998.2 278.485 2003.78 278.485 Z\" fill=\"#000000\" fill-rule=\"evenodd\" fill-opacity=\"1\" /><path clip-path=\"url(#clip650)\" d=\"M 0 0 M2019.71 294.804 L2019.71 279.11 L2023.96 279.11 L2023.96 294.642 Q2023.96 298.323 2025.4 300.175 Q2026.84 302.003 2029.71 302.003 Q2033.15 302.003 2035.15 299.804 Q2037.16 297.605 2037.16 293.809 L2037.16 279.11 L2041.42 279.11 L2041.42 305.036 L2037.16 305.036 L2037.16 301.054 Q2035.61 303.415 2033.55 304.573 Q2031.51 305.707 2028.8 305.707 Q2024.34 305.707 2022.02 302.929 Q2019.71 300.151 2019.71 294.804 M2030.42 278.485 L2030.42 278.485 Z\" fill=\"#000000\" fill-rule=\"evenodd\" fill-opacity=\"1\" /><path clip-path=\"url(#clip650)\" d=\"M 0 0 M2060.91 283.091 Q2060.19 282.675 2059.33 282.49 Q2058.5 282.281 2057.48 282.281 Q2053.87 282.281 2051.93 284.642 Q2050.01 286.98 2050.01 291.378 L2050.01 305.036 L2045.72 305.036 L2045.72 279.11 L2050.01 279.11 L2050.01 283.138 Q2051.35 280.777 2053.5 279.642 Q2055.65 278.485 2058.73 278.485 Q2059.17 278.485 2059.71 278.554 Q2060.24 278.601 2060.89 278.716 L2060.91 283.091 Z\" fill=\"#000000\" fill-rule=\"evenodd\" fill-opacity=\"1\" /><path clip-path=\"url(#clip650)\" d=\"M 0 0 M2086.09 289.388 L2086.09 305.036 L2081.83 305.036 L2081.83 289.527 Q2081.83 285.846 2080.4 284.017 Q2078.96 282.189 2076.09 282.189 Q2072.65 282.189 2070.65 284.388 Q2068.66 286.587 2068.66 290.383 L2068.66 305.036 L2064.38 305.036 L2064.38 279.11 L2068.66 279.11 L2068.66 283.138 Q2070.19 280.8 2072.25 279.642 Q2074.33 278.485 2077.04 278.485 Q2081.51 278.485 2083.8 281.263 Q2086.09 284.017 2086.09 289.388 Z\" fill=\"#000000\" fill-rule=\"evenodd\" fill-opacity=\"1\" /><path clip-path=\"url(#clip650)\" d=\"M 0 0 M2090.56 279.11 L2094.82 279.11 L2094.82 305.036 L2090.56 305.036 L2090.56 279.11 M2090.56 269.017 L2094.82 269.017 L2094.82 274.411 L2090.56 274.411 L2090.56 269.017 Z\" fill=\"#000000\" fill-rule=\"evenodd\" fill-opacity=\"1\" /><path clip-path=\"url(#clip650)\" d=\"M 0 0 M2115.82 279.874 L2115.82 283.902 Q2114.01 282.976 2112.07 282.513 Q2110.12 282.05 2108.04 282.05 Q2104.87 282.05 2103.27 283.022 Q2101.7 283.994 2101.7 285.939 Q2101.7 287.42 2102.83 288.277 Q2103.96 289.11 2107.39 289.874 L2108.85 290.198 Q2113.39 291.17 2115.28 292.952 Q2117.21 294.712 2117.21 297.883 Q2117.21 301.494 2114.33 303.601 Q2111.49 305.707 2106.49 305.707 Q2104.4 305.707 2102.14 305.29 Q2099.89 304.897 2097.39 304.087 L2097.39 299.689 Q2099.75 300.915 2102.04 301.54 Q2104.33 302.142 2106.58 302.142 Q2109.59 302.142 2111.21 301.124 Q2112.83 300.082 2112.83 298.207 Q2112.83 296.471 2111.65 295.545 Q2110.49 294.619 2106.53 293.763 L2105.05 293.415 Q2101.09 292.582 2099.33 290.869 Q2097.58 289.133 2097.58 286.124 Q2097.58 282.466 2100.17 280.476 Q2102.76 278.485 2107.53 278.485 Q2109.89 278.485 2111.97 278.832 Q2114.06 279.179 2115.82 279.874 Z\" fill=\"#000000\" fill-rule=\"evenodd\" fill-opacity=\"1\" /><path clip-path=\"url(#clip650)\" d=\"M 0 0 M2138.2 279.874 L2138.2 283.902 Q2136.39 282.976 2134.45 282.513 Q2132.51 282.05 2130.42 282.05 Q2127.25 282.05 2125.65 283.022 Q2124.08 283.994 2124.08 285.939 Q2124.08 287.42 2125.21 288.277 Q2126.35 289.11 2129.77 289.874 L2131.23 290.198 Q2135.77 291.17 2137.67 292.952 Q2139.59 294.712 2139.59 297.883 Q2139.59 301.494 2136.72 303.601 Q2133.87 305.707 2128.87 305.707 Q2126.79 305.707 2124.52 305.29 Q2122.27 304.897 2119.77 304.087 L2119.77 299.689 Q2122.14 300.915 2124.43 301.54 Q2126.72 302.142 2128.96 302.142 Q2131.97 302.142 2133.59 301.124 Q2135.21 300.082 2135.21 298.207 Q2135.21 296.471 2134.03 295.545 Q2132.88 294.619 2128.92 293.763 L2127.44 293.415 Q2123.48 292.582 2121.72 290.869 Q2119.96 289.133 2119.96 286.124 Q2119.96 282.466 2122.55 280.476 Q2125.14 278.485 2129.91 278.485 Q2132.27 278.485 2134.36 278.832 Q2136.44 279.179 2138.2 279.874 Z\" fill=\"#000000\" fill-rule=\"evenodd\" fill-opacity=\"1\" /><path clip-path=\"url(#clip650)\" d=\"M 0 0 M2166.23 291.008 L2166.23 293.091 L2146.65 293.091 Q2146.93 297.489 2149.29 299.804 Q2151.67 302.096 2155.91 302.096 Q2158.36 302.096 2160.65 301.494 Q2162.97 300.892 2165.24 299.689 L2165.24 303.716 Q2162.95 304.688 2160.54 305.198 Q2158.13 305.707 2155.65 305.707 Q2149.45 305.707 2145.82 302.096 Q2142.2 298.485 2142.2 292.327 Q2142.2 285.962 2145.63 282.235 Q2149.08 278.485 2154.91 278.485 Q2160.14 278.485 2163.18 281.865 Q2166.23 285.221 2166.23 291.008 M2161.97 289.758 Q2161.93 286.263 2160.01 284.179 Q2158.11 282.096 2154.96 282.096 Q2151.39 282.096 2149.24 284.11 Q2147.11 286.124 2146.79 289.781 L2161.97 289.758 Z\" fill=\"#000000\" fill-rule=\"evenodd\" fill-opacity=\"1\" /><path clip-path=\"url(#clip650)\" d=\"M 0 0 M2170.26 294.804 L2170.26 279.11 L2174.52 279.11 L2174.52 294.642 Q2174.52 298.323 2175.95 300.175 Q2177.39 302.003 2180.26 302.003 Q2183.71 302.003 2185.7 299.804 Q2187.71 297.605 2187.71 293.809 L2187.71 279.11 L2191.97 279.11 L2191.97 305.036 L2187.71 305.036 L2187.71 301.054 Q2186.16 303.415 2184.1 304.573 Q2182.07 305.707 2179.36 305.707 Q2174.89 305.707 2172.58 302.929 Q2170.26 300.151 2170.26 294.804 M2180.98 278.485 L2180.98 278.485 Z\" fill=\"#000000\" fill-rule=\"evenodd\" fill-opacity=\"1\" /><path clip-path=\"url(#clip650)\" d=\"M 0 0 M2211.46 283.091 Q2210.75 282.675 2209.89 282.49 Q2209.06 282.281 2208.04 282.281 Q2204.43 282.281 2202.48 284.642 Q2200.56 286.98 2200.56 291.378 L2200.56 305.036 L2196.28 305.036 L2196.28 279.11 L2200.56 279.11 L2200.56 283.138 Q2201.9 280.777 2204.06 279.642 Q2206.21 278.485 2209.29 278.485 Q2209.73 278.485 2210.26 278.554 Q2210.79 278.601 2211.44 278.716 L2211.46 283.091 Z\" fill=\"#000000\" fill-rule=\"evenodd\" fill-opacity=\"1\" /><path clip-path=\"url(#clip650)\" d=\"M 0 0 M2232.46 279.874 L2232.46 283.902 Q2230.65 282.976 2228.71 282.513 Q2226.76 282.05 2224.68 282.05 Q2221.51 282.05 2219.91 283.022 Q2218.34 283.994 2218.34 285.939 Q2218.34 287.42 2219.47 288.277 Q2220.61 289.11 2224.03 289.874 L2225.49 290.198 Q2230.03 291.17 2231.93 292.952 Q2233.85 294.712 2233.85 297.883 Q2233.85 301.494 2230.98 303.601 Q2228.13 305.707 2223.13 305.707 Q2221.05 305.707 2218.78 305.29 Q2216.53 304.897 2214.03 304.087 L2214.03 299.689 Q2216.39 300.915 2218.69 301.54 Q2220.98 302.142 2223.22 302.142 Q2226.23 302.142 2227.85 301.124 Q2229.47 300.082 2229.47 298.207 Q2229.47 296.471 2228.29 295.545 Q2227.14 294.619 2223.18 293.763 L2221.7 293.415 Q2217.74 292.582 2215.98 290.869 Q2214.22 289.133 2214.22 286.124 Q2214.22 282.466 2216.81 280.476 Q2219.4 278.485 2224.17 278.485 Q2226.53 278.485 2228.62 278.832 Q2230.7 279.179 2232.46 279.874 Z\" fill=\"#000000\" fill-rule=\"evenodd\" fill-opacity=\"1\" /><path clip-path=\"url(#clip650)\" d=\"M 0 0 M2275.35 1081.4 L2288.72 1081.4 L2288.72 1035.26 L2274.17 1038.18 L2274.17 1030.72 L2288.64 1027.81 L2296.82 1027.81 L2296.82 1081.4 L2310.19 1081.4 L2310.19 1088.29 L2275.35 1088.29 L2275.35 1081.4 Z\" fill=\"#8b0000\" fill-rule=\"evenodd\" fill-opacity=\"1\" /><path clip-path=\"url(#clip650)\" d=\"M 0 0 M263.631 1409.75 L292.19 1409.75 L292.19 1416.64 L253.787 1416.64 L253.787 1409.75 Q258.446 1404.93 266.466 1396.83 Q274.528 1388.68 276.594 1386.33 Q280.523 1381.92 282.062 1378.88 Q283.642 1375.8 283.642 1372.85 Q283.642 1368.02 280.239 1364.99 Q276.877 1361.95 271.449 1361.95 Q267.601 1361.95 263.307 1363.29 Q259.053 1364.62 254.192 1367.34 L254.192 1359.07 Q259.134 1357.09 263.428 1356.07 Q267.722 1355.06 271.287 1355.06 Q280.685 1355.06 286.275 1359.76 Q291.866 1364.46 291.866 1372.32 Q291.866 1376.05 290.448 1379.41 Q289.07 1382.73 285.384 1387.27 Q284.371 1388.44 278.943 1394.07 Q273.515 1399.66 263.631 1409.75 Z\" fill=\"#8b0000\" fill-rule=\"evenodd\" fill-opacity=\"1\" /><path clip-path=\"url(#clip650)\" d=\"M 0 0 M2275.35 1081.4 L2288.72 1081.4 L2288.72 1035.26 L2274.17 1038.18 L2274.17 1030.72 L2288.64 1027.81 L2296.82 1027.81 L2296.82 1081.4 L2310.19 1081.4 L2310.19 1088.29 L2275.35 1088.29 L2275.35 1081.4 Z\" fill=\"#00008b\" fill-rule=\"evenodd\" fill-opacity=\"1\" /><path clip-path=\"url(#clip650)\" d=\"M 0 0 M1089.91 183.61 L1118.46 183.61 L1118.46 190.496 L1080.06 190.496 L1080.06 183.61 Q1084.72 178.789 1092.74 170.687 Q1100.8 162.545 1102.87 160.196 Q1106.8 155.78 1108.34 152.742 Q1109.92 149.663 1109.92 146.706 Q1109.92 141.885 1106.51 138.847 Q1103.15 135.809 1097.72 135.809 Q1093.88 135.809 1089.58 137.146 Q1085.33 138.483 1080.47 141.197 L1080.47 132.933 Q1085.41 130.948 1089.7 129.935 Q1094 128.923 1097.56 128.923 Q1106.96 128.923 1112.55 133.622 Q1118.14 138.321 1118.14 146.179 Q1118.14 149.906 1116.72 153.268 Q1115.35 156.59 1111.66 161.127 Q1110.65 162.302 1105.22 167.933 Q1099.79 173.523 1089.91 183.61 Z\" fill=\"#00008b\" fill-rule=\"evenodd\" fill-opacity=\"1\" /><path clip-path=\"url(#clip650)\" d=\"M 0 0 M1106.7 157.887 Q1112.57 159.142 1115.85 163.112 Q1119.17 167.082 1119.17 172.915 Q1119.17 181.868 1113.02 186.769 Q1106.86 191.671 1095.52 191.671 Q1091.71 191.671 1087.66 190.901 Q1083.65 190.172 1079.35 188.673 L1079.35 180.774 Q1082.76 182.759 1086.81 183.772 Q1090.86 184.785 1095.27 184.785 Q1102.97 184.785 1106.98 181.746 Q1111.03 178.708 1111.03 172.915 Q1111.03 167.568 1107.26 164.571 Q1103.54 161.532 1096.85 161.532 L1089.8 161.532 L1089.8 154.808 L1097.18 154.808 Q1103.21 154.808 1106.41 152.418 Q1109.61 149.987 1109.61 145.45 Q1109.61 140.792 1106.29 138.321 Q1103.01 135.809 1096.85 135.809 Q1093.49 135.809 1089.64 136.538 Q1085.79 137.267 1081.18 138.807 L1081.18 131.515 Q1085.83 130.219 1089.89 129.571 Q1093.98 128.923 1097.58 128.923 Q1106.9 128.923 1112.33 133.176 Q1117.76 137.389 1117.76 144.6 Q1117.76 149.623 1114.88 153.106 Q1112 156.55 1106.7 157.887 Z\" fill=\"#00008b\" fill-rule=\"evenodd\" fill-opacity=\"1\" /></svg>\n"
      ]
     },
     "execution_count": 46,
     "metadata": {},
     "output_type": "execute_result"
    }
   ],
   "source": [
    "plot_routes(solution_petite, instance_petite, j=2)"
   ]
  },
  {
   "cell_type": "markdown",
   "metadata": {},
   "source": [
    "Stocks"
   ]
  },
  {
   "cell_type": "code",
   "execution_count": 47,
   "metadata": {
    "ExecuteTime": {
     "end_time": "2020-11-12T17:00:26.439000+01:00",
     "start_time": "2020-11-12T15:59:42.663Z"
    }
   },
   "outputs": [
    {
     "data": {
      "text/plain": [
       "plot_stocks (generic function with 1 method)"
      ]
     },
     "execution_count": 47,
     "metadata": {},
     "output_type": "execute_result"
    }
   ],
   "source": [
    "function plot_stocks(solution::Solution, instance::Instance, usine::Usine)::Plots.Plot\n",
    "    su, _ = compute_stocks(solution, instance)\n",
    "\n",
    "    _, E, J = size(su)\n",
    "    pl = plot()\n",
    "    for e = 1:E\n",
    "        plot!(\n",
    "            pl,\n",
    "            1:J,\n",
    "            su[usine.u, e, :],\n",
    "            label=\"e=$e\",\n",
    "            lw=3,\n",
    "            markershape=:circle\n",
    "        )\n",
    "    end\n",
    "    plot!(\n",
    "        pl,\n",
    "        title=\"Stocks de l'usine $(usine.u)\",\n",
    "        ylabel=\"stock s[e, j]\",\n",
    "        xlabel=\"jour j\",\n",
    "        xticks=1:J,\n",
    "        xlims=(0.5,J+0.5),\n",
    "        ylims=(0, maximum(su[usine.u, :, :]) + 1)\n",
    "    )\n",
    "    return pl\n",
    "end"
   ]
  },
  {
   "cell_type": "code",
   "execution_count": 48,
   "metadata": {
    "ExecuteTime": {
     "end_time": "2020-11-12T17:00:26.442000+01:00",
     "start_time": "2020-11-12T15:59:42.665Z"
    }
   },
   "outputs": [
    {
     "data": {
      "text/plain": [
       "plot_stocks (generic function with 2 methods)"
      ]
     },
     "execution_count": 48,
     "metadata": {},
     "output_type": "execute_result"
    }
   ],
   "source": [
    "function plot_stocks(solution::Solution, instance::Instance, fournisseur::Fournisseur)::Plots.Plot\n",
    "    _, sf = compute_stocks(solution, instance)\n",
    "\n",
    "    _, E, J = size(sf)\n",
    "    pl = plot()\n",
    "    for e = 1:E\n",
    "        plot!(\n",
    "            pl,\n",
    "            1:J,\n",
    "            sf[fournisseur.f, e, :],\n",
    "            label=\"e=$e\",\n",
    "            lw=3,\n",
    "            markershape=:circle\n",
    "        )\n",
    "    end\n",
    "    plot!(\n",
    "        pl,\n",
    "        title=\"Stocks du fournisseur $(fournisseur.f)\",\n",
    "        ylabel=\"stock s[e, j]\",\n",
    "        xlabel=\"jour j\",\n",
    "        xticks=1:J,\n",
    "        xlims=(0.5,J+0.5),\n",
    "        ylims=(0, maximum(sf[fournisseur.f, :, :]) + 1)\n",
    "    )\n",
    "    return pl\n",
    "end"
   ]
  },
  {
   "cell_type": "code",
   "execution_count": 49,
   "metadata": {
    "ExecuteTime": {
     "end_time": "2020-11-12T17:00:27.791000+01:00",
     "start_time": "2020-11-12T15:59:42.667Z"
    }
   },
   "outputs": [
    {
     "data": {
      "image/svg+xml": [
       "<?xml version=\"1.0\" encoding=\"utf-8\"?>\n",
       "<svg xmlns=\"http://www.w3.org/2000/svg\" xmlns:xlink=\"http://www.w3.org/1999/xlink\" width=\"600\" height=\"400\" viewBox=\"0 0 2400 1600\">\n",
       "<defs>\n",
       "  <clipPath id=\"clip690\">\n",
       "    <rect x=\"0\" y=\"0\" width=\"2400\" height=\"1600\"/>\n",
       "  </clipPath>\n",
       "</defs>\n",
       "<path clip-path=\"url(#clip690)\" d=\"\n",
       "M0 1600 L2400 1600 L2400 0 L0 0  Z\n",
       "  \" fill=\"#ffffff\" fill-rule=\"evenodd\" fill-opacity=\"1\"/>\n",
       "<defs>\n",
       "  <clipPath id=\"clip691\">\n",
       "    <rect x=\"480\" y=\"0\" width=\"1681\" height=\"1600\"/>\n",
       "  </clipPath>\n",
       "</defs>\n",
       "<path clip-path=\"url(#clip690)\" d=\"\n",
       "M197.852 1423.18 L2352.76 1423.18 L2352.76 123.472 L197.852 123.472  Z\n",
       "  \" fill=\"#ffffff\" fill-rule=\"evenodd\" fill-opacity=\"1\"/>\n",
       "<defs>\n",
       "  <clipPath id=\"clip692\">\n",
       "    <rect x=\"197\" y=\"123\" width=\"2156\" height=\"1301\"/>\n",
       "  </clipPath>\n",
       "</defs>\n",
       "<polyline clip-path=\"url(#clip692)\" style=\"stroke:#000000; stroke-width:2; stroke-opacity:0.1; fill:none\" points=\"\n",
       "  557.003,1423.18 557.003,123.472 \n",
       "  \"/>\n",
       "<polyline clip-path=\"url(#clip692)\" style=\"stroke:#000000; stroke-width:2; stroke-opacity:0.1; fill:none\" points=\"\n",
       "  1275.3,1423.18 1275.3,123.472 \n",
       "  \"/>\n",
       "<polyline clip-path=\"url(#clip692)\" style=\"stroke:#000000; stroke-width:2; stroke-opacity:0.1; fill:none\" points=\"\n",
       "  1993.61,1423.18 1993.61,123.472 \n",
       "  \"/>\n",
       "<polyline clip-path=\"url(#clip690)\" style=\"stroke:#000000; stroke-width:4; stroke-opacity:1; fill:none\" points=\"\n",
       "  197.852,1423.18 2352.76,1423.18 \n",
       "  \"/>\n",
       "<polyline clip-path=\"url(#clip690)\" style=\"stroke:#000000; stroke-width:4; stroke-opacity:1; fill:none\" points=\"\n",
       "  557.003,1423.18 557.003,1407.58 \n",
       "  \"/>\n",
       "<polyline clip-path=\"url(#clip690)\" style=\"stroke:#000000; stroke-width:4; stroke-opacity:1; fill:none\" points=\"\n",
       "  1275.3,1423.18 1275.3,1407.58 \n",
       "  \"/>\n",
       "<polyline clip-path=\"url(#clip690)\" style=\"stroke:#000000; stroke-width:4; stroke-opacity:1; fill:none\" points=\"\n",
       "  1993.61,1423.18 1993.61,1407.58 \n",
       "  \"/>\n",
       "<path clip-path=\"url(#clip690)\" d=\"M 0 0 M547.385 1479.92 L555.024 1479.92 L555.024 1453.55 L546.714 1455.22 L546.714 1450.96 L554.978 1449.29 L559.654 1449.29 L559.654 1479.92 L567.292 1479.92 L567.292 1483.85 L547.385 1483.85 L547.385 1479.92 Z\" fill=\"#000000\" fill-rule=\"evenodd\" fill-opacity=\"1\" /><path clip-path=\"url(#clip690)\" d=\"M 0 0 M1269.96 1479.92 L1286.28 1479.92 L1286.28 1483.85 L1264.33 1483.85 L1264.33 1479.92 Q1266.99 1477.16 1271.58 1472.53 Q1276.18 1467.88 1277.36 1466.54 Q1279.61 1464.01 1280.49 1462.28 Q1281.39 1460.52 1281.39 1458.83 Q1281.39 1456.07 1279.45 1454.34 Q1277.53 1452.6 1274.42 1452.6 Q1272.23 1452.6 1269.77 1453.37 Q1267.34 1454.13 1264.56 1455.68 L1264.56 1450.96 Q1267.39 1449.82 1269.84 1449.25 Q1272.29 1448.67 1274.33 1448.67 Q1279.7 1448.67 1282.9 1451.35 Q1286.09 1454.04 1286.09 1458.53 Q1286.09 1460.66 1285.28 1462.58 Q1284.49 1464.48 1282.39 1467.07 Q1281.81 1467.74 1278.71 1470.96 Q1275.61 1474.15 1269.96 1479.92 Z\" fill=\"#000000\" fill-rule=\"evenodd\" fill-opacity=\"1\" /><path clip-path=\"url(#clip690)\" d=\"M 0 0 M1997.85 1465.22 Q2001.21 1465.94 2003.08 1468.2 Q2004.98 1470.47 2004.98 1473.81 Q2004.98 1478.92 2001.46 1481.72 Q1997.95 1484.52 1991.46 1484.52 Q1989.29 1484.52 1986.97 1484.08 Q1984.68 1483.67 1982.23 1482.81 L1982.23 1478.3 Q1984.17 1479.43 1986.49 1480.01 Q1988.8 1480.59 1991.33 1480.59 Q1995.72 1480.59 1998.02 1478.85 Q2000.33 1477.12 2000.33 1473.81 Q2000.33 1470.75 1998.18 1469.04 Q1996.05 1467.3 1992.23 1467.3 L1988.2 1467.3 L1988.2 1463.46 L1992.41 1463.46 Q1995.86 1463.46 1997.69 1462.09 Q1999.52 1460.7 1999.52 1458.11 Q1999.52 1455.45 1997.62 1454.04 Q1995.75 1452.6 1992.23 1452.6 Q1990.31 1452.6 1988.11 1453.02 Q1985.91 1453.44 1983.27 1454.31 L1983.27 1450.15 Q1985.93 1449.41 1988.25 1449.04 Q1990.58 1448.67 1992.64 1448.67 Q1997.97 1448.67 2001.07 1451.1 Q2004.17 1453.5 2004.17 1457.63 Q2004.17 1460.5 2002.53 1462.49 Q2000.89 1464.45 1997.85 1465.22 Z\" fill=\"#000000\" fill-rule=\"evenodd\" fill-opacity=\"1\" /><path clip-path=\"url(#clip690)\" d=\"M 0 0 M1210.42 1520.4 L1216.28 1520.4 L1216.28 1556.68 Q1216.28 1563.49 1213.67 1566.55 Q1211.09 1569.6 1205.33 1569.6 L1203.1 1569.6 L1203.1 1564.64 L1204.66 1564.64 Q1208 1564.64 1209.21 1563.08 Q1210.42 1561.55 1210.42 1556.68 L1210.42 1520.4 M1210.42 1506.52 L1216.28 1506.52 L1216.28 1513.93 L1210.42 1513.93 L1210.42 1506.52 Z\" fill=\"#000000\" fill-rule=\"evenodd\" fill-opacity=\"1\" /><path clip-path=\"url(#clip690)\" d=\"M 0 0 M1236.23 1524.5 Q1231.52 1524.5 1228.79 1528.19 Q1226.05 1531.85 1226.05 1538.25 Q1226.05 1544.65 1228.75 1548.34 Q1231.49 1552 1236.23 1552 Q1240.91 1552 1243.65 1548.31 Q1246.39 1544.62 1246.39 1538.25 Q1246.39 1531.92 1243.65 1528.23 Q1240.91 1524.5 1236.23 1524.5 M1236.23 1519.54 Q1243.87 1519.54 1248.23 1524.5 Q1252.59 1529.47 1252.59 1538.25 Q1252.59 1547 1248.23 1552 Q1243.87 1556.97 1236.23 1556.97 Q1228.56 1556.97 1224.2 1552 Q1219.87 1547 1219.87 1538.25 Q1219.87 1529.47 1224.2 1524.5 Q1228.56 1519.54 1236.23 1519.54 Z\" fill=\"#000000\" fill-rule=\"evenodd\" fill-opacity=\"1\" /><path clip-path=\"url(#clip690)\" d=\"M 0 0 M1258.13 1541.98 L1258.13 1520.4 L1263.99 1520.4 L1263.99 1541.75 Q1263.99 1546.81 1265.96 1549.36 Q1267.94 1551.87 1271.88 1551.87 Q1276.63 1551.87 1279.36 1548.85 Q1282.13 1545.83 1282.13 1540.61 L1282.13 1520.4 L1287.99 1520.4 L1287.99 1556.04 L1282.13 1556.04 L1282.13 1550.57 Q1280 1553.82 1277.17 1555.41 Q1274.37 1556.97 1270.64 1556.97 Q1264.5 1556.97 1261.32 1553.15 Q1258.13 1549.33 1258.13 1541.98 M1272.87 1519.54 L1272.87 1519.54 Z\" fill=\"#000000\" fill-rule=\"evenodd\" fill-opacity=\"1\" /><path clip-path=\"url(#clip690)\" d=\"M 0 0 M1314.79 1525.87 Q1313.8 1525.3 1312.62 1525.04 Q1311.48 1524.76 1310.08 1524.76 Q1305.11 1524.76 1302.44 1528 Q1299.8 1531.22 1299.8 1537.27 L1299.8 1556.04 L1293.91 1556.04 L1293.91 1520.4 L1299.8 1520.4 L1299.8 1525.93 Q1301.64 1522.69 1304.6 1521.13 Q1307.56 1519.54 1311.8 1519.54 Q1312.4 1519.54 1313.13 1519.63 Q1313.86 1519.7 1314.76 1519.85 L1314.79 1525.87 Z\" fill=\"#000000\" fill-rule=\"evenodd\" fill-opacity=\"1\" /><path clip-path=\"url(#clip690)\" d=\"M 0 0 M1341.65 1520.4 L1347.51 1520.4 L1347.51 1556.68 Q1347.51 1563.49 1344.9 1566.55 Q1342.32 1569.6 1336.56 1569.6 L1334.33 1569.6 L1334.33 1564.64 L1335.89 1564.64 Q1339.23 1564.64 1340.44 1563.08 Q1341.65 1561.55 1341.65 1556.68 L1341.65 1520.4 M1341.65 1506.52 L1347.51 1506.52 L1347.51 1513.93 L1341.65 1513.93 L1341.65 1506.52 Z\" fill=\"#000000\" fill-rule=\"evenodd\" fill-opacity=\"1\" /><polyline clip-path=\"url(#clip692)\" style=\"stroke:#000000; stroke-width:2; stroke-opacity:0.1; fill:none\" points=\"\n",
       "  197.852,1423.18 2352.76,1423.18 \n",
       "  \"/>\n",
       "<polyline clip-path=\"url(#clip692)\" style=\"stroke:#000000; stroke-width:2; stroke-opacity:0.1; fill:none\" points=\"\n",
       "  197.852,1040.91 2352.76,1040.91 \n",
       "  \"/>\n",
       "<polyline clip-path=\"url(#clip692)\" style=\"stroke:#000000; stroke-width:2; stroke-opacity:0.1; fill:none\" points=\"\n",
       "  197.852,658.646 2352.76,658.646 \n",
       "  \"/>\n",
       "<polyline clip-path=\"url(#clip692)\" style=\"stroke:#000000; stroke-width:2; stroke-opacity:0.1; fill:none\" points=\"\n",
       "  197.852,276.379 2352.76,276.379 \n",
       "  \"/>\n",
       "<polyline clip-path=\"url(#clip690)\" style=\"stroke:#000000; stroke-width:4; stroke-opacity:1; fill:none\" points=\"\n",
       "  197.852,1423.18 197.852,123.472 \n",
       "  \"/>\n",
       "<polyline clip-path=\"url(#clip690)\" style=\"stroke:#000000; stroke-width:4; stroke-opacity:1; fill:none\" points=\"\n",
       "  197.852,1423.18 223.711,1423.18 \n",
       "  \"/>\n",
       "<polyline clip-path=\"url(#clip690)\" style=\"stroke:#000000; stroke-width:4; stroke-opacity:1; fill:none\" points=\"\n",
       "  197.852,1040.91 223.711,1040.91 \n",
       "  \"/>\n",
       "<polyline clip-path=\"url(#clip690)\" style=\"stroke:#000000; stroke-width:4; stroke-opacity:1; fill:none\" points=\"\n",
       "  197.852,658.646 223.711,658.646 \n",
       "  \"/>\n",
       "<polyline clip-path=\"url(#clip690)\" style=\"stroke:#000000; stroke-width:4; stroke-opacity:1; fill:none\" points=\"\n",
       "  197.852,276.379 223.711,276.379 \n",
       "  \"/>\n",
       "<path clip-path=\"url(#clip690)\" d=\"M 0 0 M149.908 1408.98 Q146.297 1408.98 144.468 1412.54 Q142.663 1416.08 142.663 1423.21 Q142.663 1430.32 144.468 1433.89 Q146.297 1437.43 149.908 1437.43 Q153.542 1437.43 155.348 1433.89 Q157.177 1430.32 157.177 1423.21 Q157.177 1416.08 155.348 1412.54 Q153.542 1408.98 149.908 1408.98 M149.908 1405.27 Q155.718 1405.27 158.774 1409.88 Q161.852 1414.46 161.852 1423.21 Q161.852 1431.94 158.774 1436.55 Q155.718 1441.13 149.908 1441.13 Q144.098 1441.13 141.019 1436.55 Q137.964 1431.94 137.964 1423.21 Q137.964 1414.46 141.019 1409.88 Q144.098 1405.27 149.908 1405.27 Z\" fill=\"#000000\" fill-rule=\"evenodd\" fill-opacity=\"1\" /><path clip-path=\"url(#clip690)\" d=\"M 0 0 M140.95 1023.63 L159.306 1023.63 L159.306 1027.57 L145.232 1027.57 L145.232 1036.04 Q146.251 1035.69 147.269 1035.53 Q148.288 1035.35 149.306 1035.35 Q155.093 1035.35 158.473 1038.52 Q161.852 1041.69 161.852 1047.1 Q161.852 1052.68 158.38 1055.79 Q154.908 1058.86 148.589 1058.86 Q146.413 1058.86 144.144 1058.49 Q141.899 1058.12 139.492 1057.38 L139.492 1052.68 Q141.575 1053.82 143.797 1054.37 Q146.019 1054.93 148.496 1054.93 Q152.501 1054.93 154.839 1052.82 Q157.177 1050.72 157.177 1047.1 Q157.177 1043.49 154.839 1041.39 Q152.501 1039.28 148.496 1039.28 Q146.621 1039.28 144.746 1039.7 Q142.894 1040.11 140.95 1040.99 L140.95 1023.63 Z\" fill=\"#000000\" fill-rule=\"evenodd\" fill-opacity=\"1\" /><path clip-path=\"url(#clip690)\" d=\"M 0 0 M114.931 671.991 L122.57 671.991 L122.57 645.625 L114.26 647.292 L114.26 643.033 L122.524 641.366 L127.2 641.366 L127.2 671.991 L134.839 671.991 L134.839 675.926 L114.931 675.926 L114.931 671.991 Z\" fill=\"#000000\" fill-rule=\"evenodd\" fill-opacity=\"1\" /><path clip-path=\"url(#clip690)\" d=\"M 0 0 M149.908 644.445 Q146.297 644.445 144.468 648.009 Q142.663 651.551 142.663 658.681 Q142.663 665.787 144.468 669.352 Q146.297 672.894 149.908 672.894 Q153.542 672.894 155.348 669.352 Q157.177 665.787 157.177 658.681 Q157.177 651.551 155.348 648.009 Q153.542 644.445 149.908 644.445 M149.908 640.741 Q155.718 640.741 158.774 645.347 Q161.852 649.931 161.852 658.681 Q161.852 667.407 158.774 672.014 Q155.718 676.597 149.908 676.597 Q144.098 676.597 141.019 672.014 Q137.964 667.407 137.964 658.681 Q137.964 649.931 141.019 645.347 Q144.098 640.741 149.908 640.741 Z\" fill=\"#000000\" fill-rule=\"evenodd\" fill-opacity=\"1\" /><path clip-path=\"url(#clip690)\" d=\"M 0 0 M115.927 289.724 L123.566 289.724 L123.566 263.358 L115.256 265.025 L115.256 260.766 L123.519 259.099 L128.195 259.099 L128.195 289.724 L135.834 289.724 L135.834 293.659 L115.927 293.659 L115.927 289.724 Z\" fill=\"#000000\" fill-rule=\"evenodd\" fill-opacity=\"1\" /><path clip-path=\"url(#clip690)\" d=\"M 0 0 M140.95 259.099 L159.306 259.099 L159.306 263.034 L145.232 263.034 L145.232 271.506 Q146.251 271.159 147.269 270.997 Q148.288 270.812 149.306 270.812 Q155.093 270.812 158.473 273.983 Q161.852 277.154 161.852 282.571 Q161.852 288.15 158.38 291.252 Q154.908 294.33 148.589 294.33 Q146.413 294.33 144.144 293.96 Q141.899 293.589 139.492 292.849 L139.492 288.15 Q141.575 289.284 143.797 289.839 Q146.019 290.395 148.496 290.395 Q152.501 290.395 154.839 288.289 Q157.177 286.182 157.177 282.571 Q157.177 278.96 154.839 276.853 Q152.501 274.747 148.496 274.747 Q146.621 274.747 144.746 275.164 Q142.894 275.58 140.95 276.46 L140.95 259.099 Z\" fill=\"#000000\" fill-rule=\"evenodd\" fill-opacity=\"1\" /><path clip-path=\"url(#clip690)\" d=\"M 0 0 M53.4065 913.515 L58.9447 913.515 Q57.6716 915.997 57.035 918.671 Q56.3984 921.345 56.3984 924.209 Q56.3984 928.57 57.7352 930.766 Q59.072 932.93 61.7456 932.93 Q63.7826 932.93 64.9603 931.371 Q66.1061 929.811 67.1565 925.1 L67.6021 923.095 Q68.9389 916.857 71.3897 914.247 Q73.8086 911.605 78.1691 911.605 Q83.1344 911.605 86.0308 915.552 Q88.9272 919.467 88.9272 926.342 Q88.9272 929.206 88.3543 932.325 Q87.8132 935.413 86.6992 938.85 L80.6518 938.85 Q82.3387 935.604 83.198 932.453 Q84.0256 929.302 84.0256 926.214 Q84.0256 922.077 82.6251 919.849 Q81.1929 917.621 78.6147 917.621 Q76.2276 917.621 74.9545 919.244 Q73.6813 920.835 72.5037 926.278 L72.0262 928.315 Q70.8804 933.758 68.5251 936.177 Q66.138 938.596 62.0002 938.596 Q56.9713 938.596 54.2341 935.031 Q51.4968 931.466 51.4968 924.909 Q51.4968 921.663 51.9743 918.798 Q52.4517 915.934 53.4065 913.515 Z\" fill=\"#000000\" fill-rule=\"evenodd\" fill-opacity=\"1\" /><path clip-path=\"url(#clip690)\" d=\"M 0 0 M42.2347 899.669 L52.3562 899.669 L52.3562 887.606 L56.9077 887.606 L56.9077 899.669 L76.2594 899.669 Q80.6199 899.669 81.8613 898.492 Q83.1026 897.282 83.1026 893.622 L83.1026 887.606 L88.0042 887.606 L88.0042 893.622 Q88.0042 900.401 85.4897 902.98 Q82.9434 905.558 76.2594 905.558 L56.9077 905.558 L56.9077 909.854 L52.3562 909.854 L52.3562 905.558 L42.2347 905.558 L42.2347 899.669 Z\" fill=\"#000000\" fill-rule=\"evenodd\" fill-opacity=\"1\" /><path clip-path=\"url(#clip690)\" d=\"M 0 0 M56.4621 867.65 Q56.4621 872.36 60.1542 875.098 Q63.8145 877.835 70.212 877.835 Q76.6095 877.835 80.3017 875.13 Q83.9619 872.392 83.9619 867.65 Q83.9619 862.971 80.2698 860.234 Q76.5777 857.497 70.212 857.497 Q63.8781 857.497 60.186 860.234 Q56.4621 862.971 56.4621 867.65 M51.4968 867.65 Q51.4968 860.011 56.4621 855.65 Q61.4273 851.29 70.212 851.29 Q78.9649 851.29 83.9619 855.65 Q88.9272 860.011 88.9272 867.65 Q88.9272 875.321 83.9619 879.681 Q78.9649 884.01 70.212 884.01 Q61.4273 884.01 56.4621 879.681 Q51.4968 875.321 51.4968 867.65 Z\" fill=\"#000000\" fill-rule=\"evenodd\" fill-opacity=\"1\" /><path clip-path=\"url(#clip690)\" d=\"M 0 0 M53.7248 819.493 L59.1993 819.493 Q57.8307 821.976 57.1623 824.49 Q56.4621 826.973 56.4621 829.519 Q56.4621 835.217 60.0905 838.368 Q63.6872 841.519 70.212 841.519 Q76.7369 841.519 80.3653 838.368 Q83.9619 835.217 83.9619 829.519 Q83.9619 826.973 83.2935 824.49 Q82.5933 821.976 81.2247 819.493 L86.6355 819.493 Q87.7814 821.944 88.3543 824.586 Q88.9272 827.196 88.9272 830.156 Q88.9272 838.208 83.8664 842.951 Q78.8057 847.693 70.212 847.693 Q61.491 847.693 56.4939 842.919 Q51.4968 838.113 51.4968 829.774 Q51.4968 827.068 52.0697 824.49 Q52.6108 821.912 53.7248 819.493 Z\" fill=\"#000000\" fill-rule=\"evenodd\" fill-opacity=\"1\" /><path clip-path=\"url(#clip690)\" d=\"M 0 0 M38.479 813.573 L38.479 807.685 L67.7294 807.685 L52.3562 790.211 L52.3562 782.731 L69.0344 801.637 L88.0042 781.936 L88.0042 789.574 L70.5939 807.685 L88.0042 807.685 L88.0042 813.573 L38.479 813.573 Z\" fill=\"#000000\" fill-rule=\"evenodd\" fill-opacity=\"1\" /><path clip-path=\"url(#clip690)\" d=\"M 0 0 M53.4065 732.347 L58.9447 732.347 Q57.6716 734.829 57.035 737.503 Q56.3984 740.177 56.3984 743.041 Q56.3984 747.402 57.7352 749.598 Q59.072 751.762 61.7456 751.762 Q63.7826 751.762 64.9603 750.203 Q66.1061 748.643 67.1565 743.932 L67.6021 741.927 Q68.9389 735.689 71.3897 733.079 Q73.8086 730.437 78.1691 730.437 Q83.1344 730.437 86.0308 734.384 Q88.9272 738.299 88.9272 745.174 Q88.9272 748.038 88.3543 751.157 Q87.8132 754.245 86.6992 757.682 L80.6518 757.682 Q82.3387 754.436 83.198 751.285 Q84.0256 748.134 84.0256 745.046 Q84.0256 740.909 82.6251 738.681 Q81.1929 736.453 78.6147 736.453 Q76.2276 736.453 74.9545 738.076 Q73.6813 739.667 72.5037 745.11 L72.0262 747.147 Q70.8804 752.59 68.5251 755.009 Q66.138 757.428 62.0002 757.428 Q56.9713 757.428 54.2341 753.863 Q51.4968 750.298 51.4968 743.741 Q51.4968 740.495 51.9743 737.63 Q52.4517 734.766 53.4065 732.347 Z\" fill=\"#000000\" fill-rule=\"evenodd\" fill-opacity=\"1\" /><path clip-path=\"url(#clip690)\" d=\"M 0 0 M38.479 724.835 L38.479 711.34 L43.0304 711.34 L43.0304 718.979 L92.0464 718.979 L92.0464 711.34 L96.5979 711.34 L96.5979 724.835 L38.479 724.835 Z\" fill=\"#000000\" fill-rule=\"evenodd\" fill-opacity=\"1\" /><path clip-path=\"url(#clip690)\" d=\"M 0 0 M68.7161 674.705 L71.5806 674.705 L71.5806 701.632 Q77.6281 701.25 80.8109 698.004 Q83.9619 694.725 83.9619 688.901 Q83.9619 685.527 83.1344 682.376 Q82.3069 679.193 80.6518 676.074 L86.1899 676.074 Q87.5267 679.225 88.227 682.535 Q88.9272 685.845 88.9272 689.251 Q88.9272 697.781 83.9619 702.778 Q78.9967 707.743 70.5303 707.743 Q61.7774 707.743 56.6531 703.033 Q51.4968 698.29 51.4968 690.269 Q51.4968 683.076 56.1438 678.907 Q60.7589 674.705 68.7161 674.705 M66.9973 680.562 Q62.1912 680.625 59.3266 683.267 Q56.4621 685.877 56.4621 690.206 Q56.4621 695.107 59.2312 698.067 Q62.0002 700.996 67.0292 701.441 L66.9973 680.562 Z\" fill=\"#000000\" fill-rule=\"evenodd\" fill-opacity=\"1\" /><path clip-path=\"url(#clip690)\" d=\"M 0 0 M79.9197 667.066 L79.9197 660.351 L85.3942 660.351 L95.5793 665.57 L95.5793 669.676 L85.3942 667.066 L79.9197 667.066 Z\" fill=\"#000000\" fill-rule=\"evenodd\" fill-opacity=\"1\" /><path clip-path=\"url(#clip690)\" d=\"M 0 0 M52.3562 633.487 L52.3562 627.631 L88.6407 627.631 Q95.452 627.631 98.5076 630.241 Q101.563 632.819 101.563 638.58 L101.563 640.808 L96.5979 640.808 L96.5979 639.248 Q96.5979 635.906 95.0383 634.697 Q93.5105 633.487 88.6407 633.487 L52.3562 633.487 M38.479 633.487 L38.479 627.631 L45.895 627.631 L45.895 633.487 L38.479 633.487 Z\" fill=\"#000000\" fill-rule=\"evenodd\" fill-opacity=\"1\" /><path clip-path=\"url(#clip690)\" d=\"M 0 0 M38.479 607.802 L96.5979 607.802 L96.5979 621.297 L92.0464 621.297 L92.0464 613.69 L43.0304 613.69 L43.0304 621.297 L38.479 621.297 L38.479 607.802 Z\" fill=\"#000000\" fill-rule=\"evenodd\" fill-opacity=\"1\" /><path clip-path=\"url(#clip690)\" d=\"M 0 0 M971.952 14.0809 L971.952 22.0612 Q967.294 19.8332 963.162 18.7395 Q959.03 17.6457 955.181 17.6457 Q948.498 17.6457 944.852 20.2383 Q941.246 22.8309 941.246 27.611 Q941.246 31.6214 943.636 33.6873 Q946.067 35.7128 952.791 36.9686 L957.734 37.9813 Q966.889 39.7232 971.223 44.1387 Q975.598 48.5136 975.598 55.8863 Q975.598 64.6767 969.684 69.2137 Q963.81 73.7508 952.427 73.7508 Q948.133 73.7508 943.272 72.7785 Q938.451 71.8063 933.266 69.9024 L933.266 61.4765 Q938.249 64.2716 943.029 65.6895 Q947.809 67.1073 952.427 67.1073 Q959.435 67.1073 963.243 64.3527 Q967.051 61.598 967.051 56.4939 Q967.051 52.0379 964.296 49.5264 Q961.582 47.0148 955.344 45.759 L950.361 44.7868 Q941.206 42.9639 937.114 39.075 Q933.023 35.1862 933.023 28.2591 Q933.023 20.2383 938.654 15.6203 Q944.325 11.0023 954.25 11.0023 Q958.503 11.0023 962.919 11.7719 Q967.334 12.5416 971.952 14.0809 Z\" fill=\"#000000\" fill-rule=\"evenodd\" fill-opacity=\"1\" /><path clip-path=\"url(#clip690)\" d=\"M 0 0 M990.789 14.324 L990.789 27.2059 L1006.14 27.2059 L1006.14 32.9987 L990.789 32.9987 L990.789 57.6282 Q990.789 63.1779 992.288 64.7578 Q993.827 66.3376 998.486 66.3376 L1006.14 66.3376 L1006.14 72.576 L998.486 72.576 Q989.857 72.576 986.576 69.3758 Q983.295 66.1351 983.295 57.6282 L983.295 32.9987 L977.826 32.9987 L977.826 27.2059 L983.295 27.2059 L983.295 14.324 L990.789 14.324 Z\" fill=\"#000000\" fill-rule=\"evenodd\" fill-opacity=\"1\" /><path clip-path=\"url(#clip690)\" d=\"M 0 0 M1031.54 32.4315 Q1025.55 32.4315 1022.06 37.1306 Q1018.58 41.7891 1018.58 49.9314 Q1018.58 58.0738 1022.02 62.7728 Q1025.51 67.4314 1031.54 67.4314 Q1037.5 67.4314 1040.98 62.7323 Q1044.46 58.0333 1044.46 49.9314 Q1044.46 41.8701 1040.98 37.1711 Q1037.5 32.4315 1031.54 32.4315 M1031.54 26.1121 Q1041.26 26.1121 1046.81 32.4315 Q1052.36 38.7509 1052.36 49.9314 Q1052.36 61.0714 1046.81 67.4314 Q1041.26 73.7508 1031.54 73.7508 Q1021.78 73.7508 1016.23 67.4314 Q1010.72 61.0714 1010.72 49.9314 Q1010.72 38.7509 1016.23 32.4315 Q1021.78 26.1121 1031.54 26.1121 Z\" fill=\"#000000\" fill-rule=\"evenodd\" fill-opacity=\"1\" /><path clip-path=\"url(#clip690)\" d=\"M 0 0 M1092.83 28.9478 L1092.83 35.9153 Q1089.67 34.1734 1086.47 33.3227 Q1083.31 32.4315 1080.07 32.4315 Q1072.82 32.4315 1068.81 37.0496 Q1064.8 41.6271 1064.8 49.9314 Q1064.8 58.2358 1068.81 62.8538 Q1072.82 67.4314 1080.07 67.4314 Q1083.31 67.4314 1086.47 66.5807 Q1089.67 65.6895 1092.83 63.9476 L1092.83 70.8341 Q1089.71 72.2924 1086.35 73.0216 Q1083.03 73.7508 1079.26 73.7508 Q1069.01 73.7508 1062.98 67.3098 Q1056.94 60.8689 1056.94 49.9314 Q1056.94 38.832 1063.02 32.472 Q1069.13 26.1121 1079.75 26.1121 Q1083.19 26.1121 1086.47 26.8413 Q1089.75 27.5299 1092.83 28.9478 Z\" fill=\"#000000\" fill-rule=\"evenodd\" fill-opacity=\"1\" /><path clip-path=\"url(#clip690)\" d=\"M 0 0 M1100.37 9.54393 L1107.86 9.54393 L1107.86 46.7717 L1130.1 27.2059 L1139.62 27.2059 L1115.56 48.4326 L1140.63 72.576 L1130.91 72.576 L1107.86 50.4176 L1107.86 72.576 L1100.37 72.576 L1100.37 9.54393 Z\" fill=\"#000000\" fill-rule=\"evenodd\" fill-opacity=\"1\" /><path clip-path=\"url(#clip690)\" d=\"M 0 0 M1177.37 28.5427 L1177.37 35.5912 Q1174.21 33.9709 1170.81 33.1607 Q1167.41 32.3505 1163.76 32.3505 Q1158.21 32.3505 1155.42 34.0519 Q1152.66 35.7533 1152.66 39.156 Q1152.66 41.7486 1154.65 43.2475 Q1156.63 44.7058 1162.63 46.0426 L1165.18 46.6097 Q1173.12 48.3111 1176.44 51.4303 Q1179.8 54.509 1179.8 60.0587 Q1179.8 66.3781 1174.78 70.0644 Q1169.8 73.7508 1161.05 73.7508 Q1157.4 73.7508 1153.43 73.0216 Q1149.5 72.3329 1145.13 70.9151 L1145.13 63.2184 Q1149.26 65.3654 1153.27 66.4591 Q1157.28 67.5124 1161.21 67.5124 Q1166.48 67.5124 1169.31 65.73 Q1172.15 63.9071 1172.15 60.6258 Q1172.15 57.5877 1170.08 55.9673 Q1168.06 54.3469 1161.13 52.8481 L1158.54 52.2405 Q1151.61 50.7821 1148.53 47.7845 Q1145.45 44.7463 1145.45 39.4801 Q1145.45 33.0797 1149.99 29.5959 Q1154.53 26.1121 1162.87 26.1121 Q1167 26.1121 1170.65 26.7198 Q1174.29 27.3274 1177.37 28.5427 Z\" fill=\"#000000\" fill-rule=\"evenodd\" fill-opacity=\"1\" /><path clip-path=\"url(#clip690)\" d=\"M 0 0 M1243.85 34.0924 L1243.85 9.54393 L1251.3 9.54393 L1251.3 72.576 L1243.85 72.576 L1243.85 65.7705 Q1241.5 69.8214 1237.89 71.8063 Q1234.33 73.7508 1229.31 73.7508 Q1221.08 73.7508 1215.9 67.1883 Q1210.75 60.6258 1210.75 49.9314 Q1210.75 39.2371 1215.9 32.6746 Q1221.08 26.1121 1229.31 26.1121 Q1234.33 26.1121 1237.89 28.0971 Q1241.5 30.0415 1243.85 34.0924 M1218.45 49.9314 Q1218.45 58.1548 1221.81 62.8538 Q1225.21 67.5124 1231.13 67.5124 Q1237.04 67.5124 1240.45 62.8538 Q1243.85 58.1548 1243.85 49.9314 Q1243.85 41.7081 1240.45 37.0496 Q1237.04 32.3505 1231.13 32.3505 Q1225.21 32.3505 1221.81 37.0496 Q1218.45 41.7081 1218.45 49.9314 Z\" fill=\"#000000\" fill-rule=\"evenodd\" fill-opacity=\"1\" /><path clip-path=\"url(#clip690)\" d=\"M 0 0 M1297.93 48.0275 L1297.93 51.6733 L1263.66 51.6733 Q1264.14 59.3701 1268.28 63.421 Q1272.45 67.4314 1279.86 67.4314 Q1284.16 67.4314 1288.17 66.3781 Q1292.22 65.3249 1296.19 63.2184 L1296.19 70.267 Q1292.18 71.9684 1287.96 72.8596 Q1283.75 73.7508 1279.42 73.7508 Q1268.56 73.7508 1262.2 67.4314 Q1255.88 61.1119 1255.88 50.3365 Q1255.88 39.1965 1261.88 32.6746 Q1267.91 26.1121 1278.12 26.1121 Q1287.27 26.1121 1292.58 32.0264 Q1297.93 37.9003 1297.93 48.0275 M1290.47 45.84 Q1290.39 39.7232 1287.03 36.0774 Q1283.71 32.4315 1278.2 32.4315 Q1271.96 32.4315 1268.19 35.9558 Q1264.47 39.4801 1263.9 45.8805 L1290.47 45.84 Z\" fill=\"#000000\" fill-rule=\"evenodd\" fill-opacity=\"1\" /><path clip-path=\"url(#clip690)\" d=\"M 0 0 M1332.12 9.54393 L1339.57 9.54393 L1339.57 72.576 L1332.12 72.576 L1332.12 9.54393 Z\" fill=\"#000000\" fill-rule=\"evenodd\" fill-opacity=\"1\" /><path clip-path=\"url(#clip690)\" d=\"M 0 0 M1354.44 12.096 L1354.44 34.5785 L1347.55 34.5785 L1347.55 12.096 L1354.44 12.096 Z\" fill=\"#000000\" fill-rule=\"evenodd\" fill-opacity=\"1\" /><path clip-path=\"url(#clip690)\" d=\"M 0 0 M1361.49 54.671 L1361.49 27.2059 L1368.94 27.2059 L1368.94 54.3874 Q1368.94 60.8284 1371.45 64.0691 Q1373.96 67.2693 1378.99 67.2693 Q1385.02 67.2693 1388.51 63.421 Q1392.03 59.5726 1392.03 52.9291 L1392.03 27.2059 L1399.48 27.2059 L1399.48 72.576 L1392.03 72.576 L1392.03 65.6084 Q1389.32 69.7404 1385.71 71.7658 Q1382.15 73.7508 1377.41 73.7508 Q1369.59 73.7508 1365.54 68.8897 Q1361.49 64.0286 1361.49 54.671 M1380.24 26.1121 L1380.24 26.1121 Z\" fill=\"#000000\" fill-rule=\"evenodd\" fill-opacity=\"1\" /><path clip-path=\"url(#clip690)\" d=\"M 0 0 M1436.23 28.5427 L1436.23 35.5912 Q1433.07 33.9709 1429.66 33.1607 Q1426.26 32.3505 1422.62 32.3505 Q1417.07 32.3505 1414.27 34.0519 Q1411.52 35.7533 1411.52 39.156 Q1411.52 41.7486 1413.5 43.2475 Q1415.49 44.7058 1421.48 46.0426 L1424.03 46.6097 Q1431.97 48.3111 1435.29 51.4303 Q1438.66 54.509 1438.66 60.0587 Q1438.66 66.3781 1433.63 70.0644 Q1428.65 73.7508 1419.9 73.7508 Q1416.26 73.7508 1412.29 73.0216 Q1408.36 72.3329 1403.98 70.9151 L1403.98 63.2184 Q1408.11 65.3654 1412.12 66.4591 Q1416.13 67.5124 1420.06 67.5124 Q1425.33 67.5124 1428.17 65.73 Q1431 63.9071 1431 60.6258 Q1431 57.5877 1428.93 55.9673 Q1426.91 54.3469 1419.98 52.8481 L1417.39 52.2405 Q1410.46 50.7821 1407.38 47.7845 Q1404.31 44.7463 1404.31 39.4801 Q1404.31 33.0797 1408.84 29.5959 Q1413.38 26.1121 1421.72 26.1121 Q1425.86 26.1121 1429.5 26.7198 Q1433.15 27.3274 1436.23 28.5427 Z\" fill=\"#000000\" fill-rule=\"evenodd\" fill-opacity=\"1\" /><path clip-path=\"url(#clip690)\" d=\"M 0 0 M1446.48 27.2059 L1453.93 27.2059 L1453.93 72.576 L1446.48 72.576 L1446.48 27.2059 M1446.48 9.54393 L1453.93 9.54393 L1453.93 18.9825 L1446.48 18.9825 L1446.48 9.54393 Z\" fill=\"#000000\" fill-rule=\"evenodd\" fill-opacity=\"1\" /><path clip-path=\"url(#clip690)\" d=\"M 0 0 M1499.46 45.1919 L1499.46 72.576 L1492.01 72.576 L1492.01 45.4349 Q1492.01 38.994 1489.5 35.7938 Q1486.98 32.5936 1481.96 32.5936 Q1475.93 32.5936 1472.44 36.4419 Q1468.96 40.2903 1468.96 46.9338 L1468.96 72.576 L1461.46 72.576 L1461.46 27.2059 L1468.96 27.2059 L1468.96 34.2544 Q1471.63 30.163 1475.24 28.1376 Q1478.88 26.1121 1483.62 26.1121 Q1491.44 26.1121 1495.45 30.9732 Q1499.46 35.7938 1499.46 45.1919 Z\" fill=\"#000000\" fill-rule=\"evenodd\" fill-opacity=\"1\" /><path clip-path=\"url(#clip690)\" d=\"M 0 0 M1546.09 48.0275 L1546.09 51.6733 L1511.82 51.6733 Q1512.3 59.3701 1516.43 63.421 Q1520.61 67.4314 1528.02 67.4314 Q1532.31 67.4314 1536.32 66.3781 Q1540.38 65.3249 1544.35 63.2184 L1544.35 70.267 Q1540.33 71.9684 1536.12 72.8596 Q1531.91 73.7508 1527.57 73.7508 Q1516.72 73.7508 1510.36 67.4314 Q1504.04 61.1119 1504.04 50.3365 Q1504.04 39.1965 1510.03 32.6746 Q1516.07 26.1121 1526.28 26.1121 Q1535.43 26.1121 1540.74 32.0264 Q1546.09 37.9003 1546.09 48.0275 M1538.63 45.84 Q1538.55 39.7232 1535.19 36.0774 Q1531.87 32.4315 1526.36 32.4315 Q1520.12 32.4315 1516.35 35.9558 Q1512.63 39.4801 1512.06 45.8805 L1538.63 45.84 Z\" fill=\"#000000\" fill-rule=\"evenodd\" fill-opacity=\"1\" /><path clip-path=\"url(#clip690)\" d=\"M 0 0 M1582.75 65.6895 L1596.12 65.6895 L1596.12 19.5497 L1581.57 22.4663 L1581.57 15.0127 L1596.03 12.096 L1604.22 12.096 L1604.22 65.6895 L1617.59 65.6895 L1617.59 72.576 L1582.75 72.576 L1582.75 65.6895 Z\" fill=\"#000000\" fill-rule=\"evenodd\" fill-opacity=\"1\" /><polyline clip-path=\"url(#clip692)\" style=\"stroke:#009af9; stroke-width:12; stroke-opacity:1; fill:none\" points=\"\n",
       "  557.003,735.099 1275.3,199.926 1993.61,199.926 \n",
       "  \"/>\n",
       "<circle clip-path=\"url(#clip692)\" cx=\"557.003\" cy=\"735.099\" r=\"14\" fill=\"#009af9\" fill-rule=\"evenodd\" fill-opacity=\"1\" stroke=\"#000000\" stroke-opacity=\"1\" stroke-width=\"3.2\"/>\n",
       "<circle clip-path=\"url(#clip692)\" cx=\"1275.3\" cy=\"199.926\" r=\"14\" fill=\"#009af9\" fill-rule=\"evenodd\" fill-opacity=\"1\" stroke=\"#000000\" stroke-opacity=\"1\" stroke-width=\"3.2\"/>\n",
       "<circle clip-path=\"url(#clip692)\" cx=\"1993.61\" cy=\"199.926\" r=\"14\" fill=\"#009af9\" fill-rule=\"evenodd\" fill-opacity=\"1\" stroke=\"#000000\" stroke-opacity=\"1\" stroke-width=\"3.2\"/>\n",
       "<polyline clip-path=\"url(#clip692)\" style=\"stroke:#e26f46; stroke-width:12; stroke-opacity:1; fill:none\" points=\"\n",
       "  557.003,1193.82 1275.3,1040.91 1993.61,658.646 \n",
       "  \"/>\n",
       "<circle clip-path=\"url(#clip692)\" cx=\"557.003\" cy=\"1193.82\" r=\"14\" fill=\"#e26f46\" fill-rule=\"evenodd\" fill-opacity=\"1\" stroke=\"#000000\" stroke-opacity=\"1\" stroke-width=\"3.2\"/>\n",
       "<circle clip-path=\"url(#clip692)\" cx=\"1275.3\" cy=\"1040.91\" r=\"14\" fill=\"#e26f46\" fill-rule=\"evenodd\" fill-opacity=\"1\" stroke=\"#000000\" stroke-opacity=\"1\" stroke-width=\"3.2\"/>\n",
       "<circle clip-path=\"url(#clip692)\" cx=\"1993.61\" cy=\"658.646\" r=\"14\" fill=\"#e26f46\" fill-rule=\"evenodd\" fill-opacity=\"1\" stroke=\"#000000\" stroke-opacity=\"1\" stroke-width=\"3.2\"/>\n",
       "<path clip-path=\"url(#clip690)\" d=\"\n",
       "M1956.98 348.236 L2280.93 348.236 L2280.93 166.796 L1956.98 166.796  Z\n",
       "  \" fill=\"#ffffff\" fill-rule=\"evenodd\" fill-opacity=\"1\"/>\n",
       "<polyline clip-path=\"url(#clip690)\" style=\"stroke:#000000; stroke-width:4; stroke-opacity:1; fill:none\" points=\"\n",
       "  1956.98,348.236 2280.93,348.236 2280.93,166.796 1956.98,166.796 1956.98,348.236 \n",
       "  \"/>\n",
       "<polyline clip-path=\"url(#clip690)\" style=\"stroke:#009af9; stroke-width:4; stroke-opacity:1; fill:none\" points=\"\n",
       "  1980.92,227.276 2124.58,227.276 \n",
       "  \"/>\n",
       "<circle clip-path=\"url(#clip690)\" cx=\"2052.75\" cy=\"227.276\" r=\"23\" fill=\"#009af9\" fill-rule=\"evenodd\" fill-opacity=\"1\" stroke=\"#000000\" stroke-opacity=\"1\" stroke-width=\"5.12\"/>\n",
       "<path clip-path=\"url(#clip690)\" d=\"M 0 0 M2172.55 230.528 L2172.55 232.611 L2152.97 232.611 Q2153.25 237.009 2155.61 239.324 Q2157.99 241.616 2162.23 241.616 Q2164.68 241.616 2166.97 241.014 Q2169.29 240.412 2171.56 239.209 L2171.56 243.236 Q2169.27 244.208 2166.86 244.718 Q2164.45 245.227 2161.97 245.227 Q2155.77 245.227 2152.14 241.616 Q2148.53 238.005 2148.53 231.847 Q2148.53 225.482 2151.95 221.755 Q2155.4 218.005 2161.23 218.005 Q2166.47 218.005 2169.5 221.385 Q2172.55 224.741 2172.55 230.528 M2168.29 229.278 Q2168.25 225.783 2166.33 223.699 Q2164.43 221.616 2161.28 221.616 Q2157.72 221.616 2155.56 223.63 Q2153.43 225.644 2153.11 229.301 L2168.29 229.278 Z\" fill=\"#000000\" fill-rule=\"evenodd\" fill-opacity=\"1\" /><path clip-path=\"url(#clip690)\" d=\"M 0 0 M2177.58 223.028 L2207.25 223.028 L2207.25 226.917 L2177.58 226.917 L2177.58 223.028 M2177.58 232.472 L2207.25 232.472 L2207.25 236.408 L2177.58 236.408 L2177.58 232.472 Z\" fill=\"#000000\" fill-rule=\"evenodd\" fill-opacity=\"1\" /><path clip-path=\"url(#clip690)\" d=\"M 0 0 M2213.13 240.621 L2220.77 240.621 L2220.77 214.255 L2212.46 215.922 L2212.46 211.662 L2220.72 209.996 L2225.4 209.996 L2225.4 240.621 L2233.04 240.621 L2233.04 244.556 L2213.13 244.556 L2213.13 240.621 Z\" fill=\"#000000\" fill-rule=\"evenodd\" fill-opacity=\"1\" /><polyline clip-path=\"url(#clip690)\" style=\"stroke:#e26f46; stroke-width:4; stroke-opacity:1; fill:none\" points=\"\n",
       "  1980.92,287.756 2124.58,287.756 \n",
       "  \"/>\n",
       "<circle clip-path=\"url(#clip690)\" cx=\"2052.75\" cy=\"287.756\" r=\"23\" fill=\"#e26f46\" fill-rule=\"evenodd\" fill-opacity=\"1\" stroke=\"#000000\" stroke-opacity=\"1\" stroke-width=\"5.12\"/>\n",
       "<path clip-path=\"url(#clip690)\" d=\"M 0 0 M2172.55 291.008 L2172.55 293.091 L2152.97 293.091 Q2153.25 297.489 2155.61 299.804 Q2157.99 302.096 2162.23 302.096 Q2164.68 302.096 2166.97 301.494 Q2169.29 300.892 2171.56 299.689 L2171.56 303.716 Q2169.27 304.688 2166.86 305.198 Q2164.45 305.707 2161.97 305.707 Q2155.77 305.707 2152.14 302.096 Q2148.53 298.485 2148.53 292.327 Q2148.53 285.962 2151.95 282.235 Q2155.4 278.485 2161.23 278.485 Q2166.47 278.485 2169.5 281.865 Q2172.55 285.221 2172.55 291.008 M2168.29 289.758 Q2168.25 286.263 2166.33 284.179 Q2164.43 282.096 2161.28 282.096 Q2157.72 282.096 2155.56 284.11 Q2153.43 286.124 2153.11 289.781 L2168.29 289.758 Z\" fill=\"#000000\" fill-rule=\"evenodd\" fill-opacity=\"1\" /><path clip-path=\"url(#clip690)\" d=\"M 0 0 M2177.58 283.508 L2207.25 283.508 L2207.25 287.397 L2177.58 287.397 L2177.58 283.508 M2177.58 292.952 L2207.25 292.952 L2207.25 296.888 L2177.58 296.888 L2177.58 292.952 Z\" fill=\"#000000\" fill-rule=\"evenodd\" fill-opacity=\"1\" /><path clip-path=\"url(#clip690)\" d=\"M 0 0 M2216.35 301.101 L2232.67 301.101 L2232.67 305.036 L2210.72 305.036 L2210.72 301.101 Q2213.39 298.346 2217.97 293.716 Q2222.58 289.064 2223.76 287.721 Q2226 285.198 2226.88 283.462 Q2227.78 281.703 2227.78 280.013 Q2227.78 277.258 2225.84 275.522 Q2223.92 273.786 2220.82 273.786 Q2218.62 273.786 2216.16 274.55 Q2213.73 275.314 2210.96 276.865 L2210.96 272.142 Q2213.78 271.008 2216.23 270.429 Q2218.69 269.851 2220.72 269.851 Q2226.09 269.851 2229.29 272.536 Q2232.48 275.221 2232.48 279.712 Q2232.48 281.841 2231.67 283.763 Q2230.89 285.661 2228.78 288.253 Q2228.2 288.925 2225.1 292.142 Q2222 295.337 2216.35 301.101 Z\" fill=\"#000000\" fill-rule=\"evenodd\" fill-opacity=\"1\" /></svg>\n"
      ]
     },
     "execution_count": 49,
     "metadata": {},
     "output_type": "execute_result"
    }
   ],
   "source": [
    "plot_stocks(solution_petite, instance_petite, usines_petite[1])"
   ]
  },
  {
   "cell_type": "code",
   "execution_count": 50,
   "metadata": {
    "ExecuteTime": {
     "end_time": "2020-11-12T17:00:27.831000+01:00",
     "start_time": "2020-11-12T15:59:42.669Z"
    }
   },
   "outputs": [
    {
     "data": {
      "image/svg+xml": [
       "<?xml version=\"1.0\" encoding=\"utf-8\"?>\n",
       "<svg xmlns=\"http://www.w3.org/2000/svg\" xmlns:xlink=\"http://www.w3.org/1999/xlink\" width=\"600\" height=\"400\" viewBox=\"0 0 2400 1600\">\n",
       "<defs>\n",
       "  <clipPath id=\"clip730\">\n",
       "    <rect x=\"0\" y=\"0\" width=\"2400\" height=\"1600\"/>\n",
       "  </clipPath>\n",
       "</defs>\n",
       "<path clip-path=\"url(#clip730)\" d=\"\n",
       "M0 1600 L2400 1600 L2400 0 L0 0  Z\n",
       "  \" fill=\"#ffffff\" fill-rule=\"evenodd\" fill-opacity=\"1\"/>\n",
       "<defs>\n",
       "  <clipPath id=\"clip731\">\n",
       "    <rect x=\"480\" y=\"0\" width=\"1681\" height=\"1600\"/>\n",
       "  </clipPath>\n",
       "</defs>\n",
       "<path clip-path=\"url(#clip730)\" d=\"\n",
       "M175.445 1423.18 L2352.76 1423.18 L2352.76 123.472 L175.445 123.472  Z\n",
       "  \" fill=\"#ffffff\" fill-rule=\"evenodd\" fill-opacity=\"1\"/>\n",
       "<defs>\n",
       "  <clipPath id=\"clip732\">\n",
       "    <rect x=\"175\" y=\"123\" width=\"2178\" height=\"1301\"/>\n",
       "  </clipPath>\n",
       "</defs>\n",
       "<polyline clip-path=\"url(#clip732)\" style=\"stroke:#000000; stroke-width:2; stroke-opacity:0.1; fill:none\" points=\"\n",
       "  538.33,1423.18 538.33,123.472 \n",
       "  \"/>\n",
       "<polyline clip-path=\"url(#clip732)\" style=\"stroke:#000000; stroke-width:2; stroke-opacity:0.1; fill:none\" points=\"\n",
       "  1264.1,1423.18 1264.1,123.472 \n",
       "  \"/>\n",
       "<polyline clip-path=\"url(#clip732)\" style=\"stroke:#000000; stroke-width:2; stroke-opacity:0.1; fill:none\" points=\"\n",
       "  1989.87,1423.18 1989.87,123.472 \n",
       "  \"/>\n",
       "<polyline clip-path=\"url(#clip730)\" style=\"stroke:#000000; stroke-width:4; stroke-opacity:1; fill:none\" points=\"\n",
       "  175.445,1423.18 2352.76,1423.18 \n",
       "  \"/>\n",
       "<polyline clip-path=\"url(#clip730)\" style=\"stroke:#000000; stroke-width:4; stroke-opacity:1; fill:none\" points=\"\n",
       "  538.33,1423.18 538.33,1407.58 \n",
       "  \"/>\n",
       "<polyline clip-path=\"url(#clip730)\" style=\"stroke:#000000; stroke-width:4; stroke-opacity:1; fill:none\" points=\"\n",
       "  1264.1,1423.18 1264.1,1407.58 \n",
       "  \"/>\n",
       "<polyline clip-path=\"url(#clip730)\" style=\"stroke:#000000; stroke-width:4; stroke-opacity:1; fill:none\" points=\"\n",
       "  1989.87,1423.18 1989.87,1407.58 \n",
       "  \"/>\n",
       "<path clip-path=\"url(#clip730)\" d=\"M 0 0 M528.712 1479.92 L536.351 1479.92 L536.351 1453.55 L528.041 1455.22 L528.041 1450.96 L536.305 1449.29 L540.981 1449.29 L540.981 1479.92 L548.62 1479.92 L548.62 1483.85 L528.712 1483.85 L528.712 1479.92 Z\" fill=\"#000000\" fill-rule=\"evenodd\" fill-opacity=\"1\" /><path clip-path=\"url(#clip730)\" d=\"M 0 0 M1258.75 1479.92 L1275.07 1479.92 L1275.07 1483.85 L1253.13 1483.85 L1253.13 1479.92 Q1255.79 1477.16 1260.37 1472.53 Q1264.98 1467.88 1266.16 1466.54 Q1268.41 1464.01 1269.29 1462.28 Q1270.19 1460.52 1270.19 1458.83 Q1270.19 1456.07 1268.24 1454.34 Q1266.32 1452.6 1263.22 1452.6 Q1261.02 1452.6 1258.57 1453.37 Q1256.14 1454.13 1253.36 1455.68 L1253.36 1450.96 Q1256.18 1449.82 1258.64 1449.25 Q1261.09 1448.67 1263.13 1448.67 Q1268.5 1448.67 1271.69 1451.35 Q1274.89 1454.04 1274.89 1458.53 Q1274.89 1460.66 1274.08 1462.58 Q1273.29 1464.48 1271.18 1467.07 Q1270.61 1467.74 1267.5 1470.96 Q1264.4 1474.15 1258.75 1479.92 Z\" fill=\"#000000\" fill-rule=\"evenodd\" fill-opacity=\"1\" /><path clip-path=\"url(#clip730)\" d=\"M 0 0 M1994.12 1465.22 Q1997.47 1465.94 1999.35 1468.2 Q2001.25 1470.47 2001.25 1473.81 Q2001.25 1478.92 1997.73 1481.72 Q1994.21 1484.52 1987.73 1484.52 Q1985.55 1484.52 1983.24 1484.08 Q1980.95 1483.67 1978.49 1482.81 L1978.49 1478.3 Q1980.44 1479.43 1982.75 1480.01 Q1985.07 1480.59 1987.59 1480.59 Q1991.99 1480.59 1994.28 1478.85 Q1996.6 1477.12 1996.6 1473.81 Q1996.6 1470.75 1994.44 1469.04 Q1992.31 1467.3 1988.49 1467.3 L1984.47 1467.3 L1984.47 1463.46 L1988.68 1463.46 Q1992.13 1463.46 1993.96 1462.09 Q1995.79 1460.7 1995.79 1458.11 Q1995.79 1455.45 1993.89 1454.04 Q1992.01 1452.6 1988.49 1452.6 Q1986.57 1452.6 1984.37 1453.02 Q1982.17 1453.44 1979.54 1454.31 L1979.54 1450.15 Q1982.2 1449.41 1984.51 1449.04 Q1986.85 1448.67 1988.91 1448.67 Q1994.23 1448.67 1997.34 1451.1 Q2000.44 1453.5 2000.44 1457.63 Q2000.44 1460.5 1998.79 1462.49 Q1997.15 1464.45 1994.12 1465.22 Z\" fill=\"#000000\" fill-rule=\"evenodd\" fill-opacity=\"1\" /><path clip-path=\"url(#clip730)\" d=\"M 0 0 M1199.22 1520.4 L1205.07 1520.4 L1205.07 1556.68 Q1205.07 1563.49 1202.46 1566.55 Q1199.89 1569.6 1194.13 1569.6 L1191.9 1569.6 L1191.9 1564.64 L1193.46 1564.64 Q1196.8 1564.64 1198.01 1563.08 Q1199.22 1561.55 1199.22 1556.68 L1199.22 1520.4 M1199.22 1506.52 L1205.07 1506.52 L1205.07 1513.93 L1199.22 1513.93 L1199.22 1506.52 Z\" fill=\"#000000\" fill-rule=\"evenodd\" fill-opacity=\"1\" /><path clip-path=\"url(#clip730)\" d=\"M 0 0 M1225.03 1524.5 Q1220.32 1524.5 1217.58 1528.19 Q1214.85 1531.85 1214.85 1538.25 Q1214.85 1544.65 1217.55 1548.34 Q1220.29 1552 1225.03 1552 Q1229.71 1552 1232.45 1548.31 Q1235.18 1544.62 1235.18 1538.25 Q1235.18 1531.92 1232.45 1528.23 Q1229.71 1524.5 1225.03 1524.5 M1225.03 1519.54 Q1232.67 1519.54 1237.03 1524.5 Q1241.39 1529.47 1241.39 1538.25 Q1241.39 1547 1237.03 1552 Q1232.67 1556.97 1225.03 1556.97 Q1217.36 1556.97 1213 1552 Q1208.67 1547 1208.67 1538.25 Q1208.67 1529.47 1213 1524.5 Q1217.36 1519.54 1225.03 1519.54 Z\" fill=\"#000000\" fill-rule=\"evenodd\" fill-opacity=\"1\" /><path clip-path=\"url(#clip730)\" d=\"M 0 0 M1246.93 1541.98 L1246.93 1520.4 L1252.79 1520.4 L1252.79 1541.75 Q1252.79 1546.81 1254.76 1549.36 Q1256.73 1551.87 1260.68 1551.87 Q1265.42 1551.87 1268.16 1548.85 Q1270.93 1545.83 1270.93 1540.61 L1270.93 1520.4 L1276.78 1520.4 L1276.78 1556.04 L1270.93 1556.04 L1270.93 1550.57 Q1268.8 1553.82 1265.96 1555.41 Q1263.16 1556.97 1259.44 1556.97 Q1253.29 1556.97 1250.11 1553.15 Q1246.93 1549.33 1246.93 1541.98 M1261.67 1519.54 L1261.67 1519.54 Z\" fill=\"#000000\" fill-rule=\"evenodd\" fill-opacity=\"1\" /><path clip-path=\"url(#clip730)\" d=\"M 0 0 M1303.58 1525.87 Q1302.6 1525.3 1301.42 1525.04 Q1300.27 1524.76 1298.87 1524.76 Q1293.91 1524.76 1291.23 1528 Q1288.59 1531.22 1288.59 1537.27 L1288.59 1556.04 L1282.7 1556.04 L1282.7 1520.4 L1288.59 1520.4 L1288.59 1525.93 Q1290.44 1522.69 1293.4 1521.13 Q1296.36 1519.54 1300.59 1519.54 Q1301.2 1519.54 1301.93 1519.63 Q1302.66 1519.7 1303.55 1519.85 L1303.58 1525.87 Z\" fill=\"#000000\" fill-rule=\"evenodd\" fill-opacity=\"1\" /><path clip-path=\"url(#clip730)\" d=\"M 0 0 M1330.45 1520.4 L1336.3 1520.4 L1336.3 1556.68 Q1336.3 1563.49 1333.69 1566.55 Q1331.12 1569.6 1325.35 1569.6 L1323.13 1569.6 L1323.13 1564.64 L1324.69 1564.64 Q1328.03 1564.64 1329.24 1563.08 Q1330.45 1561.55 1330.45 1556.68 L1330.45 1520.4 M1330.45 1506.52 L1336.3 1506.52 L1336.3 1513.93 L1330.45 1513.93 L1330.45 1506.52 Z\" fill=\"#000000\" fill-rule=\"evenodd\" fill-opacity=\"1\" /><polyline clip-path=\"url(#clip732)\" style=\"stroke:#000000; stroke-width:2; stroke-opacity:0.1; fill:none\" points=\"\n",
       "  175.445,1423.18 2352.76,1423.18 \n",
       "  \"/>\n",
       "<polyline clip-path=\"url(#clip732)\" style=\"stroke:#000000; stroke-width:2; stroke-opacity:0.1; fill:none\" points=\"\n",
       "  175.445,1098.25 2352.76,1098.25 \n",
       "  \"/>\n",
       "<polyline clip-path=\"url(#clip732)\" style=\"stroke:#000000; stroke-width:2; stroke-opacity:0.1; fill:none\" points=\"\n",
       "  175.445,773.326 2352.76,773.326 \n",
       "  \"/>\n",
       "<polyline clip-path=\"url(#clip732)\" style=\"stroke:#000000; stroke-width:2; stroke-opacity:0.1; fill:none\" points=\"\n",
       "  175.445,448.399 2352.76,448.399 \n",
       "  \"/>\n",
       "<polyline clip-path=\"url(#clip732)\" style=\"stroke:#000000; stroke-width:2; stroke-opacity:0.1; fill:none\" points=\"\n",
       "  175.445,123.472 2352.76,123.472 \n",
       "  \"/>\n",
       "<polyline clip-path=\"url(#clip730)\" style=\"stroke:#000000; stroke-width:4; stroke-opacity:1; fill:none\" points=\"\n",
       "  175.445,1423.18 175.445,123.472 \n",
       "  \"/>\n",
       "<polyline clip-path=\"url(#clip730)\" style=\"stroke:#000000; stroke-width:4; stroke-opacity:1; fill:none\" points=\"\n",
       "  175.445,1423.18 201.573,1423.18 \n",
       "  \"/>\n",
       "<polyline clip-path=\"url(#clip730)\" style=\"stroke:#000000; stroke-width:4; stroke-opacity:1; fill:none\" points=\"\n",
       "  175.445,1098.25 201.573,1098.25 \n",
       "  \"/>\n",
       "<polyline clip-path=\"url(#clip730)\" style=\"stroke:#000000; stroke-width:4; stroke-opacity:1; fill:none\" points=\"\n",
       "  175.445,773.326 201.573,773.326 \n",
       "  \"/>\n",
       "<polyline clip-path=\"url(#clip730)\" style=\"stroke:#000000; stroke-width:4; stroke-opacity:1; fill:none\" points=\"\n",
       "  175.445,448.399 201.573,448.399 \n",
       "  \"/>\n",
       "<polyline clip-path=\"url(#clip730)\" style=\"stroke:#000000; stroke-width:4; stroke-opacity:1; fill:none\" points=\"\n",
       "  175.445,123.472 201.573,123.472 \n",
       "  \"/>\n",
       "<path clip-path=\"url(#clip730)\" d=\"M 0 0 M127.501 1408.98 Q123.89 1408.98 122.061 1412.54 Q120.255 1416.08 120.255 1423.21 Q120.255 1430.32 122.061 1433.89 Q123.89 1437.43 127.501 1437.43 Q131.135 1437.43 132.941 1433.89 Q134.769 1430.32 134.769 1423.21 Q134.769 1416.08 132.941 1412.54 Q131.135 1408.98 127.501 1408.98 M127.501 1405.27 Q133.311 1405.27 136.367 1409.88 Q139.445 1414.46 139.445 1423.21 Q139.445 1431.94 136.367 1436.55 Q133.311 1441.13 127.501 1441.13 Q121.691 1441.13 118.612 1436.55 Q115.556 1431.94 115.556 1423.21 Q115.556 1414.46 118.612 1409.88 Q121.691 1405.27 127.501 1405.27 Z\" fill=\"#000000\" fill-rule=\"evenodd\" fill-opacity=\"1\" /><path clip-path=\"url(#clip730)\" d=\"M 0 0 M123.126 1111.6 L139.445 1111.6 L139.445 1115.53 L117.501 1115.53 L117.501 1111.6 Q120.163 1108.84 124.746 1104.21 Q129.353 1099.56 130.533 1098.22 Q132.779 1095.7 133.658 1093.96 Q134.561 1092.2 134.561 1090.51 Q134.561 1087.76 132.617 1086.02 Q130.695 1084.28 127.593 1084.28 Q125.394 1084.28 122.941 1085.05 Q120.51 1085.81 117.732 1087.36 L117.732 1082.64 Q120.556 1081.51 123.01 1080.93 Q125.464 1080.35 127.501 1080.35 Q132.871 1080.35 136.066 1083.03 Q139.26 1085.72 139.26 1090.21 Q139.26 1092.34 138.45 1094.26 Q137.663 1096.16 135.556 1098.75 Q134.978 1099.42 131.876 1102.64 Q128.774 1105.83 123.126 1111.6 Z\" fill=\"#000000\" fill-rule=\"evenodd\" fill-opacity=\"1\" /><path clip-path=\"url(#clip730)\" d=\"M 0 0 M129.862 760.12 L118.056 778.569 L129.862 778.569 L129.862 760.12 M128.635 756.046 L134.515 756.046 L134.515 778.569 L139.445 778.569 L139.445 782.458 L134.515 782.458 L134.515 790.606 L129.862 790.606 L129.862 782.458 L114.26 782.458 L114.26 777.944 L128.635 756.046 Z\" fill=\"#000000\" fill-rule=\"evenodd\" fill-opacity=\"1\" /><path clip-path=\"url(#clip730)\" d=\"M 0 0 M127.917 446.536 Q124.769 446.536 122.918 448.688 Q121.089 450.841 121.089 454.591 Q121.089 458.318 122.918 460.494 Q124.769 462.647 127.917 462.647 Q131.066 462.647 132.894 460.494 Q134.746 458.318 134.746 454.591 Q134.746 450.841 132.894 448.688 Q131.066 446.536 127.917 446.536 M137.2 431.883 L137.2 436.142 Q135.441 435.309 133.635 434.869 Q131.853 434.429 130.093 434.429 Q125.464 434.429 123.01 437.554 Q120.58 440.679 120.232 446.999 Q121.598 444.985 123.658 443.92 Q125.718 442.832 128.195 442.832 Q133.404 442.832 136.413 446.003 Q139.445 449.151 139.445 454.591 Q139.445 459.915 136.297 463.133 Q133.149 466.35 127.917 466.35 Q121.922 466.35 118.751 461.767 Q115.58 457.161 115.58 448.434 Q115.58 440.239 119.468 435.378 Q123.357 430.494 129.908 430.494 Q131.667 430.494 133.45 430.841 Q135.255 431.188 137.2 431.883 Z\" fill=\"#000000\" fill-rule=\"evenodd\" fill-opacity=\"1\" /><path clip-path=\"url(#clip730)\" d=\"M 0 0 M127.593 124.34 Q124.26 124.34 122.339 126.123 Q120.441 127.905 120.441 131.03 Q120.441 134.155 122.339 135.937 Q124.26 137.72 127.593 137.72 Q130.927 137.72 132.848 135.937 Q134.769 134.132 134.769 131.03 Q134.769 127.905 132.848 126.123 Q130.95 124.34 127.593 124.34 M122.918 122.349 Q119.908 121.609 118.218 119.549 Q116.552 117.488 116.552 114.525 Q116.552 110.382 119.492 107.975 Q122.455 105.567 127.593 105.567 Q132.755 105.567 135.695 107.975 Q138.635 110.382 138.635 114.525 Q138.635 117.488 136.945 119.549 Q135.279 121.609 132.292 122.349 Q135.672 123.136 137.547 125.428 Q139.445 127.72 139.445 131.03 Q139.445 136.053 136.367 138.738 Q133.311 141.423 127.593 141.423 Q121.876 141.423 118.797 138.738 Q115.742 136.053 115.742 131.03 Q115.742 127.72 117.64 125.428 Q119.538 123.136 122.918 122.349 M121.205 114.965 Q121.205 117.65 122.871 119.155 Q124.561 120.66 127.593 120.66 Q130.603 120.66 132.292 119.155 Q134.005 117.65 134.005 114.965 Q134.005 112.28 132.292 110.775 Q130.603 109.271 127.593 109.271 Q124.561 109.271 122.871 110.775 Q121.205 112.28 121.205 114.965 Z\" fill=\"#000000\" fill-rule=\"evenodd\" fill-opacity=\"1\" /><path clip-path=\"url(#clip730)\" d=\"M 0 0 M53.4065 913.515 L58.9447 913.515 Q57.6716 915.997 57.035 918.671 Q56.3984 921.345 56.3984 924.209 Q56.3984 928.57 57.7352 930.766 Q59.072 932.93 61.7456 932.93 Q63.7826 932.93 64.9603 931.371 Q66.1061 929.811 67.1565 925.1 L67.6021 923.095 Q68.9389 916.857 71.3897 914.247 Q73.8086 911.605 78.1691 911.605 Q83.1344 911.605 86.0308 915.552 Q88.9272 919.467 88.9272 926.342 Q88.9272 929.206 88.3543 932.325 Q87.8132 935.413 86.6992 938.85 L80.6518 938.85 Q82.3387 935.604 83.198 932.453 Q84.0256 929.302 84.0256 926.214 Q84.0256 922.077 82.6251 919.849 Q81.1929 917.621 78.6147 917.621 Q76.2276 917.621 74.9545 919.244 Q73.6813 920.835 72.5037 926.278 L72.0262 928.315 Q70.8804 933.758 68.5251 936.177 Q66.138 938.596 62.0002 938.596 Q56.9713 938.596 54.2341 935.031 Q51.4968 931.466 51.4968 924.909 Q51.4968 921.663 51.9743 918.798 Q52.4517 915.934 53.4065 913.515 Z\" fill=\"#000000\" fill-rule=\"evenodd\" fill-opacity=\"1\" /><path clip-path=\"url(#clip730)\" d=\"M 0 0 M42.2347 899.669 L52.3562 899.669 L52.3562 887.606 L56.9077 887.606 L56.9077 899.669 L76.2594 899.669 Q80.6199 899.669 81.8613 898.492 Q83.1026 897.282 83.1026 893.622 L83.1026 887.606 L88.0042 887.606 L88.0042 893.622 Q88.0042 900.401 85.4897 902.98 Q82.9434 905.558 76.2594 905.558 L56.9077 905.558 L56.9077 909.854 L52.3562 909.854 L52.3562 905.558 L42.2347 905.558 L42.2347 899.669 Z\" fill=\"#000000\" fill-rule=\"evenodd\" fill-opacity=\"1\" /><path clip-path=\"url(#clip730)\" d=\"M 0 0 M56.4621 867.65 Q56.4621 872.36 60.1542 875.098 Q63.8145 877.835 70.212 877.835 Q76.6095 877.835 80.3017 875.13 Q83.9619 872.392 83.9619 867.65 Q83.9619 862.971 80.2698 860.234 Q76.5777 857.497 70.212 857.497 Q63.8781 857.497 60.186 860.234 Q56.4621 862.971 56.4621 867.65 M51.4968 867.65 Q51.4968 860.011 56.4621 855.65 Q61.4273 851.29 70.212 851.29 Q78.9649 851.29 83.9619 855.65 Q88.9272 860.011 88.9272 867.65 Q88.9272 875.321 83.9619 879.681 Q78.9649 884.01 70.212 884.01 Q61.4273 884.01 56.4621 879.681 Q51.4968 875.321 51.4968 867.65 Z\" fill=\"#000000\" fill-rule=\"evenodd\" fill-opacity=\"1\" /><path clip-path=\"url(#clip730)\" d=\"M 0 0 M53.7248 819.493 L59.1993 819.493 Q57.8307 821.976 57.1623 824.49 Q56.4621 826.973 56.4621 829.519 Q56.4621 835.217 60.0905 838.368 Q63.6872 841.519 70.212 841.519 Q76.7369 841.519 80.3653 838.368 Q83.9619 835.217 83.9619 829.519 Q83.9619 826.973 83.2935 824.49 Q82.5933 821.976 81.2247 819.493 L86.6355 819.493 Q87.7814 821.944 88.3543 824.586 Q88.9272 827.196 88.9272 830.156 Q88.9272 838.208 83.8664 842.951 Q78.8057 847.693 70.212 847.693 Q61.491 847.693 56.4939 842.919 Q51.4968 838.113 51.4968 829.774 Q51.4968 827.068 52.0697 824.49 Q52.6108 821.912 53.7248 819.493 Z\" fill=\"#000000\" fill-rule=\"evenodd\" fill-opacity=\"1\" /><path clip-path=\"url(#clip730)\" d=\"M 0 0 M38.479 813.573 L38.479 807.685 L67.7294 807.685 L52.3562 790.211 L52.3562 782.731 L69.0344 801.637 L88.0042 781.936 L88.0042 789.574 L70.5939 807.685 L88.0042 807.685 L88.0042 813.573 L38.479 813.573 Z\" fill=\"#000000\" fill-rule=\"evenodd\" fill-opacity=\"1\" /><path clip-path=\"url(#clip730)\" d=\"M 0 0 M53.4065 732.347 L58.9447 732.347 Q57.6716 734.829 57.035 737.503 Q56.3984 740.177 56.3984 743.041 Q56.3984 747.402 57.7352 749.598 Q59.072 751.762 61.7456 751.762 Q63.7826 751.762 64.9603 750.203 Q66.1061 748.643 67.1565 743.932 L67.6021 741.927 Q68.9389 735.689 71.3897 733.079 Q73.8086 730.437 78.1691 730.437 Q83.1344 730.437 86.0308 734.384 Q88.9272 738.299 88.9272 745.174 Q88.9272 748.038 88.3543 751.157 Q87.8132 754.245 86.6992 757.682 L80.6518 757.682 Q82.3387 754.436 83.198 751.285 Q84.0256 748.134 84.0256 745.046 Q84.0256 740.909 82.6251 738.681 Q81.1929 736.453 78.6147 736.453 Q76.2276 736.453 74.9545 738.076 Q73.6813 739.667 72.5037 745.11 L72.0262 747.147 Q70.8804 752.59 68.5251 755.009 Q66.138 757.428 62.0002 757.428 Q56.9713 757.428 54.2341 753.863 Q51.4968 750.298 51.4968 743.741 Q51.4968 740.495 51.9743 737.63 Q52.4517 734.766 53.4065 732.347 Z\" fill=\"#000000\" fill-rule=\"evenodd\" fill-opacity=\"1\" /><path clip-path=\"url(#clip730)\" d=\"M 0 0 M38.479 724.835 L38.479 711.34 L43.0304 711.34 L43.0304 718.979 L92.0464 718.979 L92.0464 711.34 L96.5979 711.34 L96.5979 724.835 L38.479 724.835 Z\" fill=\"#000000\" fill-rule=\"evenodd\" fill-opacity=\"1\" /><path clip-path=\"url(#clip730)\" d=\"M 0 0 M68.7161 674.705 L71.5806 674.705 L71.5806 701.632 Q77.6281 701.25 80.8109 698.004 Q83.9619 694.725 83.9619 688.901 Q83.9619 685.527 83.1344 682.376 Q82.3069 679.193 80.6518 676.074 L86.1899 676.074 Q87.5267 679.225 88.227 682.535 Q88.9272 685.845 88.9272 689.251 Q88.9272 697.781 83.9619 702.778 Q78.9967 707.743 70.5303 707.743 Q61.7774 707.743 56.6531 703.033 Q51.4968 698.29 51.4968 690.269 Q51.4968 683.076 56.1438 678.907 Q60.7589 674.705 68.7161 674.705 M66.9973 680.562 Q62.1912 680.625 59.3266 683.267 Q56.4621 685.877 56.4621 690.206 Q56.4621 695.107 59.2312 698.067 Q62.0002 700.996 67.0292 701.441 L66.9973 680.562 Z\" fill=\"#000000\" fill-rule=\"evenodd\" fill-opacity=\"1\" /><path clip-path=\"url(#clip730)\" d=\"M 0 0 M79.9197 667.066 L79.9197 660.351 L85.3942 660.351 L95.5793 665.57 L95.5793 669.676 L85.3942 667.066 L79.9197 667.066 Z\" fill=\"#000000\" fill-rule=\"evenodd\" fill-opacity=\"1\" /><path clip-path=\"url(#clip730)\" d=\"M 0 0 M52.3562 633.487 L52.3562 627.631 L88.6407 627.631 Q95.452 627.631 98.5076 630.241 Q101.563 632.819 101.563 638.58 L101.563 640.808 L96.5979 640.808 L96.5979 639.248 Q96.5979 635.906 95.0383 634.697 Q93.5105 633.487 88.6407 633.487 L52.3562 633.487 M38.479 633.487 L38.479 627.631 L45.895 627.631 L45.895 633.487 L38.479 633.487 Z\" fill=\"#000000\" fill-rule=\"evenodd\" fill-opacity=\"1\" /><path clip-path=\"url(#clip730)\" d=\"M 0 0 M38.479 607.802 L96.5979 607.802 L96.5979 621.297 L92.0464 621.297 L92.0464 613.69 L43.0304 613.69 L43.0304 621.297 L38.479 621.297 L38.479 607.802 Z\" fill=\"#000000\" fill-rule=\"evenodd\" fill-opacity=\"1\" /><path clip-path=\"url(#clip730)\" d=\"M 0 0 M862.615 14.0809 L862.615 22.0612 Q857.957 19.8332 853.825 18.7395 Q849.693 17.6457 845.845 17.6457 Q839.161 17.6457 835.515 20.2383 Q831.91 22.8309 831.91 27.611 Q831.91 31.6214 834.3 33.6873 Q836.73 35.7128 843.455 36.9686 L848.397 37.9813 Q857.552 39.7232 861.886 44.1387 Q866.261 48.5136 866.261 55.8863 Q866.261 64.6767 860.347 69.2137 Q854.473 73.7508 843.09 73.7508 Q838.796 73.7508 833.935 72.7785 Q829.114 71.8063 823.929 69.9024 L823.929 61.4765 Q828.912 64.2716 833.692 65.6895 Q838.472 67.1073 843.09 67.1073 Q850.098 67.1073 853.906 64.3527 Q857.714 61.598 857.714 56.4939 Q857.714 52.0379 854.959 49.5264 Q852.245 47.0148 846.007 45.759 L841.024 44.7868 Q831.869 42.9639 827.778 39.075 Q823.686 35.1862 823.686 28.2591 Q823.686 20.2383 829.317 15.6203 Q834.988 11.0023 844.913 11.0023 Q849.166 11.0023 853.582 11.7719 Q857.997 12.5416 862.615 14.0809 Z\" fill=\"#000000\" fill-rule=\"evenodd\" fill-opacity=\"1\" /><path clip-path=\"url(#clip730)\" d=\"M 0 0 M881.452 14.324 L881.452 27.2059 L896.805 27.2059 L896.805 32.9987 L881.452 32.9987 L881.452 57.6282 Q881.452 63.1779 882.951 64.7578 Q884.49 66.3376 889.149 66.3376 L896.805 66.3376 L896.805 72.576 L889.149 72.576 Q880.52 72.576 877.239 69.3758 Q873.958 66.1351 873.958 57.6282 L873.958 32.9987 L868.489 32.9987 L868.489 27.2059 L873.958 27.2059 L873.958 14.324 L881.452 14.324 Z\" fill=\"#000000\" fill-rule=\"evenodd\" fill-opacity=\"1\" /><path clip-path=\"url(#clip730)\" d=\"M 0 0 M922.204 32.4315 Q916.209 32.4315 912.725 37.1306 Q909.241 41.7891 909.241 49.9314 Q909.241 58.0738 912.685 62.7728 Q916.168 67.4314 922.204 67.4314 Q928.159 67.4314 931.643 62.7323 Q935.127 58.0333 935.127 49.9314 Q935.127 41.8701 931.643 37.1711 Q928.159 32.4315 922.204 32.4315 M922.204 26.1121 Q931.926 26.1121 937.476 32.4315 Q943.026 38.7509 943.026 49.9314 Q943.026 61.0714 937.476 67.4314 Q931.926 73.7508 922.204 73.7508 Q912.442 73.7508 906.892 67.4314 Q901.383 61.0714 901.383 49.9314 Q901.383 38.7509 906.892 32.4315 Q912.442 26.1121 922.204 26.1121 Z\" fill=\"#000000\" fill-rule=\"evenodd\" fill-opacity=\"1\" /><path clip-path=\"url(#clip730)\" d=\"M 0 0 M983.494 28.9478 L983.494 35.9153 Q980.335 34.1734 977.135 33.3227 Q973.975 32.4315 970.734 32.4315 Q963.483 32.4315 959.473 37.0496 Q955.462 41.6271 955.462 49.9314 Q955.462 58.2358 959.473 62.8538 Q963.483 67.4314 970.734 67.4314 Q973.975 67.4314 977.135 66.5807 Q980.335 65.6895 983.494 63.9476 L983.494 70.8341 Q980.375 72.2924 977.013 73.0216 Q973.691 73.7508 969.924 73.7508 Q959.675 73.7508 953.639 67.3098 Q947.603 60.8689 947.603 49.9314 Q947.603 38.832 953.68 32.472 Q959.797 26.1121 970.41 26.1121 Q973.853 26.1121 977.135 26.8413 Q980.416 27.5299 983.494 28.9478 Z\" fill=\"#000000\" fill-rule=\"evenodd\" fill-opacity=\"1\" /><path clip-path=\"url(#clip730)\" d=\"M 0 0 M991.029 9.54393 L998.523 9.54393 L998.523 46.7717 L1020.76 27.2059 L1030.28 27.2059 L1006.22 48.4326 L1031.3 72.576 L1021.57 72.576 L998.523 50.4176 L998.523 72.576 L991.029 72.576 L991.029 9.54393 Z\" fill=\"#000000\" fill-rule=\"evenodd\" fill-opacity=\"1\" /><path clip-path=\"url(#clip730)\" d=\"M 0 0 M1068.04 28.5427 L1068.04 35.5912 Q1064.88 33.9709 1061.47 33.1607 Q1058.07 32.3505 1054.43 32.3505 Q1048.88 32.3505 1046.08 34.0519 Q1043.33 35.7533 1043.33 39.156 Q1043.33 41.7486 1045.31 43.2475 Q1047.3 44.7058 1053.29 46.0426 L1055.84 46.6097 Q1063.78 48.3111 1067.11 51.4303 Q1070.47 54.509 1070.47 60.0587 Q1070.47 66.3781 1065.44 70.0644 Q1060.46 73.7508 1051.71 73.7508 Q1048.07 73.7508 1044.1 73.0216 Q1040.17 72.3329 1035.79 70.9151 L1035.79 63.2184 Q1039.92 65.3654 1043.93 66.4591 Q1047.94 67.5124 1051.87 67.5124 Q1057.14 67.5124 1059.98 65.73 Q1062.81 63.9071 1062.81 60.6258 Q1062.81 57.5877 1060.75 55.9673 Q1058.72 54.3469 1051.79 52.8481 L1049.2 52.2405 Q1042.27 50.7821 1039.19 47.7845 Q1036.12 44.7463 1036.12 39.4801 Q1036.12 33.0797 1040.65 29.5959 Q1045.19 26.1121 1053.53 26.1121 Q1057.67 26.1121 1061.31 26.7198 Q1064.96 27.3274 1068.04 28.5427 Z\" fill=\"#000000\" fill-rule=\"evenodd\" fill-opacity=\"1\" /><path clip-path=\"url(#clip730)\" d=\"M 0 0 M1134.51 34.0924 L1134.51 9.54393 L1141.97 9.54393 L1141.97 72.576 L1134.51 72.576 L1134.51 65.7705 Q1132.16 69.8214 1128.56 71.8063 Q1124.99 73.7508 1119.97 73.7508 Q1111.75 73.7508 1106.56 67.1883 Q1101.42 60.6258 1101.42 49.9314 Q1101.42 39.2371 1106.56 32.6746 Q1111.75 26.1121 1119.97 26.1121 Q1124.99 26.1121 1128.56 28.0971 Q1132.16 30.0415 1134.51 34.0924 M1109.11 49.9314 Q1109.11 58.1548 1112.48 62.8538 Q1115.88 67.5124 1121.79 67.5124 Q1127.71 67.5124 1131.11 62.8538 Q1134.51 58.1548 1134.51 49.9314 Q1134.51 41.7081 1131.11 37.0496 Q1127.71 32.3505 1121.79 32.3505 Q1115.88 32.3505 1112.48 37.0496 Q1109.11 41.7081 1109.11 49.9314 Z\" fill=\"#000000\" fill-rule=\"evenodd\" fill-opacity=\"1\" /><path clip-path=\"url(#clip730)\" d=\"M 0 0 M1149.01 54.671 L1149.01 27.2059 L1156.47 27.2059 L1156.47 54.3874 Q1156.47 60.8284 1158.98 64.0691 Q1161.49 67.2693 1166.51 67.2693 Q1172.55 67.2693 1176.03 63.421 Q1179.56 59.5726 1179.56 52.9291 L1179.56 27.2059 L1187.01 27.2059 L1187.01 72.576 L1179.56 72.576 L1179.56 65.6084 Q1176.84 69.7404 1173.24 71.7658 Q1169.67 73.7508 1164.93 73.7508 Q1157.12 73.7508 1153.07 68.8897 Q1149.01 64.0286 1149.01 54.671 M1167.77 26.1121 L1167.77 26.1121 Z\" fill=\"#000000\" fill-rule=\"evenodd\" fill-opacity=\"1\" /><path clip-path=\"url(#clip730)\" d=\"M 0 0 M1244.17 9.54393 L1244.17 15.7418 L1237.04 15.7418 Q1233.03 15.7418 1231.45 17.3622 Q1229.91 18.9825 1229.91 23.1955 L1229.91 27.2059 L1242.19 27.2059 L1242.19 32.9987 L1229.91 32.9987 L1229.91 72.576 L1222.42 72.576 L1222.42 32.9987 L1215.29 32.9987 L1215.29 27.2059 L1222.42 27.2059 L1222.42 24.0462 Q1222.42 16.471 1225.94 13.0277 Q1229.47 9.54393 1237.12 9.54393 L1244.17 9.54393 Z\" fill=\"#000000\" fill-rule=\"evenodd\" fill-opacity=\"1\" /><path clip-path=\"url(#clip730)\" d=\"M 0 0 M1269.57 32.4315 Q1263.57 32.4315 1260.09 37.1306 Q1256.61 41.7891 1256.61 49.9314 Q1256.61 58.0738 1260.05 62.7728 Q1263.53 67.4314 1269.57 67.4314 Q1275.52 67.4314 1279.01 62.7323 Q1282.49 58.0333 1282.49 49.9314 Q1282.49 41.8701 1279.01 37.1711 Q1275.52 32.4315 1269.57 32.4315 M1269.57 26.1121 Q1279.29 26.1121 1284.84 32.4315 Q1290.39 38.7509 1290.39 49.9314 Q1290.39 61.0714 1284.84 67.4314 Q1279.29 73.7508 1269.57 73.7508 Q1259.81 73.7508 1254.26 67.4314 Q1248.75 61.0714 1248.75 49.9314 Q1248.75 38.7509 1254.26 32.4315 Q1259.81 26.1121 1269.57 26.1121 Z\" fill=\"#000000\" fill-rule=\"evenodd\" fill-opacity=\"1\" /><path clip-path=\"url(#clip730)\" d=\"M 0 0 M1297.44 54.671 L1297.44 27.2059 L1304.89 27.2059 L1304.89 54.3874 Q1304.89 60.8284 1307.4 64.0691 Q1309.92 67.2693 1314.94 67.2693 Q1320.98 67.2693 1324.46 63.421 Q1327.98 59.5726 1327.98 52.9291 L1327.98 27.2059 L1335.44 27.2059 L1335.44 72.576 L1327.98 72.576 L1327.98 65.6084 Q1325.27 69.7404 1321.66 71.7658 Q1318.1 73.7508 1313.36 73.7508 Q1305.54 73.7508 1301.49 68.8897 Q1297.44 64.0286 1297.44 54.671 M1316.2 26.1121 L1316.2 26.1121 Z\" fill=\"#000000\" fill-rule=\"evenodd\" fill-opacity=\"1\" /><path clip-path=\"url(#clip730)\" d=\"M 0 0 M1369.55 34.1734 Q1368.29 33.4443 1366.79 33.1202 Q1365.33 32.7556 1363.55 32.7556 Q1357.23 32.7556 1353.83 36.8875 Q1350.47 40.9789 1350.47 48.6757 L1350.47 72.576 L1342.97 72.576 L1342.97 27.2059 L1350.47 27.2059 L1350.47 34.2544 Q1352.82 30.1225 1356.58 28.1376 Q1360.35 26.1121 1365.74 26.1121 Q1366.51 26.1121 1367.44 26.2337 Q1368.37 26.3147 1369.51 26.5172 L1369.55 34.1734 Z\" fill=\"#000000\" fill-rule=\"evenodd\" fill-opacity=\"1\" /><path clip-path=\"url(#clip730)\" d=\"M 0 0 M1413.62 45.1919 L1413.62 72.576 L1406.17 72.576 L1406.17 45.4349 Q1406.17 38.994 1403.65 35.7938 Q1401.14 32.5936 1396.12 32.5936 Q1390.08 32.5936 1386.6 36.4419 Q1383.12 40.2903 1383.12 46.9338 L1383.12 72.576 L1375.62 72.576 L1375.62 27.2059 L1383.12 27.2059 L1383.12 34.2544 Q1385.79 30.163 1389.4 28.1376 Q1393.04 26.1121 1397.78 26.1121 Q1405.6 26.1121 1409.61 30.9732 Q1413.62 35.7938 1413.62 45.1919 Z\" fill=\"#000000\" fill-rule=\"evenodd\" fill-opacity=\"1\" /><path clip-path=\"url(#clip730)\" d=\"M 0 0 M1421.44 27.2059 L1428.89 27.2059 L1428.89 72.576 L1421.44 72.576 L1421.44 27.2059 M1421.44 9.54393 L1428.89 9.54393 L1428.89 18.9825 L1421.44 18.9825 L1421.44 9.54393 Z\" fill=\"#000000\" fill-rule=\"evenodd\" fill-opacity=\"1\" /><path clip-path=\"url(#clip730)\" d=\"M 0 0 M1465.63 28.5427 L1465.63 35.5912 Q1462.47 33.9709 1459.07 33.1607 Q1455.67 32.3505 1452.02 32.3505 Q1446.47 32.3505 1443.68 34.0519 Q1440.92 35.7533 1440.92 39.156 Q1440.92 41.7486 1442.91 43.2475 Q1444.89 44.7058 1450.89 46.0426 L1453.44 46.6097 Q1461.38 48.3111 1464.7 51.4303 Q1468.06 54.509 1468.06 60.0587 Q1468.06 66.3781 1463.04 70.0644 Q1458.06 73.7508 1449.31 73.7508 Q1445.66 73.7508 1441.69 73.0216 Q1437.76 72.3329 1433.39 70.9151 L1433.39 63.2184 Q1437.52 65.3654 1441.53 66.4591 Q1445.54 67.5124 1449.47 67.5124 Q1454.74 67.5124 1457.57 65.73 Q1460.41 63.9071 1460.41 60.6258 Q1460.41 57.5877 1458.34 55.9673 Q1456.32 54.3469 1449.39 52.8481 L1446.8 52.2405 Q1439.87 50.7821 1436.79 47.7845 Q1433.71 44.7463 1433.71 39.4801 Q1433.71 33.0797 1438.25 29.5959 Q1442.79 26.1121 1451.13 26.1121 Q1455.26 26.1121 1458.91 26.7198 Q1462.55 27.3274 1465.63 28.5427 Z\" fill=\"#000000\" fill-rule=\"evenodd\" fill-opacity=\"1\" /><path clip-path=\"url(#clip730)\" d=\"M 0 0 M1504.81 28.5427 L1504.81 35.5912 Q1501.65 33.9709 1498.24 33.1607 Q1494.84 32.3505 1491.19 32.3505 Q1485.64 32.3505 1482.85 34.0519 Q1480.09 35.7533 1480.09 39.156 Q1480.09 41.7486 1482.08 43.2475 Q1484.06 44.7058 1490.06 46.0426 L1492.61 46.6097 Q1500.55 48.3111 1503.87 51.4303 Q1507.24 54.509 1507.24 60.0587 Q1507.24 66.3781 1502.21 70.0644 Q1497.23 73.7508 1488.48 73.7508 Q1484.83 73.7508 1480.86 73.0216 Q1476.94 72.3329 1472.56 70.9151 L1472.56 63.2184 Q1476.69 65.3654 1480.7 66.4591 Q1484.71 67.5124 1488.64 67.5124 Q1493.91 67.5124 1496.74 65.73 Q1499.58 63.9071 1499.58 60.6258 Q1499.58 57.5877 1497.51 55.9673 Q1495.49 54.3469 1488.56 52.8481 L1485.97 52.2405 Q1479.04 50.7821 1475.96 47.7845 Q1472.88 44.7463 1472.88 39.4801 Q1472.88 33.0797 1477.42 29.5959 Q1481.96 26.1121 1490.3 26.1121 Q1494.43 26.1121 1498.08 26.7198 Q1501.73 27.3274 1504.81 28.5427 Z\" fill=\"#000000\" fill-rule=\"evenodd\" fill-opacity=\"1\" /><path clip-path=\"url(#clip730)\" d=\"M 0 0 M1553.86 48.0275 L1553.86 51.6733 L1519.59 51.6733 Q1520.08 59.3701 1524.21 63.421 Q1528.38 67.4314 1535.79 67.4314 Q1540.09 67.4314 1544.1 66.3781 Q1548.15 65.3249 1552.12 63.2184 L1552.12 70.267 Q1548.11 71.9684 1543.9 72.8596 Q1539.68 73.7508 1535.35 73.7508 Q1524.49 73.7508 1518.13 67.4314 Q1511.81 61.1119 1511.81 50.3365 Q1511.81 39.1965 1517.81 32.6746 Q1523.84 26.1121 1534.05 26.1121 Q1543.21 26.1121 1548.51 32.0264 Q1553.86 37.9003 1553.86 48.0275 M1546.41 45.84 Q1546.33 39.7232 1542.96 36.0774 Q1539.64 32.4315 1534.13 32.4315 Q1527.9 32.4315 1524.13 35.9558 Q1520.4 39.4801 1519.83 45.8805 L1546.41 45.84 Z\" fill=\"#000000\" fill-rule=\"evenodd\" fill-opacity=\"1\" /><path clip-path=\"url(#clip730)\" d=\"M 0 0 M1560.91 54.671 L1560.91 27.2059 L1568.36 27.2059 L1568.36 54.3874 Q1568.36 60.8284 1570.88 64.0691 Q1573.39 67.2693 1578.41 67.2693 Q1584.45 67.2693 1587.93 63.421 Q1591.45 59.5726 1591.45 52.9291 L1591.45 27.2059 L1598.91 27.2059 L1598.91 72.576 L1591.45 72.576 L1591.45 65.6084 Q1588.74 69.7404 1585.13 71.7658 Q1581.57 73.7508 1576.83 73.7508 Q1569.01 73.7508 1564.96 68.8897 Q1560.91 64.0286 1560.91 54.671 M1579.67 26.1121 L1579.67 26.1121 Z\" fill=\"#000000\" fill-rule=\"evenodd\" fill-opacity=\"1\" /><path clip-path=\"url(#clip730)\" d=\"M 0 0 M1633.02 34.1734 Q1631.76 33.4443 1630.26 33.1202 Q1628.8 32.7556 1627.02 32.7556 Q1620.7 32.7556 1617.3 36.8875 Q1613.94 40.9789 1613.94 48.6757 L1613.94 72.576 L1606.44 72.576 L1606.44 27.2059 L1613.94 27.2059 L1613.94 34.2544 Q1616.29 30.1225 1620.05 28.1376 Q1623.82 26.1121 1629.21 26.1121 Q1629.98 26.1121 1630.91 26.2337 Q1631.84 26.3147 1632.98 26.5172 L1633.02 34.1734 Z\" fill=\"#000000\" fill-rule=\"evenodd\" fill-opacity=\"1\" /><path clip-path=\"url(#clip730)\" d=\"M 0 0 M1669.68 65.6895 L1683.05 65.6895 L1683.05 19.5497 L1668.5 22.4663 L1668.5 15.0127 L1682.96 12.096 L1691.15 12.096 L1691.15 65.6895 L1704.51 65.6895 L1704.51 72.576 L1669.68 72.576 L1669.68 65.6895 Z\" fill=\"#000000\" fill-rule=\"evenodd\" fill-opacity=\"1\" /><polyline clip-path=\"url(#clip732)\" style=\"stroke:#009af9; stroke-width:12; stroke-opacity:1; fill:none\" points=\"\n",
       "  538.33,1423.18 1264.1,1260.72 1989.87,1423.18 \n",
       "  \"/>\n",
       "<circle clip-path=\"url(#clip732)\" cx=\"538.33\" cy=\"1423.18\" r=\"14\" fill=\"#009af9\" fill-rule=\"evenodd\" fill-opacity=\"1\" stroke=\"#000000\" stroke-opacity=\"1\" stroke-width=\"3.2\"/>\n",
       "<circle clip-path=\"url(#clip732)\" cx=\"1264.1\" cy=\"1260.72\" r=\"14\" fill=\"#009af9\" fill-rule=\"evenodd\" fill-opacity=\"1\" stroke=\"#000000\" stroke-opacity=\"1\" stroke-width=\"3.2\"/>\n",
       "<circle clip-path=\"url(#clip732)\" cx=\"1989.87\" cy=\"1423.18\" r=\"14\" fill=\"#009af9\" fill-rule=\"evenodd\" fill-opacity=\"1\" stroke=\"#000000\" stroke-opacity=\"1\" stroke-width=\"3.2\"/>\n",
       "<polyline clip-path=\"url(#clip732)\" style=\"stroke:#e26f46; stroke-width:12; stroke-opacity:1; fill:none\" points=\"\n",
       "  538.33,285.936 1264.1,285.936 1989.87,448.399 \n",
       "  \"/>\n",
       "<circle clip-path=\"url(#clip732)\" cx=\"538.33\" cy=\"285.936\" r=\"14\" fill=\"#e26f46\" fill-rule=\"evenodd\" fill-opacity=\"1\" stroke=\"#000000\" stroke-opacity=\"1\" stroke-width=\"3.2\"/>\n",
       "<circle clip-path=\"url(#clip732)\" cx=\"1264.1\" cy=\"285.936\" r=\"14\" fill=\"#e26f46\" fill-rule=\"evenodd\" fill-opacity=\"1\" stroke=\"#000000\" stroke-opacity=\"1\" stroke-width=\"3.2\"/>\n",
       "<circle clip-path=\"url(#clip732)\" cx=\"1989.87\" cy=\"448.399\" r=\"14\" fill=\"#e26f46\" fill-rule=\"evenodd\" fill-opacity=\"1\" stroke=\"#000000\" stroke-opacity=\"1\" stroke-width=\"3.2\"/>\n",
       "<path clip-path=\"url(#clip730)\" d=\"\n",
       "M1953.74 348.236 L2280.18 348.236 L2280.18 166.796 L1953.74 166.796  Z\n",
       "  \" fill=\"#ffffff\" fill-rule=\"evenodd\" fill-opacity=\"1\"/>\n",
       "<polyline clip-path=\"url(#clip730)\" style=\"stroke:#000000; stroke-width:4; stroke-opacity:1; fill:none\" points=\"\n",
       "  1953.74,348.236 2280.18,348.236 2280.18,166.796 1953.74,166.796 1953.74,348.236 \n",
       "  \"/>\n",
       "<polyline clip-path=\"url(#clip730)\" style=\"stroke:#009af9; stroke-width:4; stroke-opacity:1; fill:none\" points=\"\n",
       "  1977.93,227.276 2123.09,227.276 \n",
       "  \"/>\n",
       "<circle clip-path=\"url(#clip730)\" cx=\"2050.51\" cy=\"227.276\" r=\"23\" fill=\"#009af9\" fill-rule=\"evenodd\" fill-opacity=\"1\" stroke=\"#000000\" stroke-opacity=\"1\" stroke-width=\"5.12\"/>\n",
       "<path clip-path=\"url(#clip730)\" d=\"M 0 0 M2171.31 230.528 L2171.31 232.611 L2151.73 232.611 Q2152 237.009 2154.36 239.324 Q2156.75 241.616 2160.98 241.616 Q2163.44 241.616 2165.73 241.014 Q2168.04 240.412 2170.31 239.209 L2170.31 243.236 Q2168.02 244.208 2165.61 244.718 Q2163.21 245.227 2160.73 245.227 Q2154.53 245.227 2150.89 241.616 Q2147.28 238.005 2147.28 231.847 Q2147.28 225.482 2150.71 221.755 Q2154.16 218.005 2159.99 218.005 Q2165.22 218.005 2168.25 221.385 Q2171.31 224.741 2171.31 230.528 M2167.05 229.278 Q2167 225.783 2165.08 223.699 Q2163.18 221.616 2160.04 221.616 Q2156.47 221.616 2154.32 223.63 Q2152.19 225.644 2151.86 229.301 L2167.05 229.278 Z\" fill=\"#000000\" fill-rule=\"evenodd\" fill-opacity=\"1\" /><path clip-path=\"url(#clip730)\" d=\"M 0 0 M2176.33 223.028 L2206.01 223.028 L2206.01 226.917 L2176.33 226.917 L2176.33 223.028 M2176.33 232.472 L2206.01 232.472 L2206.01 236.408 L2176.33 236.408 L2176.33 232.472 Z\" fill=\"#000000\" fill-rule=\"evenodd\" fill-opacity=\"1\" /><path clip-path=\"url(#clip730)\" d=\"M 0 0 M2211.89 240.621 L2219.53 240.621 L2219.53 214.255 L2211.22 215.922 L2211.22 211.662 L2219.48 209.996 L2224.16 209.996 L2224.16 240.621 L2231.79 240.621 L2231.79 244.556 L2211.89 244.556 L2211.89 240.621 Z\" fill=\"#000000\" fill-rule=\"evenodd\" fill-opacity=\"1\" /><polyline clip-path=\"url(#clip730)\" style=\"stroke:#e26f46; stroke-width:4; stroke-opacity:1; fill:none\" points=\"\n",
       "  1977.93,287.756 2123.09,287.756 \n",
       "  \"/>\n",
       "<circle clip-path=\"url(#clip730)\" cx=\"2050.51\" cy=\"287.756\" r=\"23\" fill=\"#e26f46\" fill-rule=\"evenodd\" fill-opacity=\"1\" stroke=\"#000000\" stroke-opacity=\"1\" stroke-width=\"5.12\"/>\n",
       "<path clip-path=\"url(#clip730)\" d=\"M 0 0 M2171.31 291.008 L2171.31 293.091 L2151.73 293.091 Q2152 297.489 2154.36 299.804 Q2156.75 302.096 2160.98 302.096 Q2163.44 302.096 2165.73 301.494 Q2168.04 300.892 2170.31 299.689 L2170.31 303.716 Q2168.02 304.688 2165.61 305.198 Q2163.21 305.707 2160.73 305.707 Q2154.53 305.707 2150.89 302.096 Q2147.28 298.485 2147.28 292.327 Q2147.28 285.962 2150.71 282.235 Q2154.16 278.485 2159.99 278.485 Q2165.22 278.485 2168.25 281.865 Q2171.31 285.221 2171.31 291.008 M2167.05 289.758 Q2167 286.263 2165.08 284.179 Q2163.18 282.096 2160.04 282.096 Q2156.47 282.096 2154.32 284.11 Q2152.19 286.124 2151.86 289.781 L2167.05 289.758 Z\" fill=\"#000000\" fill-rule=\"evenodd\" fill-opacity=\"1\" /><path clip-path=\"url(#clip730)\" d=\"M 0 0 M2176.33 283.508 L2206.01 283.508 L2206.01 287.397 L2176.33 287.397 L2176.33 283.508 M2176.33 292.952 L2206.01 292.952 L2206.01 296.888 L2176.33 296.888 L2176.33 292.952 Z\" fill=\"#000000\" fill-rule=\"evenodd\" fill-opacity=\"1\" /><path clip-path=\"url(#clip730)\" d=\"M 0 0 M2215.1 301.101 L2231.42 301.101 L2231.42 305.036 L2209.48 305.036 L2209.48 301.101 Q2212.14 298.346 2216.72 293.716 Q2221.33 289.064 2222.51 287.721 Q2224.76 285.198 2225.64 283.462 Q2226.54 281.703 2226.54 280.013 Q2226.54 277.258 2224.6 275.522 Q2222.67 273.786 2219.57 273.786 Q2217.37 273.786 2214.92 274.55 Q2212.49 275.314 2209.71 276.865 L2209.71 272.142 Q2212.54 271.008 2214.99 270.429 Q2217.44 269.851 2219.48 269.851 Q2224.85 269.851 2228.04 272.536 Q2231.24 275.221 2231.24 279.712 Q2231.24 281.841 2230.43 283.763 Q2229.64 285.661 2227.53 288.253 Q2226.96 288.925 2223.85 292.142 Q2220.75 295.337 2215.1 301.101 Z\" fill=\"#000000\" fill-rule=\"evenodd\" fill-opacity=\"1\" /></svg>\n"
      ]
     },
     "execution_count": 50,
     "metadata": {},
     "output_type": "execute_result"
    }
   ],
   "source": [
    "plot_stocks(solution_petite, instance_petite, fournisseurs_petite[1])"
   ]
  },
  {
   "cell_type": "markdown",
   "metadata": {},
   "source": [
    "### Feasibility"
   ]
  },
  {
   "cell_type": "code",
   "execution_count": 51,
   "metadata": {
    "ExecuteTime": {
     "end_time": "2020-11-12T17:00:27.938000+01:00",
     "start_time": "2020-11-12T15:59:42.677Z"
    }
   },
   "outputs": [
    {
     "data": {
      "text/plain": [
       "check_length (generic function with 1 method)"
      ]
     },
     "execution_count": 51,
     "metadata": {},
     "output_type": "execute_result"
    }
   ],
   "source": [
    "function check_length(route::Route)::Bool\n",
    "    @assert nb_stops(route) <= 4\n",
    "    return true\n",
    "end"
   ]
  },
  {
   "cell_type": "code",
   "execution_count": 52,
   "metadata": {
    "ExecuteTime": {
     "end_time": "2020-11-12T17:00:28.012000+01:00",
     "start_time": "2020-11-12T15:59:42.679Z"
    }
   },
   "outputs": [
    {
     "data": {
      "text/plain": [
       "check_load (generic function with 1 method)"
      ]
     },
     "execution_count": 52,
     "metadata": {},
     "output_type": "execute_result"
    }
   ],
   "source": [
    "function check_load(route::Route, instance::Instance)::Bool\n",
    "    q = sum(stop.Q for stop in route.stops)\n",
    "    l_route = sum(q[e] * instance.emballages[e].l for e = 1:instance.E)\n",
    "     \n",
    "    # Constraint (8)\n",
    "    @assert l_route <= instance.L\n",
    "    \n",
    "    return true\n",
    "end"
   ]
  },
  {
   "cell_type": "code",
   "execution_count": 53,
   "metadata": {
    "ExecuteTime": {
     "end_time": "2020-11-12T17:00:28.110000+01:00",
     "start_time": "2020-11-12T15:59:42.680Z"
    }
   },
   "outputs": [
    {
     "data": {
      "text/plain": [
       "check_stock (generic function with 1 method)"
      ]
     },
     "execution_count": 53,
     "metadata": {},
     "output_type": "execute_result"
    }
   ],
   "source": [
    "function check_stock(usine::Usine, s::Matrix{Int})::Bool\n",
    "    # Constraint (2)\n",
    "    @assert all(0 .<= s)\n",
    "    return true\n",
    "end"
   ]
  },
  {
   "cell_type": "code",
   "execution_count": 54,
   "metadata": {
    "ExecuteTime": {
     "end_time": "2020-11-12T17:00:28.112000+01:00",
     "start_time": "2020-11-12T15:59:42.686Z"
    }
   },
   "outputs": [
    {
     "data": {
      "text/plain": [
       "check_stock (generic function with 2 methods)"
      ]
     },
     "execution_count": 54,
     "metadata": {},
     "output_type": "execute_result"
    }
   ],
   "source": [
    "function check_stock(fournisseur::Fournisseur, s::Matrix{Int})::Bool\n",
    "    # Constraint (4b)\n",
    "    @assert all(0 .<= s)\n",
    "    return true\n",
    "end"
   ]
  },
  {
   "cell_type": "code",
   "execution_count": 55,
   "metadata": {
    "ExecuteTime": {
     "end_time": "2020-11-12T17:00:28.215000+01:00",
     "start_time": "2020-11-12T15:59:42.687Z"
    }
   },
   "outputs": [
    {
     "data": {
      "text/plain": [
       "feasibility (generic function with 1 method)"
      ]
     },
     "execution_count": 55,
     "metadata": {},
     "output_type": "execute_result"
    }
   ],
   "source": [
    "function feasibility(solution::Solution, instance::Instance)::Bool\n",
    "    J, U, F, E = instance.J, instance.U, instance.F, instance.E\n",
    "    \n",
    "    for route in solution.routes\n",
    "        check_length(route)\n",
    "        check_load(route, instance)\n",
    "    end\n",
    "    \n",
    "    su, sf = compute_stocks(solution, instance)\n",
    "    \n",
    "    for usine in instance.usines\n",
    "        check_stock(usine, su[usine.u, :, :])\n",
    "    end\n",
    "    for fournisseur in instance.fournisseurs\n",
    "        check_stock(fournisseur, sf[fournisseur.f, :, :])\n",
    "    end\n",
    "    \n",
    "    return true\n",
    "end"
   ]
  },
  {
   "cell_type": "code",
   "execution_count": 56,
   "metadata": {
    "ExecuteTime": {
     "end_time": "2020-11-12T17:00:28.931000+01:00",
     "start_time": "2020-11-12T15:59:42.689Z"
    }
   },
   "outputs": [
    {
     "data": {
      "text/plain": [
       "true"
      ]
     },
     "execution_count": 56,
     "metadata": {},
     "output_type": "execute_result"
    }
   ],
   "source": [
    "feasibility(solution_petite, instance_petite)"
   ]
  },
  {
   "cell_type": "markdown",
   "metadata": {},
   "source": [
    "### Cost"
   ]
  },
  {
   "cell_type": "markdown",
   "metadata": {},
   "source": [
    "#### Route"
   ]
  },
  {
   "cell_type": "code",
   "execution_count": 57,
   "metadata": {
    "ExecuteTime": {
     "end_time": "2020-11-12T17:00:29.001000+01:00",
     "start_time": "2020-11-12T15:59:42.702Z"
    }
   },
   "outputs": [
    {
     "data": {
      "text/plain": [
       "truck_cost (generic function with 1 method)"
      ]
     },
     "execution_count": 57,
     "metadata": {},
     "output_type": "execute_result"
    }
   ],
   "source": [
    "function truck_cost(route::Route, instance::Instance)::Float64\n",
    "    return instance.ccam\n",
    "end"
   ]
  },
  {
   "cell_type": "code",
   "execution_count": 58,
   "metadata": {
    "ExecuteTime": {
     "end_time": "2020-11-12T17:00:29.071000+01:00",
     "start_time": "2020-11-12T15:59:42.703Z"
    }
   },
   "outputs": [
    {
     "data": {
      "text/plain": [
       "stops_cost (generic function with 1 method)"
      ]
     },
     "execution_count": 58,
     "metadata": {},
     "output_type": "execute_result"
    }
   ],
   "source": [
    "function stops_cost(route::Route, instance::Instance)::Float64\n",
    "    return instance.cstop * nb_stops(route)\n",
    "end"
   ]
  },
  {
   "cell_type": "code",
   "execution_count": 59,
   "metadata": {
    "ExecuteTime": {
     "end_time": "2020-11-12T17:00:29.180000+01:00",
     "start_time": "2020-11-12T15:59:42.704Z"
    }
   },
   "outputs": [
    {
     "data": {
      "text/plain": [
       "km_cost (generic function with 1 method)"
      ]
     },
     "execution_count": 59,
     "metadata": {},
     "output_type": "execute_result"
    }
   ],
   "source": [
    "function km_cost(route::Route, instance::Instance)::Float64\n",
    "    return instance.γ * nb_km(route, instance)\n",
    "end"
   ]
  },
  {
   "cell_type": "code",
   "execution_count": 60,
   "metadata": {
    "ExecuteTime": {
     "end_time": "2020-11-12T17:00:29.263000+01:00",
     "start_time": "2020-11-12T15:59:42.706Z"
    }
   },
   "outputs": [
    {
     "data": {
      "text/plain": [
       "cost_single_truck (generic function with 1 method)"
      ]
     },
     "execution_count": 60,
     "metadata": {},
     "output_type": "execute_result"
    }
   ],
   "source": [
    "function cost_single_truck(route::Route, instance::Instance)::Float64\n",
    "    return truck_cost(route, instance) + stops_cost(route, instance) + km_cost(route, instance)\n",
    "end"
   ]
  },
  {
   "cell_type": "code",
   "execution_count": 61,
   "metadata": {
    "ExecuteTime": {
     "end_time": "2020-11-12T17:00:29.346000+01:00",
     "start_time": "2020-11-12T15:59:42.708Z"
    }
   },
   "outputs": [
    {
     "data": {
      "text/plain": [
       "cost (generic function with 1 method)"
      ]
     },
     "execution_count": 61,
     "metadata": {},
     "output_type": "execute_result"
    }
   ],
   "source": [
    "function cost(route::Route, instance::Instance)::Float64\n",
    "    return route.x * cost_single_truck(route, instance)\n",
    "end"
   ]
  },
  {
   "cell_type": "markdown",
   "metadata": {},
   "source": [
    "#### Usine"
   ]
  },
  {
   "cell_type": "code",
   "execution_count": 62,
   "metadata": {
    "ExecuteTime": {
     "end_time": "2020-11-12T17:00:29.428000+01:00",
     "start_time": "2020-11-12T15:59:42.714Z"
    }
   },
   "outputs": [
    {
     "data": {
      "text/plain": [
       "stock_cost (generic function with 1 method)"
      ]
     },
     "execution_count": 62,
     "metadata": {},
     "output_type": "execute_result"
    }
   ],
   "source": [
    "function stock_cost(usine::Usine, s::Matrix{Int}; j::Int)::Float64\n",
    "    E, J = size(s)\n",
    "    return sum(usine.cs[e] * max(0., s[e, j] - usine.r[e, j]) for e = 1:E)\n",
    "end"
   ]
  },
  {
   "cell_type": "code",
   "execution_count": 63,
   "metadata": {
    "ExecuteTime": {
     "end_time": "2020-11-12T17:00:29.432000+01:00",
     "start_time": "2020-11-12T15:59:42.716Z"
    }
   },
   "outputs": [
    {
     "data": {
      "text/plain": [
       "cost (generic function with 2 methods)"
      ]
     },
     "execution_count": 63,
     "metadata": {},
     "output_type": "execute_result"
    }
   ],
   "source": [
    "function cost(usine::Usine, s::Matrix{Int}; j::Int)::Float64\n",
    "    return stock_cost(usine, s, j=j)\n",
    "end"
   ]
  },
  {
   "cell_type": "code",
   "execution_count": 64,
   "metadata": {
    "ExecuteTime": {
     "end_time": "2020-11-12T17:00:29.435000+01:00",
     "start_time": "2020-11-12T15:59:42.717Z"
    }
   },
   "outputs": [
    {
     "data": {
      "text/plain": [
       "cost (generic function with 2 methods)"
      ]
     },
     "execution_count": 64,
     "metadata": {},
     "output_type": "execute_result"
    }
   ],
   "source": [
    "function cost(usine::Usine, s::Matrix{Int})::Float64\n",
    "    E, J = size(s)\n",
    "    return sum(cost(usine, s, j=j) for j = 1:J)\n",
    "end"
   ]
  },
  {
   "cell_type": "markdown",
   "metadata": {},
   "source": [
    "#### Fournisseur"
   ]
  },
  {
   "cell_type": "code",
   "execution_count": 65,
   "metadata": {
    "ExecuteTime": {
     "end_time": "2020-11-12T17:00:29.441000+01:00",
     "start_time": "2020-11-12T15:59:42.724Z"
    }
   },
   "outputs": [
    {
     "data": {
      "text/plain": [
       "stock_cost (generic function with 2 methods)"
      ]
     },
     "execution_count": 65,
     "metadata": {},
     "output_type": "execute_result"
    }
   ],
   "source": [
    "function stock_cost(fournisseur::Fournisseur, s::Matrix{Int}; j::Int)::Float64\n",
    "    E, J = size(s)\n",
    "    c = sum(fournisseur.cs[e] * max(0., s[e, j] - fournisseur.r[e, j]) for e = 1:E)\n",
    "    return c\n",
    "end"
   ]
  },
  {
   "cell_type": "code",
   "execution_count": 66,
   "metadata": {
    "ExecuteTime": {
     "end_time": "2020-11-12T17:00:29.533000+01:00",
     "start_time": "2020-11-12T15:59:42.727Z"
    }
   },
   "outputs": [
    {
     "data": {
      "text/plain": [
       "expedition_cost (generic function with 1 method)"
      ]
     },
     "execution_count": 66,
     "metadata": {},
     "output_type": "execute_result"
    }
   ],
   "source": [
    "function expedition_cost(fournisseur::Fournisseur, s::Matrix{Int}; j::Int)::Float64\n",
    "    E, J = size(s)\n",
    "    c = sum(fournisseur.cexc[e] * max(0., fournisseur.b⁻[e, j] - (j == 1 ? fournisseur.s0[e] : s[e, j-1])) for e = 1:E)\n",
    "    return c\n",
    "end"
   ]
  },
  {
   "cell_type": "code",
   "execution_count": 67,
   "metadata": {
    "ExecuteTime": {
     "end_time": "2020-11-12T17:00:29.537000+01:00",
     "start_time": "2020-11-12T15:59:42.729Z"
    }
   },
   "outputs": [
    {
     "data": {
      "text/plain": [
       "cost (generic function with 3 methods)"
      ]
     },
     "execution_count": 67,
     "metadata": {},
     "output_type": "execute_result"
    }
   ],
   "source": [
    "function cost(fournisseur::Fournisseur, s::Matrix{Int}; j::Int)::Float64\n",
    "    return stock_cost(fournisseur, s, j=j) + expedition_cost(fournisseur, s, j=j)\n",
    "end"
   ]
  },
  {
   "cell_type": "code",
   "execution_count": 68,
   "metadata": {
    "ExecuteTime": {
     "end_time": "2020-11-12T17:00:29.540000+01:00",
     "start_time": "2020-11-12T15:59:42.731Z"
    }
   },
   "outputs": [
    {
     "data": {
      "text/plain": [
       "cost (generic function with 3 methods)"
      ]
     },
     "execution_count": 68,
     "metadata": {},
     "output_type": "execute_result"
    }
   ],
   "source": [
    "function cost(fournisseur::Fournisseur, s::Matrix{Int})::Float64\n",
    "    E, J = size(s)\n",
    "    return sum(cost(fournisseur, s, j=j) for j=1:J)\n",
    "end"
   ]
  },
  {
   "cell_type": "markdown",
   "metadata": {},
   "source": [
    "#### Total"
   ]
  },
  {
   "cell_type": "code",
   "execution_count": 69,
   "metadata": {
    "ExecuteTime": {
     "end_time": "2020-11-12T17:00:29.633000+01:00",
     "start_time": "2020-11-12T15:59:42.737Z"
    }
   },
   "outputs": [
    {
     "data": {
      "text/plain": [
       "cost_verbose (generic function with 1 method)"
      ]
     },
     "execution_count": 69,
     "metadata": {},
     "output_type": "execute_result"
    }
   ],
   "source": [
    "function cost_verbose(solution::Solution, instance::Instance)::Float64\n",
    "    U, F, J = instance.U, instance.F, instance.J\n",
    "    usines, fournisseurs = instance.usines, instance.fournisseurs\n",
    "\n",
    "    su, sf = compute_stocks(solution, instance)\n",
    "\n",
    "    c = 0.\n",
    "    \n",
    "    for u = 1:U\n",
    "        println(\"Usine $u\")\n",
    "        for j = 1:J\n",
    "            cujs = stock_cost(usines[u], su[u, :, :], j=j)\n",
    "            c += cujs\n",
    "            println(\"   Jour $j\")\n",
    "            println(\"      Coût stock: $cujs\")\n",
    "        end\n",
    "    end\n",
    "    cu = c\n",
    "    \n",
    "    println()\n",
    "\n",
    "    for f = 1:F\n",
    "        println(\"Fournisseur $f\")\n",
    "        for j = 1:J\n",
    "            cfjs = stock_cost(fournisseurs[f], sf[f, :, :], j=j)\n",
    "            cfje = expedition_cost(fournisseurs[f], sf[f, :, :], j=j)\n",
    "            c += cfjs + cfje\n",
    "            println(\"   Jour $j\")\n",
    "            println(\"      Coût stock: $cfjs\")\n",
    "            println(\"      Coût expédition: $cfje\")\n",
    "            println(\"      Coût total: \" * string(cfjs + cfje))\n",
    "        end\n",
    "    end\n",
    "    cf = c - cu\n",
    "    \n",
    "    println()\n",
    "    \n",
    "    for route in solution.routes\n",
    "        println(\"Route $(route.r), jour $(route.j)\")\n",
    "        crt = truck_cost(route, instance)\n",
    "        crs = stops_cost(route, instance)\n",
    "        crk = km_cost(route, instance)\n",
    "        rx = route.x\n",
    "        c += route.x * (crt + crs + crk)\n",
    "        println(\"   Coût camion: $crt\")\n",
    "        println(\"   Coût arrêts: $crs\")\n",
    "        println(\"   Coût kilométrique: $crk\")\n",
    "        println(\"   Nb camions: $rx\")\n",
    "        println(\"   Coût total: \" * string(route.x * (crt + crs + crk)))\n",
    "    end\n",
    "    cr = c- cf - cu\n",
    "    \n",
    "    println()\n",
    "    println(\"Coût total usines: $cu\")\n",
    "    println(\"Coût total fournisseurs: $cf\")\n",
    "    println(\"Coût total routes: $cr\")\n",
    "    println()\n",
    "    println(\"Coût total: $c\")\n",
    "\n",
    "    return c\n",
    "end"
   ]
  },
  {
   "cell_type": "code",
   "execution_count": 70,
   "metadata": {
    "ExecuteTime": {
     "end_time": "2020-11-12T17:00:29.639000+01:00",
     "start_time": "2020-11-12T15:59:42.739Z"
    }
   },
   "outputs": [
    {
     "data": {
      "text/plain": [
       "cost (generic function with 4 methods)"
      ]
     },
     "execution_count": 70,
     "metadata": {},
     "output_type": "execute_result"
    }
   ],
   "source": [
    "function cost(solution::Solution, instance::Instance; verbose::Bool=false)::Float64\n",
    "    if verbose\n",
    "        return cost_verbose(solution, instance)\n",
    "    end\n",
    "\n",
    "    U, F, J = instance.U, instance.F, instance.J\n",
    "    usines, fournisseurs = instance.usines, instance.fournisseurs\n",
    "\n",
    "    su, sf = compute_stocks(solution, instance)\n",
    "    \n",
    "    c = 0.\n",
    "    \n",
    "    for u = 1:U\n",
    "        c += cost(usines[u], su[u, :, :])\n",
    "    end\n",
    "    \n",
    "    for f = 1:F\n",
    "        c += cost(fournisseurs[f], sf[f, :, :])\n",
    "    end\n",
    "    \n",
    "    for route in solution.routes\n",
    "        c += cost(route, instance)\n",
    "    end\n",
    "\n",
    "    return c\n",
    "    \n",
    "end"
   ]
  },
  {
   "cell_type": "code",
   "execution_count": 71,
   "metadata": {
    "ExecuteTime": {
     "end_time": "2020-11-12T17:00:30.375000+01:00",
     "start_time": "2020-11-12T15:59:42.740Z"
    }
   },
   "outputs": [
    {
     "data": {
      "text/plain": [
       "884.0"
      ]
     },
     "execution_count": 71,
     "metadata": {},
     "output_type": "execute_result"
    }
   ],
   "source": [
    "cost(solution_petite, instance_petite)"
   ]
  },
  {
   "cell_type": "code",
   "execution_count": 72,
   "metadata": {
    "ExecuteTime": {
     "end_time": "2020-11-12T17:00:30.434000+01:00",
     "start_time": "2020-11-12T15:59:42.742Z"
    }
   },
   "outputs": [
    {
     "name": "stdout",
     "output_type": "stream",
     "text": [
      "Usine 1\n",
      "   Jour 1\n",
      "      Coût stock: 8.0\n",
      "   Jour 2\n",
      "      Coût stock: 22.0\n",
      "   Jour 3\n",
      "      Coût stock: 42.0\n",
      "Usine 2\n",
      "   Jour 1\n",
      "      Coût stock: 16.0\n",
      "   Jour 2\n",
      "      Coût stock: 12.0\n",
      "   Jour 3\n",
      "      Coût stock: 24.0\n",
      "\n",
      "Fournisseur 1\n",
      "   Jour 1\n",
      "      Coût stock: 8.0\n",
      "      Coût expédition: 0.0\n",
      "      Coût total: 8.0\n",
      "   Jour 2\n",
      "      Coût stock: 8.0\n",
      "      Coût expédition: 110.0\n",
      "      Coût total: 118.0\n",
      "   Jour 3\n",
      "      Coût stock: 4.0\n",
      "      Coût expédition: 55.0\n",
      "      Coût total: 59.0\n",
      "Fournisseur 2\n",
      "   Jour 1\n",
      "      Coût stock: 0.0\n",
      "      Coût expédition: 0.0\n",
      "      Coût total: 0.0\n",
      "   Jour 2\n",
      "      Coût stock: 10.0\n",
      "      Coût expédition: 0.0\n",
      "      Coût total: 10.0\n",
      "   Jour 3\n",
      "      Coût stock: 16.0\n",
      "      Coût expédition: 0.0\n",
      "      Coût total: 16.0\n",
      "Fournisseur 3\n",
      "   Jour 1\n",
      "      Coût stock: 0.0\n",
      "      Coût expédition: 0.0\n",
      "      Coût total: 0.0\n",
      "   Jour 2\n",
      "      Coût stock: 8.0\n",
      "      Coût expédition: 0.0\n",
      "      Coût total: 8.0\n",
      "   Jour 3\n",
      "      Coût stock: 8.0\n",
      "      Coût expédition: 35.0\n",
      "      Coût total: 43.0\n",
      "\n",
      "Route 1, jour 1\n",
      "   Coût camion: 100.0\n",
      "   Coût arrêts: 10.0\n",
      "   Coût kilométrique: 0.0\n",
      "   Nb camions: 1\n",
      "   Coût total: 110.0\n",
      "Route 2, jour 2\n",
      "   Coût camion: 100.0\n",
      "   Coût arrêts: 30.0\n",
      "   Coût kilométrique: 8.0\n",
      "   Nb camions: 1\n",
      "   Coût total: 138.0\n",
      "Route 3, jour 2\n",
      "   Coût camion: 100.0\n",
      "   Coût arrêts: 20.0\n",
      "   Coût kilométrique: 5.0\n",
      "   Nb camions: 2\n",
      "   Coût total: 250.0\n",
      "\n",
      "Coût total usines: 124.0\n",
      "Coût total fournisseurs: 262.0\n",
      "Coût total routes: 498.0\n",
      "\n",
      "Coût total: 884.0\n"
     ]
    },
    {
     "data": {
      "text/plain": [
       "884.0"
      ]
     },
     "execution_count": 72,
     "metadata": {},
     "output_type": "execute_result"
    }
   ],
   "source": [
    "cost(solution_petite, instance_petite, verbose=true)"
   ]
  },
  {
   "cell_type": "markdown",
   "metadata": {},
   "source": [
    "## Writing files"
   ]
  },
  {
   "cell_type": "code",
   "execution_count": 73,
   "metadata": {
    "ExecuteTime": {
     "end_time": "2020-11-12T17:00:30.436000+01:00",
     "start_time": "2020-11-12T15:59:42.749Z"
    }
   },
   "outputs": [],
   "source": [
    "function Base.string(stop::RouteStop)::String\n",
    "    f = stop.f\n",
    "    str = \"f $(f-1)\"\n",
    "    E = length(stop.Q)\n",
    "    for e = 1:E\n",
    "        q = stop.Q[e]\n",
    "        str *= \" e $(e-1) q $q\" \n",
    "    end\n",
    "    return str\n",
    "end"
   ]
  },
  {
   "cell_type": "code",
   "execution_count": 74,
   "metadata": {
    "ExecuteTime": {
     "end_time": "2020-11-12T17:00:30.440000+01:00",
     "start_time": "2020-11-12T15:59:42.750Z"
    }
   },
   "outputs": [],
   "source": [
    "function Base.string(route::Route)::String\n",
    "    r = route.r\n",
    "    j = route.j\n",
    "    x = route.x\n",
    "    u = route.u\n",
    "    F = route.F\n",
    "    str = \"r $(r-1) j $(j-1) x $x u $(u-1) F $F\"\n",
    "    for stop in route.stops\n",
    "        str *= \" \" * string(stop)\n",
    "    end\n",
    "    return str\n",
    "end"
   ]
  },
  {
   "cell_type": "code",
   "execution_count": 75,
   "metadata": {
    "ExecuteTime": {
     "end_time": "2020-11-12T17:00:30.443000+01:00",
     "start_time": "2020-11-12T15:59:42.751Z"
    }
   },
   "outputs": [],
   "source": [
    "function Base.string(solution::Solution)::String\n",
    "    R = solution.R\n",
    "    str = \"R $R\"\n",
    "    for route in solution.routes\n",
    "        str *= \"\\n\" * string(route)\n",
    "    end\n",
    "    return str\n",
    "end"
   ]
  },
  {
   "cell_type": "code",
   "execution_count": 76,
   "metadata": {
    "ExecuteTime": {
     "end_time": "2020-11-12T17:00:30.606000+01:00",
     "start_time": "2020-11-12T15:59:42.752Z"
    }
   },
   "outputs": [
    {
     "data": {
      "text/plain": [
       "write_sol_to_file (generic function with 1 method)"
      ]
     },
     "execution_count": 76,
     "metadata": {},
     "output_type": "execute_result"
    }
   ],
   "source": [
    "function write_sol_to_file(solution::Solution, path::String)::Bool\n",
    "    open(path, \"w\") do file\n",
    "        write(file, string(solution))\n",
    "    end\n",
    "    return true\n",
    "end"
   ]
  },
  {
   "cell_type": "code",
   "execution_count": 77,
   "metadata": {
    "ExecuteTime": {
     "end_time": "2020-11-12T17:00:30.654000+01:00",
     "start_time": "2020-11-12T15:59:42.754Z"
    }
   },
   "outputs": [
    {
     "data": {
      "text/plain": [
       "true"
      ]
     },
     "execution_count": 77,
     "metadata": {},
     "output_type": "execute_result"
    }
   ],
   "source": [
    "write_sol_to_file(solution_petite, joinpath(\"..\", \"sujet\", \"petite_copy.txt\"))"
   ]
  }
 ],
 "metadata": {
  "kernelspec": {
   "display_name": "Julia 1.5.2",
   "language": "julia",
   "name": "julia-1.5"
  },
  "language_info": {
   "file_extension": ".jl",
   "mimetype": "application/julia",
   "name": "julia",
   "version": "1.5.2"
  },
  "latex_envs": {
   "LaTeX_envs_menu_present": true,
   "autoclose": false,
   "autocomplete": true,
   "bibliofile": "biblio.bib",
   "cite_by": "apalike",
   "current_citInitial": 1,
   "eqLabelWithNumbers": true,
   "eqNumInitial": 1,
   "hotkeys": {
    "equation": "Ctrl-E",
    "itemize": "Ctrl-I"
   },
   "labels_anchors": false,
   "latex_user_defs": false,
   "report_style_numbering": false,
   "user_envs_cfg": false
  }
 },
 "nbformat": 4,
 "nbformat_minor": 4
}
