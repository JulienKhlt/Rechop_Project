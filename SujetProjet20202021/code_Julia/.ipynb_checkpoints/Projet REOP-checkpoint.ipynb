{
 "cells": [
  {
   "cell_type": "markdown",
   "metadata": {},
   "source": [
    "# Projet REOP"
   ]
  },
  {
   "cell_type": "code",
   "execution_count": null,
   "metadata": {
    "ExecuteTime": {
     "end_time": "2020-11-11T19:10:25.513000+01:00",
     "start_time": "2020-11-11T18:10:24.963Z"
    }
   },
   "outputs": [],
   "source": [
    "# using Pkg\n",
    "# Pkg.add(\"LightGraphs\")\n",
    "# Pkg.add(\"Plots\")"
   ]
  },
  {
   "cell_type": "code",
   "execution_count": 2,
   "metadata": {
    "ExecuteTime": {
     "end_time": "2020-11-11T19:10:42.696000+01:00",
     "start_time": "2020-11-11T18:10:24.965Z"
    }
   },
   "outputs": [],
   "source": [
    "using SparseArrays\n",
    "\n",
    "using LightGraphs\n",
    "using Plots\n",
    "\n",
    "using JuMP\n",
    "using GLPK"
   ]
  },
  {
   "cell_type": "markdown",
   "metadata": {},
   "source": [
    "## Structures"
   ]
  },
  {
   "cell_type": "code",
   "execution_count": 3,
   "metadata": {
    "ExecuteTime": {
     "end_time": "2020-11-11T19:10:48.274000+01:00",
     "start_time": "2020-11-11T18:10:24.974Z"
    }
   },
   "outputs": [],
   "source": [
    "struct Emballage\n",
    "    e::Int\n",
    "    l::Float64\n",
    "    \n",
    "    Emballage(; e, l) = new(e, l)\n",
    "end"
   ]
  },
  {
   "cell_type": "code",
   "execution_count": 4,
   "metadata": {
    "ExecuteTime": {
     "end_time": "2020-11-11T19:10:48.310000+01:00",
     "start_time": "2020-11-11T18:10:24.976Z"
    }
   },
   "outputs": [],
   "source": [
    "struct Usine\n",
    "    u::Int\n",
    "    v::Int\n",
    "    coor::Tuple{Float64, Float64}\n",
    "\n",
    "    cs::Vector{Int}\n",
    "    s0::Vector{Int}\n",
    "\n",
    "    b⁺::Matrix{Int}\n",
    "    r::Matrix{Int}\n",
    "    \n",
    "    Usine(; u, v, coor, cs, s0, b⁺, r) = new(u, v, coor, cs, s0, b⁺, r)\n",
    "end"
   ]
  },
  {
   "cell_type": "code",
   "execution_count": 5,
   "metadata": {
    "ExecuteTime": {
     "end_time": "2020-11-11T19:10:48.316000+01:00",
     "start_time": "2020-11-11T18:10:24.977Z"
    }
   },
   "outputs": [],
   "source": [
    "struct Fournisseur\n",
    "    f::Int\n",
    "    v::Int\n",
    "    coor::Tuple{Float64, Float64}\n",
    "    \n",
    "    cs::Vector{Int}\n",
    "    cexc::Vector{Int}\n",
    "    s0::Vector{Int}\n",
    "    \n",
    "    b⁻::Matrix{Int}\n",
    "    r::Matrix{Int}\n",
    "    \n",
    "    Fournisseur(; f, v, coor, cs, cexc, s0, b⁻, r) = new(f, v, coor, cs, cexc, s0, b⁻, r)\n",
    "end"
   ]
  },
  {
   "cell_type": "code",
   "execution_count": 6,
   "metadata": {
    "ExecuteTime": {
     "end_time": "2020-11-11T19:10:48.807000+01:00",
     "start_time": "2020-11-11T18:10:24.979Z"
    }
   },
   "outputs": [
    {
     "data": {
      "text/plain": [
       "Union{Fournisseur, Usine}"
      ]
     },
     "execution_count": 6,
     "metadata": {},
     "output_type": "execute_result"
    }
   ],
   "source": [
    "Site = Union{Usine, Fournisseur}"
   ]
  },
  {
   "cell_type": "code",
   "execution_count": 7,
   "metadata": {
    "ExecuteTime": {
     "end_time": "2020-11-11T19:10:48.811000+01:00",
     "start_time": "2020-11-11T18:10:24.981Z"
    }
   },
   "outputs": [],
   "source": [
    "struct Graphe\n",
    "    G::SimpleDiGraph\n",
    "    d::SparseMatrixCSC{Float64, Int}\n",
    "    \n",
    "    Graphe(; G, d) = new(G, d)\n",
    "end"
   ]
  },
  {
   "cell_type": "code",
   "execution_count": 8,
   "metadata": {
    "ExecuteTime": {
     "end_time": "2020-11-11T19:10:48.817000+01:00",
     "start_time": "2020-11-11T18:10:24.983Z"
    }
   },
   "outputs": [],
   "source": [
    "struct Instance\n",
    "    J::Int\n",
    "    U::Int\n",
    "    F::Int\n",
    "    E::Int\n",
    "    \n",
    "    L::Float64\n",
    "    γ::Float64\n",
    "    ccam::Float64\n",
    "    cstop::Float64\n",
    "    \n",
    "    emballages::Vector{Emballage}\n",
    "    usines::Vector{Usine}\n",
    "    fournisseurs::Vector{Fournisseur}\n",
    "    graphe::Graphe\n",
    "    \n",
    "    Instance(; J, U, F, E, L, γ, ccam, cstop, emballages, usines, fournisseurs, graphe) = new(\n",
    "        J, U, F, E, L, γ, ccam, cstop, emballages, usines, fournisseurs, graphe\n",
    "    )\n",
    "end"
   ]
  },
  {
   "cell_type": "code",
   "execution_count": 9,
   "metadata": {
    "ExecuteTime": {
     "end_time": "2020-11-11T19:10:48.821000+01:00",
     "start_time": "2020-11-11T18:10:24.985Z"
    }
   },
   "outputs": [],
   "source": [
    "mutable struct RouteStop\n",
    "    f::Int\n",
    "    Q::Vector{Int}\n",
    "    \n",
    "    RouteStop(; f, Q) = new(f, Q)\n",
    "end"
   ]
  },
  {
   "cell_type": "code",
   "execution_count": 10,
   "metadata": {
    "ExecuteTime": {
     "end_time": "2020-11-11T19:10:48.827000+01:00",
     "start_time": "2020-11-11T18:10:24.987Z"
    }
   },
   "outputs": [],
   "source": [
    "mutable struct Route\n",
    "    r::Int\n",
    "    j::Int\n",
    "    x::Int\n",
    "    u::Int\n",
    "    \n",
    "    F::Int\n",
    "    stops::Vector{RouteStop}\n",
    "    \n",
    "    Route(; r, j, x, u, F, stops) = new(r, j, x, u, F, stops)\n",
    "end"
   ]
  },
  {
   "cell_type": "code",
   "execution_count": 11,
   "metadata": {
    "ExecuteTime": {
     "end_time": "2020-11-11T19:10:48.831000+01:00",
     "start_time": "2020-11-11T18:10:24.989Z"
    }
   },
   "outputs": [],
   "source": [
    "mutable struct Solution\n",
    "    R::Int\n",
    "    routes::Vector{Route}\n",
    "    \n",
    "    Solution(; R, routes) = new(R, routes)\n",
    "end"
   ]
  },
  {
   "cell_type": "markdown",
   "metadata": {},
   "source": [
    "## Data parsing"
   ]
  },
  {
   "cell_type": "code",
   "execution_count": 12,
   "metadata": {
    "ExecuteTime": {
     "end_time": "2020-11-11T19:10:49.597000+01:00",
     "start_time": "2020-11-11T18:10:24.996Z"
    }
   },
   "outputs": [
    {
     "data": {
      "text/plain": [
       "33-element Array{String,1}:\n",
       " \"J 3 U 2 F 3 E 2 L 13000 Gamma 1 CCam 100 CStop 10\"\n",
       " \"e 0 l 300\"\n",
       " \"e 1 l 200\"\n",
       " \"u 0 v 0 coor 48.8666672 2.3514623 ce e 0 cr 2 b 4 e 1 cr 4 b 5 lib j 0 e 0 b 5 r 5 e 1 b 0 r 5 j 1 e 0 b 10 r 5 e 1 b 5 r 5 j 2 e 0 b 0 r 5 e 1 b 5 r 5\"\n",
       " \"u 1 v 1 coor 43.6044622 1.4442469 ce e 0 cr 2 b 3 e 1 cr 4 b 6 lib j 0 e 0 b 2 r 5 e 1 b 3 r 5 j 1 e 0 b 2 r 5 e 1 b 3 r 5 j 2 e 0 b 2 r 5 e 1 b 3 r 5\"\n",
       " \"f 0 v 2 coor 48.8666672 2.3514623 ce e 0 cr 2 cexc 55 b 2 e 1 cr 4 cexc 30 b 6 dem j 0 e 0 b 2 r 5 e 1 b 1 r 5 j 1 e 0 b 2 r 5 e 1 b 1 r 5 j 2 e 0 b 2 r 5 e 1 b 1 r 5\"\n",
       " \"f 1 v 3 coor 45.7578137 4.8320114 ce e 0 cr 2 cexc 45 b 4 e 1 cr 4 cexc 40 b 5 dem j 0 e 0 b 0 r 5 e 1 b 2 r 4 j 1 e 0 b 0 r 6 e 1 b 2 r 4 j 2 e 0 b 0 r 3 e 1 b 2 r 4\"\n",
       " \"f 2 v 4 coor 45.7578137 4.8320114 ce e 0 cr 2 cexc 35 b 7 e 1 cr 4 cexc 50 b 4 dem j 0 e 0 b 3 r 5 e 1 b 0 r 5 j 1 e 0 b 3 r 5 e 1 b 0 r 5 j 2 e 0 b 3 r 5 e 1 b 0 r 5\"\n",
       " \"a 0 0 d 0\"\n",
       " \"a 0 1 d 10\"\n",
       " \"a 0 2 d 0\"\n",
       " \"a 0 3 d 8\"\n",
       " \"a 0 4 d 8\"\n",
       " ⋮\n",
       " \"a 2 3 d 8\"\n",
       " \"a 2 4 d 8\"\n",
       " \"a 3 0 d 8\"\n",
       " \"a 3 1 d 5\"\n",
       " \"a 3 2 d 8\"\n",
       " \"a 3 3 d 0\"\n",
       " \"a 3 4 d 0\"\n",
       " \"a 4 0 d 8\"\n",
       " \"a 4 1 d 5\"\n",
       " \"a 4 2 d 8\"\n",
       " \"a 4 3 d 0\"\n",
       " \"a 4 4 d 0\""
      ]
     },
     "execution_count": 12,
     "metadata": {},
     "output_type": "execute_result"
    }
   ],
   "source": [
    "data = open(\"sujet/petite.csv\") do file\n",
    "    readlines(file)\n",
    "end"
   ]
  },
  {
   "cell_type": "code",
   "execution_count": 13,
   "metadata": {
    "ExecuteTime": {
     "end_time": "2020-11-11T19:10:49.644000+01:00",
     "start_time": "2020-11-11T18:10:24.999Z"
    }
   },
   "outputs": [
    {
     "data": {
      "text/plain": [
       "4-element Array{String,1}:\n",
       " \"R 3\"\n",
       " \"r 0 j 0 x 1 u 0 F 1 f 0 e 0 q 0 e 1 q 2\"\n",
       " \"r 1 j 1 x 1 u 0 F 3 f 0 e 0 q 1 e 1 q 1 f 1 e 0 q 1 e 1 q 1 f 2 e 0 q 1 e 1 q 1\"\n",
       " \"r 2 j 1 x 2 u 1 F 2 f 1 e 0 q 3 e 1 q 1 f 2 e 0 q 3 e 1 q 1\""
      ]
     },
     "execution_count": 13,
     "metadata": {},
     "output_type": "execute_result"
    }
   ],
   "source": [
    "sol = open(\"sujet/petite.txt\") do file\n",
    "    readlines(file)\n",
    "end"
   ]
  },
  {
   "cell_type": "markdown",
   "metadata": {},
   "source": [
    "### Dimensions"
   ]
  },
  {
   "cell_type": "code",
   "execution_count": 14,
   "metadata": {
    "ExecuteTime": {
     "end_time": "2020-11-11T19:10:49.870000+01:00",
     "start_time": "2020-11-11T18:10:25.008Z"
    }
   },
   "outputs": [
    {
     "data": {
      "text/plain": [
       "lire_dimensions (generic function with 1 method)"
      ]
     },
     "execution_count": 14,
     "metadata": {},
     "output_type": "execute_result"
    }
   ],
   "source": [
    "function lire_dimensions(row::String)::NamedTuple\n",
    "    row_split = split(row, r\"\\s+\")\n",
    "    return (\n",
    "        J = parse(Int, row_split[2]),\n",
    "        U = parse(Int, row_split[4]),\n",
    "        F = parse(Int, row_split[6]),\n",
    "        E = parse(Int, row_split[8]),\n",
    "        L = parse(Float64, row_split[10]),\n",
    "        γ = parse(Float64, row_split[12]),\n",
    "        ccam = parse(Float64, row_split[14]),\n",
    "        cstop = parse(Float64, row_split[16]),\n",
    "    )\n",
    "end"
   ]
  },
  {
   "cell_type": "code",
   "execution_count": 15,
   "metadata": {
    "ExecuteTime": {
     "end_time": "2020-11-11T19:10:49.870000+01:00",
     "start_time": "2020-11-11T18:10:25.010Z"
    }
   },
   "outputs": [],
   "source": [
    "# dims = lire_dimensions(data[1])"
   ]
  },
  {
   "cell_type": "markdown",
   "metadata": {},
   "source": [
    "### Emballages"
   ]
  },
  {
   "cell_type": "code",
   "execution_count": 16,
   "metadata": {
    "ExecuteTime": {
     "end_time": "2020-11-11T19:10:49.955000+01:00",
     "start_time": "2020-11-11T18:10:25.018Z"
    }
   },
   "outputs": [
    {
     "data": {
      "text/plain": [
       "lire_emballage (generic function with 1 method)"
      ]
     },
     "execution_count": 16,
     "metadata": {},
     "output_type": "execute_result"
    }
   ],
   "source": [
    "function lire_emballage(row::String, dims::NamedTuple)::Emballage\n",
    "    row_split = split(row, r\"\\s+\")\n",
    "    e = parse(Int, row_split[2]) + 1\n",
    "    l = parse(Float64, row_split[4])\n",
    "    return Emballage(e=e, l=l)\n",
    "end"
   ]
  },
  {
   "cell_type": "code",
   "execution_count": 17,
   "metadata": {
    "ExecuteTime": {
     "end_time": "2020-11-11T19:10:49.955000+01:00",
     "start_time": "2020-11-11T18:10:25.019Z"
    }
   },
   "outputs": [],
   "source": [
    "# emballages = [lire_emballage(data[1+e], dims) for e = 1:dims.E]"
   ]
  },
  {
   "cell_type": "markdown",
   "metadata": {},
   "source": [
    "### Usines"
   ]
  },
  {
   "cell_type": "code",
   "execution_count": 18,
   "metadata": {
    "ExecuteTime": {
     "end_time": "2020-11-11T19:10:50.023000+01:00",
     "start_time": "2020-11-11T18:10:25.028Z"
    }
   },
   "outputs": [
    {
     "data": {
      "text/plain": [
       "lire_usine (generic function with 1 method)"
      ]
     },
     "execution_count": 18,
     "metadata": {},
     "output_type": "execute_result"
    }
   ],
   "source": [
    "function lire_usine(row::String, dims::NamedTuple)::Usine\n",
    "    row_split = split(row, r\"\\s+\")\n",
    "    u = parse(Int, row_split[2]) + 1\n",
    "    v = parse(Int, row_split[4]) + 1\n",
    "    coor = (parse(Float64, row_split[6]), parse(Float64, row_split[7]))\n",
    "    k = 8\n",
    "    \n",
    "    cs = Vector{Int}(undef, dims.E)\n",
    "    s0 = Vector{Int}(undef, dims.E)\n",
    "    \n",
    "    k += 1\n",
    "    for e = 1:dims.E\n",
    "        cs[e] = parse(Float64, row_split[k+3])\n",
    "        s0[e] = parse(Int, row_split[k+5])\n",
    "        k += 6\n",
    "    end\n",
    "    \n",
    "    b⁺ = Matrix{Int}(undef, dims.E, dims.J)\n",
    "    r = Matrix{Int}(undef, dims.E, dims.J)\n",
    "    \n",
    "    k += 1\n",
    "    for j = 1:dims.J\n",
    "        k += 2\n",
    "        for e = 1:dims.E\n",
    "            b⁺[e, j] = parse(Int, row_split[k+3])\n",
    "            r[e, j] = parse(Int, row_split[k+5])\n",
    "            k += 6\n",
    "        end\n",
    "    end\n",
    "    \n",
    "    return Usine(u=u, v=v, coor=coor, cs=cs, s0=s0, b⁺=b⁺, r=r)\n",
    "end"
   ]
  },
  {
   "cell_type": "code",
   "execution_count": 19,
   "metadata": {
    "ExecuteTime": {
     "end_time": "2020-11-11T19:10:50.023000+01:00",
     "start_time": "2020-11-11T18:10:25.031Z"
    }
   },
   "outputs": [],
   "source": [
    "# usines = [lire_usine(data[1+dims.E+u], dims) for u = 1:dims.U]"
   ]
  },
  {
   "cell_type": "markdown",
   "metadata": {},
   "source": [
    "### Fournisseurs"
   ]
  },
  {
   "cell_type": "code",
   "execution_count": 20,
   "metadata": {
    "ExecuteTime": {
     "end_time": "2020-11-11T19:10:50.091000+01:00",
     "start_time": "2020-11-11T18:10:25.039Z"
    }
   },
   "outputs": [
    {
     "data": {
      "text/plain": [
       "lire_fournisseur (generic function with 1 method)"
      ]
     },
     "execution_count": 20,
     "metadata": {},
     "output_type": "execute_result"
    }
   ],
   "source": [
    "function lire_fournisseur(row::String, dims::NamedTuple)::Fournisseur\n",
    "    row_split = split(row, r\"\\s+\")\n",
    "    f = parse(Int, row_split[2]) + 1\n",
    "    v = parse(Int, row_split[4]) + 1\n",
    "    coor = (parse(Float64, row_split[6]), parse(Float64, row_split[7]))\n",
    "    k = 8\n",
    "    \n",
    "    cs = Vector{Int}(undef, dims.E)\n",
    "    cexc = Vector{Int}(undef, dims.E)\n",
    "    s0 = Vector{Int}(undef, dims.E)\n",
    "    \n",
    "    k += 1\n",
    "    for e = 1:dims.E\n",
    "        cs[e] = parse(Float64, row_split[k+3])\n",
    "        cexc[e] = parse(Float64, row_split[k+5])\n",
    "        s0[e] = parse(Float64, row_split[k+7])\n",
    "        k += 8\n",
    "    end\n",
    "    \n",
    "    b⁻ = Matrix{Int}(undef, dims.E, dims.J)\n",
    "    r = Matrix{Int}(undef, dims.E, dims.J)\n",
    "    \n",
    "    k += 1\n",
    "    for j = 1:dims.J\n",
    "        k += 2\n",
    "        for e = 1:dims.E\n",
    "            b⁻[e, j] = parse(Int, row_split[k+3])\n",
    "            r[e, j] = parse(Int, row_split[k+3])\n",
    "            k += 6\n",
    "        end\n",
    "    end\n",
    "    \n",
    "    return Fournisseur(f=f, v=v, coor=coor, cs=cs, cexc=cexc, s0=s0, b⁻=b⁻, r=r)\n",
    "end"
   ]
  },
  {
   "cell_type": "code",
   "execution_count": 21,
   "metadata": {
    "ExecuteTime": {
     "end_time": "2020-11-11T19:10:50.092000+01:00",
     "start_time": "2020-11-11T18:10:25.043Z"
    }
   },
   "outputs": [],
   "source": [
    "# fournisseurs = [lire_fournisseur(data[1+dims.E+dims.U+f], dims) for f = 1:dims.F]"
   ]
  },
  {
   "cell_type": "markdown",
   "metadata": {},
   "source": [
    "### Graphe"
   ]
  },
  {
   "cell_type": "code",
   "execution_count": 22,
   "metadata": {
    "ExecuteTime": {
     "end_time": "2020-11-11T19:10:50.158000+01:00",
     "start_time": "2020-11-11T18:10:25.051Z"
    }
   },
   "outputs": [
    {
     "data": {
      "text/plain": [
       "lire_arc (generic function with 1 method)"
      ]
     },
     "execution_count": 22,
     "metadata": {},
     "output_type": "execute_result"
    }
   ],
   "source": [
    "function lire_arc(row::String)::NamedTuple\n",
    "    row_split = split(row, r\"\\s+\")\n",
    "    v1 = parse(Int, row_split[2]) + 1\n",
    "    v2 = parse(Int, row_split[3]) + 1\n",
    "    d = parse(Float64, row_split[5])\n",
    "    return (v1=v1, v2=v2, d=d)\n",
    "end"
   ]
  },
  {
   "cell_type": "code",
   "execution_count": 23,
   "metadata": {
    "ExecuteTime": {
     "end_time": "2020-11-11T19:10:50.224000+01:00",
     "start_time": "2020-11-11T18:10:25.052Z"
    }
   },
   "outputs": [
    {
     "data": {
      "text/plain": [
       "lire_graphe (generic function with 1 method)"
      ]
     },
     "execution_count": 23,
     "metadata": {},
     "output_type": "execute_result"
    }
   ],
   "source": [
    "function lire_graphe(rows::Vector{String}, dims::NamedTuple)::Graphe\n",
    "    G = SimpleDiGraph(dims.U + dims.F)\n",
    "    d = spzeros(dims.U + dims.F, dims.U + dims.F)\n",
    "    for row in rows\n",
    "        a = lire_arc(row)\n",
    "        if a.d > eps()\n",
    "            add_edge!(G, a.v1, a.v2)\n",
    "            d[a.v1, a.v2] = a.d\n",
    "        end\n",
    "    end\n",
    "    return Graphe(G=G, d=d)\n",
    "end"
   ]
  },
  {
   "cell_type": "code",
   "execution_count": 24,
   "metadata": {
    "ExecuteTime": {
     "end_time": "2020-11-11T19:10:50.224000+01:00",
     "start_time": "2020-11-11T18:10:25.054Z"
    }
   },
   "outputs": [],
   "source": [
    "# graphe = lire_graphe(data[1+dims.E+dims.U+dims.F+1:end], dims)"
   ]
  },
  {
   "cell_type": "markdown",
   "metadata": {},
   "source": [
    "### Instance"
   ]
  },
  {
   "cell_type": "code",
   "execution_count": 25,
   "metadata": {
    "ExecuteTime": {
     "end_time": "2020-11-11T19:10:50.309000+01:00",
     "start_time": "2020-11-11T18:10:25.060Z"
    }
   },
   "outputs": [
    {
     "data": {
      "text/plain": [
       "lire_instance (generic function with 1 method)"
      ]
     },
     "execution_count": 25,
     "metadata": {},
     "output_type": "execute_result"
    }
   ],
   "source": [
    "function lire_instance(path::String)::Instance\n",
    "    data = open(path) do file\n",
    "        readlines(file)\n",
    "    end\n",
    "\n",
    "    dims = lire_dimensions(data[1])\n",
    "    emballages = [\n",
    "        lire_emballage(data[1+e], dims) for e = 1:dims.E\n",
    "    ]\n",
    "    usines = [\n",
    "        lire_usine(data[1+dims.E+u], dims) for u = 1:dims.U\n",
    "    ]\n",
    "    fournisseurs = [\n",
    "        lire_fournisseur(data[1+dims.E+dims.U+f], dims) for f = 1:dims.F\n",
    "    ]\n",
    "    graphe = lire_graphe(data[1+dims.E+dims.U+dims.F+1:end], dims)\n",
    "    \n",
    "    return Instance(\n",
    "        J = dims.J,\n",
    "        U = dims.U,\n",
    "        F = dims.F,\n",
    "        E = dims.E,\n",
    "        \n",
    "        L = dims.L,\n",
    "        γ = dims.γ,\n",
    "        ccam = dims.ccam,\n",
    "        cstop = dims.cstop,\n",
    "        \n",
    "        emballages = emballages,\n",
    "        usines = usines,\n",
    "        fournisseurs = fournisseurs,\n",
    "        graphe = graphe\n",
    "    )\n",
    "end"
   ]
  },
  {
   "cell_type": "code",
   "execution_count": 26,
   "metadata": {
    "ExecuteTime": {
     "end_time": "2020-11-11T19:10:51.668000+01:00",
     "start_time": "2020-11-11T18:10:25.062Z"
    }
   },
   "outputs": [
    {
     "data": {
      "text/plain": [
       "Instance(3, 2, 3, 2, 13000.0, 1.0, 100.0, 10.0, Emballage[Emballage(1, 300.0), Emballage(2, 200.0)], Usine[Usine(1, 1, (48.8666672, 2.3514623), [2, 4], [4, 5], [5 10 0; 0 5 5], [5 5 5; 5 5 5]), Usine(2, 2, (43.6044622, 1.4442469), [2, 4], [3, 6], [2 2 2; 3 3 3], [5 5 5; 5 5 5])], Fournisseur[Fournisseur(1, 3, (48.8666672, 2.3514623), [2, 4], [55, 30], [2, 6], [2 2 2; 1 1 1], [2 2 2; 1 1 1]), Fournisseur(2, 4, (45.7578137, 4.8320114), [2, 4], [45, 40], [4, 5], [0 0 0; 2 2 2], [0 0 0; 2 2 2]), Fournisseur(3, 5, (45.7578137, 4.8320114), [2, 4], [35, 50], [7, 4], [3 3 3; 0 0 0], [3 3 3; 0 0 0])], Graphe({5, 16} directed simple Int64 graph, \n",
       "  [2, 1]  =  10.0\n",
       "  [4, 1]  =  8.0\n",
       "  [5, 1]  =  8.0\n",
       "  [1, 2]  =  10.0\n",
       "  [3, 2]  =  8.0\n",
       "  [4, 2]  =  5.0\n",
       "  [5, 2]  =  5.0\n",
       "  [2, 3]  =  8.0\n",
       "  [4, 3]  =  8.0\n",
       "  [5, 3]  =  8.0\n",
       "  [1, 4]  =  8.0\n",
       "  [2, 4]  =  5.0\n",
       "  [3, 4]  =  8.0\n",
       "  [1, 5]  =  8.0\n",
       "  [2, 5]  =  5.0\n",
       "  [3, 5]  =  8.0))"
      ]
     },
     "execution_count": 26,
     "metadata": {},
     "output_type": "execute_result"
    }
   ],
   "source": [
    "instance1 = lire_instance(\"sujet/petite.csv\")"
   ]
  },
  {
   "cell_type": "markdown",
   "metadata": {},
   "source": [
    "### Route"
   ]
  },
  {
   "cell_type": "code",
   "execution_count": 27,
   "metadata": {
    "ExecuteTime": {
     "end_time": "2020-11-11T19:10:51.755000+01:00",
     "start_time": "2020-11-11T18:10:25.069Z"
    }
   },
   "outputs": [
    {
     "data": {
      "text/plain": [
       "lire_route (generic function with 1 method)"
      ]
     },
     "execution_count": 27,
     "metadata": {},
     "output_type": "execute_result"
    }
   ],
   "source": [
    "function lire_route(row::String)::Route\n",
    "    row_split = split(row, r\"\\s+\")\n",
    "    r = parse(Int, row_split[2]) + 1\n",
    "    j = parse(Int, row_split[4]) + 1\n",
    "    x = parse(Int, row_split[6])\n",
    "    u = parse(Int, row_split[8]) + 1\n",
    "    F = parse(Int, row_split[10])\n",
    "    \n",
    "    stops = RouteStop[]\n",
    "\n",
    "    k = 11\n",
    "    while k <= length(row_split)\n",
    "        f = parse(Int, row_split[k+1]) + 1\n",
    "        k += 2\n",
    "        \n",
    "        Q = Int[]\n",
    "        while (k <= length(row_split)) && (row_split[k] == \"e\")\n",
    "            push!(Q, parse(Int, row_split[k+3]))\n",
    "            k += 4\n",
    "        end\n",
    "        push!(stops, RouteStop(f=f, Q=Q))\n",
    "    end\n",
    "    \n",
    "    return Route(r=r, j=j, x=x, u=u, F=F, stops=stops)\n",
    "end"
   ]
  },
  {
   "cell_type": "code",
   "execution_count": 28,
   "metadata": {
    "ExecuteTime": {
     "end_time": "2020-11-11T19:10:51.755000+01:00",
     "start_time": "2020-11-11T18:10:25.071Z"
    }
   },
   "outputs": [],
   "source": [
    "# routes = [lire_route(sol[1+r]) for r = 1:length(sol)-1]"
   ]
  },
  {
   "cell_type": "markdown",
   "metadata": {},
   "source": [
    "### Solution"
   ]
  },
  {
   "cell_type": "code",
   "execution_count": 29,
   "metadata": {
    "ExecuteTime": {
     "end_time": "2020-11-11T19:10:51.822000+01:00",
     "start_time": "2020-11-11T18:10:25.077Z"
    }
   },
   "outputs": [
    {
     "data": {
      "text/plain": [
       "lire_solution (generic function with 1 method)"
      ]
     },
     "execution_count": 29,
     "metadata": {},
     "output_type": "execute_result"
    }
   ],
   "source": [
    "function lire_solution(path::String)\n",
    "    sol = open(path) do file\n",
    "        readlines(file)\n",
    "    end\n",
    "    \n",
    "    R = parse(Int, split(sol[1], r\"\\s+\")[2])\n",
    "    routes = [lire_route(sol[1+r]) for r = 1:R]\n",
    "    \n",
    "    return Solution(R=R, routes=routes)\n",
    "end"
   ]
  },
  {
   "cell_type": "code",
   "execution_count": 30,
   "metadata": {
    "ExecuteTime": {
     "end_time": "2020-11-11T19:10:52.234000+01:00",
     "start_time": "2020-11-11T18:10:25.079Z"
    }
   },
   "outputs": [
    {
     "data": {
      "text/plain": [
       "Solution(3, Route[Route(1, 1, 1, 1, 1, RouteStop[RouteStop(1, [0, 2])]), Route(2, 2, 1, 1, 3, RouteStop[RouteStop(1, [1, 1]), RouteStop(2, [1, 1]), RouteStop(3, [1, 1])]), Route(3, 2, 2, 2, 2, RouteStop[RouteStop(2, [3, 1]), RouteStop(3, [3, 1])])])"
      ]
     },
     "execution_count": 30,
     "metadata": {},
     "output_type": "execute_result"
    }
   ],
   "source": [
    "solution1 = lire_solution(\"sujet/petite.txt\")"
   ]
  },
  {
   "cell_type": "markdown",
   "metadata": {},
   "source": [
    "## Instance analysis"
   ]
  },
  {
   "cell_type": "code",
   "execution_count": 31,
   "metadata": {
    "ExecuteTime": {
     "end_time": "2020-11-11T19:10:52.304000+01:00",
     "start_time": "2020-11-11T18:10:25.085Z"
    }
   },
   "outputs": [
    {
     "data": {
      "text/plain": [
       "plot_sites (generic function with 1 method)"
      ]
     },
     "execution_count": 31,
     "metadata": {},
     "output_type": "execute_result"
    }
   ],
   "source": [
    "function plot_sites(instance::Instance)\n",
    "    G = instance.graphe.G\n",
    "    d = instance.graphe.d\n",
    "    pl = scatter(\n",
    "        [usine.coor[1] for usine in instance.usines],\n",
    "        [usine.coor[2] for usine in instance.usines],\n",
    "        marker = (30, 0.5, \"red\"),\n",
    "        label = \"usines\"\n",
    "    )\n",
    "    annotate!(\n",
    "        pl,\n",
    "        [\n",
    "            (usine.coor[1], usine.coor[2], text(string(usine.u), :darkred, :center))\n",
    "            for usine in instance.usines\n",
    "        ]\n",
    "    )\n",
    "    scatter!(\n",
    "        pl, \n",
    "        [fournisseur.coor[1] for fournisseur in instance.fournisseurs],\n",
    "        [fournisseur.coor[2] for fournisseur in instance.fournisseurs],\n",
    "        marker = (30, 0.5, \"blue\"),\n",
    "        label = \"fournisseurs\"\n",
    "    )\n",
    "    annotate!(\n",
    "        pl,\n",
    "        [\n",
    "            (fournisseur.coor[1], fournisseur.coor[2], text(string(fournisseur.f), :darkblue, :center))\n",
    "            for fournisseur in instance.fournisseurs\n",
    "        ]\n",
    "    )\n",
    "    plot!(pl, grid=false, xlabel=\"longitude\", ylabel=\"latitude\")\n",
    "    return pl\n",
    "end"
   ]
  },
  {
   "cell_type": "code",
   "execution_count": 32,
   "metadata": {
    "ExecuteTime": {
     "end_time": "2020-11-11T19:11:01.654000+01:00",
     "start_time": "2020-11-11T18:10:25.087Z"
    }
   },
   "outputs": [
    {
     "data": {
      "image/svg+xml": [
       "<?xml version=\"1.0\" encoding=\"utf-8\"?>\n",
       "<svg xmlns=\"http://www.w3.org/2000/svg\" xmlns:xlink=\"http://www.w3.org/1999/xlink\" width=\"600\" height=\"400\" viewBox=\"0 0 2400 1600\">\n",
       "<defs>\n",
       "  <clipPath id=\"clip130\">\n",
       "    <rect x=\"0\" y=\"0\" width=\"2400\" height=\"1600\"/>\n",
       "  </clipPath>\n",
       "</defs>\n",
       "<path clip-path=\"url(#clip130)\" d=\"\n",
       "M0 1600 L2400 1600 L2400 0 L0 0  Z\n",
       "  \" fill=\"#ffffff\" fill-rule=\"evenodd\" fill-opacity=\"1\"/>\n",
       "<defs>\n",
       "  <clipPath id=\"clip131\">\n",
       "    <rect x=\"480\" y=\"0\" width=\"1681\" height=\"1600\"/>\n",
       "  </clipPath>\n",
       "</defs>\n",
       "<path clip-path=\"url(#clip130)\" d=\"\n",
       "M212.413 1423.18 L2352.76 1423.18 L2352.76 47.2441 L212.413 47.2441  Z\n",
       "  \" fill=\"#ffffff\" fill-rule=\"evenodd\" fill-opacity=\"1\"/>\n",
       "<defs>\n",
       "  <clipPath id=\"clip132\">\n",
       "    <rect x=\"212\" y=\"47\" width=\"2141\" height=\"1377\"/>\n",
       "  </clipPath>\n",
       "</defs>\n",
       "<polyline clip-path=\"url(#clip130)\" style=\"stroke:#000000; stroke-width:4; stroke-opacity:1; fill:none\" points=\"\n",
       "  212.413,1423.18 2352.76,1423.18 \n",
       "  \"/>\n",
       "<polyline clip-path=\"url(#clip130)\" style=\"stroke:#000000; stroke-width:4; stroke-opacity:1; fill:none\" points=\"\n",
       "  424.763,1423.18 424.763,1406.67 \n",
       "  \"/>\n",
       "<polyline clip-path=\"url(#clip130)\" style=\"stroke:#000000; stroke-width:4; stroke-opacity:1; fill:none\" points=\"\n",
       "  808.478,1423.18 808.478,1406.67 \n",
       "  \"/>\n",
       "<polyline clip-path=\"url(#clip130)\" style=\"stroke:#000000; stroke-width:4; stroke-opacity:1; fill:none\" points=\"\n",
       "  1192.19,1423.18 1192.19,1406.67 \n",
       "  \"/>\n",
       "<polyline clip-path=\"url(#clip130)\" style=\"stroke:#000000; stroke-width:4; stroke-opacity:1; fill:none\" points=\"\n",
       "  1575.91,1423.18 1575.91,1406.67 \n",
       "  \"/>\n",
       "<polyline clip-path=\"url(#clip130)\" style=\"stroke:#000000; stroke-width:4; stroke-opacity:1; fill:none\" points=\"\n",
       "  1959.63,1423.18 1959.63,1406.67 \n",
       "  \"/>\n",
       "<polyline clip-path=\"url(#clip130)\" style=\"stroke:#000000; stroke-width:4; stroke-opacity:1; fill:none\" points=\"\n",
       "  2343.34,1423.18 2343.34,1406.67 \n",
       "  \"/>\n",
       "<path clip-path=\"url(#clip130)\" d=\"M 0 0 M414.022 1453.37 L402.216 1471.81 L414.022 1471.81 L414.022 1453.37 M412.795 1449.29 L418.675 1449.29 L418.675 1471.81 L423.605 1471.81 L423.605 1475.7 L418.675 1475.7 L418.675 1483.85 L414.022 1483.85 L414.022 1475.7 L398.42 1475.7 L398.42 1471.19 L412.795 1449.29 Z\" fill=\"#000000\" fill-rule=\"evenodd\" fill-opacity=\"1\" /><path clip-path=\"url(#clip130)\" d=\"M 0 0 M441.522 1453.37 L429.716 1471.81 L441.522 1471.81 L441.522 1453.37 M440.295 1449.29 L446.174 1449.29 L446.174 1471.81 L451.105 1471.81 L451.105 1475.7 L446.174 1475.7 L446.174 1483.85 L441.522 1483.85 L441.522 1475.7 L425.92 1475.7 L425.92 1471.19 L440.295 1449.29 Z\" fill=\"#000000\" fill-rule=\"evenodd\" fill-opacity=\"1\" /><path clip-path=\"url(#clip130)\" d=\"M 0 0 M798.478 1453.37 L786.673 1471.81 L798.478 1471.81 L798.478 1453.37 M797.252 1449.29 L803.131 1449.29 L803.131 1471.81 L808.062 1471.81 L808.062 1475.7 L803.131 1475.7 L803.131 1483.85 L798.478 1483.85 L798.478 1475.7 L782.877 1475.7 L782.877 1471.19 L797.252 1449.29 Z\" fill=\"#000000\" fill-rule=\"evenodd\" fill-opacity=\"1\" /><path clip-path=\"url(#clip130)\" d=\"M 0 0 M813.177 1449.29 L831.534 1449.29 L831.534 1453.23 L817.46 1453.23 L817.46 1461.7 Q818.478 1461.35 819.497 1461.19 Q820.515 1461 821.534 1461 Q827.321 1461 830.701 1464.18 Q834.08 1467.35 834.08 1472.76 Q834.08 1478.34 830.608 1481.44 Q827.136 1484.52 820.816 1484.52 Q818.64 1484.52 816.372 1484.15 Q814.127 1483.78 811.719 1483.04 L811.719 1478.34 Q813.802 1479.48 816.025 1480.03 Q818.247 1480.59 820.724 1480.59 Q824.728 1480.59 827.066 1478.48 Q829.404 1476.38 829.404 1472.76 Q829.404 1469.15 827.066 1467.05 Q824.728 1464.94 820.724 1464.94 Q818.849 1464.94 816.974 1465.36 Q815.122 1465.77 813.177 1466.65 L813.177 1449.29 Z\" fill=\"#000000\" fill-rule=\"evenodd\" fill-opacity=\"1\" /><path clip-path=\"url(#clip130)\" d=\"M 0 0 M1181.62 1453.37 L1169.81 1471.81 L1181.62 1471.81 L1181.62 1453.37 M1180.39 1449.29 L1186.27 1449.29 L1186.27 1471.81 L1191.2 1471.81 L1191.2 1475.7 L1186.27 1475.7 L1186.27 1483.85 L1181.62 1483.85 L1181.62 1475.7 L1166.01 1475.7 L1166.01 1471.19 L1180.39 1449.29 Z\" fill=\"#000000\" fill-rule=\"evenodd\" fill-opacity=\"1\" /><path clip-path=\"url(#clip130)\" d=\"M 0 0 M1206.85 1464.71 Q1203.7 1464.71 1201.85 1466.86 Q1200.02 1469.01 1200.02 1472.76 Q1200.02 1476.49 1201.85 1478.67 Q1203.7 1480.82 1206.85 1480.82 Q1210 1480.82 1211.82 1478.67 Q1213.68 1476.49 1213.68 1472.76 Q1213.68 1469.01 1211.82 1466.86 Q1210 1464.71 1206.85 1464.71 M1216.13 1450.06 L1216.13 1454.31 Q1214.37 1453.48 1212.56 1453.04 Q1210.78 1452.6 1209.02 1452.6 Q1204.39 1452.6 1201.94 1455.73 Q1199.51 1458.85 1199.16 1465.17 Q1200.53 1463.16 1202.59 1462.09 Q1204.65 1461 1207.12 1461 Q1212.33 1461 1215.34 1464.18 Q1218.37 1467.32 1218.37 1472.76 Q1218.37 1478.09 1215.23 1481.31 Q1212.08 1484.52 1206.85 1484.52 Q1200.85 1484.52 1197.68 1479.94 Q1194.51 1475.33 1194.51 1466.61 Q1194.51 1458.41 1198.4 1453.55 Q1202.29 1448.67 1208.84 1448.67 Q1210.6 1448.67 1212.38 1449.01 Q1214.18 1449.36 1216.13 1450.06 Z\" fill=\"#000000\" fill-rule=\"evenodd\" fill-opacity=\"1\" /><path clip-path=\"url(#clip130)\" d=\"M 0 0 M1565.86 1453.37 L1554.06 1471.81 L1565.86 1471.81 L1565.86 1453.37 M1564.64 1449.29 L1570.52 1449.29 L1570.52 1471.81 L1575.45 1471.81 L1575.45 1475.7 L1570.52 1475.7 L1570.52 1483.85 L1565.86 1483.85 L1565.86 1475.7 L1550.26 1475.7 L1550.26 1471.19 L1564.64 1449.29 Z\" fill=\"#000000\" fill-rule=\"evenodd\" fill-opacity=\"1\" /><path clip-path=\"url(#clip130)\" d=\"M 0 0 M1579.34 1449.29 L1601.56 1449.29 L1601.56 1451.28 L1589.01 1483.85 L1584.13 1483.85 L1595.93 1453.23 L1579.34 1453.23 L1579.34 1449.29 Z\" fill=\"#000000\" fill-rule=\"evenodd\" fill-opacity=\"1\" /><path clip-path=\"url(#clip130)\" d=\"M 0 0 M1949.17 1453.37 L1937.37 1471.81 L1949.17 1471.81 L1949.17 1453.37 M1947.95 1449.29 L1953.83 1449.29 L1953.83 1471.81 L1958.76 1471.81 L1958.76 1475.7 L1953.83 1475.7 L1953.83 1483.85 L1949.17 1483.85 L1949.17 1475.7 L1933.57 1475.7 L1933.57 1471.19 L1947.95 1449.29 Z\" fill=\"#000000\" fill-rule=\"evenodd\" fill-opacity=\"1\" /><path clip-path=\"url(#clip130)\" d=\"M 0 0 M1973.83 1467.44 Q1970.49 1467.44 1968.57 1469.22 Q1966.67 1471 1966.67 1474.13 Q1966.67 1477.25 1968.57 1479.04 Q1970.49 1480.82 1973.83 1480.82 Q1977.16 1480.82 1979.08 1479.04 Q1981 1477.23 1981 1474.13 Q1981 1471 1979.08 1469.22 Q1977.18 1467.44 1973.83 1467.44 M1969.15 1465.45 Q1966.14 1464.71 1964.45 1462.65 Q1962.79 1460.59 1962.79 1457.63 Q1962.79 1453.48 1965.73 1451.07 Q1968.69 1448.67 1973.83 1448.67 Q1978.99 1448.67 1981.93 1451.07 Q1984.87 1453.48 1984.87 1457.63 Q1984.87 1460.59 1983.18 1462.65 Q1981.51 1464.71 1978.53 1465.45 Q1981.91 1466.24 1983.78 1468.53 Q1985.68 1470.82 1985.68 1474.13 Q1985.68 1479.15 1982.6 1481.84 Q1979.55 1484.52 1973.83 1484.52 Q1968.11 1484.52 1965.03 1481.84 Q1961.98 1479.15 1961.98 1474.13 Q1961.98 1470.82 1963.87 1468.53 Q1965.77 1466.24 1969.15 1465.45 M1967.44 1458.06 Q1967.44 1460.75 1969.11 1462.25 Q1970.8 1463.76 1973.83 1463.76 Q1976.84 1463.76 1978.53 1462.25 Q1980.24 1460.75 1980.24 1458.06 Q1980.24 1455.38 1978.53 1453.88 Q1976.84 1452.37 1973.83 1452.37 Q1970.8 1452.37 1969.11 1453.88 Q1967.44 1455.38 1967.44 1458.06 Z\" fill=\"#000000\" fill-rule=\"evenodd\" fill-opacity=\"1\" /><path clip-path=\"url(#clip130)\" d=\"M 0 0 M2332.94 1453.37 L2321.13 1471.81 L2332.94 1471.81 L2332.94 1453.37 M2331.71 1449.29 L2337.59 1449.29 L2337.59 1471.81 L2342.52 1471.81 L2342.52 1475.7 L2337.59 1475.7 L2337.59 1483.85 L2332.94 1483.85 L2332.94 1475.7 L2317.34 1475.7 L2317.34 1471.19 L2331.71 1449.29 Z\" fill=\"#000000\" fill-rule=\"evenodd\" fill-opacity=\"1\" /><path clip-path=\"url(#clip130)\" d=\"M 0 0 M2347.73 1483.13 L2347.73 1478.88 Q2349.49 1479.71 2351.29 1480.15 Q2353.1 1480.59 2354.84 1480.59 Q2359.46 1480.59 2361.9 1477.49 Q2364.35 1474.36 2364.7 1468.02 Q2363.35 1470.01 2361.29 1471.07 Q2359.23 1472.14 2356.73 1472.14 Q2351.55 1472.14 2348.52 1469.01 Q2345.51 1465.87 2345.51 1460.43 Q2345.51 1455.1 2348.65 1451.88 Q2351.8 1448.67 2357.03 1448.67 Q2363.03 1448.67 2366.18 1453.27 Q2369.35 1457.86 2369.35 1466.61 Q2369.35 1474.78 2365.46 1479.66 Q2361.59 1484.52 2355.04 1484.52 Q2353.28 1484.52 2351.48 1484.18 Q2349.67 1483.83 2347.73 1483.13 M2357.03 1468.48 Q2360.18 1468.48 2362.01 1466.33 Q2363.86 1464.18 2363.86 1460.43 Q2363.86 1456.7 2362.01 1454.55 Q2360.18 1452.37 2357.03 1452.37 Q2353.89 1452.37 2352.03 1454.55 Q2350.21 1456.7 2350.21 1460.43 Q2350.21 1464.18 2352.03 1466.33 Q2353.89 1468.48 2357.03 1468.48 Z\" fill=\"#000000\" fill-rule=\"evenodd\" fill-opacity=\"1\" /><path clip-path=\"url(#clip130)\" d=\"M 0 0 M1154.14 1506.52 L1160 1506.52 L1160 1556.04 L1154.14 1556.04 L1154.14 1506.52 Z\" fill=\"#000000\" fill-rule=\"evenodd\" fill-opacity=\"1\" /><path clip-path=\"url(#clip130)\" d=\"M 0 0 M1179.95 1524.5 Q1175.24 1524.5 1172.51 1528.19 Q1169.77 1531.85 1169.77 1538.25 Q1169.77 1544.65 1172.47 1548.34 Q1175.21 1552 1179.95 1552 Q1184.63 1552 1187.37 1548.31 Q1190.11 1544.62 1190.11 1538.25 Q1190.11 1531.92 1187.37 1528.23 Q1184.63 1524.5 1179.95 1524.5 M1179.95 1519.54 Q1187.59 1519.54 1191.95 1524.5 Q1196.31 1529.47 1196.31 1538.25 Q1196.31 1547 1191.95 1552 Q1187.59 1556.97 1179.95 1556.97 Q1172.28 1556.97 1167.92 1552 Q1163.59 1547 1163.59 1538.25 Q1163.59 1529.47 1167.92 1524.5 Q1172.28 1519.54 1179.95 1519.54 Z\" fill=\"#000000\" fill-rule=\"evenodd\" fill-opacity=\"1\" /><path clip-path=\"url(#clip130)\" d=\"M 0 0 M1232.09 1534.53 L1232.09 1556.04 L1226.23 1556.04 L1226.23 1534.72 Q1226.23 1529.66 1224.26 1527.14 Q1222.29 1524.63 1218.34 1524.63 Q1213.6 1524.63 1210.86 1527.65 Q1208.12 1530.68 1208.12 1535.9 L1208.12 1556.04 L1202.23 1556.04 L1202.23 1520.4 L1208.12 1520.4 L1208.12 1525.93 Q1210.22 1522.72 1213.05 1521.13 Q1215.92 1519.54 1219.64 1519.54 Q1225.79 1519.54 1228.94 1523.36 Q1232.09 1527.14 1232.09 1534.53 Z\" fill=\"#000000\" fill-rule=\"evenodd\" fill-opacity=\"1\" /><path clip-path=\"url(#clip130)\" d=\"M 0 0 M1261.69 1537.81 Q1261.69 1531.44 1259.05 1527.94 Q1256.44 1524.44 1251.69 1524.44 Q1246.98 1524.44 1244.34 1527.94 Q1241.73 1531.44 1241.73 1537.81 Q1241.73 1544.14 1244.34 1547.64 Q1246.98 1551.14 1251.69 1551.14 Q1256.44 1551.14 1259.05 1547.64 Q1261.69 1544.14 1261.69 1537.81 M1267.55 1551.62 Q1267.55 1560.72 1263.5 1565.15 Q1259.46 1569.6 1251.12 1569.6 Q1248.03 1569.6 1245.3 1569.13 Q1242.56 1568.68 1239.98 1567.72 L1239.98 1562.03 Q1242.56 1563.43 1245.07 1564.1 Q1247.59 1564.76 1250.2 1564.76 Q1255.96 1564.76 1258.82 1561.74 Q1261.69 1558.75 1261.69 1552.67 L1261.69 1549.77 Q1259.87 1552.92 1257.04 1554.48 Q1254.21 1556.04 1250.26 1556.04 Q1243.71 1556.04 1239.7 1551.05 Q1235.68 1546.05 1235.68 1537.81 Q1235.68 1529.53 1239.7 1524.53 Q1243.71 1519.54 1250.26 1519.54 Q1254.21 1519.54 1257.04 1521.1 Q1259.87 1522.66 1261.69 1525.81 L1261.69 1520.4 L1267.55 1520.4 L1267.55 1551.62 Z\" fill=\"#000000\" fill-rule=\"evenodd\" fill-opacity=\"1\" /><path clip-path=\"url(#clip130)\" d=\"M 0 0 M1273.69 1520.4 L1279.54 1520.4 L1279.54 1556.04 L1273.69 1556.04 L1273.69 1520.4 M1273.69 1506.52 L1279.54 1506.52 L1279.54 1513.93 L1273.69 1513.93 L1273.69 1506.52 Z\" fill=\"#000000\" fill-rule=\"evenodd\" fill-opacity=\"1\" /><path clip-path=\"url(#clip130)\" d=\"M 0 0 M1291.48 1510.27 L1291.48 1520.4 L1303.54 1520.4 L1303.54 1524.95 L1291.48 1524.95 L1291.48 1544.3 Q1291.48 1548.66 1292.66 1549.9 Q1293.87 1551.14 1297.53 1551.14 L1303.54 1551.14 L1303.54 1556.04 L1297.53 1556.04 Q1290.75 1556.04 1288.17 1553.53 Q1285.59 1550.98 1285.59 1544.3 L1285.59 1524.95 L1281.3 1524.95 L1281.3 1520.4 L1285.59 1520.4 L1285.59 1510.27 L1291.48 1510.27 Z\" fill=\"#000000\" fill-rule=\"evenodd\" fill-opacity=\"1\" /><path clip-path=\"url(#clip130)\" d=\"M 0 0 M1309.08 1541.98 L1309.08 1520.4 L1314.94 1520.4 L1314.94 1541.75 Q1314.94 1546.81 1316.91 1549.36 Q1318.88 1551.87 1322.83 1551.87 Q1327.57 1551.87 1330.31 1548.85 Q1333.08 1545.83 1333.08 1540.61 L1333.08 1520.4 L1338.94 1520.4 L1338.94 1556.04 L1333.08 1556.04 L1333.08 1550.57 Q1330.95 1553.82 1328.11 1555.41 Q1325.31 1556.97 1321.59 1556.97 Q1315.45 1556.97 1312.26 1553.15 Q1309.08 1549.33 1309.08 1541.98 M1323.82 1519.54 L1323.82 1519.54 Z\" fill=\"#000000\" fill-rule=\"evenodd\" fill-opacity=\"1\" /><path clip-path=\"url(#clip130)\" d=\"M 0 0 M1368.54 1525.81 L1368.54 1506.52 L1374.39 1506.52 L1374.39 1556.04 L1368.54 1556.04 L1368.54 1550.7 Q1366.69 1553.88 1363.86 1555.44 Q1361.06 1556.97 1357.11 1556.97 Q1350.65 1556.97 1346.58 1551.81 Q1342.53 1546.65 1342.53 1538.25 Q1342.53 1529.85 1346.58 1524.69 Q1350.65 1519.54 1357.11 1519.54 Q1361.06 1519.54 1363.86 1521.1 Q1366.69 1522.62 1368.54 1525.81 M1348.58 1538.25 Q1348.58 1544.71 1351.22 1548.4 Q1353.9 1552.07 1358.54 1552.07 Q1363.19 1552.07 1365.86 1548.4 Q1368.54 1544.71 1368.54 1538.25 Q1368.54 1531.79 1365.86 1528.13 Q1363.19 1524.44 1358.54 1524.44 Q1353.9 1524.44 1351.22 1528.13 Q1348.58 1531.79 1348.58 1538.25 Z\" fill=\"#000000\" fill-rule=\"evenodd\" fill-opacity=\"1\" /><path clip-path=\"url(#clip130)\" d=\"M 0 0 M1411.03 1536.76 L1411.03 1539.62 L1384.1 1539.62 Q1384.48 1545.67 1387.73 1548.85 Q1391.01 1552 1396.83 1552 Q1400.21 1552 1403.36 1551.17 Q1406.54 1550.35 1409.66 1548.69 L1409.66 1554.23 Q1406.51 1555.57 1403.2 1556.27 Q1399.89 1556.97 1396.48 1556.97 Q1387.95 1556.97 1382.96 1552 Q1377.99 1547.04 1377.99 1538.57 Q1377.99 1529.82 1382.7 1524.69 Q1387.44 1519.54 1395.46 1519.54 Q1402.66 1519.54 1406.83 1524.18 Q1411.03 1528.8 1411.03 1536.76 M1405.17 1535.04 Q1405.11 1530.23 1402.47 1527.37 Q1399.86 1524.5 1395.53 1524.5 Q1390.63 1524.5 1387.67 1527.27 Q1384.74 1530.04 1384.29 1535.07 L1405.17 1535.04 Z\" fill=\"#000000\" fill-rule=\"evenodd\" fill-opacity=\"1\" /><polyline clip-path=\"url(#clip130)\" style=\"stroke:#000000; stroke-width:4; stroke-opacity:1; fill:none\" points=\"\n",
       "  212.413,1423.18 212.413,47.2441 \n",
       "  \"/>\n",
       "<polyline clip-path=\"url(#clip130)\" style=\"stroke:#000000; stroke-width:4; stroke-opacity:1; fill:none\" points=\"\n",
       "  212.413,1362.88 238.097,1362.88 \n",
       "  \"/>\n",
       "<polyline clip-path=\"url(#clip130)\" style=\"stroke:#000000; stroke-width:4; stroke-opacity:1; fill:none\" points=\"\n",
       "  212.413,1171.3 238.097,1171.3 \n",
       "  \"/>\n",
       "<polyline clip-path=\"url(#clip130)\" style=\"stroke:#000000; stroke-width:4; stroke-opacity:1; fill:none\" points=\"\n",
       "  212.413,979.717 238.097,979.717 \n",
       "  \"/>\n",
       "<polyline clip-path=\"url(#clip130)\" style=\"stroke:#000000; stroke-width:4; stroke-opacity:1; fill:none\" points=\"\n",
       "  212.413,788.137 238.097,788.137 \n",
       "  \"/>\n",
       "<polyline clip-path=\"url(#clip130)\" style=\"stroke:#000000; stroke-width:4; stroke-opacity:1; fill:none\" points=\"\n",
       "  212.413,596.558 238.097,596.558 \n",
       "  \"/>\n",
       "<polyline clip-path=\"url(#clip130)\" style=\"stroke:#000000; stroke-width:4; stroke-opacity:1; fill:none\" points=\"\n",
       "  212.413,404.978 238.097,404.978 \n",
       "  \"/>\n",
       "<polyline clip-path=\"url(#clip130)\" style=\"stroke:#000000; stroke-width:4; stroke-opacity:1; fill:none\" points=\"\n",
       "  212.413,213.399 238.097,213.399 \n",
       "  \"/>\n",
       "<path clip-path=\"url(#clip130)\" d=\"M 0 0 M120.533 1376.22 L128.172 1376.22 L128.172 1349.86 L119.862 1351.52 L119.862 1347.26 L128.126 1345.6 L132.802 1345.6 L132.802 1376.22 L140.441 1376.22 L140.441 1380.16 L120.533 1380.16 L120.533 1376.22 Z\" fill=\"#000000\" fill-rule=\"evenodd\" fill-opacity=\"1\" /><path clip-path=\"url(#clip130)\" d=\"M 0 0 M145.51 1374.28 L150.394 1374.28 L150.394 1380.16 L145.51 1380.16 L145.51 1374.28 Z\" fill=\"#000000\" fill-rule=\"evenodd\" fill-opacity=\"1\" /><path clip-path=\"url(#clip130)\" d=\"M 0 0 M155.51 1345.6 L173.866 1345.6 L173.866 1349.53 L159.792 1349.53 L159.792 1358 Q160.811 1357.66 161.829 1357.49 Q162.848 1357.31 163.866 1357.31 Q169.653 1357.31 173.033 1360.48 Q176.413 1363.65 176.413 1369.07 Q176.413 1374.65 172.94 1377.75 Q169.468 1380.83 163.149 1380.83 Q160.973 1380.83 158.704 1380.46 Q156.459 1380.09 154.052 1379.35 L154.052 1374.65 Q156.135 1375.78 158.357 1376.34 Q160.579 1376.89 163.056 1376.89 Q167.061 1376.89 169.399 1374.79 Q171.737 1372.68 171.737 1369.07 Q171.737 1365.46 169.399 1363.35 Q167.061 1361.24 163.056 1361.24 Q161.181 1361.24 159.306 1361.66 Q157.454 1362.08 155.51 1362.96 L155.51 1345.6 Z\" fill=\"#000000\" fill-rule=\"evenodd\" fill-opacity=\"1\" /><path clip-path=\"url(#clip130)\" d=\"M 0 0 M123.126 1184.64 L139.445 1184.64 L139.445 1188.58 L117.501 1188.58 L117.501 1184.64 Q120.163 1181.89 124.746 1177.26 Q129.353 1172.6 130.533 1171.26 Q132.779 1168.74 133.658 1167 Q134.561 1165.24 134.561 1163.55 Q134.561 1160.8 132.617 1159.06 Q130.695 1157.33 127.593 1157.33 Q125.394 1157.33 122.941 1158.09 Q120.51 1158.85 117.732 1160.41 L117.732 1155.68 Q120.556 1154.55 123.01 1153.97 Q125.464 1153.39 127.501 1153.39 Q132.871 1153.39 136.066 1156.08 Q139.26 1158.76 139.26 1163.25 Q139.26 1165.38 138.45 1167.3 Q137.663 1169.2 135.556 1171.79 Q134.978 1172.47 131.876 1175.68 Q128.774 1178.88 123.126 1184.64 Z\" fill=\"#000000\" fill-rule=\"evenodd\" fill-opacity=\"1\" /><path clip-path=\"url(#clip130)\" d=\"M 0 0 M144.515 1182.7 L149.399 1182.7 L149.399 1188.58 L144.515 1188.58 L144.515 1182.7 Z\" fill=\"#000000\" fill-rule=\"evenodd\" fill-opacity=\"1\" /><path clip-path=\"url(#clip130)\" d=\"M 0 0 M164.468 1157.1 Q160.857 1157.1 159.028 1160.66 Q157.223 1164.2 157.223 1171.33 Q157.223 1178.44 159.028 1182 Q160.857 1185.54 164.468 1185.54 Q168.102 1185.54 169.908 1182 Q171.737 1178.44 171.737 1171.33 Q171.737 1164.2 169.908 1160.66 Q168.102 1157.1 164.468 1157.1 M164.468 1153.39 Q170.278 1153.39 173.334 1158 Q176.413 1162.58 176.413 1171.33 Q176.413 1180.06 173.334 1184.66 Q170.278 1189.25 164.468 1189.25 Q158.658 1189.25 155.579 1184.66 Q152.524 1180.06 152.524 1171.33 Q152.524 1162.58 155.579 1158 Q158.658 1153.39 164.468 1153.39 Z\" fill=\"#000000\" fill-rule=\"evenodd\" fill-opacity=\"1\" /><path clip-path=\"url(#clip130)\" d=\"M 0 0 M124.121 993.062 L140.441 993.062 L140.441 996.997 L118.496 996.997 L118.496 993.062 Q121.158 990.307 125.742 985.678 Q130.348 981.025 131.529 979.682 Q133.774 977.159 134.654 975.423 Q135.556 973.664 135.556 971.974 Q135.556 969.219 133.612 967.483 Q131.691 965.747 128.589 965.747 Q126.39 965.747 123.936 966.511 Q121.505 967.275 118.728 968.826 L118.728 964.104 Q121.552 962.969 124.005 962.391 Q126.459 961.812 128.496 961.812 Q133.867 961.812 137.061 964.497 Q140.255 967.182 140.255 971.673 Q140.255 973.803 139.445 975.724 Q138.658 977.622 136.552 980.215 Q135.973 980.886 132.871 984.103 Q129.769 987.298 124.121 993.062 Z\" fill=\"#000000\" fill-rule=\"evenodd\" fill-opacity=\"1\" /><path clip-path=\"url(#clip130)\" d=\"M 0 0 M145.51 991.117 L150.394 991.117 L150.394 996.997 L145.51 996.997 L145.51 991.117 Z\" fill=\"#000000\" fill-rule=\"evenodd\" fill-opacity=\"1\" /><path clip-path=\"url(#clip130)\" d=\"M 0 0 M155.51 962.437 L173.866 962.437 L173.866 966.372 L159.792 966.372 L159.792 974.844 Q160.811 974.497 161.829 974.335 Q162.848 974.15 163.866 974.15 Q169.653 974.15 173.033 977.321 Q176.413 980.492 176.413 985.909 Q176.413 991.488 172.94 994.59 Q169.468 997.668 163.149 997.668 Q160.973 997.668 158.704 997.298 Q156.459 996.927 154.052 996.187 L154.052 991.488 Q156.135 992.622 158.357 993.177 Q160.579 993.733 163.056 993.733 Q167.061 993.733 169.399 991.627 Q171.737 989.52 171.737 985.909 Q171.737 982.298 169.399 980.191 Q167.061 978.085 163.056 978.085 Q161.181 978.085 159.306 978.502 Q157.454 978.918 155.51 979.798 L155.51 962.437 Z\" fill=\"#000000\" fill-rule=\"evenodd\" fill-opacity=\"1\" /><path clip-path=\"url(#clip130)\" d=\"M 0 0 M132.316 786.783 Q135.672 787.501 137.547 789.769 Q139.445 792.038 139.445 795.371 Q139.445 800.487 135.927 803.288 Q132.408 806.089 125.927 806.089 Q123.751 806.089 121.436 805.649 Q119.144 805.232 116.691 804.376 L116.691 799.862 Q118.635 800.996 120.95 801.575 Q123.265 802.154 125.788 802.154 Q130.186 802.154 132.478 800.417 Q134.792 798.681 134.792 795.371 Q134.792 792.316 132.64 790.603 Q130.51 788.867 126.691 788.867 L122.663 788.867 L122.663 785.024 L126.876 785.024 Q130.325 785.024 132.154 783.658 Q133.982 782.269 133.982 779.677 Q133.982 777.015 132.084 775.603 Q130.209 774.168 126.691 774.168 Q124.769 774.168 122.57 774.584 Q120.371 775.001 117.732 775.881 L117.732 771.714 Q120.394 770.973 122.709 770.603 Q125.047 770.232 127.107 770.232 Q132.431 770.232 135.533 772.663 Q138.635 775.07 138.635 779.191 Q138.635 782.061 136.992 784.052 Q135.348 786.019 132.316 786.783 Z\" fill=\"#000000\" fill-rule=\"evenodd\" fill-opacity=\"1\" /><path clip-path=\"url(#clip130)\" d=\"M 0 0 M144.515 799.538 L149.399 799.538 L149.399 805.417 L144.515 805.417 L144.515 799.538 Z\" fill=\"#000000\" fill-rule=\"evenodd\" fill-opacity=\"1\" /><path clip-path=\"url(#clip130)\" d=\"M 0 0 M164.468 773.936 Q160.857 773.936 159.028 777.501 Q157.223 781.043 157.223 788.172 Q157.223 795.279 159.028 798.843 Q160.857 802.385 164.468 802.385 Q168.102 802.385 169.908 798.843 Q171.737 795.279 171.737 788.172 Q171.737 781.043 169.908 777.501 Q168.102 773.936 164.468 773.936 M164.468 770.232 Q170.278 770.232 173.334 774.839 Q176.413 779.422 176.413 788.172 Q176.413 796.899 173.334 801.505 Q170.278 806.089 164.468 806.089 Q158.658 806.089 155.579 801.505 Q152.524 796.899 152.524 788.172 Q152.524 779.422 155.579 774.839 Q158.658 770.232 164.468 770.232 Z\" fill=\"#000000\" fill-rule=\"evenodd\" fill-opacity=\"1\" /><path clip-path=\"url(#clip130)\" d=\"M 0 0 M133.311 595.204 Q136.667 595.921 138.542 598.19 Q140.441 600.458 140.441 603.792 Q140.441 608.907 136.922 611.708 Q133.404 614.509 126.922 614.509 Q124.746 614.509 122.431 614.069 Q120.14 613.653 117.686 612.796 L117.686 608.282 Q119.63 609.417 121.945 609.995 Q124.26 610.574 126.783 610.574 Q131.181 610.574 133.473 608.838 Q135.788 607.102 135.788 603.792 Q135.788 600.736 133.635 599.023 Q131.505 597.287 127.686 597.287 L123.658 597.287 L123.658 593.444 L127.871 593.444 Q131.32 593.444 133.149 592.079 Q134.978 590.69 134.978 588.097 Q134.978 585.435 133.08 584.023 Q131.205 582.588 127.686 582.588 Q125.765 582.588 123.566 583.005 Q121.367 583.421 118.728 584.301 L118.728 580.134 Q121.39 579.394 123.705 579.023 Q126.043 578.653 128.103 578.653 Q133.427 578.653 136.529 581.083 Q139.63 583.491 139.63 587.611 Q139.63 590.482 137.987 592.472 Q136.343 594.44 133.311 595.204 Z\" fill=\"#000000\" fill-rule=\"evenodd\" fill-opacity=\"1\" /><path clip-path=\"url(#clip130)\" d=\"M 0 0 M145.51 607.958 L150.394 607.958 L150.394 613.838 L145.51 613.838 L145.51 607.958 Z\" fill=\"#000000\" fill-rule=\"evenodd\" fill-opacity=\"1\" /><path clip-path=\"url(#clip130)\" d=\"M 0 0 M155.51 579.278 L173.866 579.278 L173.866 583.213 L159.792 583.213 L159.792 591.685 Q160.811 591.338 161.829 591.176 Q162.848 590.991 163.866 590.991 Q169.653 590.991 173.033 594.162 Q176.413 597.333 176.413 602.75 Q176.413 608.329 172.94 611.43 Q169.468 614.509 163.149 614.509 Q160.973 614.509 158.704 614.139 Q156.459 613.768 154.052 613.028 L154.052 608.329 Q156.135 609.463 158.357 610.018 Q160.579 610.574 163.056 610.574 Q167.061 610.574 169.399 608.468 Q171.737 606.361 171.737 602.75 Q171.737 599.139 169.399 597.032 Q167.061 594.926 163.056 594.926 Q161.181 594.926 159.306 595.343 Q157.454 595.759 155.51 596.639 L155.51 579.278 Z\" fill=\"#000000\" fill-rule=\"evenodd\" fill-opacity=\"1\" /><path clip-path=\"url(#clip130)\" d=\"M 0 0 M129.862 391.772 L118.056 410.221 L129.862 410.221 L129.862 391.772 M128.635 387.698 L134.515 387.698 L134.515 410.221 L139.445 410.221 L139.445 414.11 L134.515 414.11 L134.515 422.258 L129.862 422.258 L129.862 414.11 L114.26 414.11 L114.26 409.596 L128.635 387.698 Z\" fill=\"#000000\" fill-rule=\"evenodd\" fill-opacity=\"1\" /><path clip-path=\"url(#clip130)\" d=\"M 0 0 M144.515 416.379 L149.399 416.379 L149.399 422.258 L144.515 422.258 L144.515 416.379 Z\" fill=\"#000000\" fill-rule=\"evenodd\" fill-opacity=\"1\" /><path clip-path=\"url(#clip130)\" d=\"M 0 0 M164.468 390.777 Q160.857 390.777 159.028 394.342 Q157.223 397.883 157.223 405.013 Q157.223 412.12 159.028 415.684 Q160.857 419.226 164.468 419.226 Q168.102 419.226 169.908 415.684 Q171.737 412.12 171.737 405.013 Q171.737 397.883 169.908 394.342 Q168.102 390.777 164.468 390.777 M164.468 387.073 Q170.278 387.073 173.334 391.68 Q176.413 396.263 176.413 405.013 Q176.413 413.74 173.334 418.346 Q170.278 422.93 164.468 422.93 Q158.658 422.93 155.579 418.346 Q152.524 413.74 152.524 405.013 Q152.524 396.263 155.579 391.68 Q158.658 387.073 164.468 387.073 Z\" fill=\"#000000\" fill-rule=\"evenodd\" fill-opacity=\"1\" /><path clip-path=\"url(#clip130)\" d=\"M 0 0 M130.857 200.193 L119.052 218.642 L130.857 218.642 L130.857 200.193 M129.63 196.119 L135.51 196.119 L135.51 218.642 L140.441 218.642 L140.441 222.531 L135.51 222.531 L135.51 230.679 L130.857 230.679 L130.857 222.531 L115.256 222.531 L115.256 218.017 L129.63 196.119 Z\" fill=\"#000000\" fill-rule=\"evenodd\" fill-opacity=\"1\" /><path clip-path=\"url(#clip130)\" d=\"M 0 0 M145.51 224.799 L150.394 224.799 L150.394 230.679 L145.51 230.679 L145.51 224.799 Z\" fill=\"#000000\" fill-rule=\"evenodd\" fill-opacity=\"1\" /><path clip-path=\"url(#clip130)\" d=\"M 0 0 M155.51 196.119 L173.866 196.119 L173.866 200.054 L159.792 200.054 L159.792 208.526 Q160.811 208.179 161.829 208.017 Q162.848 207.832 163.866 207.832 Q169.653 207.832 173.033 211.003 Q176.413 214.174 176.413 219.591 Q176.413 225.17 172.94 228.271 Q169.468 231.35 163.149 231.35 Q160.973 231.35 158.704 230.98 Q156.459 230.609 154.052 229.869 L154.052 225.17 Q156.135 226.304 158.357 226.859 Q160.579 227.415 163.056 227.415 Q167.061 227.415 169.399 225.308 Q171.737 223.202 171.737 219.591 Q171.737 215.98 169.399 213.873 Q167.061 211.767 163.056 211.767 Q161.181 211.767 159.306 212.184 Q157.454 212.6 155.51 213.48 L155.51 196.119 Z\" fill=\"#000000\" fill-rule=\"evenodd\" fill-opacity=\"1\" /><path clip-path=\"url(#clip130)\" d=\"M 0 0 M38.479 838.893 L38.479 833.037 L88.0042 833.037 L88.0042 838.893 L38.479 838.893 Z\" fill=\"#000000\" fill-rule=\"evenodd\" fill-opacity=\"1\" /><path clip-path=\"url(#clip130)\" d=\"M 0 0 M70.0847 810.693 Q70.0847 817.791 71.7079 820.528 Q73.3312 823.266 77.2461 823.266 Q80.3653 823.266 82.2114 821.229 Q84.0256 819.16 84.0256 815.627 Q84.0256 810.757 80.5881 807.829 Q77.1188 804.869 71.3897 804.869 L70.0847 804.869 L70.0847 810.693 M67.6657 799.012 L88.0042 799.012 L88.0042 804.869 L82.5933 804.869 Q85.8398 806.874 87.3994 809.866 Q88.9272 812.858 88.9272 817.186 Q88.9272 822.661 85.8716 825.907 Q82.7843 829.122 77.6281 829.122 Q71.6125 829.122 68.5569 825.112 Q65.5014 821.069 65.5014 813.08 L65.5014 804.869 L64.9285 804.869 Q60.8862 804.869 58.6901 807.542 Q56.4621 810.184 56.4621 814.99 Q56.4621 818.046 57.1941 820.942 Q57.9262 823.839 59.3903 826.512 L53.9795 826.512 Q52.7381 823.297 52.1334 820.274 Q51.4968 817.25 51.4968 814.385 Q51.4968 806.651 55.5072 802.832 Q59.5176 799.012 67.6657 799.012 Z\" fill=\"#000000\" fill-rule=\"evenodd\" fill-opacity=\"1\" /><path clip-path=\"url(#clip130)\" d=\"M 0 0 M42.2347 787.077 L52.3562 787.077 L52.3562 775.014 L56.9077 775.014 L56.9077 787.077 L76.2594 787.077 Q80.6199 787.077 81.8613 785.899 Q83.1026 784.689 83.1026 781.029 L83.1026 775.014 L88.0042 775.014 L88.0042 781.029 Q88.0042 787.809 85.4897 790.387 Q82.9434 792.965 76.2594 792.965 L56.9077 792.965 L56.9077 797.262 L52.3562 797.262 L52.3562 792.965 L42.2347 792.965 L42.2347 787.077 Z\" fill=\"#000000\" fill-rule=\"evenodd\" fill-opacity=\"1\" /><path clip-path=\"url(#clip130)\" d=\"M 0 0 M52.3562 768.871 L52.3562 763.014 L88.0042 763.014 L88.0042 768.871 L52.3562 768.871 M38.479 768.871 L38.479 763.014 L45.895 763.014 L45.895 768.871 L38.479 768.871 Z\" fill=\"#000000\" fill-rule=\"evenodd\" fill-opacity=\"1\" /><path clip-path=\"url(#clip130)\" d=\"M 0 0 M42.2347 751.078 L52.3562 751.078 L52.3562 739.015 L56.9077 739.015 L56.9077 751.078 L76.2594 751.078 Q80.6199 751.078 81.8613 749.901 Q83.1026 748.691 83.1026 745.031 L83.1026 739.015 L88.0042 739.015 L88.0042 745.031 Q88.0042 751.811 85.4897 754.389 Q82.9434 756.967 76.2594 756.967 L56.9077 756.967 L56.9077 761.264 L52.3562 761.264 L52.3562 756.967 L42.2347 756.967 L42.2347 751.078 Z\" fill=\"#000000\" fill-rule=\"evenodd\" fill-opacity=\"1\" /><path clip-path=\"url(#clip130)\" d=\"M 0 0 M73.9359 733.477 L52.3562 733.477 L52.3562 727.621 L73.7131 727.621 Q78.7739 727.621 81.3202 725.647 Q83.8346 723.674 83.8346 719.727 Q83.8346 714.985 80.8109 712.248 Q77.7872 709.479 72.5673 709.479 L52.3562 709.479 L52.3562 703.622 L88.0042 703.622 L88.0042 709.479 L82.5296 709.479 Q85.7762 711.611 87.3676 714.444 Q88.9272 717.245 88.9272 720.969 Q88.9272 727.112 85.1078 730.294 Q81.2883 733.477 73.9359 733.477 M51.4968 718.741 L51.4968 718.741 Z\" fill=\"#000000\" fill-rule=\"evenodd\" fill-opacity=\"1\" /><path clip-path=\"url(#clip130)\" d=\"M 0 0 M57.7671 674.022 L38.479 674.022 L38.479 668.165 L88.0042 668.165 L88.0042 674.022 L82.657 674.022 Q85.8398 675.868 87.3994 678.7 Q88.9272 681.501 88.9272 685.448 Q88.9272 691.909 83.771 695.983 Q78.6147 700.026 70.212 700.026 Q61.8093 700.026 56.6531 695.983 Q51.4968 691.909 51.4968 685.448 Q51.4968 681.501 53.0564 678.7 Q54.5842 675.868 57.7671 674.022 M70.212 693.978 Q76.6732 693.978 80.3653 691.336 Q84.0256 688.663 84.0256 684.016 Q84.0256 679.369 80.3653 676.695 Q76.6732 674.022 70.212 674.022 Q63.7508 674.022 60.0905 676.695 Q56.3984 679.369 56.3984 684.016 Q56.3984 688.663 60.0905 691.336 Q63.7508 693.978 70.212 693.978 Z\" fill=\"#000000\" fill-rule=\"evenodd\" fill-opacity=\"1\" /><path clip-path=\"url(#clip130)\" d=\"M 0 0 M68.7161 631.531 L71.5806 631.531 L71.5806 658.457 Q77.6281 658.076 80.8109 654.829 Q83.9619 651.551 83.9619 645.726 Q83.9619 642.352 83.1344 639.201 Q82.3069 636.018 80.6518 632.899 L86.1899 632.899 Q87.5267 636.05 88.227 639.36 Q88.9272 642.671 88.9272 646.076 Q88.9272 654.606 83.9619 659.603 Q78.9967 664.569 70.5303 664.569 Q61.7774 664.569 56.6531 659.858 Q51.4968 655.115 51.4968 647.095 Q51.4968 639.901 56.1438 635.732 Q60.7589 631.531 68.7161 631.531 M66.9973 637.387 Q62.1912 637.451 59.3266 640.092 Q56.4621 642.702 56.4621 647.031 Q56.4621 651.933 59.2312 654.893 Q62.0002 657.821 67.0292 658.266 L66.9973 637.387 Z\" fill=\"#000000\" fill-rule=\"evenodd\" fill-opacity=\"1\" /><circle clip-path=\"url(#clip132)\" cx=\"2292.18\" cy=\"1036.63\" r=\"108\" fill=\"#ff0000\" fill-rule=\"evenodd\" fill-opacity=\"0.5\" stroke=\"#000000\" stroke-opacity=\"0.5\" stroke-width=\"3.2\"/>\n",
       "<circle clip-path=\"url(#clip132)\" cx=\"272.988\" cy=\"1384.24\" r=\"108\" fill=\"#ff0000\" fill-rule=\"evenodd\" fill-opacity=\"0.5\" stroke=\"#000000\" stroke-opacity=\"0.5\" stroke-width=\"3.2\"/>\n",
       "<circle clip-path=\"url(#clip132)\" cx=\"2292.18\" cy=\"1036.63\" r=\"108\" fill=\"#0000ff\" fill-rule=\"evenodd\" fill-opacity=\"0.5\" stroke=\"#000000\" stroke-opacity=\"0.5\" stroke-width=\"3.2\"/>\n",
       "<circle clip-path=\"url(#clip132)\" cx=\"1099.26\" cy=\"86.1857\" r=\"108\" fill=\"#0000ff\" fill-rule=\"evenodd\" fill-opacity=\"0.5\" stroke=\"#000000\" stroke-opacity=\"0.5\" stroke-width=\"3.2\"/>\n",
       "<circle clip-path=\"url(#clip132)\" cx=\"1099.26\" cy=\"86.1857\" r=\"108\" fill=\"#0000ff\" fill-rule=\"evenodd\" fill-opacity=\"0.5\" stroke=\"#000000\" stroke-opacity=\"0.5\" stroke-width=\"3.2\"/>\n",
       "<path clip-path=\"url(#clip130)\" d=\"\n",
       "M1782.51 274.549 L2281.41 274.549 L2281.41 93.1086 L1782.51 93.1086  Z\n",
       "  \" fill=\"#ffffff\" fill-rule=\"evenodd\" fill-opacity=\"1\"/>\n",
       "<polyline clip-path=\"url(#clip130)\" style=\"stroke:#000000; stroke-width:4; stroke-opacity:1; fill:none\" points=\"\n",
       "  1782.51,274.549 2281.41,274.549 2281.41,93.1086 1782.51,93.1086 1782.51,274.549 \n",
       "  \"/>\n",
       "<circle clip-path=\"url(#clip130)\" cx=\"1877.64\" cy=\"153.589\" r=\"23\" fill=\"#ff0000\" fill-rule=\"evenodd\" fill-opacity=\"0.5\" stroke=\"#000000\" stroke-opacity=\"0.5\" stroke-width=\"0.682667\"/>\n",
       "<path clip-path=\"url(#clip130)\" d=\"M 0 0 M1972.76 160.637 L1972.76 144.943 L1977.02 144.943 L1977.02 160.475 Q1977.02 164.156 1978.46 166.008 Q1979.89 167.836 1982.76 167.836 Q1986.21 167.836 1988.2 165.637 Q1990.21 163.438 1990.21 159.642 L1990.21 144.943 L1994.47 144.943 L1994.47 170.869 L1990.21 170.869 L1990.21 166.887 Q1988.66 169.248 1986.6 170.406 Q1984.57 171.54 1981.86 171.54 Q1977.39 171.54 1975.08 168.762 Q1972.76 165.984 1972.76 160.637 M1983.48 144.318 L1983.48 144.318 Z\" fill=\"#000000\" fill-rule=\"evenodd\" fill-opacity=\"1\" /><path clip-path=\"url(#clip130)\" d=\"M 0 0 M2015.47 145.707 L2015.47 149.734 Q2013.66 148.809 2011.72 148.346 Q2009.78 147.883 2007.69 147.883 Q2004.52 147.883 2002.92 148.855 Q2001.35 149.827 2001.35 151.771 Q2001.35 153.253 2002.48 154.109 Q2003.62 154.943 2007.04 155.707 L2008.5 156.031 Q2013.04 157.003 2014.94 158.785 Q2016.86 160.545 2016.86 163.716 Q2016.86 167.327 2013.99 169.433 Q2011.14 171.54 2006.14 171.54 Q2004.06 171.54 2001.79 171.123 Q1999.54 170.73 1997.04 169.92 L1997.04 165.521 Q1999.4 166.748 2001.7 167.373 Q2003.99 167.975 2006.23 167.975 Q2009.24 167.975 2010.86 166.957 Q2012.48 165.915 2012.48 164.04 Q2012.48 162.304 2011.3 161.378 Q2010.15 160.452 2006.19 159.596 L2004.71 159.248 Q2000.75 158.415 1998.99 156.702 Q1997.23 154.966 1997.23 151.957 Q1997.23 148.299 1999.82 146.309 Q2002.41 144.318 2007.18 144.318 Q2009.54 144.318 2011.63 144.665 Q2013.71 145.012 2015.47 145.707 Z\" fill=\"#000000\" fill-rule=\"evenodd\" fill-opacity=\"1\" /><path clip-path=\"url(#clip130)\" d=\"M 0 0 M2021.33 144.943 L2025.59 144.943 L2025.59 170.869 L2021.33 170.869 L2021.33 144.943 M2021.33 134.85 L2025.59 134.85 L2025.59 140.244 L2021.33 140.244 L2021.33 134.85 Z\" fill=\"#000000\" fill-rule=\"evenodd\" fill-opacity=\"1\" /><path clip-path=\"url(#clip130)\" d=\"M 0 0 M2051.6 155.221 L2051.6 170.869 L2047.34 170.869 L2047.34 155.359 Q2047.34 151.679 2045.91 149.85 Q2044.47 148.022 2041.6 148.022 Q2038.15 148.022 2036.16 150.221 Q2034.17 152.42 2034.17 156.216 L2034.17 170.869 L2029.89 170.869 L2029.89 144.943 L2034.17 144.943 L2034.17 148.971 Q2035.7 146.633 2037.76 145.475 Q2039.84 144.318 2042.55 144.318 Q2047.02 144.318 2049.31 147.096 Q2051.6 149.85 2051.6 155.221 Z\" fill=\"#000000\" fill-rule=\"evenodd\" fill-opacity=\"1\" /><path clip-path=\"url(#clip130)\" d=\"M 0 0 M2078.25 156.841 L2078.25 158.924 L2058.66 158.924 Q2058.94 163.322 2061.3 165.637 Q2063.69 167.929 2067.92 167.929 Q2070.38 167.929 2072.67 167.327 Q2074.98 166.725 2077.25 165.521 L2077.25 169.549 Q2074.96 170.521 2072.55 171.031 Q2070.15 171.54 2067.67 171.54 Q2061.46 171.54 2057.83 167.929 Q2054.22 164.318 2054.22 158.16 Q2054.22 151.795 2057.65 148.068 Q2061.09 144.318 2066.93 144.318 Q2072.16 144.318 2075.19 147.697 Q2078.25 151.054 2078.25 156.841 M2073.99 155.591 Q2073.94 152.096 2072.02 150.012 Q2070.12 147.929 2066.97 147.929 Q2063.41 147.929 2061.26 149.943 Q2059.13 151.957 2058.8 155.614 L2073.99 155.591 Z\" fill=\"#000000\" fill-rule=\"evenodd\" fill-opacity=\"1\" /><path clip-path=\"url(#clip130)\" d=\"M 0 0 M2099.24 145.707 L2099.24 149.734 Q2097.44 148.809 2095.49 148.346 Q2093.55 147.883 2091.46 147.883 Q2088.29 147.883 2086.7 148.855 Q2085.12 149.827 2085.12 151.771 Q2085.12 153.253 2086.26 154.109 Q2087.39 154.943 2090.82 155.707 L2092.27 156.031 Q2096.81 157.003 2098.71 158.785 Q2100.63 160.545 2100.63 163.716 Q2100.63 167.327 2097.76 169.433 Q2094.91 171.54 2089.91 171.54 Q2087.83 171.54 2085.56 171.123 Q2083.32 170.73 2080.82 169.92 L2080.82 165.521 Q2083.18 166.748 2085.47 167.373 Q2087.76 167.975 2090.01 167.975 Q2093.02 167.975 2094.64 166.957 Q2096.26 165.915 2096.26 164.04 Q2096.26 162.304 2095.08 161.378 Q2093.92 160.452 2089.96 159.596 L2088.48 159.248 Q2084.52 158.415 2082.76 156.702 Q2081 154.966 2081 151.957 Q2081 148.299 2083.59 146.309 Q2086.19 144.318 2090.96 144.318 Q2093.32 144.318 2095.4 144.665 Q2097.48 145.012 2099.24 145.707 Z\" fill=\"#000000\" fill-rule=\"evenodd\" fill-opacity=\"1\" /><circle clip-path=\"url(#clip130)\" cx=\"1877.64\" cy=\"214.069\" r=\"23\" fill=\"#0000ff\" fill-rule=\"evenodd\" fill-opacity=\"0.5\" stroke=\"#000000\" stroke-opacity=\"0.5\" stroke-width=\"0.682667\"/>\n",
       "<path clip-path=\"url(#clip130)\" d=\"M 0 0 M1989.27 195.33 L1989.27 198.872 L1985.19 198.872 Q1982.9 198.872 1982 199.798 Q1981.12 200.724 1981.12 203.131 L1981.12 205.423 L1988.13 205.423 L1988.13 208.733 L1981.12 208.733 L1981.12 231.349 L1976.84 231.349 L1976.84 208.733 L1972.76 208.733 L1972.76 205.423 L1976.84 205.423 L1976.84 203.617 Q1976.84 199.289 1978.85 197.321 Q1980.86 195.33 1985.24 195.33 L1989.27 195.33 Z\" fill=\"#000000\" fill-rule=\"evenodd\" fill-opacity=\"1\" /><path clip-path=\"url(#clip130)\" d=\"M 0 0 M2003.78 208.409 Q2000.35 208.409 1998.36 211.094 Q1996.37 213.756 1996.37 218.409 Q1996.37 223.062 1998.34 225.747 Q2000.33 228.409 2003.78 228.409 Q2007.18 228.409 2009.17 225.724 Q2011.16 223.038 2011.16 218.409 Q2011.16 213.802 2009.17 211.117 Q2007.18 208.409 2003.78 208.409 M2003.78 204.798 Q2009.34 204.798 2012.51 208.409 Q2015.68 212.02 2015.68 218.409 Q2015.68 224.775 2012.51 228.409 Q2009.34 232.02 2003.78 232.02 Q1998.2 232.02 1995.03 228.409 Q1991.88 224.775 1991.88 218.409 Q1991.88 212.02 1995.03 208.409 Q1998.2 204.798 2003.78 204.798 Z\" fill=\"#000000\" fill-rule=\"evenodd\" fill-opacity=\"1\" /><path clip-path=\"url(#clip130)\" d=\"M 0 0 M2019.71 221.117 L2019.71 205.423 L2023.96 205.423 L2023.96 220.955 Q2023.96 224.636 2025.4 226.488 Q2026.84 228.316 2029.71 228.316 Q2033.15 228.316 2035.15 226.117 Q2037.16 223.918 2037.16 220.122 L2037.16 205.423 L2041.42 205.423 L2041.42 231.349 L2037.16 231.349 L2037.16 227.367 Q2035.61 229.728 2033.55 230.886 Q2031.51 232.02 2028.8 232.02 Q2024.34 232.02 2022.02 229.242 Q2019.71 226.464 2019.71 221.117 M2030.42 204.798 L2030.42 204.798 Z\" fill=\"#000000\" fill-rule=\"evenodd\" fill-opacity=\"1\" /><path clip-path=\"url(#clip130)\" d=\"M 0 0 M2060.91 209.404 Q2060.19 208.988 2059.33 208.802 Q2058.5 208.594 2057.48 208.594 Q2053.87 208.594 2051.93 210.955 Q2050.01 213.293 2050.01 217.691 L2050.01 231.349 L2045.72 231.349 L2045.72 205.423 L2050.01 205.423 L2050.01 209.451 Q2051.35 207.089 2053.5 205.955 Q2055.65 204.798 2058.73 204.798 Q2059.17 204.798 2059.71 204.867 Q2060.24 204.914 2060.89 205.029 L2060.91 209.404 Z\" fill=\"#000000\" fill-rule=\"evenodd\" fill-opacity=\"1\" /><path clip-path=\"url(#clip130)\" d=\"M 0 0 M2086.09 215.701 L2086.09 231.349 L2081.83 231.349 L2081.83 215.839 Q2081.83 212.159 2080.4 210.33 Q2078.96 208.502 2076.09 208.502 Q2072.65 208.502 2070.65 210.701 Q2068.66 212.9 2068.66 216.696 L2068.66 231.349 L2064.38 231.349 L2064.38 205.423 L2068.66 205.423 L2068.66 209.451 Q2070.19 207.113 2072.25 205.955 Q2074.33 204.798 2077.04 204.798 Q2081.51 204.798 2083.8 207.576 Q2086.09 210.33 2086.09 215.701 Z\" fill=\"#000000\" fill-rule=\"evenodd\" fill-opacity=\"1\" /><path clip-path=\"url(#clip130)\" d=\"M 0 0 M2090.56 205.423 L2094.82 205.423 L2094.82 231.349 L2090.56 231.349 L2090.56 205.423 M2090.56 195.33 L2094.82 195.33 L2094.82 200.724 L2090.56 200.724 L2090.56 195.33 Z\" fill=\"#000000\" fill-rule=\"evenodd\" fill-opacity=\"1\" /><path clip-path=\"url(#clip130)\" d=\"M 0 0 M2115.82 206.187 L2115.82 210.214 Q2114.01 209.289 2112.07 208.826 Q2110.12 208.363 2108.04 208.363 Q2104.87 208.363 2103.27 209.335 Q2101.7 210.307 2101.7 212.251 Q2101.7 213.733 2102.83 214.589 Q2103.96 215.423 2107.39 216.187 L2108.85 216.511 Q2113.39 217.483 2115.28 219.265 Q2117.21 221.025 2117.21 224.196 Q2117.21 227.807 2114.33 229.913 Q2111.49 232.02 2106.49 232.02 Q2104.4 232.02 2102.14 231.603 Q2099.89 231.21 2097.39 230.4 L2097.39 226.001 Q2099.75 227.228 2102.04 227.853 Q2104.33 228.455 2106.58 228.455 Q2109.59 228.455 2111.21 227.437 Q2112.83 226.395 2112.83 224.52 Q2112.83 222.784 2111.65 221.858 Q2110.49 220.932 2106.53 220.076 L2105.05 219.728 Q2101.09 218.895 2099.33 217.182 Q2097.58 215.446 2097.58 212.437 Q2097.58 208.779 2100.17 206.789 Q2102.76 204.798 2107.53 204.798 Q2109.89 204.798 2111.97 205.145 Q2114.06 205.492 2115.82 206.187 Z\" fill=\"#000000\" fill-rule=\"evenodd\" fill-opacity=\"1\" /><path clip-path=\"url(#clip130)\" d=\"M 0 0 M2138.2 206.187 L2138.2 210.214 Q2136.39 209.289 2134.45 208.826 Q2132.51 208.363 2130.42 208.363 Q2127.25 208.363 2125.65 209.335 Q2124.08 210.307 2124.08 212.251 Q2124.08 213.733 2125.21 214.589 Q2126.35 215.423 2129.77 216.187 L2131.23 216.511 Q2135.77 217.483 2137.67 219.265 Q2139.59 221.025 2139.59 224.196 Q2139.59 227.807 2136.72 229.913 Q2133.87 232.02 2128.87 232.02 Q2126.79 232.02 2124.52 231.603 Q2122.27 231.21 2119.77 230.4 L2119.77 226.001 Q2122.14 227.228 2124.43 227.853 Q2126.72 228.455 2128.96 228.455 Q2131.97 228.455 2133.59 227.437 Q2135.21 226.395 2135.21 224.52 Q2135.21 222.784 2134.03 221.858 Q2132.88 220.932 2128.92 220.076 L2127.44 219.728 Q2123.48 218.895 2121.72 217.182 Q2119.96 215.446 2119.96 212.437 Q2119.96 208.779 2122.55 206.789 Q2125.14 204.798 2129.91 204.798 Q2132.27 204.798 2134.36 205.145 Q2136.44 205.492 2138.2 206.187 Z\" fill=\"#000000\" fill-rule=\"evenodd\" fill-opacity=\"1\" /><path clip-path=\"url(#clip130)\" d=\"M 0 0 M2166.23 217.321 L2166.23 219.404 L2146.65 219.404 Q2146.93 223.802 2149.29 226.117 Q2151.67 228.409 2155.91 228.409 Q2158.36 228.409 2160.65 227.807 Q2162.97 227.205 2165.24 226.001 L2165.24 230.029 Q2162.95 231.001 2160.54 231.511 Q2158.13 232.02 2155.65 232.02 Q2149.45 232.02 2145.82 228.409 Q2142.2 224.798 2142.2 218.64 Q2142.2 212.275 2145.63 208.548 Q2149.08 204.798 2154.91 204.798 Q2160.14 204.798 2163.18 208.177 Q2166.23 211.534 2166.23 217.321 M2161.97 216.071 Q2161.93 212.576 2160.01 210.492 Q2158.11 208.409 2154.96 208.409 Q2151.39 208.409 2149.24 210.423 Q2147.11 212.437 2146.79 216.094 L2161.97 216.071 Z\" fill=\"#000000\" fill-rule=\"evenodd\" fill-opacity=\"1\" /><path clip-path=\"url(#clip130)\" d=\"M 0 0 M2170.26 221.117 L2170.26 205.423 L2174.52 205.423 L2174.52 220.955 Q2174.52 224.636 2175.95 226.488 Q2177.39 228.316 2180.26 228.316 Q2183.71 228.316 2185.7 226.117 Q2187.71 223.918 2187.71 220.122 L2187.71 205.423 L2191.97 205.423 L2191.97 231.349 L2187.71 231.349 L2187.71 227.367 Q2186.16 229.728 2184.1 230.886 Q2182.07 232.02 2179.36 232.02 Q2174.89 232.02 2172.58 229.242 Q2170.26 226.464 2170.26 221.117 M2180.98 204.798 L2180.98 204.798 Z\" fill=\"#000000\" fill-rule=\"evenodd\" fill-opacity=\"1\" /><path clip-path=\"url(#clip130)\" d=\"M 0 0 M2211.46 209.404 Q2210.75 208.988 2209.89 208.802 Q2209.06 208.594 2208.04 208.594 Q2204.43 208.594 2202.48 210.955 Q2200.56 213.293 2200.56 217.691 L2200.56 231.349 L2196.28 231.349 L2196.28 205.423 L2200.56 205.423 L2200.56 209.451 Q2201.9 207.089 2204.06 205.955 Q2206.21 204.798 2209.29 204.798 Q2209.73 204.798 2210.26 204.867 Q2210.79 204.914 2211.44 205.029 L2211.46 209.404 Z\" fill=\"#000000\" fill-rule=\"evenodd\" fill-opacity=\"1\" /><path clip-path=\"url(#clip130)\" d=\"M 0 0 M2232.46 206.187 L2232.46 210.214 Q2230.65 209.289 2228.71 208.826 Q2226.76 208.363 2224.68 208.363 Q2221.51 208.363 2219.91 209.335 Q2218.34 210.307 2218.34 212.251 Q2218.34 213.733 2219.47 214.589 Q2220.61 215.423 2224.03 216.187 L2225.49 216.511 Q2230.03 217.483 2231.93 219.265 Q2233.85 221.025 2233.85 224.196 Q2233.85 227.807 2230.98 229.913 Q2228.13 232.02 2223.13 232.02 Q2221.05 232.02 2218.78 231.603 Q2216.53 231.21 2214.03 230.4 L2214.03 226.001 Q2216.39 227.228 2218.69 227.853 Q2220.98 228.455 2223.22 228.455 Q2226.23 228.455 2227.85 227.437 Q2229.47 226.395 2229.47 224.52 Q2229.47 222.784 2228.29 221.858 Q2227.14 220.932 2223.18 220.076 L2221.7 219.728 Q2217.74 218.895 2215.98 217.182 Q2214.22 215.446 2214.22 212.437 Q2214.22 208.779 2216.81 206.789 Q2219.4 204.798 2224.17 204.798 Q2226.53 204.798 2228.62 205.145 Q2230.7 205.492 2232.46 206.187 Z\" fill=\"#000000\" fill-rule=\"evenodd\" fill-opacity=\"1\" /><path clip-path=\"url(#clip130)\" d=\"M 0 0 M2275.35 1059.98 L2288.72 1059.98 L2288.72 1013.84 L2274.17 1016.76 L2274.17 1009.31 L2288.64 1006.39 L2296.82 1006.39 L2296.82 1059.98 L2310.19 1059.98 L2310.19 1066.87 L2275.35 1066.87 L2275.35 1059.98 Z\" fill=\"#8b0000\" fill-rule=\"evenodd\" fill-opacity=\"1\" /><path clip-path=\"url(#clip130)\" d=\"M 0 0 M263.631 1407.59 L292.19 1407.59 L292.19 1414.48 L253.787 1414.48 L253.787 1407.59 Q258.446 1402.77 266.466 1394.67 Q274.528 1386.53 276.594 1384.18 Q280.523 1379.76 282.062 1376.72 Q283.642 1373.65 283.642 1370.69 Q283.642 1365.87 280.239 1362.83 Q276.877 1359.79 271.449 1359.79 Q267.601 1359.79 263.307 1361.13 Q259.053 1362.46 254.192 1365.18 L254.192 1356.91 Q259.134 1354.93 263.428 1353.92 Q267.722 1352.9 271.287 1352.9 Q280.685 1352.9 286.275 1357.6 Q291.866 1362.3 291.866 1370.16 Q291.866 1373.89 290.448 1377.25 Q289.07 1380.57 285.384 1385.11 Q284.371 1386.28 278.943 1391.91 Q273.515 1397.5 263.631 1407.59 Z\" fill=\"#8b0000\" fill-rule=\"evenodd\" fill-opacity=\"1\" /><path clip-path=\"url(#clip130)\" d=\"M 0 0 M2275.35 1059.98 L2288.72 1059.98 L2288.72 1013.84 L2274.17 1016.76 L2274.17 1009.31 L2288.64 1006.39 L2296.82 1006.39 L2296.82 1059.98 L2310.19 1059.98 L2310.19 1066.87 L2275.35 1066.87 L2275.35 1059.98 Z\" fill=\"#00008b\" fill-rule=\"evenodd\" fill-opacity=\"1\" /><path clip-path=\"url(#clip130)\" d=\"M 0 0 M1089.91 109.539 L1118.46 109.539 L1118.46 116.426 L1080.06 116.426 L1080.06 109.539 Q1084.72 104.719 1092.74 96.6168 Q1100.8 88.4744 1102.87 86.1249 Q1106.8 81.7094 1108.34 78.6712 Q1109.92 75.5926 1109.92 72.6354 Q1109.92 67.8148 1106.51 64.7766 Q1103.15 61.7385 1097.72 61.7385 Q1093.88 61.7385 1089.58 63.0753 Q1085.33 64.4121 1080.47 67.1262 L1080.47 58.8623 Q1085.41 56.8774 1089.7 55.8647 Q1094 54.8519 1097.56 54.8519 Q1106.96 54.8519 1112.55 59.551 Q1118.14 64.25 1118.14 72.1088 Q1118.14 75.8356 1116.72 79.1979 Q1115.35 82.5196 1111.66 87.0566 Q1110.65 88.2314 1105.22 93.8621 Q1099.79 99.4524 1089.91 109.539 Z\" fill=\"#00008b\" fill-rule=\"evenodd\" fill-opacity=\"1\" /><path clip-path=\"url(#clip130)\" d=\"M 0 0 M1106.7 83.8159 Q1112.57 85.0717 1115.85 89.0416 Q1119.17 93.0114 1119.17 98.8447 Q1119.17 107.797 1113.02 112.699 Q1106.86 117.6 1095.52 117.6 Q1091.71 117.6 1087.66 116.831 Q1083.65 116.102 1079.35 114.603 L1079.35 106.704 Q1082.76 108.688 1086.81 109.701 Q1090.86 110.714 1095.27 110.714 Q1102.97 110.714 1106.98 107.676 Q1111.03 104.638 1111.03 98.8447 Q1111.03 93.4976 1107.26 90.4999 Q1103.54 87.4617 1096.85 87.4617 L1089.8 87.4617 L1089.8 80.7372 L1097.18 80.7372 Q1103.21 80.7372 1106.41 78.3472 Q1109.61 75.9166 1109.61 71.3796 Q1109.61 66.7211 1106.29 64.25 Q1103.01 61.7385 1096.85 61.7385 Q1093.49 61.7385 1089.64 62.4676 Q1085.79 63.1968 1081.18 64.7361 L1081.18 57.4445 Q1085.83 56.1482 1089.89 55.5001 Q1093.98 54.8519 1097.58 54.8519 Q1106.9 54.8519 1112.33 59.1054 Q1117.76 63.3183 1117.76 70.5289 Q1117.76 75.552 1114.88 79.0358 Q1112 82.4791 1106.7 83.8159 Z\" fill=\"#00008b\" fill-rule=\"evenodd\" fill-opacity=\"1\" /></svg>\n"
      ]
     },
     "execution_count": 32,
     "metadata": {},
     "output_type": "execute_result"
    }
   ],
   "source": [
    "plot_sites(instance1)"
   ]
  },
  {
   "cell_type": "markdown",
   "metadata": {},
   "source": [
    "## Solution analysis"
   ]
  },
  {
   "cell_type": "markdown",
   "metadata": {},
   "source": [
    "### Plotting"
   ]
  },
  {
   "cell_type": "code",
   "execution_count": 33,
   "metadata": {
    "ExecuteTime": {
     "end_time": "2020-11-11T19:11:01.725000+01:00",
     "start_time": "2020-11-11T18:10:25.099Z"
    }
   },
   "outputs": [
    {
     "data": {
      "text/plain": [
       "add_route_to_plot! (generic function with 1 method)"
      ]
     },
     "execution_count": 33,
     "metadata": {},
     "output_type": "execute_result"
    }
   ],
   "source": [
    "function add_route_to_plot!(route::Route, instance::Instance, pl::Plots.Plot)\n",
    "    usines, fournisseurs = instance.usines, instance.fournisseurs\n",
    "    path = [\n",
    "        usines[route.u].coor;\n",
    "        [fournisseurs[stop.f].coor for stop in route.stops]\n",
    "    ]\n",
    "    for ((x1, y1), (x2, y2)) in zip(path[1:end-1], path[2:end])\n",
    "        plot!(\n",
    "            pl,\n",
    "            [x1 + 0.1*(x2-x1), x2 - 0.1*(x2-x1)],\n",
    "            [y1 + 0.1*(y2-y1), y2 - 0.1*(y2-y1)],\n",
    "            linewidth = 3*route.x,\n",
    "            linecolor = \"black\",\n",
    "            arrow = arrow(:simple, :triangle, 1., 2.),\n",
    "            label = nothing\n",
    "        )\n",
    "    end\n",
    "end"
   ]
  },
  {
   "cell_type": "code",
   "execution_count": 34,
   "metadata": {
    "ExecuteTime": {
     "end_time": "2020-11-11T19:11:01.792000+01:00",
     "start_time": "2020-11-11T18:10:25.100Z"
    }
   },
   "outputs": [
    {
     "data": {
      "text/plain": [
       "plot_routes (generic function with 1 method)"
      ]
     },
     "execution_count": 34,
     "metadata": {},
     "output_type": "execute_result"
    }
   ],
   "source": [
    "function plot_routes(solution::Solution, instance::Instance; j::Int)::Plots.Plot\n",
    "    pl = plot_sites(instance)\n",
    "    for route in solution.routes\n",
    "        if route.j == j\n",
    "            add_route_to_plot!(route, instance, pl)\n",
    "        end\n",
    "    end\n",
    "    return pl\n",
    "end"
   ]
  },
  {
   "cell_type": "code",
   "execution_count": 35,
   "metadata": {
    "ExecuteTime": {
     "end_time": "2020-11-11T19:11:02.154000+01:00",
     "start_time": "2020-11-11T18:10:25.102Z"
    }
   },
   "outputs": [
    {
     "data": {
      "image/svg+xml": [
       "<?xml version=\"1.0\" encoding=\"utf-8\"?>\n",
       "<svg xmlns=\"http://www.w3.org/2000/svg\" xmlns:xlink=\"http://www.w3.org/1999/xlink\" width=\"600\" height=\"400\" viewBox=\"0 0 2400 1600\">\n",
       "<defs>\n",
       "  <clipPath id=\"clip170\">\n",
       "    <rect x=\"0\" y=\"0\" width=\"2400\" height=\"1600\"/>\n",
       "  </clipPath>\n",
       "</defs>\n",
       "<path clip-path=\"url(#clip170)\" d=\"\n",
       "M0 1600 L2400 1600 L2400 0 L0 0  Z\n",
       "  \" fill=\"#ffffff\" fill-rule=\"evenodd\" fill-opacity=\"1\"/>\n",
       "<defs>\n",
       "  <clipPath id=\"clip171\">\n",
       "    <rect x=\"480\" y=\"0\" width=\"1681\" height=\"1600\"/>\n",
       "  </clipPath>\n",
       "</defs>\n",
       "<path clip-path=\"url(#clip170)\" d=\"\n",
       "M212.413 1423.18 L2352.76 1423.18 L2352.76 47.2441 L212.413 47.2441  Z\n",
       "  \" fill=\"#ffffff\" fill-rule=\"evenodd\" fill-opacity=\"1\"/>\n",
       "<defs>\n",
       "  <clipPath id=\"clip172\">\n",
       "    <rect x=\"212\" y=\"47\" width=\"2141\" height=\"1377\"/>\n",
       "  </clipPath>\n",
       "</defs>\n",
       "<polyline clip-path=\"url(#clip170)\" style=\"stroke:#000000; stroke-width:4; stroke-opacity:1; fill:none\" points=\"\n",
       "  212.413,1423.18 2352.76,1423.18 \n",
       "  \"/>\n",
       "<polyline clip-path=\"url(#clip170)\" style=\"stroke:#000000; stroke-width:4; stroke-opacity:1; fill:none\" points=\"\n",
       "  424.763,1423.18 424.763,1406.67 \n",
       "  \"/>\n",
       "<polyline clip-path=\"url(#clip170)\" style=\"stroke:#000000; stroke-width:4; stroke-opacity:1; fill:none\" points=\"\n",
       "  808.478,1423.18 808.478,1406.67 \n",
       "  \"/>\n",
       "<polyline clip-path=\"url(#clip170)\" style=\"stroke:#000000; stroke-width:4; stroke-opacity:1; fill:none\" points=\"\n",
       "  1192.19,1423.18 1192.19,1406.67 \n",
       "  \"/>\n",
       "<polyline clip-path=\"url(#clip170)\" style=\"stroke:#000000; stroke-width:4; stroke-opacity:1; fill:none\" points=\"\n",
       "  1575.91,1423.18 1575.91,1406.67 \n",
       "  \"/>\n",
       "<polyline clip-path=\"url(#clip170)\" style=\"stroke:#000000; stroke-width:4; stroke-opacity:1; fill:none\" points=\"\n",
       "  1959.63,1423.18 1959.63,1406.67 \n",
       "  \"/>\n",
       "<polyline clip-path=\"url(#clip170)\" style=\"stroke:#000000; stroke-width:4; stroke-opacity:1; fill:none\" points=\"\n",
       "  2343.34,1423.18 2343.34,1406.67 \n",
       "  \"/>\n",
       "<path clip-path=\"url(#clip170)\" d=\"M 0 0 M414.022 1453.37 L402.216 1471.81 L414.022 1471.81 L414.022 1453.37 M412.795 1449.29 L418.675 1449.29 L418.675 1471.81 L423.605 1471.81 L423.605 1475.7 L418.675 1475.7 L418.675 1483.85 L414.022 1483.85 L414.022 1475.7 L398.42 1475.7 L398.42 1471.19 L412.795 1449.29 Z\" fill=\"#000000\" fill-rule=\"evenodd\" fill-opacity=\"1\" /><path clip-path=\"url(#clip170)\" d=\"M 0 0 M441.522 1453.37 L429.716 1471.81 L441.522 1471.81 L441.522 1453.37 M440.295 1449.29 L446.174 1449.29 L446.174 1471.81 L451.105 1471.81 L451.105 1475.7 L446.174 1475.7 L446.174 1483.85 L441.522 1483.85 L441.522 1475.7 L425.92 1475.7 L425.92 1471.19 L440.295 1449.29 Z\" fill=\"#000000\" fill-rule=\"evenodd\" fill-opacity=\"1\" /><path clip-path=\"url(#clip170)\" d=\"M 0 0 M798.478 1453.37 L786.673 1471.81 L798.478 1471.81 L798.478 1453.37 M797.252 1449.29 L803.131 1449.29 L803.131 1471.81 L808.062 1471.81 L808.062 1475.7 L803.131 1475.7 L803.131 1483.85 L798.478 1483.85 L798.478 1475.7 L782.877 1475.7 L782.877 1471.19 L797.252 1449.29 Z\" fill=\"#000000\" fill-rule=\"evenodd\" fill-opacity=\"1\" /><path clip-path=\"url(#clip170)\" d=\"M 0 0 M813.177 1449.29 L831.534 1449.29 L831.534 1453.23 L817.46 1453.23 L817.46 1461.7 Q818.478 1461.35 819.497 1461.19 Q820.515 1461 821.534 1461 Q827.321 1461 830.701 1464.18 Q834.08 1467.35 834.08 1472.76 Q834.08 1478.34 830.608 1481.44 Q827.136 1484.52 820.816 1484.52 Q818.64 1484.52 816.372 1484.15 Q814.127 1483.78 811.719 1483.04 L811.719 1478.34 Q813.802 1479.48 816.025 1480.03 Q818.247 1480.59 820.724 1480.59 Q824.728 1480.59 827.066 1478.48 Q829.404 1476.38 829.404 1472.76 Q829.404 1469.15 827.066 1467.05 Q824.728 1464.94 820.724 1464.94 Q818.849 1464.94 816.974 1465.36 Q815.122 1465.77 813.177 1466.65 L813.177 1449.29 Z\" fill=\"#000000\" fill-rule=\"evenodd\" fill-opacity=\"1\" /><path clip-path=\"url(#clip170)\" d=\"M 0 0 M1181.62 1453.37 L1169.81 1471.81 L1181.62 1471.81 L1181.62 1453.37 M1180.39 1449.29 L1186.27 1449.29 L1186.27 1471.81 L1191.2 1471.81 L1191.2 1475.7 L1186.27 1475.7 L1186.27 1483.85 L1181.62 1483.85 L1181.62 1475.7 L1166.01 1475.7 L1166.01 1471.19 L1180.39 1449.29 Z\" fill=\"#000000\" fill-rule=\"evenodd\" fill-opacity=\"1\" /><path clip-path=\"url(#clip170)\" d=\"M 0 0 M1206.85 1464.71 Q1203.7 1464.71 1201.85 1466.86 Q1200.02 1469.01 1200.02 1472.76 Q1200.02 1476.49 1201.85 1478.67 Q1203.7 1480.82 1206.85 1480.82 Q1210 1480.82 1211.82 1478.67 Q1213.68 1476.49 1213.68 1472.76 Q1213.68 1469.01 1211.82 1466.86 Q1210 1464.71 1206.85 1464.71 M1216.13 1450.06 L1216.13 1454.31 Q1214.37 1453.48 1212.56 1453.04 Q1210.78 1452.6 1209.02 1452.6 Q1204.39 1452.6 1201.94 1455.73 Q1199.51 1458.85 1199.16 1465.17 Q1200.53 1463.16 1202.59 1462.09 Q1204.65 1461 1207.12 1461 Q1212.33 1461 1215.34 1464.18 Q1218.37 1467.32 1218.37 1472.76 Q1218.37 1478.09 1215.23 1481.31 Q1212.08 1484.52 1206.85 1484.52 Q1200.85 1484.52 1197.68 1479.94 Q1194.51 1475.33 1194.51 1466.61 Q1194.51 1458.41 1198.4 1453.55 Q1202.29 1448.67 1208.84 1448.67 Q1210.6 1448.67 1212.38 1449.01 Q1214.18 1449.36 1216.13 1450.06 Z\" fill=\"#000000\" fill-rule=\"evenodd\" fill-opacity=\"1\" /><path clip-path=\"url(#clip170)\" d=\"M 0 0 M1565.86 1453.37 L1554.06 1471.81 L1565.86 1471.81 L1565.86 1453.37 M1564.64 1449.29 L1570.52 1449.29 L1570.52 1471.81 L1575.45 1471.81 L1575.45 1475.7 L1570.52 1475.7 L1570.52 1483.85 L1565.86 1483.85 L1565.86 1475.7 L1550.26 1475.7 L1550.26 1471.19 L1564.64 1449.29 Z\" fill=\"#000000\" fill-rule=\"evenodd\" fill-opacity=\"1\" /><path clip-path=\"url(#clip170)\" d=\"M 0 0 M1579.34 1449.29 L1601.56 1449.29 L1601.56 1451.28 L1589.01 1483.85 L1584.13 1483.85 L1595.93 1453.23 L1579.34 1453.23 L1579.34 1449.29 Z\" fill=\"#000000\" fill-rule=\"evenodd\" fill-opacity=\"1\" /><path clip-path=\"url(#clip170)\" d=\"M 0 0 M1949.17 1453.37 L1937.37 1471.81 L1949.17 1471.81 L1949.17 1453.37 M1947.95 1449.29 L1953.83 1449.29 L1953.83 1471.81 L1958.76 1471.81 L1958.76 1475.7 L1953.83 1475.7 L1953.83 1483.85 L1949.17 1483.85 L1949.17 1475.7 L1933.57 1475.7 L1933.57 1471.19 L1947.95 1449.29 Z\" fill=\"#000000\" fill-rule=\"evenodd\" fill-opacity=\"1\" /><path clip-path=\"url(#clip170)\" d=\"M 0 0 M1973.83 1467.44 Q1970.49 1467.44 1968.57 1469.22 Q1966.67 1471 1966.67 1474.13 Q1966.67 1477.25 1968.57 1479.04 Q1970.49 1480.82 1973.83 1480.82 Q1977.16 1480.82 1979.08 1479.04 Q1981 1477.23 1981 1474.13 Q1981 1471 1979.08 1469.22 Q1977.18 1467.44 1973.83 1467.44 M1969.15 1465.45 Q1966.14 1464.71 1964.45 1462.65 Q1962.79 1460.59 1962.79 1457.63 Q1962.79 1453.48 1965.73 1451.07 Q1968.69 1448.67 1973.83 1448.67 Q1978.99 1448.67 1981.93 1451.07 Q1984.87 1453.48 1984.87 1457.63 Q1984.87 1460.59 1983.18 1462.65 Q1981.51 1464.71 1978.53 1465.45 Q1981.91 1466.24 1983.78 1468.53 Q1985.68 1470.82 1985.68 1474.13 Q1985.68 1479.15 1982.6 1481.84 Q1979.55 1484.52 1973.83 1484.52 Q1968.11 1484.52 1965.03 1481.84 Q1961.98 1479.15 1961.98 1474.13 Q1961.98 1470.82 1963.87 1468.53 Q1965.77 1466.24 1969.15 1465.45 M1967.44 1458.06 Q1967.44 1460.75 1969.11 1462.25 Q1970.8 1463.76 1973.83 1463.76 Q1976.84 1463.76 1978.53 1462.25 Q1980.24 1460.75 1980.24 1458.06 Q1980.24 1455.38 1978.53 1453.88 Q1976.84 1452.37 1973.83 1452.37 Q1970.8 1452.37 1969.11 1453.88 Q1967.44 1455.38 1967.44 1458.06 Z\" fill=\"#000000\" fill-rule=\"evenodd\" fill-opacity=\"1\" /><path clip-path=\"url(#clip170)\" d=\"M 0 0 M2332.94 1453.37 L2321.13 1471.81 L2332.94 1471.81 L2332.94 1453.37 M2331.71 1449.29 L2337.59 1449.29 L2337.59 1471.81 L2342.52 1471.81 L2342.52 1475.7 L2337.59 1475.7 L2337.59 1483.85 L2332.94 1483.85 L2332.94 1475.7 L2317.34 1475.7 L2317.34 1471.19 L2331.71 1449.29 Z\" fill=\"#000000\" fill-rule=\"evenodd\" fill-opacity=\"1\" /><path clip-path=\"url(#clip170)\" d=\"M 0 0 M2347.73 1483.13 L2347.73 1478.88 Q2349.49 1479.71 2351.29 1480.15 Q2353.1 1480.59 2354.84 1480.59 Q2359.46 1480.59 2361.9 1477.49 Q2364.35 1474.36 2364.7 1468.02 Q2363.35 1470.01 2361.29 1471.07 Q2359.23 1472.14 2356.73 1472.14 Q2351.55 1472.14 2348.52 1469.01 Q2345.51 1465.87 2345.51 1460.43 Q2345.51 1455.1 2348.65 1451.88 Q2351.8 1448.67 2357.03 1448.67 Q2363.03 1448.67 2366.18 1453.27 Q2369.35 1457.86 2369.35 1466.61 Q2369.35 1474.78 2365.46 1479.66 Q2361.59 1484.52 2355.04 1484.52 Q2353.28 1484.52 2351.48 1484.18 Q2349.67 1483.83 2347.73 1483.13 M2357.03 1468.48 Q2360.18 1468.48 2362.01 1466.33 Q2363.86 1464.18 2363.86 1460.43 Q2363.86 1456.7 2362.01 1454.55 Q2360.18 1452.37 2357.03 1452.37 Q2353.89 1452.37 2352.03 1454.55 Q2350.21 1456.7 2350.21 1460.43 Q2350.21 1464.18 2352.03 1466.33 Q2353.89 1468.48 2357.03 1468.48 Z\" fill=\"#000000\" fill-rule=\"evenodd\" fill-opacity=\"1\" /><path clip-path=\"url(#clip170)\" d=\"M 0 0 M1154.14 1506.52 L1160 1506.52 L1160 1556.04 L1154.14 1556.04 L1154.14 1506.52 Z\" fill=\"#000000\" fill-rule=\"evenodd\" fill-opacity=\"1\" /><path clip-path=\"url(#clip170)\" d=\"M 0 0 M1179.95 1524.5 Q1175.24 1524.5 1172.51 1528.19 Q1169.77 1531.85 1169.77 1538.25 Q1169.77 1544.65 1172.47 1548.34 Q1175.21 1552 1179.95 1552 Q1184.63 1552 1187.37 1548.31 Q1190.11 1544.62 1190.11 1538.25 Q1190.11 1531.92 1187.37 1528.23 Q1184.63 1524.5 1179.95 1524.5 M1179.95 1519.54 Q1187.59 1519.54 1191.95 1524.5 Q1196.31 1529.47 1196.31 1538.25 Q1196.31 1547 1191.95 1552 Q1187.59 1556.97 1179.95 1556.97 Q1172.28 1556.97 1167.92 1552 Q1163.59 1547 1163.59 1538.25 Q1163.59 1529.47 1167.92 1524.5 Q1172.28 1519.54 1179.95 1519.54 Z\" fill=\"#000000\" fill-rule=\"evenodd\" fill-opacity=\"1\" /><path clip-path=\"url(#clip170)\" d=\"M 0 0 M1232.09 1534.53 L1232.09 1556.04 L1226.23 1556.04 L1226.23 1534.72 Q1226.23 1529.66 1224.26 1527.14 Q1222.29 1524.63 1218.34 1524.63 Q1213.6 1524.63 1210.86 1527.65 Q1208.12 1530.68 1208.12 1535.9 L1208.12 1556.04 L1202.23 1556.04 L1202.23 1520.4 L1208.12 1520.4 L1208.12 1525.93 Q1210.22 1522.72 1213.05 1521.13 Q1215.92 1519.54 1219.64 1519.54 Q1225.79 1519.54 1228.94 1523.36 Q1232.09 1527.14 1232.09 1534.53 Z\" fill=\"#000000\" fill-rule=\"evenodd\" fill-opacity=\"1\" /><path clip-path=\"url(#clip170)\" d=\"M 0 0 M1261.69 1537.81 Q1261.69 1531.44 1259.05 1527.94 Q1256.44 1524.44 1251.69 1524.44 Q1246.98 1524.44 1244.34 1527.94 Q1241.73 1531.44 1241.73 1537.81 Q1241.73 1544.14 1244.34 1547.64 Q1246.98 1551.14 1251.69 1551.14 Q1256.44 1551.14 1259.05 1547.64 Q1261.69 1544.14 1261.69 1537.81 M1267.55 1551.62 Q1267.55 1560.72 1263.5 1565.15 Q1259.46 1569.6 1251.12 1569.6 Q1248.03 1569.6 1245.3 1569.13 Q1242.56 1568.68 1239.98 1567.72 L1239.98 1562.03 Q1242.56 1563.43 1245.07 1564.1 Q1247.59 1564.76 1250.2 1564.76 Q1255.96 1564.76 1258.82 1561.74 Q1261.69 1558.75 1261.69 1552.67 L1261.69 1549.77 Q1259.87 1552.92 1257.04 1554.48 Q1254.21 1556.04 1250.26 1556.04 Q1243.71 1556.04 1239.7 1551.05 Q1235.68 1546.05 1235.68 1537.81 Q1235.68 1529.53 1239.7 1524.53 Q1243.71 1519.54 1250.26 1519.54 Q1254.21 1519.54 1257.04 1521.1 Q1259.87 1522.66 1261.69 1525.81 L1261.69 1520.4 L1267.55 1520.4 L1267.55 1551.62 Z\" fill=\"#000000\" fill-rule=\"evenodd\" fill-opacity=\"1\" /><path clip-path=\"url(#clip170)\" d=\"M 0 0 M1273.69 1520.4 L1279.54 1520.4 L1279.54 1556.04 L1273.69 1556.04 L1273.69 1520.4 M1273.69 1506.52 L1279.54 1506.52 L1279.54 1513.93 L1273.69 1513.93 L1273.69 1506.52 Z\" fill=\"#000000\" fill-rule=\"evenodd\" fill-opacity=\"1\" /><path clip-path=\"url(#clip170)\" d=\"M 0 0 M1291.48 1510.27 L1291.48 1520.4 L1303.54 1520.4 L1303.54 1524.95 L1291.48 1524.95 L1291.48 1544.3 Q1291.48 1548.66 1292.66 1549.9 Q1293.87 1551.14 1297.53 1551.14 L1303.54 1551.14 L1303.54 1556.04 L1297.53 1556.04 Q1290.75 1556.04 1288.17 1553.53 Q1285.59 1550.98 1285.59 1544.3 L1285.59 1524.95 L1281.3 1524.95 L1281.3 1520.4 L1285.59 1520.4 L1285.59 1510.27 L1291.48 1510.27 Z\" fill=\"#000000\" fill-rule=\"evenodd\" fill-opacity=\"1\" /><path clip-path=\"url(#clip170)\" d=\"M 0 0 M1309.08 1541.98 L1309.08 1520.4 L1314.94 1520.4 L1314.94 1541.75 Q1314.94 1546.81 1316.91 1549.36 Q1318.88 1551.87 1322.83 1551.87 Q1327.57 1551.87 1330.31 1548.85 Q1333.08 1545.83 1333.08 1540.61 L1333.08 1520.4 L1338.94 1520.4 L1338.94 1556.04 L1333.08 1556.04 L1333.08 1550.57 Q1330.95 1553.82 1328.11 1555.41 Q1325.31 1556.97 1321.59 1556.97 Q1315.45 1556.97 1312.26 1553.15 Q1309.08 1549.33 1309.08 1541.98 M1323.82 1519.54 L1323.82 1519.54 Z\" fill=\"#000000\" fill-rule=\"evenodd\" fill-opacity=\"1\" /><path clip-path=\"url(#clip170)\" d=\"M 0 0 M1368.54 1525.81 L1368.54 1506.52 L1374.39 1506.52 L1374.39 1556.04 L1368.54 1556.04 L1368.54 1550.7 Q1366.69 1553.88 1363.86 1555.44 Q1361.06 1556.97 1357.11 1556.97 Q1350.65 1556.97 1346.58 1551.81 Q1342.53 1546.65 1342.53 1538.25 Q1342.53 1529.85 1346.58 1524.69 Q1350.65 1519.54 1357.11 1519.54 Q1361.06 1519.54 1363.86 1521.1 Q1366.69 1522.62 1368.54 1525.81 M1348.58 1538.25 Q1348.58 1544.71 1351.22 1548.4 Q1353.9 1552.07 1358.54 1552.07 Q1363.19 1552.07 1365.86 1548.4 Q1368.54 1544.71 1368.54 1538.25 Q1368.54 1531.79 1365.86 1528.13 Q1363.19 1524.44 1358.54 1524.44 Q1353.9 1524.44 1351.22 1528.13 Q1348.58 1531.79 1348.58 1538.25 Z\" fill=\"#000000\" fill-rule=\"evenodd\" fill-opacity=\"1\" /><path clip-path=\"url(#clip170)\" d=\"M 0 0 M1411.03 1536.76 L1411.03 1539.62 L1384.1 1539.62 Q1384.48 1545.67 1387.73 1548.85 Q1391.01 1552 1396.83 1552 Q1400.21 1552 1403.36 1551.17 Q1406.54 1550.35 1409.66 1548.69 L1409.66 1554.23 Q1406.51 1555.57 1403.2 1556.27 Q1399.89 1556.97 1396.48 1556.97 Q1387.95 1556.97 1382.96 1552 Q1377.99 1547.04 1377.99 1538.57 Q1377.99 1529.82 1382.7 1524.69 Q1387.44 1519.54 1395.46 1519.54 Q1402.66 1519.54 1406.83 1524.18 Q1411.03 1528.8 1411.03 1536.76 M1405.17 1535.04 Q1405.11 1530.23 1402.47 1527.37 Q1399.86 1524.5 1395.53 1524.5 Q1390.63 1524.5 1387.67 1527.27 Q1384.74 1530.04 1384.29 1535.07 L1405.17 1535.04 Z\" fill=\"#000000\" fill-rule=\"evenodd\" fill-opacity=\"1\" /><polyline clip-path=\"url(#clip170)\" style=\"stroke:#000000; stroke-width:4; stroke-opacity:1; fill:none\" points=\"\n",
       "  212.413,1423.18 212.413,47.2441 \n",
       "  \"/>\n",
       "<polyline clip-path=\"url(#clip170)\" style=\"stroke:#000000; stroke-width:4; stroke-opacity:1; fill:none\" points=\"\n",
       "  212.413,1362.88 238.097,1362.88 \n",
       "  \"/>\n",
       "<polyline clip-path=\"url(#clip170)\" style=\"stroke:#000000; stroke-width:4; stroke-opacity:1; fill:none\" points=\"\n",
       "  212.413,1171.3 238.097,1171.3 \n",
       "  \"/>\n",
       "<polyline clip-path=\"url(#clip170)\" style=\"stroke:#000000; stroke-width:4; stroke-opacity:1; fill:none\" points=\"\n",
       "  212.413,979.717 238.097,979.717 \n",
       "  \"/>\n",
       "<polyline clip-path=\"url(#clip170)\" style=\"stroke:#000000; stroke-width:4; stroke-opacity:1; fill:none\" points=\"\n",
       "  212.413,788.137 238.097,788.137 \n",
       "  \"/>\n",
       "<polyline clip-path=\"url(#clip170)\" style=\"stroke:#000000; stroke-width:4; stroke-opacity:1; fill:none\" points=\"\n",
       "  212.413,596.558 238.097,596.558 \n",
       "  \"/>\n",
       "<polyline clip-path=\"url(#clip170)\" style=\"stroke:#000000; stroke-width:4; stroke-opacity:1; fill:none\" points=\"\n",
       "  212.413,404.978 238.097,404.978 \n",
       "  \"/>\n",
       "<polyline clip-path=\"url(#clip170)\" style=\"stroke:#000000; stroke-width:4; stroke-opacity:1; fill:none\" points=\"\n",
       "  212.413,213.399 238.097,213.399 \n",
       "  \"/>\n",
       "<path clip-path=\"url(#clip170)\" d=\"M 0 0 M120.533 1376.22 L128.172 1376.22 L128.172 1349.86 L119.862 1351.52 L119.862 1347.26 L128.126 1345.6 L132.802 1345.6 L132.802 1376.22 L140.441 1376.22 L140.441 1380.16 L120.533 1380.16 L120.533 1376.22 Z\" fill=\"#000000\" fill-rule=\"evenodd\" fill-opacity=\"1\" /><path clip-path=\"url(#clip170)\" d=\"M 0 0 M145.51 1374.28 L150.394 1374.28 L150.394 1380.16 L145.51 1380.16 L145.51 1374.28 Z\" fill=\"#000000\" fill-rule=\"evenodd\" fill-opacity=\"1\" /><path clip-path=\"url(#clip170)\" d=\"M 0 0 M155.51 1345.6 L173.866 1345.6 L173.866 1349.53 L159.792 1349.53 L159.792 1358 Q160.811 1357.66 161.829 1357.49 Q162.848 1357.31 163.866 1357.31 Q169.653 1357.31 173.033 1360.48 Q176.413 1363.65 176.413 1369.07 Q176.413 1374.65 172.94 1377.75 Q169.468 1380.83 163.149 1380.83 Q160.973 1380.83 158.704 1380.46 Q156.459 1380.09 154.052 1379.35 L154.052 1374.65 Q156.135 1375.78 158.357 1376.34 Q160.579 1376.89 163.056 1376.89 Q167.061 1376.89 169.399 1374.79 Q171.737 1372.68 171.737 1369.07 Q171.737 1365.46 169.399 1363.35 Q167.061 1361.24 163.056 1361.24 Q161.181 1361.24 159.306 1361.66 Q157.454 1362.08 155.51 1362.96 L155.51 1345.6 Z\" fill=\"#000000\" fill-rule=\"evenodd\" fill-opacity=\"1\" /><path clip-path=\"url(#clip170)\" d=\"M 0 0 M123.126 1184.64 L139.445 1184.64 L139.445 1188.58 L117.501 1188.58 L117.501 1184.64 Q120.163 1181.89 124.746 1177.26 Q129.353 1172.6 130.533 1171.26 Q132.779 1168.74 133.658 1167 Q134.561 1165.24 134.561 1163.55 Q134.561 1160.8 132.617 1159.06 Q130.695 1157.33 127.593 1157.33 Q125.394 1157.33 122.941 1158.09 Q120.51 1158.85 117.732 1160.41 L117.732 1155.68 Q120.556 1154.55 123.01 1153.97 Q125.464 1153.39 127.501 1153.39 Q132.871 1153.39 136.066 1156.08 Q139.26 1158.76 139.26 1163.25 Q139.26 1165.38 138.45 1167.3 Q137.663 1169.2 135.556 1171.79 Q134.978 1172.47 131.876 1175.68 Q128.774 1178.88 123.126 1184.64 Z\" fill=\"#000000\" fill-rule=\"evenodd\" fill-opacity=\"1\" /><path clip-path=\"url(#clip170)\" d=\"M 0 0 M144.515 1182.7 L149.399 1182.7 L149.399 1188.58 L144.515 1188.58 L144.515 1182.7 Z\" fill=\"#000000\" fill-rule=\"evenodd\" fill-opacity=\"1\" /><path clip-path=\"url(#clip170)\" d=\"M 0 0 M164.468 1157.1 Q160.857 1157.1 159.028 1160.66 Q157.223 1164.2 157.223 1171.33 Q157.223 1178.44 159.028 1182 Q160.857 1185.54 164.468 1185.54 Q168.102 1185.54 169.908 1182 Q171.737 1178.44 171.737 1171.33 Q171.737 1164.2 169.908 1160.66 Q168.102 1157.1 164.468 1157.1 M164.468 1153.39 Q170.278 1153.39 173.334 1158 Q176.413 1162.58 176.413 1171.33 Q176.413 1180.06 173.334 1184.66 Q170.278 1189.25 164.468 1189.25 Q158.658 1189.25 155.579 1184.66 Q152.524 1180.06 152.524 1171.33 Q152.524 1162.58 155.579 1158 Q158.658 1153.39 164.468 1153.39 Z\" fill=\"#000000\" fill-rule=\"evenodd\" fill-opacity=\"1\" /><path clip-path=\"url(#clip170)\" d=\"M 0 0 M124.121 993.062 L140.441 993.062 L140.441 996.997 L118.496 996.997 L118.496 993.062 Q121.158 990.307 125.742 985.678 Q130.348 981.025 131.529 979.682 Q133.774 977.159 134.654 975.423 Q135.556 973.664 135.556 971.974 Q135.556 969.219 133.612 967.483 Q131.691 965.747 128.589 965.747 Q126.39 965.747 123.936 966.511 Q121.505 967.275 118.728 968.826 L118.728 964.104 Q121.552 962.969 124.005 962.391 Q126.459 961.812 128.496 961.812 Q133.867 961.812 137.061 964.497 Q140.255 967.182 140.255 971.673 Q140.255 973.803 139.445 975.724 Q138.658 977.622 136.552 980.215 Q135.973 980.886 132.871 984.103 Q129.769 987.298 124.121 993.062 Z\" fill=\"#000000\" fill-rule=\"evenodd\" fill-opacity=\"1\" /><path clip-path=\"url(#clip170)\" d=\"M 0 0 M145.51 991.117 L150.394 991.117 L150.394 996.997 L145.51 996.997 L145.51 991.117 Z\" fill=\"#000000\" fill-rule=\"evenodd\" fill-opacity=\"1\" /><path clip-path=\"url(#clip170)\" d=\"M 0 0 M155.51 962.437 L173.866 962.437 L173.866 966.372 L159.792 966.372 L159.792 974.844 Q160.811 974.497 161.829 974.335 Q162.848 974.15 163.866 974.15 Q169.653 974.15 173.033 977.321 Q176.413 980.492 176.413 985.909 Q176.413 991.488 172.94 994.59 Q169.468 997.668 163.149 997.668 Q160.973 997.668 158.704 997.298 Q156.459 996.927 154.052 996.187 L154.052 991.488 Q156.135 992.622 158.357 993.177 Q160.579 993.733 163.056 993.733 Q167.061 993.733 169.399 991.627 Q171.737 989.52 171.737 985.909 Q171.737 982.298 169.399 980.191 Q167.061 978.085 163.056 978.085 Q161.181 978.085 159.306 978.502 Q157.454 978.918 155.51 979.798 L155.51 962.437 Z\" fill=\"#000000\" fill-rule=\"evenodd\" fill-opacity=\"1\" /><path clip-path=\"url(#clip170)\" d=\"M 0 0 M132.316 786.783 Q135.672 787.501 137.547 789.769 Q139.445 792.038 139.445 795.371 Q139.445 800.487 135.927 803.288 Q132.408 806.089 125.927 806.089 Q123.751 806.089 121.436 805.649 Q119.144 805.232 116.691 804.376 L116.691 799.862 Q118.635 800.996 120.95 801.575 Q123.265 802.154 125.788 802.154 Q130.186 802.154 132.478 800.417 Q134.792 798.681 134.792 795.371 Q134.792 792.316 132.64 790.603 Q130.51 788.867 126.691 788.867 L122.663 788.867 L122.663 785.024 L126.876 785.024 Q130.325 785.024 132.154 783.658 Q133.982 782.269 133.982 779.677 Q133.982 777.015 132.084 775.603 Q130.209 774.168 126.691 774.168 Q124.769 774.168 122.57 774.584 Q120.371 775.001 117.732 775.881 L117.732 771.714 Q120.394 770.973 122.709 770.603 Q125.047 770.232 127.107 770.232 Q132.431 770.232 135.533 772.663 Q138.635 775.07 138.635 779.191 Q138.635 782.061 136.992 784.052 Q135.348 786.019 132.316 786.783 Z\" fill=\"#000000\" fill-rule=\"evenodd\" fill-opacity=\"1\" /><path clip-path=\"url(#clip170)\" d=\"M 0 0 M144.515 799.538 L149.399 799.538 L149.399 805.417 L144.515 805.417 L144.515 799.538 Z\" fill=\"#000000\" fill-rule=\"evenodd\" fill-opacity=\"1\" /><path clip-path=\"url(#clip170)\" d=\"M 0 0 M164.468 773.936 Q160.857 773.936 159.028 777.501 Q157.223 781.043 157.223 788.172 Q157.223 795.279 159.028 798.843 Q160.857 802.385 164.468 802.385 Q168.102 802.385 169.908 798.843 Q171.737 795.279 171.737 788.172 Q171.737 781.043 169.908 777.501 Q168.102 773.936 164.468 773.936 M164.468 770.232 Q170.278 770.232 173.334 774.839 Q176.413 779.422 176.413 788.172 Q176.413 796.899 173.334 801.505 Q170.278 806.089 164.468 806.089 Q158.658 806.089 155.579 801.505 Q152.524 796.899 152.524 788.172 Q152.524 779.422 155.579 774.839 Q158.658 770.232 164.468 770.232 Z\" fill=\"#000000\" fill-rule=\"evenodd\" fill-opacity=\"1\" /><path clip-path=\"url(#clip170)\" d=\"M 0 0 M133.311 595.204 Q136.667 595.921 138.542 598.19 Q140.441 600.458 140.441 603.792 Q140.441 608.907 136.922 611.708 Q133.404 614.509 126.922 614.509 Q124.746 614.509 122.431 614.069 Q120.14 613.653 117.686 612.796 L117.686 608.282 Q119.63 609.417 121.945 609.995 Q124.26 610.574 126.783 610.574 Q131.181 610.574 133.473 608.838 Q135.788 607.102 135.788 603.792 Q135.788 600.736 133.635 599.023 Q131.505 597.287 127.686 597.287 L123.658 597.287 L123.658 593.444 L127.871 593.444 Q131.32 593.444 133.149 592.079 Q134.978 590.69 134.978 588.097 Q134.978 585.435 133.08 584.023 Q131.205 582.588 127.686 582.588 Q125.765 582.588 123.566 583.005 Q121.367 583.421 118.728 584.301 L118.728 580.134 Q121.39 579.394 123.705 579.023 Q126.043 578.653 128.103 578.653 Q133.427 578.653 136.529 581.083 Q139.63 583.491 139.63 587.611 Q139.63 590.482 137.987 592.472 Q136.343 594.44 133.311 595.204 Z\" fill=\"#000000\" fill-rule=\"evenodd\" fill-opacity=\"1\" /><path clip-path=\"url(#clip170)\" d=\"M 0 0 M145.51 607.958 L150.394 607.958 L150.394 613.838 L145.51 613.838 L145.51 607.958 Z\" fill=\"#000000\" fill-rule=\"evenodd\" fill-opacity=\"1\" /><path clip-path=\"url(#clip170)\" d=\"M 0 0 M155.51 579.278 L173.866 579.278 L173.866 583.213 L159.792 583.213 L159.792 591.685 Q160.811 591.338 161.829 591.176 Q162.848 590.991 163.866 590.991 Q169.653 590.991 173.033 594.162 Q176.413 597.333 176.413 602.75 Q176.413 608.329 172.94 611.43 Q169.468 614.509 163.149 614.509 Q160.973 614.509 158.704 614.139 Q156.459 613.768 154.052 613.028 L154.052 608.329 Q156.135 609.463 158.357 610.018 Q160.579 610.574 163.056 610.574 Q167.061 610.574 169.399 608.468 Q171.737 606.361 171.737 602.75 Q171.737 599.139 169.399 597.032 Q167.061 594.926 163.056 594.926 Q161.181 594.926 159.306 595.343 Q157.454 595.759 155.51 596.639 L155.51 579.278 Z\" fill=\"#000000\" fill-rule=\"evenodd\" fill-opacity=\"1\" /><path clip-path=\"url(#clip170)\" d=\"M 0 0 M129.862 391.772 L118.056 410.221 L129.862 410.221 L129.862 391.772 M128.635 387.698 L134.515 387.698 L134.515 410.221 L139.445 410.221 L139.445 414.11 L134.515 414.11 L134.515 422.258 L129.862 422.258 L129.862 414.11 L114.26 414.11 L114.26 409.596 L128.635 387.698 Z\" fill=\"#000000\" fill-rule=\"evenodd\" fill-opacity=\"1\" /><path clip-path=\"url(#clip170)\" d=\"M 0 0 M144.515 416.379 L149.399 416.379 L149.399 422.258 L144.515 422.258 L144.515 416.379 Z\" fill=\"#000000\" fill-rule=\"evenodd\" fill-opacity=\"1\" /><path clip-path=\"url(#clip170)\" d=\"M 0 0 M164.468 390.777 Q160.857 390.777 159.028 394.342 Q157.223 397.883 157.223 405.013 Q157.223 412.12 159.028 415.684 Q160.857 419.226 164.468 419.226 Q168.102 419.226 169.908 415.684 Q171.737 412.12 171.737 405.013 Q171.737 397.883 169.908 394.342 Q168.102 390.777 164.468 390.777 M164.468 387.073 Q170.278 387.073 173.334 391.68 Q176.413 396.263 176.413 405.013 Q176.413 413.74 173.334 418.346 Q170.278 422.93 164.468 422.93 Q158.658 422.93 155.579 418.346 Q152.524 413.74 152.524 405.013 Q152.524 396.263 155.579 391.68 Q158.658 387.073 164.468 387.073 Z\" fill=\"#000000\" fill-rule=\"evenodd\" fill-opacity=\"1\" /><path clip-path=\"url(#clip170)\" d=\"M 0 0 M130.857 200.193 L119.052 218.642 L130.857 218.642 L130.857 200.193 M129.63 196.119 L135.51 196.119 L135.51 218.642 L140.441 218.642 L140.441 222.531 L135.51 222.531 L135.51 230.679 L130.857 230.679 L130.857 222.531 L115.256 222.531 L115.256 218.017 L129.63 196.119 Z\" fill=\"#000000\" fill-rule=\"evenodd\" fill-opacity=\"1\" /><path clip-path=\"url(#clip170)\" d=\"M 0 0 M145.51 224.799 L150.394 224.799 L150.394 230.679 L145.51 230.679 L145.51 224.799 Z\" fill=\"#000000\" fill-rule=\"evenodd\" fill-opacity=\"1\" /><path clip-path=\"url(#clip170)\" d=\"M 0 0 M155.51 196.119 L173.866 196.119 L173.866 200.054 L159.792 200.054 L159.792 208.526 Q160.811 208.179 161.829 208.017 Q162.848 207.832 163.866 207.832 Q169.653 207.832 173.033 211.003 Q176.413 214.174 176.413 219.591 Q176.413 225.17 172.94 228.271 Q169.468 231.35 163.149 231.35 Q160.973 231.35 158.704 230.98 Q156.459 230.609 154.052 229.869 L154.052 225.17 Q156.135 226.304 158.357 226.859 Q160.579 227.415 163.056 227.415 Q167.061 227.415 169.399 225.308 Q171.737 223.202 171.737 219.591 Q171.737 215.98 169.399 213.873 Q167.061 211.767 163.056 211.767 Q161.181 211.767 159.306 212.184 Q157.454 212.6 155.51 213.48 L155.51 196.119 Z\" fill=\"#000000\" fill-rule=\"evenodd\" fill-opacity=\"1\" /><path clip-path=\"url(#clip170)\" d=\"M 0 0 M38.479 838.893 L38.479 833.037 L88.0042 833.037 L88.0042 838.893 L38.479 838.893 Z\" fill=\"#000000\" fill-rule=\"evenodd\" fill-opacity=\"1\" /><path clip-path=\"url(#clip170)\" d=\"M 0 0 M70.0847 810.693 Q70.0847 817.791 71.7079 820.528 Q73.3312 823.266 77.2461 823.266 Q80.3653 823.266 82.2114 821.229 Q84.0256 819.16 84.0256 815.627 Q84.0256 810.757 80.5881 807.829 Q77.1188 804.869 71.3897 804.869 L70.0847 804.869 L70.0847 810.693 M67.6657 799.012 L88.0042 799.012 L88.0042 804.869 L82.5933 804.869 Q85.8398 806.874 87.3994 809.866 Q88.9272 812.858 88.9272 817.186 Q88.9272 822.661 85.8716 825.907 Q82.7843 829.122 77.6281 829.122 Q71.6125 829.122 68.5569 825.112 Q65.5014 821.069 65.5014 813.08 L65.5014 804.869 L64.9285 804.869 Q60.8862 804.869 58.6901 807.542 Q56.4621 810.184 56.4621 814.99 Q56.4621 818.046 57.1941 820.942 Q57.9262 823.839 59.3903 826.512 L53.9795 826.512 Q52.7381 823.297 52.1334 820.274 Q51.4968 817.25 51.4968 814.385 Q51.4968 806.651 55.5072 802.832 Q59.5176 799.012 67.6657 799.012 Z\" fill=\"#000000\" fill-rule=\"evenodd\" fill-opacity=\"1\" /><path clip-path=\"url(#clip170)\" d=\"M 0 0 M42.2347 787.077 L52.3562 787.077 L52.3562 775.014 L56.9077 775.014 L56.9077 787.077 L76.2594 787.077 Q80.6199 787.077 81.8613 785.899 Q83.1026 784.689 83.1026 781.029 L83.1026 775.014 L88.0042 775.014 L88.0042 781.029 Q88.0042 787.809 85.4897 790.387 Q82.9434 792.965 76.2594 792.965 L56.9077 792.965 L56.9077 797.262 L52.3562 797.262 L52.3562 792.965 L42.2347 792.965 L42.2347 787.077 Z\" fill=\"#000000\" fill-rule=\"evenodd\" fill-opacity=\"1\" /><path clip-path=\"url(#clip170)\" d=\"M 0 0 M52.3562 768.871 L52.3562 763.014 L88.0042 763.014 L88.0042 768.871 L52.3562 768.871 M38.479 768.871 L38.479 763.014 L45.895 763.014 L45.895 768.871 L38.479 768.871 Z\" fill=\"#000000\" fill-rule=\"evenodd\" fill-opacity=\"1\" /><path clip-path=\"url(#clip170)\" d=\"M 0 0 M42.2347 751.078 L52.3562 751.078 L52.3562 739.015 L56.9077 739.015 L56.9077 751.078 L76.2594 751.078 Q80.6199 751.078 81.8613 749.901 Q83.1026 748.691 83.1026 745.031 L83.1026 739.015 L88.0042 739.015 L88.0042 745.031 Q88.0042 751.811 85.4897 754.389 Q82.9434 756.967 76.2594 756.967 L56.9077 756.967 L56.9077 761.264 L52.3562 761.264 L52.3562 756.967 L42.2347 756.967 L42.2347 751.078 Z\" fill=\"#000000\" fill-rule=\"evenodd\" fill-opacity=\"1\" /><path clip-path=\"url(#clip170)\" d=\"M 0 0 M73.9359 733.477 L52.3562 733.477 L52.3562 727.621 L73.7131 727.621 Q78.7739 727.621 81.3202 725.647 Q83.8346 723.674 83.8346 719.727 Q83.8346 714.985 80.8109 712.248 Q77.7872 709.479 72.5673 709.479 L52.3562 709.479 L52.3562 703.622 L88.0042 703.622 L88.0042 709.479 L82.5296 709.479 Q85.7762 711.611 87.3676 714.444 Q88.9272 717.245 88.9272 720.969 Q88.9272 727.112 85.1078 730.294 Q81.2883 733.477 73.9359 733.477 M51.4968 718.741 L51.4968 718.741 Z\" fill=\"#000000\" fill-rule=\"evenodd\" fill-opacity=\"1\" /><path clip-path=\"url(#clip170)\" d=\"M 0 0 M57.7671 674.022 L38.479 674.022 L38.479 668.165 L88.0042 668.165 L88.0042 674.022 L82.657 674.022 Q85.8398 675.868 87.3994 678.7 Q88.9272 681.501 88.9272 685.448 Q88.9272 691.909 83.771 695.983 Q78.6147 700.026 70.212 700.026 Q61.8093 700.026 56.6531 695.983 Q51.4968 691.909 51.4968 685.448 Q51.4968 681.501 53.0564 678.7 Q54.5842 675.868 57.7671 674.022 M70.212 693.978 Q76.6732 693.978 80.3653 691.336 Q84.0256 688.663 84.0256 684.016 Q84.0256 679.369 80.3653 676.695 Q76.6732 674.022 70.212 674.022 Q63.7508 674.022 60.0905 676.695 Q56.3984 679.369 56.3984 684.016 Q56.3984 688.663 60.0905 691.336 Q63.7508 693.978 70.212 693.978 Z\" fill=\"#000000\" fill-rule=\"evenodd\" fill-opacity=\"1\" /><path clip-path=\"url(#clip170)\" d=\"M 0 0 M68.7161 631.531 L71.5806 631.531 L71.5806 658.457 Q77.6281 658.076 80.8109 654.829 Q83.9619 651.551 83.9619 645.726 Q83.9619 642.352 83.1344 639.201 Q82.3069 636.018 80.6518 632.899 L86.1899 632.899 Q87.5267 636.05 88.227 639.36 Q88.9272 642.671 88.9272 646.076 Q88.9272 654.606 83.9619 659.603 Q78.9967 664.569 70.5303 664.569 Q61.7774 664.569 56.6531 659.858 Q51.4968 655.115 51.4968 647.095 Q51.4968 639.901 56.1438 635.732 Q60.7589 631.531 68.7161 631.531 M66.9973 637.387 Q62.1912 637.451 59.3266 640.092 Q56.4621 642.702 56.4621 647.031 Q56.4621 651.933 59.2312 654.893 Q62.0002 657.821 67.0292 658.266 L66.9973 637.387 Z\" fill=\"#000000\" fill-rule=\"evenodd\" fill-opacity=\"1\" /><circle clip-path=\"url(#clip172)\" cx=\"2292.18\" cy=\"1036.63\" r=\"108\" fill=\"#ff0000\" fill-rule=\"evenodd\" fill-opacity=\"0.5\" stroke=\"#000000\" stroke-opacity=\"0.5\" stroke-width=\"3.2\"/>\n",
       "<circle clip-path=\"url(#clip172)\" cx=\"272.988\" cy=\"1384.24\" r=\"108\" fill=\"#ff0000\" fill-rule=\"evenodd\" fill-opacity=\"0.5\" stroke=\"#000000\" stroke-opacity=\"0.5\" stroke-width=\"3.2\"/>\n",
       "<circle clip-path=\"url(#clip172)\" cx=\"2292.18\" cy=\"1036.63\" r=\"108\" fill=\"#0000ff\" fill-rule=\"evenodd\" fill-opacity=\"0.5\" stroke=\"#000000\" stroke-opacity=\"0.5\" stroke-width=\"3.2\"/>\n",
       "<circle clip-path=\"url(#clip172)\" cx=\"1099.26\" cy=\"86.1857\" r=\"108\" fill=\"#0000ff\" fill-rule=\"evenodd\" fill-opacity=\"0.5\" stroke=\"#000000\" stroke-opacity=\"0.5\" stroke-width=\"3.2\"/>\n",
       "<circle clip-path=\"url(#clip172)\" cx=\"1099.26\" cy=\"86.1857\" r=\"108\" fill=\"#0000ff\" fill-rule=\"evenodd\" fill-opacity=\"0.5\" stroke=\"#000000\" stroke-opacity=\"0.5\" stroke-width=\"3.2\"/>\n",
       "<polyline clip-path=\"url(#clip172)\" style=\"stroke:#000000; stroke-width:12; stroke-opacity:1; fill:none\" points=\"\n",
       "  2292.18,1036.63 2292.18,1036.63 \n",
       "  \"/>\n",
       "<polyline clip-path=\"url(#clip172)\" style=\"stroke:#000000; stroke-width:12; stroke-opacity:1; fill:none\" points=\"\n",
       "  -nan,-nan -nan,-nan -nan,-nan -nan,-nan -nan,-nan -nan,-nan \n",
       "  \"/>\n",
       "<polyline clip-path=\"url(#clip172)\" style=\"stroke:#000000; stroke-width:12; stroke-opacity:1; fill:none\" points=\"\n",
       "  2172.89,941.586 1218.56,181.23 \n",
       "  \"/>\n",
       "<polyline clip-path=\"url(#clip172)\" style=\"stroke:#000000; stroke-width:12; stroke-opacity:1; fill:none\" points=\"\n",
       "  1246.71,203.663 1235.49,217.741 1218.56,181.23 1257.93,189.585 1246.71,203.663 2172.89,941.586 \n",
       "  \"/>\n",
       "<polyline clip-path=\"url(#clip172)\" style=\"stroke:#000000; stroke-width:12; stroke-opacity:1; fill:none\" points=\"\n",
       "  1099.26,86.1857 1099.26,86.1857 \n",
       "  \"/>\n",
       "<polyline clip-path=\"url(#clip172)\" style=\"stroke:#000000; stroke-width:12; stroke-opacity:1; fill:none\" points=\"\n",
       "  -nan,-nan -nan,-nan -nan,-nan -nan,-nan -nan,-nan -nan,-nan \n",
       "  \"/>\n",
       "<polyline clip-path=\"url(#clip172)\" style=\"stroke:#000000; stroke-width:24; stroke-opacity:1; fill:none\" points=\"\n",
       "  355.616,1254.43 1016.64,215.991 \n",
       "  \"/>\n",
       "<polyline clip-path=\"url(#clip172)\" style=\"stroke:#000000; stroke-width:24; stroke-opacity:1; fill:none\" points=\"\n",
       "  997.305,246.36 982.12,236.694 1016.64,215.991 1012.49,256.026 997.305,246.36 355.616,1254.43 \n",
       "  \"/>\n",
       "<polyline clip-path=\"url(#clip172)\" style=\"stroke:#000000; stroke-width:24; stroke-opacity:1; fill:none\" points=\"\n",
       "  1099.26,86.1857 1099.26,86.1857 \n",
       "  \"/>\n",
       "<polyline clip-path=\"url(#clip172)\" style=\"stroke:#000000; stroke-width:24; stroke-opacity:1; fill:none\" points=\"\n",
       "  -nan,-nan -nan,-nan -nan,-nan -nan,-nan -nan,-nan -nan,-nan \n",
       "  \"/>\n",
       "<path clip-path=\"url(#clip170)\" d=\"\n",
       "M1782.51 274.549 L2281.41 274.549 L2281.41 93.1086 L1782.51 93.1086  Z\n",
       "  \" fill=\"#ffffff\" fill-rule=\"evenodd\" fill-opacity=\"1\"/>\n",
       "<polyline clip-path=\"url(#clip170)\" style=\"stroke:#000000; stroke-width:4; stroke-opacity:1; fill:none\" points=\"\n",
       "  1782.51,274.549 2281.41,274.549 2281.41,93.1086 1782.51,93.1086 1782.51,274.549 \n",
       "  \"/>\n",
       "<circle clip-path=\"url(#clip170)\" cx=\"1877.64\" cy=\"153.589\" r=\"23\" fill=\"#ff0000\" fill-rule=\"evenodd\" fill-opacity=\"0.5\" stroke=\"#000000\" stroke-opacity=\"0.5\" stroke-width=\"0.682667\"/>\n",
       "<path clip-path=\"url(#clip170)\" d=\"M 0 0 M1972.76 160.637 L1972.76 144.943 L1977.02 144.943 L1977.02 160.475 Q1977.02 164.156 1978.46 166.008 Q1979.89 167.836 1982.76 167.836 Q1986.21 167.836 1988.2 165.637 Q1990.21 163.438 1990.21 159.642 L1990.21 144.943 L1994.47 144.943 L1994.47 170.869 L1990.21 170.869 L1990.21 166.887 Q1988.66 169.248 1986.6 170.406 Q1984.57 171.54 1981.86 171.54 Q1977.39 171.54 1975.08 168.762 Q1972.76 165.984 1972.76 160.637 M1983.48 144.318 L1983.48 144.318 Z\" fill=\"#000000\" fill-rule=\"evenodd\" fill-opacity=\"1\" /><path clip-path=\"url(#clip170)\" d=\"M 0 0 M2015.47 145.707 L2015.47 149.734 Q2013.66 148.809 2011.72 148.346 Q2009.78 147.883 2007.69 147.883 Q2004.52 147.883 2002.92 148.855 Q2001.35 149.827 2001.35 151.771 Q2001.35 153.253 2002.48 154.109 Q2003.62 154.943 2007.04 155.707 L2008.5 156.031 Q2013.04 157.003 2014.94 158.785 Q2016.86 160.545 2016.86 163.716 Q2016.86 167.327 2013.99 169.433 Q2011.14 171.54 2006.14 171.54 Q2004.06 171.54 2001.79 171.123 Q1999.54 170.73 1997.04 169.92 L1997.04 165.521 Q1999.4 166.748 2001.7 167.373 Q2003.99 167.975 2006.23 167.975 Q2009.24 167.975 2010.86 166.957 Q2012.48 165.915 2012.48 164.04 Q2012.48 162.304 2011.3 161.378 Q2010.15 160.452 2006.19 159.596 L2004.71 159.248 Q2000.75 158.415 1998.99 156.702 Q1997.23 154.966 1997.23 151.957 Q1997.23 148.299 1999.82 146.309 Q2002.41 144.318 2007.18 144.318 Q2009.54 144.318 2011.63 144.665 Q2013.71 145.012 2015.47 145.707 Z\" fill=\"#000000\" fill-rule=\"evenodd\" fill-opacity=\"1\" /><path clip-path=\"url(#clip170)\" d=\"M 0 0 M2021.33 144.943 L2025.59 144.943 L2025.59 170.869 L2021.33 170.869 L2021.33 144.943 M2021.33 134.85 L2025.59 134.85 L2025.59 140.244 L2021.33 140.244 L2021.33 134.85 Z\" fill=\"#000000\" fill-rule=\"evenodd\" fill-opacity=\"1\" /><path clip-path=\"url(#clip170)\" d=\"M 0 0 M2051.6 155.221 L2051.6 170.869 L2047.34 170.869 L2047.34 155.359 Q2047.34 151.679 2045.91 149.85 Q2044.47 148.022 2041.6 148.022 Q2038.15 148.022 2036.16 150.221 Q2034.17 152.42 2034.17 156.216 L2034.17 170.869 L2029.89 170.869 L2029.89 144.943 L2034.17 144.943 L2034.17 148.971 Q2035.7 146.633 2037.76 145.475 Q2039.84 144.318 2042.55 144.318 Q2047.02 144.318 2049.31 147.096 Q2051.6 149.85 2051.6 155.221 Z\" fill=\"#000000\" fill-rule=\"evenodd\" fill-opacity=\"1\" /><path clip-path=\"url(#clip170)\" d=\"M 0 0 M2078.25 156.841 L2078.25 158.924 L2058.66 158.924 Q2058.94 163.322 2061.3 165.637 Q2063.69 167.929 2067.92 167.929 Q2070.38 167.929 2072.67 167.327 Q2074.98 166.725 2077.25 165.521 L2077.25 169.549 Q2074.96 170.521 2072.55 171.031 Q2070.15 171.54 2067.67 171.54 Q2061.46 171.54 2057.83 167.929 Q2054.22 164.318 2054.22 158.16 Q2054.22 151.795 2057.65 148.068 Q2061.09 144.318 2066.93 144.318 Q2072.16 144.318 2075.19 147.697 Q2078.25 151.054 2078.25 156.841 M2073.99 155.591 Q2073.94 152.096 2072.02 150.012 Q2070.12 147.929 2066.97 147.929 Q2063.41 147.929 2061.26 149.943 Q2059.13 151.957 2058.8 155.614 L2073.99 155.591 Z\" fill=\"#000000\" fill-rule=\"evenodd\" fill-opacity=\"1\" /><path clip-path=\"url(#clip170)\" d=\"M 0 0 M2099.24 145.707 L2099.24 149.734 Q2097.44 148.809 2095.49 148.346 Q2093.55 147.883 2091.46 147.883 Q2088.29 147.883 2086.7 148.855 Q2085.12 149.827 2085.12 151.771 Q2085.12 153.253 2086.26 154.109 Q2087.39 154.943 2090.82 155.707 L2092.27 156.031 Q2096.81 157.003 2098.71 158.785 Q2100.63 160.545 2100.63 163.716 Q2100.63 167.327 2097.76 169.433 Q2094.91 171.54 2089.91 171.54 Q2087.83 171.54 2085.56 171.123 Q2083.32 170.73 2080.82 169.92 L2080.82 165.521 Q2083.18 166.748 2085.47 167.373 Q2087.76 167.975 2090.01 167.975 Q2093.02 167.975 2094.64 166.957 Q2096.26 165.915 2096.26 164.04 Q2096.26 162.304 2095.08 161.378 Q2093.92 160.452 2089.96 159.596 L2088.48 159.248 Q2084.52 158.415 2082.76 156.702 Q2081 154.966 2081 151.957 Q2081 148.299 2083.59 146.309 Q2086.19 144.318 2090.96 144.318 Q2093.32 144.318 2095.4 144.665 Q2097.48 145.012 2099.24 145.707 Z\" fill=\"#000000\" fill-rule=\"evenodd\" fill-opacity=\"1\" /><circle clip-path=\"url(#clip170)\" cx=\"1877.64\" cy=\"214.069\" r=\"23\" fill=\"#0000ff\" fill-rule=\"evenodd\" fill-opacity=\"0.5\" stroke=\"#000000\" stroke-opacity=\"0.5\" stroke-width=\"0.682667\"/>\n",
       "<path clip-path=\"url(#clip170)\" d=\"M 0 0 M1989.27 195.33 L1989.27 198.872 L1985.19 198.872 Q1982.9 198.872 1982 199.798 Q1981.12 200.724 1981.12 203.131 L1981.12 205.423 L1988.13 205.423 L1988.13 208.733 L1981.12 208.733 L1981.12 231.349 L1976.84 231.349 L1976.84 208.733 L1972.76 208.733 L1972.76 205.423 L1976.84 205.423 L1976.84 203.617 Q1976.84 199.289 1978.85 197.321 Q1980.86 195.33 1985.24 195.33 L1989.27 195.33 Z\" fill=\"#000000\" fill-rule=\"evenodd\" fill-opacity=\"1\" /><path clip-path=\"url(#clip170)\" d=\"M 0 0 M2003.78 208.409 Q2000.35 208.409 1998.36 211.094 Q1996.37 213.756 1996.37 218.409 Q1996.37 223.062 1998.34 225.747 Q2000.33 228.409 2003.78 228.409 Q2007.18 228.409 2009.17 225.724 Q2011.16 223.038 2011.16 218.409 Q2011.16 213.802 2009.17 211.117 Q2007.18 208.409 2003.78 208.409 M2003.78 204.798 Q2009.34 204.798 2012.51 208.409 Q2015.68 212.02 2015.68 218.409 Q2015.68 224.775 2012.51 228.409 Q2009.34 232.02 2003.78 232.02 Q1998.2 232.02 1995.03 228.409 Q1991.88 224.775 1991.88 218.409 Q1991.88 212.02 1995.03 208.409 Q1998.2 204.798 2003.78 204.798 Z\" fill=\"#000000\" fill-rule=\"evenodd\" fill-opacity=\"1\" /><path clip-path=\"url(#clip170)\" d=\"M 0 0 M2019.71 221.117 L2019.71 205.423 L2023.96 205.423 L2023.96 220.955 Q2023.96 224.636 2025.4 226.488 Q2026.84 228.316 2029.71 228.316 Q2033.15 228.316 2035.15 226.117 Q2037.16 223.918 2037.16 220.122 L2037.16 205.423 L2041.42 205.423 L2041.42 231.349 L2037.16 231.349 L2037.16 227.367 Q2035.61 229.728 2033.55 230.886 Q2031.51 232.02 2028.8 232.02 Q2024.34 232.02 2022.02 229.242 Q2019.71 226.464 2019.71 221.117 M2030.42 204.798 L2030.42 204.798 Z\" fill=\"#000000\" fill-rule=\"evenodd\" fill-opacity=\"1\" /><path clip-path=\"url(#clip170)\" d=\"M 0 0 M2060.91 209.404 Q2060.19 208.988 2059.33 208.802 Q2058.5 208.594 2057.48 208.594 Q2053.87 208.594 2051.93 210.955 Q2050.01 213.293 2050.01 217.691 L2050.01 231.349 L2045.72 231.349 L2045.72 205.423 L2050.01 205.423 L2050.01 209.451 Q2051.35 207.089 2053.5 205.955 Q2055.65 204.798 2058.73 204.798 Q2059.17 204.798 2059.71 204.867 Q2060.24 204.914 2060.89 205.029 L2060.91 209.404 Z\" fill=\"#000000\" fill-rule=\"evenodd\" fill-opacity=\"1\" /><path clip-path=\"url(#clip170)\" d=\"M 0 0 M2086.09 215.701 L2086.09 231.349 L2081.83 231.349 L2081.83 215.839 Q2081.83 212.159 2080.4 210.33 Q2078.96 208.502 2076.09 208.502 Q2072.65 208.502 2070.65 210.701 Q2068.66 212.9 2068.66 216.696 L2068.66 231.349 L2064.38 231.349 L2064.38 205.423 L2068.66 205.423 L2068.66 209.451 Q2070.19 207.113 2072.25 205.955 Q2074.33 204.798 2077.04 204.798 Q2081.51 204.798 2083.8 207.576 Q2086.09 210.33 2086.09 215.701 Z\" fill=\"#000000\" fill-rule=\"evenodd\" fill-opacity=\"1\" /><path clip-path=\"url(#clip170)\" d=\"M 0 0 M2090.56 205.423 L2094.82 205.423 L2094.82 231.349 L2090.56 231.349 L2090.56 205.423 M2090.56 195.33 L2094.82 195.33 L2094.82 200.724 L2090.56 200.724 L2090.56 195.33 Z\" fill=\"#000000\" fill-rule=\"evenodd\" fill-opacity=\"1\" /><path clip-path=\"url(#clip170)\" d=\"M 0 0 M2115.82 206.187 L2115.82 210.214 Q2114.01 209.289 2112.07 208.826 Q2110.12 208.363 2108.04 208.363 Q2104.87 208.363 2103.27 209.335 Q2101.7 210.307 2101.7 212.251 Q2101.7 213.733 2102.83 214.589 Q2103.96 215.423 2107.39 216.187 L2108.85 216.511 Q2113.39 217.483 2115.28 219.265 Q2117.21 221.025 2117.21 224.196 Q2117.21 227.807 2114.33 229.913 Q2111.49 232.02 2106.49 232.02 Q2104.4 232.02 2102.14 231.603 Q2099.89 231.21 2097.39 230.4 L2097.39 226.001 Q2099.75 227.228 2102.04 227.853 Q2104.33 228.455 2106.58 228.455 Q2109.59 228.455 2111.21 227.437 Q2112.83 226.395 2112.83 224.52 Q2112.83 222.784 2111.65 221.858 Q2110.49 220.932 2106.53 220.076 L2105.05 219.728 Q2101.09 218.895 2099.33 217.182 Q2097.58 215.446 2097.58 212.437 Q2097.58 208.779 2100.17 206.789 Q2102.76 204.798 2107.53 204.798 Q2109.89 204.798 2111.97 205.145 Q2114.06 205.492 2115.82 206.187 Z\" fill=\"#000000\" fill-rule=\"evenodd\" fill-opacity=\"1\" /><path clip-path=\"url(#clip170)\" d=\"M 0 0 M2138.2 206.187 L2138.2 210.214 Q2136.39 209.289 2134.45 208.826 Q2132.51 208.363 2130.42 208.363 Q2127.25 208.363 2125.65 209.335 Q2124.08 210.307 2124.08 212.251 Q2124.08 213.733 2125.21 214.589 Q2126.35 215.423 2129.77 216.187 L2131.23 216.511 Q2135.77 217.483 2137.67 219.265 Q2139.59 221.025 2139.59 224.196 Q2139.59 227.807 2136.72 229.913 Q2133.87 232.02 2128.87 232.02 Q2126.79 232.02 2124.52 231.603 Q2122.27 231.21 2119.77 230.4 L2119.77 226.001 Q2122.14 227.228 2124.43 227.853 Q2126.72 228.455 2128.96 228.455 Q2131.97 228.455 2133.59 227.437 Q2135.21 226.395 2135.21 224.52 Q2135.21 222.784 2134.03 221.858 Q2132.88 220.932 2128.92 220.076 L2127.44 219.728 Q2123.48 218.895 2121.72 217.182 Q2119.96 215.446 2119.96 212.437 Q2119.96 208.779 2122.55 206.789 Q2125.14 204.798 2129.91 204.798 Q2132.27 204.798 2134.36 205.145 Q2136.44 205.492 2138.2 206.187 Z\" fill=\"#000000\" fill-rule=\"evenodd\" fill-opacity=\"1\" /><path clip-path=\"url(#clip170)\" d=\"M 0 0 M2166.23 217.321 L2166.23 219.404 L2146.65 219.404 Q2146.93 223.802 2149.29 226.117 Q2151.67 228.409 2155.91 228.409 Q2158.36 228.409 2160.65 227.807 Q2162.97 227.205 2165.24 226.001 L2165.24 230.029 Q2162.95 231.001 2160.54 231.511 Q2158.13 232.02 2155.65 232.02 Q2149.45 232.02 2145.82 228.409 Q2142.2 224.798 2142.2 218.64 Q2142.2 212.275 2145.63 208.548 Q2149.08 204.798 2154.91 204.798 Q2160.14 204.798 2163.18 208.177 Q2166.23 211.534 2166.23 217.321 M2161.97 216.071 Q2161.93 212.576 2160.01 210.492 Q2158.11 208.409 2154.96 208.409 Q2151.39 208.409 2149.24 210.423 Q2147.11 212.437 2146.79 216.094 L2161.97 216.071 Z\" fill=\"#000000\" fill-rule=\"evenodd\" fill-opacity=\"1\" /><path clip-path=\"url(#clip170)\" d=\"M 0 0 M2170.26 221.117 L2170.26 205.423 L2174.52 205.423 L2174.52 220.955 Q2174.52 224.636 2175.95 226.488 Q2177.39 228.316 2180.26 228.316 Q2183.71 228.316 2185.7 226.117 Q2187.71 223.918 2187.71 220.122 L2187.71 205.423 L2191.97 205.423 L2191.97 231.349 L2187.71 231.349 L2187.71 227.367 Q2186.16 229.728 2184.1 230.886 Q2182.07 232.02 2179.36 232.02 Q2174.89 232.02 2172.58 229.242 Q2170.26 226.464 2170.26 221.117 M2180.98 204.798 L2180.98 204.798 Z\" fill=\"#000000\" fill-rule=\"evenodd\" fill-opacity=\"1\" /><path clip-path=\"url(#clip170)\" d=\"M 0 0 M2211.46 209.404 Q2210.75 208.988 2209.89 208.802 Q2209.06 208.594 2208.04 208.594 Q2204.43 208.594 2202.48 210.955 Q2200.56 213.293 2200.56 217.691 L2200.56 231.349 L2196.28 231.349 L2196.28 205.423 L2200.56 205.423 L2200.56 209.451 Q2201.9 207.089 2204.06 205.955 Q2206.21 204.798 2209.29 204.798 Q2209.73 204.798 2210.26 204.867 Q2210.79 204.914 2211.44 205.029 L2211.46 209.404 Z\" fill=\"#000000\" fill-rule=\"evenodd\" fill-opacity=\"1\" /><path clip-path=\"url(#clip170)\" d=\"M 0 0 M2232.46 206.187 L2232.46 210.214 Q2230.65 209.289 2228.71 208.826 Q2226.76 208.363 2224.68 208.363 Q2221.51 208.363 2219.91 209.335 Q2218.34 210.307 2218.34 212.251 Q2218.34 213.733 2219.47 214.589 Q2220.61 215.423 2224.03 216.187 L2225.49 216.511 Q2230.03 217.483 2231.93 219.265 Q2233.85 221.025 2233.85 224.196 Q2233.85 227.807 2230.98 229.913 Q2228.13 232.02 2223.13 232.02 Q2221.05 232.02 2218.78 231.603 Q2216.53 231.21 2214.03 230.4 L2214.03 226.001 Q2216.39 227.228 2218.69 227.853 Q2220.98 228.455 2223.22 228.455 Q2226.23 228.455 2227.85 227.437 Q2229.47 226.395 2229.47 224.52 Q2229.47 222.784 2228.29 221.858 Q2227.14 220.932 2223.18 220.076 L2221.7 219.728 Q2217.74 218.895 2215.98 217.182 Q2214.22 215.446 2214.22 212.437 Q2214.22 208.779 2216.81 206.789 Q2219.4 204.798 2224.17 204.798 Q2226.53 204.798 2228.62 205.145 Q2230.7 205.492 2232.46 206.187 Z\" fill=\"#000000\" fill-rule=\"evenodd\" fill-opacity=\"1\" /><path clip-path=\"url(#clip170)\" d=\"M 0 0 M2275.35 1059.98 L2288.72 1059.98 L2288.72 1013.84 L2274.17 1016.76 L2274.17 1009.31 L2288.64 1006.39 L2296.82 1006.39 L2296.82 1059.98 L2310.19 1059.98 L2310.19 1066.87 L2275.35 1066.87 L2275.35 1059.98 Z\" fill=\"#8b0000\" fill-rule=\"evenodd\" fill-opacity=\"1\" /><path clip-path=\"url(#clip170)\" d=\"M 0 0 M263.631 1407.59 L292.19 1407.59 L292.19 1414.48 L253.787 1414.48 L253.787 1407.59 Q258.446 1402.77 266.466 1394.67 Q274.528 1386.53 276.594 1384.18 Q280.523 1379.76 282.062 1376.72 Q283.642 1373.65 283.642 1370.69 Q283.642 1365.87 280.239 1362.83 Q276.877 1359.79 271.449 1359.79 Q267.601 1359.79 263.307 1361.13 Q259.053 1362.46 254.192 1365.18 L254.192 1356.91 Q259.134 1354.93 263.428 1353.92 Q267.722 1352.9 271.287 1352.9 Q280.685 1352.9 286.275 1357.6 Q291.866 1362.3 291.866 1370.16 Q291.866 1373.89 290.448 1377.25 Q289.07 1380.57 285.384 1385.11 Q284.371 1386.28 278.943 1391.91 Q273.515 1397.5 263.631 1407.59 Z\" fill=\"#8b0000\" fill-rule=\"evenodd\" fill-opacity=\"1\" /><path clip-path=\"url(#clip170)\" d=\"M 0 0 M2275.35 1059.98 L2288.72 1059.98 L2288.72 1013.84 L2274.17 1016.76 L2274.17 1009.31 L2288.64 1006.39 L2296.82 1006.39 L2296.82 1059.98 L2310.19 1059.98 L2310.19 1066.87 L2275.35 1066.87 L2275.35 1059.98 Z\" fill=\"#00008b\" fill-rule=\"evenodd\" fill-opacity=\"1\" /><path clip-path=\"url(#clip170)\" d=\"M 0 0 M1089.91 109.539 L1118.46 109.539 L1118.46 116.426 L1080.06 116.426 L1080.06 109.539 Q1084.72 104.719 1092.74 96.6168 Q1100.8 88.4744 1102.87 86.1249 Q1106.8 81.7094 1108.34 78.6712 Q1109.92 75.5926 1109.92 72.6354 Q1109.92 67.8148 1106.51 64.7766 Q1103.15 61.7385 1097.72 61.7385 Q1093.88 61.7385 1089.58 63.0753 Q1085.33 64.4121 1080.47 67.1262 L1080.47 58.8623 Q1085.41 56.8774 1089.7 55.8647 Q1094 54.8519 1097.56 54.8519 Q1106.96 54.8519 1112.55 59.551 Q1118.14 64.25 1118.14 72.1088 Q1118.14 75.8356 1116.72 79.1979 Q1115.35 82.5196 1111.66 87.0566 Q1110.65 88.2314 1105.22 93.8621 Q1099.79 99.4524 1089.91 109.539 Z\" fill=\"#00008b\" fill-rule=\"evenodd\" fill-opacity=\"1\" /><path clip-path=\"url(#clip170)\" d=\"M 0 0 M1106.7 83.8159 Q1112.57 85.0717 1115.85 89.0416 Q1119.17 93.0114 1119.17 98.8447 Q1119.17 107.797 1113.02 112.699 Q1106.86 117.6 1095.52 117.6 Q1091.71 117.6 1087.66 116.831 Q1083.65 116.102 1079.35 114.603 L1079.35 106.704 Q1082.76 108.688 1086.81 109.701 Q1090.86 110.714 1095.27 110.714 Q1102.97 110.714 1106.98 107.676 Q1111.03 104.638 1111.03 98.8447 Q1111.03 93.4976 1107.26 90.4999 Q1103.54 87.4617 1096.85 87.4617 L1089.8 87.4617 L1089.8 80.7372 L1097.18 80.7372 Q1103.21 80.7372 1106.41 78.3472 Q1109.61 75.9166 1109.61 71.3796 Q1109.61 66.7211 1106.29 64.25 Q1103.01 61.7385 1096.85 61.7385 Q1093.49 61.7385 1089.64 62.4676 Q1085.79 63.1968 1081.18 64.7361 L1081.18 57.4445 Q1085.83 56.1482 1089.89 55.5001 Q1093.98 54.8519 1097.58 54.8519 Q1106.9 54.8519 1112.33 59.1054 Q1117.76 63.3183 1117.76 70.5289 Q1117.76 75.552 1114.88 79.0358 Q1112 82.4791 1106.7 83.8159 Z\" fill=\"#00008b\" fill-rule=\"evenodd\" fill-opacity=\"1\" /></svg>\n"
      ]
     },
     "execution_count": 35,
     "metadata": {},
     "output_type": "execute_result"
    }
   ],
   "source": [
    "pl = plot_routes(solution1, instance1, j=2)"
   ]
  },
  {
   "cell_type": "markdown",
   "metadata": {},
   "source": [
    "### Utilities"
   ]
  },
  {
   "cell_type": "code",
   "execution_count": 36,
   "metadata": {
    "ExecuteTime": {
     "end_time": "2020-11-11T19:11:02.222000+01:00",
     "start_time": "2020-11-11T18:10:25.107Z"
    }
   },
   "outputs": [
    {
     "data": {
      "text/plain": [
       "nb_stops (generic function with 1 method)"
      ]
     },
     "execution_count": 36,
     "metadata": {},
     "output_type": "execute_result"
    }
   ],
   "source": [
    "function nb_stops(route::Route)::Int\n",
    "    return route.F\n",
    "end"
   ]
  },
  {
   "cell_type": "code",
   "execution_count": 37,
   "metadata": {
    "ExecuteTime": {
     "end_time": "2020-11-11T19:11:02.291000+01:00",
     "start_time": "2020-11-11T18:10:25.111Z"
    }
   },
   "outputs": [
    {
     "data": {
      "text/plain": [
       "nb_km (generic function with 1 method)"
      ]
     },
     "execution_count": 37,
     "metadata": {},
     "output_type": "execute_result"
    }
   ],
   "source": [
    "function nb_km(route::Route, instance::Instance)::Float64\n",
    "    usines, fournisseurs = instance.usines, instance.fournisseurs\n",
    "    path = [\n",
    "        usines[route.u].v;\n",
    "        [fournisseurs[stop.f].v for stop in route.stops]\n",
    "    ]\n",
    "    return sum(instance.graphe.d[s, t] for (s, t) in zip(path[1:end-1], path[2:end]))\n",
    "end"
   ]
  },
  {
   "cell_type": "code",
   "execution_count": 38,
   "metadata": {
    "ExecuteTime": {
     "end_time": "2020-11-11T19:11:02.362000+01:00",
     "start_time": "2020-11-11T18:10:25.113Z"
    }
   },
   "outputs": [
    {
     "data": {
      "text/plain": [
       "delivery (generic function with 1 method)"
      ]
     },
     "execution_count": 38,
     "metadata": {},
     "output_type": "execute_result"
    }
   ],
   "source": [
    "function pickup(route::Route, ; u::Int, e::Int, j::Int)::Int\n",
    "    if (route.j == j) && (route.u == u)\n",
    "        return sum(stop.Q[e] for stop in route.stops)\n",
    "    else\n",
    "        return 0\n",
    "    end\n",
    "end\n",
    "\n",
    "function delivery(route::Route; f::Int, e::Int, j::Int)::Int\n",
    "    if route.j == j\n",
    "        d = 0\n",
    "        for stop in route.stops\n",
    "            if stop.f == f\n",
    "                d += stop.Q[e]\n",
    "            end\n",
    "        end\n",
    "        return d\n",
    "    else\n",
    "        return 0\n",
    "    end\n",
    "end"
   ]
  },
  {
   "cell_type": "markdown",
   "metadata": {},
   "source": [
    "### Feasibility"
   ]
  },
  {
   "cell_type": "code",
   "execution_count": 39,
   "metadata": {
    "ExecuteTime": {
     "end_time": "2020-11-11T19:11:02.461000+01:00",
     "start_time": "2020-11-11T18:10:25.120Z"
    }
   },
   "outputs": [
    {
     "data": {
      "text/plain": [
       "compute_stocks (generic function with 1 method)"
      ]
     },
     "execution_count": 39,
     "metadata": {},
     "output_type": "execute_result"
    }
   ],
   "source": [
    "function compute_stocks(solution::Solution, instance::Instance)\n",
    "    J, U, F, E = instance.J, instance.U, instance.F, instance.E\n",
    "    \n",
    "    # Constraints (10.a) and (10.b)\n",
    "    \n",
    "    z⁻ = zeros(Int, U, E, J)\n",
    "    z⁺ = zeros(Int, F, E, J)\n",
    "    \n",
    "    for e = 1:E, j = 1:J\n",
    "        for route in solution.routes\n",
    "            for u = 1:U\n",
    "                z⁻[u, e, j] += route.x * pickup(route, u=u, e=e, j=j)\n",
    "            end\n",
    "            for f = 1:F\n",
    "                z⁺[f, e, j] += route.x * delivery(route, f=f, e=e, j=j)\n",
    "            end\n",
    "        end\n",
    "    end\n",
    "    \n",
    "    # Constraints (1) and (5)\n",
    "    \n",
    "    b⁺ = collect(instance.usines[u].b⁺[e, j] for u = 1:U, e = 1:E, j = 1:J)\n",
    "    b⁻ = collect(instance.fournisseurs[f].b⁻[e, j] for f = 1:F, e = 1:E, j = 1:J)\n",
    "    \n",
    "    su0 = collect(instance.usines[u].s0[e] for u = 1:U, e = 1:E)\n",
    "    sf0 = collect(instance.fournisseurs[f].s0[e] for f = 1:F, e = 1:E)\n",
    "    \n",
    "    su = Array{Int, 3}(undef, U, E, J)\n",
    "    sf = Array{Int, 3}(undef, F, E, J)\n",
    "    \n",
    "    for e = 1:E, j = 1:J\n",
    "        for u = 1:U\n",
    "            su[u, e, j] = (j==1 ? su0[u, e] : su[u, e, j-1]) + b⁺[u, e, j] - z⁻[u, e, j]\n",
    "        end\n",
    "        for f = 1:F\n",
    "            sf[f, e, j] = max(0, (j==1 ? sf0[f, e] : sf[f, e, j-1]) - b⁻[f, e, j]) + z⁺[f, e, j]\n",
    "        end\n",
    "    end\n",
    "    \n",
    "    return z⁻, z⁺, su, sf\n",
    "end"
   ]
  },
  {
   "cell_type": "code",
   "execution_count": 40,
   "metadata": {
    "ExecuteTime": {
     "end_time": "2020-11-11T19:11:02.557000+01:00",
     "start_time": "2020-11-11T18:10:25.122Z"
    }
   },
   "outputs": [
    {
     "data": {
      "text/plain": [
       "check_length (generic function with 1 method)"
      ]
     },
     "execution_count": 40,
     "metadata": {},
     "output_type": "execute_result"
    }
   ],
   "source": [
    "function check_length(route::Route)::Bool\n",
    "    @assert nb_stops(route) <= 4\n",
    "    return true\n",
    "end"
   ]
  },
  {
   "cell_type": "code",
   "execution_count": 41,
   "metadata": {
    "ExecuteTime": {
     "end_time": "2020-11-11T19:11:02.626000+01:00",
     "start_time": "2020-11-11T18:10:25.123Z"
    }
   },
   "outputs": [
    {
     "data": {
      "text/plain": [
       "check_load (generic function with 1 method)"
      ]
     },
     "execution_count": 41,
     "metadata": {},
     "output_type": "execute_result"
    }
   ],
   "source": [
    "function check_load(route::Route, instance::Instance)::Bool\n",
    "    q = sum(stop.Q for stop in route.stops)\n",
    "    l_route = sum(q[e] * instance.emballages[e].l for e = 1:instance.E)\n",
    "     \n",
    "    # Constraint (8)\n",
    "    @assert l_route <= instance.L\n",
    "    \n",
    "    return true\n",
    "end"
   ]
  },
  {
   "cell_type": "code",
   "execution_count": 42,
   "metadata": {
    "ExecuteTime": {
     "end_time": "2020-11-11T19:11:02.694000+01:00",
     "start_time": "2020-11-11T18:10:25.126Z"
    }
   },
   "outputs": [
    {
     "data": {
      "text/plain": [
       "check_stock (generic function with 1 method)"
      ]
     },
     "execution_count": 42,
     "metadata": {},
     "output_type": "execute_result"
    }
   ],
   "source": [
    "function check_stock(usine::Usine, s::Matrix{Int})::Bool\n",
    "    # Constraint (2)\n",
    "    @assert all(0 .<= s)\n",
    "    return true\n",
    "end"
   ]
  },
  {
   "cell_type": "code",
   "execution_count": 43,
   "metadata": {
    "ExecuteTime": {
     "end_time": "2020-11-11T19:11:02.695000+01:00",
     "start_time": "2020-11-11T18:10:25.127Z"
    }
   },
   "outputs": [
    {
     "data": {
      "text/plain": [
       "check_stock (generic function with 2 methods)"
      ]
     },
     "execution_count": 43,
     "metadata": {},
     "output_type": "execute_result"
    }
   ],
   "source": [
    "function check_stock(fournisseur::Fournisseur, s::Matrix{Int})::Bool\n",
    "    # Constraint (4b)\n",
    "    @assert all(0 .<= s)\n",
    "    return true\n",
    "end"
   ]
  },
  {
   "cell_type": "code",
   "execution_count": 44,
   "metadata": {
    "ExecuteTime": {
     "end_time": "2020-11-11T19:11:02.768000+01:00",
     "start_time": "2020-11-11T18:10:25.128Z"
    }
   },
   "outputs": [
    {
     "data": {
      "text/plain": [
       "feasibility (generic function with 1 method)"
      ]
     },
     "execution_count": 44,
     "metadata": {},
     "output_type": "execute_result"
    }
   ],
   "source": [
    "function feasibility(solution::Solution, instance::Instance)::Bool\n",
    "    J, U, F, E = instance.J, instance.U, instance.F, instance.E\n",
    "    \n",
    "    for route in solution.routes\n",
    "        check_length(route)\n",
    "        check_load(route, instance)\n",
    "    end\n",
    "    \n",
    "    _, _, su, sf = compute_stocks(solution, instance)\n",
    "    \n",
    "    for usine in instance.usines\n",
    "        check_stock(usine, su[usine.u, :, :])\n",
    "    end\n",
    "    for fournisseur in instance.fournisseurs\n",
    "        check_stock(fournisseur, sf[fournisseur.f, :, :])\n",
    "    end\n",
    "    \n",
    "    return true\n",
    "end"
   ]
  },
  {
   "cell_type": "code",
   "execution_count": 45,
   "metadata": {
    "ExecuteTime": {
     "end_time": "2020-11-11T19:11:04.216000+01:00",
     "start_time": "2020-11-11T18:10:25.130Z"
    }
   },
   "outputs": [
    {
     "ename": "LoadError",
     "evalue": "AssertionError: all(0 .<= s)",
     "output_type": "error",
     "traceback": [
      "AssertionError: all(0 .<= s)",
      "",
      "Stacktrace:",
      " [1] check_stock(::Usine, ::Array{Int64,2}) at ./In[42]:3",
      " [2] feasibility(::Solution, ::Instance) at ./In[44]:12",
      " [3] top-level scope at In[45]:1",
      " [4] include_string(::Function, ::Module, ::String, ::String) at ./loading.jl:1091",
      " [5] execute_code(::String, ::String) at /home/guillaume/.julia/packages/IJulia/a1SNk/src/execute_request.jl:27",
      " [6] execute_request(::ZMQ.Socket, ::IJulia.Msg) at /home/guillaume/.julia/packages/IJulia/a1SNk/src/execute_request.jl:86",
      " [7] #invokelatest#1 at ./essentials.jl:710 [inlined]",
      " [8] invokelatest at ./essentials.jl:709 [inlined]",
      " [9] eventloop(::ZMQ.Socket) at /home/guillaume/.julia/packages/IJulia/a1SNk/src/eventloop.jl:8",
      " [10] (::IJulia.var\"#15#18\")() at ./task.jl:356"
     ]
    }
   ],
   "source": [
    "feasibility(solution1, instance1)"
   ]
  },
  {
   "cell_type": "markdown",
   "metadata": {},
   "source": [
    "### Cost"
   ]
  },
  {
   "cell_type": "markdown",
   "metadata": {},
   "source": [
    "#### Route"
   ]
  },
  {
   "cell_type": "code",
   "execution_count": 46,
   "metadata": {
    "ExecuteTime": {
     "end_time": "2020-11-11T19:11:04.284000+01:00",
     "start_time": "2020-11-11T18:10:25.142Z"
    }
   },
   "outputs": [
    {
     "data": {
      "text/plain": [
       "truck_cost (generic function with 1 method)"
      ]
     },
     "execution_count": 46,
     "metadata": {},
     "output_type": "execute_result"
    }
   ],
   "source": [
    "function truck_cost(route::Route, instance::Instance)::Float64\n",
    "    return instance.ccam\n",
    "end"
   ]
  },
  {
   "cell_type": "code",
   "execution_count": 47,
   "metadata": {
    "ExecuteTime": {
     "end_time": "2020-11-11T19:11:04.374000+01:00",
     "start_time": "2020-11-11T18:10:25.143Z"
    }
   },
   "outputs": [
    {
     "data": {
      "text/plain": [
       "stops_cost (generic function with 1 method)"
      ]
     },
     "execution_count": 47,
     "metadata": {},
     "output_type": "execute_result"
    }
   ],
   "source": [
    "function stops_cost(route::Route, instance::Instance)::Float64\n",
    "    return instance.cstop * nb_stops(route)\n",
    "end"
   ]
  },
  {
   "cell_type": "code",
   "execution_count": 48,
   "metadata": {
    "ExecuteTime": {
     "end_time": "2020-11-11T19:11:04.441000+01:00",
     "start_time": "2020-11-11T18:10:25.144Z"
    }
   },
   "outputs": [
    {
     "data": {
      "text/plain": [
       "km_cost (generic function with 1 method)"
      ]
     },
     "execution_count": 48,
     "metadata": {},
     "output_type": "execute_result"
    }
   ],
   "source": [
    "function km_cost(route::Route, instance::Instance)::Float64\n",
    "    return instance.γ * nb_km(route, instance)\n",
    "end"
   ]
  },
  {
   "cell_type": "code",
   "execution_count": 49,
   "metadata": {
    "ExecuteTime": {
     "end_time": "2020-11-11T19:11:04.508000+01:00",
     "start_time": "2020-11-11T18:10:25.147Z"
    }
   },
   "outputs": [
    {
     "data": {
      "text/plain": [
       "cost (generic function with 1 method)"
      ]
     },
     "execution_count": 49,
     "metadata": {},
     "output_type": "execute_result"
    }
   ],
   "source": [
    "function cost(route::Route, instance::Instance)::Float64\n",
    "    return truck_cost(route, instance) + stops_cost(route, instance) + km_cost(route, instance)\n",
    "end"
   ]
  },
  {
   "cell_type": "markdown",
   "metadata": {},
   "source": [
    "#### Usine"
   ]
  },
  {
   "cell_type": "code",
   "execution_count": 50,
   "metadata": {
    "ExecuteTime": {
     "end_time": "2020-11-11T19:11:04.575000+01:00",
     "start_time": "2020-11-11T18:10:25.153Z"
    }
   },
   "outputs": [
    {
     "data": {
      "text/plain": [
       "stock_cost (generic function with 1 method)"
      ]
     },
     "execution_count": 50,
     "metadata": {},
     "output_type": "execute_result"
    }
   ],
   "source": [
    "function stock_cost(usine::Usine, s::Matrix{Int})::Float64\n",
    "    E, J = size(s)\n",
    "    return sum(usine.cs[e] * max(0., s[e, j] - usine.r[e, j]) for e = 1:E, j = 1:J)\n",
    "end"
   ]
  },
  {
   "cell_type": "code",
   "execution_count": 51,
   "metadata": {
    "ExecuteTime": {
     "end_time": "2020-11-11T19:11:04.576000+01:00",
     "start_time": "2020-11-11T18:10:25.155Z"
    }
   },
   "outputs": [
    {
     "data": {
      "text/plain": [
       "cost (generic function with 2 methods)"
      ]
     },
     "execution_count": 51,
     "metadata": {},
     "output_type": "execute_result"
    }
   ],
   "source": [
    "function cost(usine::Usine, s::Matrix{Int})::Float64\n",
    "    return stock_cost(usine, s)\n",
    "end"
   ]
  },
  {
   "cell_type": "markdown",
   "metadata": {},
   "source": [
    "#### Fournisseur"
   ]
  },
  {
   "cell_type": "code",
   "execution_count": 52,
   "metadata": {
    "ExecuteTime": {
     "end_time": "2020-11-11T19:11:04.578000+01:00",
     "start_time": "2020-11-11T18:10:25.161Z"
    }
   },
   "outputs": [
    {
     "data": {
      "text/plain": [
       "stock_cost (generic function with 2 methods)"
      ]
     },
     "execution_count": 52,
     "metadata": {},
     "output_type": "execute_result"
    }
   ],
   "source": [
    "function stock_cost(fournisseur::Fournisseur, s::Matrix{Int})::Float64\n",
    "    E, J = size(s)\n",
    "    c = sum(fournisseur.cs[e] * max(0., s[e, j] - fournisseur.r[e, j]) for e = 1:E, j = 1:J)\n",
    "    return c\n",
    "end"
   ]
  },
  {
   "cell_type": "code",
   "execution_count": 53,
   "metadata": {
    "ExecuteTime": {
     "end_time": "2020-11-11T19:11:04.648000+01:00",
     "start_time": "2020-11-11T18:10:25.164Z"
    }
   },
   "outputs": [
    {
     "data": {
      "text/plain": [
       "expedition_cost (generic function with 1 method)"
      ]
     },
     "execution_count": 53,
     "metadata": {},
     "output_type": "execute_result"
    }
   ],
   "source": [
    "function expedition_cost(fournisseur::Fournisseur, s::Matrix{Int})::Float64\n",
    "    E, J = size(s)\n",
    "    c = 0.\n",
    "    for e = 1:E, j = 1:J\n",
    "        c += fournisseur.cexc[e] * max(0., fournisseur.b⁻[e, j] - (j == 1 ? fournisseur.s0[e] : s[e, j-1]))\n",
    "    end\n",
    "    return c\n",
    "end"
   ]
  },
  {
   "cell_type": "code",
   "execution_count": 54,
   "metadata": {
    "ExecuteTime": {
     "end_time": "2020-11-11T19:11:04.649000+01:00",
     "start_time": "2020-11-11T18:10:25.164Z"
    }
   },
   "outputs": [
    {
     "data": {
      "text/plain": [
       "cost (generic function with 3 methods)"
      ]
     },
     "execution_count": 54,
     "metadata": {},
     "output_type": "execute_result"
    }
   ],
   "source": [
    "function cost(fournisseur::Fournisseur, s::Matrix{Int})::Float64\n",
    "    return stock_cost(fournisseur, s) + expedition_cost(fournisseur, s)\n",
    "end"
   ]
  },
  {
   "cell_type": "markdown",
   "metadata": {},
   "source": [
    "#### Total"
   ]
  },
  {
   "cell_type": "code",
   "execution_count": 55,
   "metadata": {
    "ExecuteTime": {
     "end_time": "2020-11-11T19:11:04.652000+01:00",
     "start_time": "2020-11-11T18:10:25.172Z"
    }
   },
   "outputs": [
    {
     "data": {
      "text/plain": [
       "cost (generic function with 4 methods)"
      ]
     },
     "execution_count": 55,
     "metadata": {},
     "output_type": "execute_result"
    }
   ],
   "source": [
    "function cost(solution::Solution, instance::Instance)::Float64\n",
    "    _, _, su, sf = compute_stocks(solution, instance)\n",
    "\n",
    "    c = 0.\n",
    "    \n",
    "    for usine in instance.usines\n",
    "        c += cost(usine, su[usine.u, :, :])\n",
    "    end\n",
    "    \n",
    "    for fournisseur in instance.fournisseurs\n",
    "        c += cost(fournisseur, sf[fournisseur.f, :, :])\n",
    "    end\n",
    "    \n",
    "    for route in solution.routes\n",
    "        c += cost(route, instance)\n",
    "    end\n",
    "    \n",
    "    return c\n",
    "end"
   ]
  },
  {
   "cell_type": "code",
   "execution_count": 56,
   "metadata": {
    "ExecuteTime": {
     "end_time": "2020-11-11T19:11:05.126000+01:00",
     "start_time": "2020-11-11T18:10:25.173Z"
    }
   },
   "outputs": [
    {
     "data": {
      "text/plain": [
       "882.0"
      ]
     },
     "execution_count": 56,
     "metadata": {},
     "output_type": "execute_result"
    }
   ],
   "source": [
    "cost(solution1, instance1)"
   ]
  },
  {
   "cell_type": "code",
   "execution_count": 57,
   "metadata": {
    "ExecuteTime": {
     "end_time": "2020-11-11T19:11:05.136000+01:00",
     "start_time": "2020-11-11T18:10:25.175Z"
    }
   },
   "outputs": [
    {
     "data": {
      "text/plain": [
       "Solution(0, Route[])"
      ]
     },
     "execution_count": 57,
     "metadata": {},
     "output_type": "execute_result"
    }
   ],
   "source": [
    "solution0 = Solution(R=0, routes=Route[])"
   ]
  },
  {
   "cell_type": "code",
   "execution_count": 58,
   "metadata": {
    "ExecuteTime": {
     "end_time": "2020-11-11T19:11:05.137000+01:00",
     "start_time": "2020-11-11T18:10:25.178Z"
    }
   },
   "outputs": [
    {
     "data": {
      "text/plain": [
       "664.0"
      ]
     },
     "execution_count": 58,
     "metadata": {},
     "output_type": "execute_result"
    }
   ],
   "source": [
    "cost(solution0, instance1)"
   ]
  },
  {
   "cell_type": "markdown",
   "metadata": {},
   "source": [
    "## Writing files"
   ]
  },
  {
   "cell_type": "code",
   "execution_count": 59,
   "metadata": {
    "ExecuteTime": {
     "end_time": "2020-11-11T19:11:05.139000+01:00",
     "start_time": "2020-11-11T18:10:25.184Z"
    }
   },
   "outputs": [],
   "source": [
    "function Base.string(stop::RouteStop)::String\n",
    "    f = stop.f\n",
    "    str = \"f $(f-1)\"\n",
    "    E = length(stop.Q)\n",
    "    for e = 1:E\n",
    "        q = stop.Q[e]\n",
    "        str *= \" e $(e-1) q $q\" \n",
    "    end\n",
    "    return str\n",
    "end"
   ]
  },
  {
   "cell_type": "code",
   "execution_count": 60,
   "metadata": {
    "ExecuteTime": {
     "end_time": "2020-11-11T19:11:05.141000+01:00",
     "start_time": "2020-11-11T18:10:25.186Z"
    }
   },
   "outputs": [],
   "source": [
    "function Base.string(route::Route)::String\n",
    "    r = route.r\n",
    "    j = route.j\n",
    "    x = route.x\n",
    "    u = route.u\n",
    "    F = route.F\n",
    "    str = \"r $(r-1) j $(j-1) x $x u $(u-1) F $F\"\n",
    "    for stop in route.stops\n",
    "        str *= \" \" * string(stop)\n",
    "    end\n",
    "    return str\n",
    "end"
   ]
  },
  {
   "cell_type": "code",
   "execution_count": 61,
   "metadata": {
    "ExecuteTime": {
     "end_time": "2020-11-11T19:11:05.143000+01:00",
     "start_time": "2020-11-11T18:10:25.187Z"
    }
   },
   "outputs": [],
   "source": [
    "function Base.string(solution::Solution)::String\n",
    "    R = solution.R\n",
    "    str = \"R $R\"\n",
    "    for route in solution.routes\n",
    "        str *= \"\\n\" * string(route)\n",
    "    end\n",
    "    return str\n",
    "end"
   ]
  },
  {
   "cell_type": "code",
   "execution_count": 62,
   "metadata": {
    "ExecuteTime": {
     "end_time": "2020-11-11T19:11:05.204000+01:00",
     "start_time": "2020-11-11T18:10:25.189Z"
    }
   },
   "outputs": [
    {
     "name": "stdout",
     "output_type": "stream",
     "text": [
      "R 3\n",
      "r 0 j 0 x 1 u 0 F 1 f 0 e 0 q 0 e 1 q 2\n",
      "r 1 j 1 x 1 u 0 F 3 f 0 e 0 q 1 e 1 q 1 f 1 e 0 q 1 e 1 q 1 f 2 e 0 q 1 e 1 q 1\n",
      "r 2 j 1 x 2 u 1 F 2 f 1 e 0 q 3 e 1 q 1 f 2 e 0 q 3 e 1 q 1\n"
     ]
    }
   ],
   "source": [
    "println(string(solution1))"
   ]
  },
  {
   "cell_type": "code",
   "execution_count": 63,
   "metadata": {
    "ExecuteTime": {
     "end_time": "2020-11-11T19:11:05.274000+01:00",
     "start_time": "2020-11-11T18:10:25.191Z"
    }
   },
   "outputs": [
    {
     "data": {
      "text/plain": [
       "write_sol_to_file (generic function with 1 method)"
      ]
     },
     "execution_count": 63,
     "metadata": {},
     "output_type": "execute_result"
    }
   ],
   "source": [
    "function write_sol_to_file(solution::Solution, path::String)::Bool\n",
    "    open(path, \"w\") do file\n",
    "        write(file, string(solution))\n",
    "    end\n",
    "    return true\n",
    "end"
   ]
  },
  {
   "cell_type": "markdown",
   "metadata": {},
   "source": [
    "## Optimization"
   ]
  },
  {
   "cell_type": "code",
   "execution_count": null,
   "metadata": {},
   "outputs": [],
   "source": []
  }
 ],
 "metadata": {
  "kernelspec": {
   "display_name": "Julia 1.4.1",
   "language": "julia",
   "name": "julia-1.4"
  },
  "language_info": {
   "file_extension": ".jl",
   "mimetype": "application/julia",
   "name": "julia",
   "version": "1.5.3"
  },
  "latex_envs": {
   "LaTeX_envs_menu_present": true,
   "autoclose": false,
   "autocomplete": true,
   "bibliofile": "biblio.bib",
   "cite_by": "apalike",
   "current_citInitial": 1,
   "eqLabelWithNumbers": true,
   "eqNumInitial": 1,
   "hotkeys": {
    "equation": "Ctrl-E",
    "itemize": "Ctrl-I"
   },
   "labels_anchors": false,
   "latex_user_defs": false,
   "report_style_numbering": false,
   "user_envs_cfg": false
  }
 },
 "nbformat": 4,
 "nbformat_minor": 4
}
